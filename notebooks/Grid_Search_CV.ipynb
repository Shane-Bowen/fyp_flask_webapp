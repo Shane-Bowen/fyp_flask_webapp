{
 "cells": [
  {
   "cell_type": "code",
   "execution_count": 3,
   "metadata": {},
   "outputs": [
    {
     "name": "stderr",
     "output_type": "stream",
     "text": [
      "Using TensorFlow backend.\n"
     ]
    }
   ],
   "source": [
    "# Use scikit-learn to grid search the batch size and epochs\n",
    "import numpy\n",
    "from sklearn.model_selection import GridSearchCV\n",
    "from keras.models import Sequential\n",
    "from keras.layers import Dense\n",
    "from keras.layers import Dropout\n",
    "from keras.layers import LSTM\n",
    "from keras.wrappers.scikit_learn import KerasClassifier\n",
    "from pandas import read_csv\n",
    "from pandas import DataFrame\n",
    "from pandas import concat\n",
    "from sklearn.preprocessing import LabelEncoder\n",
    "from sklearn.preprocessing import MinMaxScaler\n",
    "from keras.optimizers import SGD\n",
    "from keras.constraints import maxnorm"
   ]
  },
  {
   "cell_type": "code",
   "execution_count": 4,
   "metadata": {},
   "outputs": [],
   "source": [
    "# convert series to supervised learning & normalize input variables\n",
    "def series_to_supervised(data, n_in=1, n_out=1, dropnan=True):\n",
    "    n_vars = 1 if type(data) is list else data.shape[1]\n",
    "    df = DataFrame(data)\n",
    "    cols, names = list(), list()\n",
    "    \n",
    "    # input sequence (t-n, ... t-1)\n",
    "    for i in range(n_in, 0, -1):\n",
    "        cols.append(df.shift(i))\n",
    "        names += [('var%d(t-%d)' % (j+1, i)) for j in range(n_vars)]\n",
    "    \n",
    "    # forecast sequence (t, t+1, ... t+n)\n",
    "    for i in range(0, n_out):\n",
    "        cols.append(df.shift(-i))\n",
    "        if i == 0:\n",
    "            names += [('var%d(t)' % (j+1)) for j in range(n_vars)]\n",
    "        else:\n",
    "            names += [('var%d(t+%d)' % (j+1, i)) for j in range(n_vars)]\n",
    "    \n",
    "    # put it all together\n",
    "    agg = concat(cols, axis=1)\n",
    "    agg.columns = names\n",
    "    \n",
    "    # drop rows with NaN values\n",
    "    if dropnan:\n",
    "        agg.dropna(inplace=True)\n",
    "    return agg\n"
   ]
  },
  {
   "cell_type": "code",
   "execution_count": 5,
   "metadata": {},
   "outputs": [],
   "source": [
    "# Function to create model, required for KerasClassifier\n",
    "\n",
    "#1. Batch Size and Epochs Model\n",
    "def create_model_1():\n",
    "    \n",
    "    # create model\n",
    "    model = Sequential()\n",
    "    model.add(LSTM(12, input_shape=(train_X.shape[1], train_X.shape[2])))\n",
    "    model.add(Dense(1))\n",
    "    model.compile(loss='mae', optimizer='adam', metrics=[\"accuracy\"])\n",
    "    return model\n",
    "\n",
    "#2. Training Optimization Model\n",
    "def create_model_2(optimizer='adam'):\n",
    "    \n",
    "    # create model\n",
    "    model = Sequential()\n",
    "    model.add(LSTM(12, input_shape=(train_X.shape[1], train_X.shape[2])))\n",
    "    model.add(Dense(1))\n",
    "    model.compile(loss='mae', optimizer=optimizer, metrics=[\"accuracy\"])\n",
    "    \n",
    "    return model\n",
    "\n",
    "#3. Learning Rate and Momentum Model\n",
    "def create_model_3(learn_rate=0.01, momentum=0):\n",
    "    \n",
    "    # create model\n",
    "    model = Sequential()\n",
    "    model.add(LSTM(128, input_shape=(train_X.shape[1], train_X.shape[2])))\n",
    "    model.add(Dense(1))\n",
    "    optimizer = SGD(lr=learn_rate, momentum=momentum)\n",
    "    model.compile(loss='mae', optimizer=optimizer, metrics=[\"accuracy\"])\n",
    "    \n",
    "    return model\n",
    "\n",
    "#4. Network Weight Initialization Model\n",
    "def create_model_4(init_mode='uniform'):\n",
    "    \n",
    "    # create model\n",
    "    model = Sequential()\n",
    "    model.add(LSTM(12, input_shape=(train_X.shape[1], train_X.shape[2]), kernel_initializer=init_mode))\n",
    "    model.add(Dense(1, kernel_initializer=init_mode))\n",
    "    model.compile(loss='mae', optimizer='adam', metrics=[\"accuracy\"])\n",
    "    \n",
    "    return model\n",
    "\n",
    "#5. Neuron Activation Function Model\n",
    "def create_model_5(activation='relu'):\n",
    "    # create model\n",
    "    model = Sequential()\n",
    "    model.add(LSTM(12, input_shape=(train_X.shape[1], train_X.shape[2]))) \n",
    "    model.add(Dense(1))\n",
    "    # Compile model\n",
    "    model.compile(loss='mae', optimizer='adam', metrics=[\"accuracy\"])\n",
    "    \n",
    "    return model\n",
    "\n",
    "#6. Dropout Regularization Model\n",
    "def create_model_6(dropout_rate=0.0, weight_constraint=0):\n",
    "    # create model\n",
    "    model = Sequential()\n",
    "    model.add(LSTM(12, input_shape=(train_X.shape[1], train_X.shape[2]), kernel_constraint=maxnorm(weight_constraint))) \n",
    "    model.add(Dropout(dropout_rate))\n",
    "    model.add(Dense(1))\n",
    "    # Compile model\n",
    "    model.compile(loss='mae', optimizer='adam', metrics=[\"accuracy\"])\n",
    "    \n",
    "    return model\n",
    "\n",
    "#7. Number of Neurons in the Hidden Layer\n",
    "def create_model_7(neurons=1):\n",
    "    # create model\n",
    "    model = Sequential()\n",
    "    model.add(LSTM(neurons, input_shape=(train_X.shape[1], train_X.shape[2]), kernel_constraint=maxnorm(4)))\n",
    "    model.add(Dropout(0.2))\n",
    "    model.add(Dense(1))\n",
    "    # Compile model\n",
    "    model.compile(loss='mae', optimizer='adam', metrics=[\"accuracy\"])\n",
    "                  \n",
    "    return model"
   ]
  },
  {
   "cell_type": "code",
   "execution_count": 6,
   "metadata": {},
   "outputs": [
    {
     "name": "stdout",
     "output_type": "stream",
     "text": [
      "[[21963 1 1 3 3 234]\n",
      " [38224 1 0 3 3 2071]\n",
      " [39066 1 0 3 3 2090]\n",
      " ...\n",
      " [20947 12 1 3 4 1318]\n",
      " [35616 12 0 3 4 4153]\n",
      " [36029 12 0 3 4 4157]]\n",
      "(1088, 48)\n"
     ]
    }
   ],
   "source": [
    "# fix random seed for reproducibility\n",
    "seed = 7\n",
    "numpy.random.seed(seed)\n",
    "\n",
    "# load dataset\n",
    "#dataset = numpy.loadtxt(\"./reports/pima-indians-diabetes.data.csv\", delimiter=\",\")\n",
    "dataset = read_csv('./reports/company_report_2.csv', header=0, index_col=\"time\")\n",
    "dataset = dataset[['volume_tests', 'month', 'is_weekend', 'season', 'number_test_types', 'numbers_tested']]\n",
    "values = dataset.values\n",
    "\n",
    "# specify the number of days and features \n",
    "n_days = 7\n",
    "n_features = 6\n",
    "\n",
    "# integer encode direction\n",
    "encoder = LabelEncoder()\n",
    "values[:,3] = encoder.fit_transform(values[:,3])\n",
    "print(values)\n",
    "\n",
    "# ensure all data is float\n",
    "values = values.astype('float32')\n",
    "\n",
    "# normalize features\n",
    "scaler = MinMaxScaler(feature_range=(0, 1))\n",
    "scaled = scaler.fit_transform(values)\n",
    "\n",
    "# split into input (X) and output (Y) variables\n",
    "X = values[:,0:5]\n",
    "Y = values[:,0]\n",
    "\n",
    "# frame as supervised learning\n",
    "reframed = series_to_supervised(scaled, n_days, 1)\n",
    "print(reframed.shape)"
   ]
  },
  {
   "cell_type": "code",
   "execution_count": 7,
   "metadata": {},
   "outputs": [
    {
     "name": "stdout",
     "output_type": "stream",
     "text": [
      "(761, 42) 761 (761,)\n",
      "(761, 7, 6) (761,) (327, 7, 6) (327,)\n"
     ]
    }
   ],
   "source": [
    "# split into train and test sets\n",
    "values = reframed.values\n",
    "\n",
    "train_size = int(len(values) * 0.70)\n",
    "test_size = len(values) - train_size\n",
    "train, test = values[:train_size,:], values[train_size:,:]\n",
    "\n",
    "# split into input and outputs\n",
    "n_obs = n_days * n_features\n",
    "train_X, train_y = train[:, :n_obs], train[:, -n_features]\n",
    "test_X, test_y = test[:, :n_obs], test[:, -n_features]\n",
    "print(train_X.shape, len(train_X), train_y.shape)\n",
    "\n",
    "# reshape input to be 3D [samples, timesteps, features]\n",
    "train_X = train_X.reshape((train_X.shape[0], n_days, n_features))\n",
    "test_X = test_X.reshape((test_X.shape[0], n_days, n_features))\n",
    "print(train_X.shape, train_y.shape, test_X.shape, test_y.shape)"
   ]
  },
  {
   "cell_type": "markdown",
   "metadata": {},
   "source": [
    "## 1. Tune Batch Size and Number of Epochs"
   ]
  },
  {
   "cell_type": "code",
   "execution_count": 8,
   "metadata": {},
   "outputs": [
    {
     "name": "stderr",
     "output_type": "stream",
     "text": [
      "/home/shanebowen/anaconda3/lib/python3.7/site-packages/joblib/externals/loky/process_executor.py:706: UserWarning: A worker stopped while some jobs were given to the executor. This can be caused by a too short worker timeout or by a memory leak.\n",
      "  \"timeout or by a memory leak.\", UserWarning\n"
     ]
    },
    {
     "name": "stdout",
     "output_type": "stream",
     "text": [
      "WARNING:tensorflow:From /home/shanebowen/anaconda3/lib/python3.7/site-packages/keras/backend/tensorflow_backend.py:74: The name tf.get_default_graph is deprecated. Please use tf.compat.v1.get_default_graph instead.\n",
      "\n",
      "WARNING:tensorflow:From /home/shanebowen/anaconda3/lib/python3.7/site-packages/keras/backend/tensorflow_backend.py:517: The name tf.placeholder is deprecated. Please use tf.compat.v1.placeholder instead.\n",
      "\n",
      "WARNING:tensorflow:From /home/shanebowen/anaconda3/lib/python3.7/site-packages/keras/backend/tensorflow_backend.py:4138: The name tf.random_uniform is deprecated. Please use tf.random.uniform instead.\n",
      "\n",
      "WARNING:tensorflow:From /home/shanebowen/anaconda3/lib/python3.7/site-packages/keras/optimizers.py:790: The name tf.train.Optimizer is deprecated. Please use tf.compat.v1.train.Optimizer instead.\n",
      "\n",
      "WARNING:tensorflow:From /home/shanebowen/anaconda3/lib/python3.7/site-packages/tensorflow_core/python/ops/math_grad.py:1424: where (from tensorflow.python.ops.array_ops) is deprecated and will be removed in a future version.\n",
      "Instructions for updating:\n",
      "Use tf.where in 2.0, which has the same broadcast rule as np.where\n",
      "WARNING:tensorflow:From /home/shanebowen/anaconda3/lib/python3.7/site-packages/keras/backend/tensorflow_backend.py:986: The name tf.assign_add is deprecated. Please use tf.compat.v1.assign_add instead.\n",
      "\n",
      "WARNING:tensorflow:From /home/shanebowen/anaconda3/lib/python3.7/site-packages/keras/backend/tensorflow_backend.py:973: The name tf.assign is deprecated. Please use tf.compat.v1.assign instead.\n",
      "\n",
      "WARNING:tensorflow:From /home/shanebowen/anaconda3/lib/python3.7/site-packages/keras/backend/tensorflow_backend.py:2741: The name tf.Session is deprecated. Please use tf.compat.v1.Session instead.\n",
      "\n",
      "WARNING:tensorflow:From /home/shanebowen/anaconda3/lib/python3.7/site-packages/keras/backend/tensorflow_backend.py:174: The name tf.get_default_session is deprecated. Please use tf.compat.v1.get_default_session instead.\n",
      "\n",
      "WARNING:tensorflow:From /home/shanebowen/anaconda3/lib/python3.7/site-packages/keras/backend/tensorflow_backend.py:181: The name tf.ConfigProto is deprecated. Please use tf.compat.v1.ConfigProto instead.\n",
      "\n",
      "WARNING:tensorflow:From /home/shanebowen/anaconda3/lib/python3.7/site-packages/keras/backend/tensorflow_backend.py:190: The name tf.global_variables is deprecated. Please use tf.compat.v1.global_variables instead.\n",
      "\n",
      "WARNING:tensorflow:From /home/shanebowen/anaconda3/lib/python3.7/site-packages/keras/backend/tensorflow_backend.py:199: The name tf.is_variable_initialized is deprecated. Please use tf.compat.v1.is_variable_initialized instead.\n",
      "\n",
      "WARNING:tensorflow:From /home/shanebowen/anaconda3/lib/python3.7/site-packages/keras/backend/tensorflow_backend.py:206: The name tf.variables_initializer is deprecated. Please use tf.compat.v1.variables_initializer instead.\n",
      "\n"
     ]
    }
   ],
   "source": [
    "# create model\n",
    "model = KerasClassifier(build_fn=create_model_1, verbose=0)\n",
    "# define the grid search parameters\n",
    "batch_size = [10, 20, 40, 60, 80, 100]\n",
    "epochs = [10, 50, 100]# summarize results\n",
    "param_grid = dict(batch_size=batch_size, epochs=epochs)\n",
    "grid = GridSearchCV(estimator=model, param_grid=param_grid, n_jobs=-1, cv=3)\n",
    "grid_result = grid.fit(test_X, test_y)"
   ]
  },
  {
   "cell_type": "code",
   "execution_count": 9,
   "metadata": {},
   "outputs": [
    {
     "name": "stdout",
     "output_type": "stream",
     "text": [
      "Best: 0.030581 using {'batch_size': 100, 'epochs': 10}\n",
      "0.000000 (0.000000) with: {'batch_size': 10, 'epochs': 10}\n",
      "0.000000 (0.000000) with: {'batch_size': 10, 'epochs': 50}\n",
      "0.000000 (0.000000) with: {'batch_size': 10, 'epochs': 100}\n",
      "0.003058 (0.004325) with: {'batch_size': 20, 'epochs': 10}\n",
      "0.003058 (0.004325) with: {'batch_size': 20, 'epochs': 50}\n",
      "0.000000 (0.000000) with: {'batch_size': 20, 'epochs': 100}\n",
      "0.006116 (0.008650) with: {'batch_size': 40, 'epochs': 10}\n",
      "0.000000 (0.000000) with: {'batch_size': 40, 'epochs': 50}\n",
      "0.003058 (0.004325) with: {'batch_size': 40, 'epochs': 100}\n",
      "0.000000 (0.000000) with: {'batch_size': 60, 'epochs': 10}\n",
      "0.003058 (0.004325) with: {'batch_size': 60, 'epochs': 50}\n",
      "0.003058 (0.004325) with: {'batch_size': 60, 'epochs': 100}\n",
      "0.006116 (0.008650) with: {'batch_size': 80, 'epochs': 10}\n",
      "0.000000 (0.000000) with: {'batch_size': 80, 'epochs': 50}\n",
      "0.000000 (0.000000) with: {'batch_size': 80, 'epochs': 100}\n",
      "0.030581 (0.043248) with: {'batch_size': 100, 'epochs': 10}\n",
      "0.003058 (0.004325) with: {'batch_size': 100, 'epochs': 50}\n",
      "0.000000 (0.000000) with: {'batch_size': 100, 'epochs': 100}\n"
     ]
    }
   ],
   "source": [
    "# summarize results\n",
    "print(\"Best: %f using %s\" % (grid_result.best_score_, grid_result.best_params_))\n",
    "means = grid_result.cv_results_['mean_test_score']\n",
    "stds = grid_result.cv_results_['std_test_score']\n",
    "params = grid_result.cv_results_['params']\n",
    "for mean, stdev, param in zip(means, stds, params):\n",
    "    print(\"%f (%f) with: %r\" % (mean, stdev, param))"
   ]
  },
  {
   "cell_type": "markdown",
   "metadata": {},
   "source": [
    "## 2. Tune Training Optimization Algorithm"
   ]
  },
  {
   "cell_type": "code",
   "execution_count": 9,
   "metadata": {},
   "outputs": [],
   "source": [
    "# create model\n",
    "model = KerasClassifier(build_fn=create_model_2, epochs=100, batch_size=10, verbose=0)\n",
    "# define the grid search parameters\n",
    "optimizer = ['SGD', 'RMSprop', 'Adagrad', 'Adadelta', 'Adam', 'Adamax', 'Nadam']\n",
    "param_grid = dict(optimizer=optimizer)\n",
    "grid = GridSearchCV(estimator=model, param_grid=param_grid, n_jobs=-1, cv=3)\n",
    "grid_result = grid.fit(test_X, test_y)"
   ]
  },
  {
   "cell_type": "code",
   "execution_count": 10,
   "metadata": {},
   "outputs": [
    {
     "name": "stdout",
     "output_type": "stream",
     "text": [
      "Best: 0.027461 using {'optimizer': 'SGD'}\n",
      "0.027461 (0.029563) with: {'optimizer': 'SGD'}\n",
      "0.004566 (0.006458) with: {'optimizer': 'RMSprop'}\n",
      "0.000000 (0.000000) with: {'optimizer': 'Adagrad'}\n",
      "0.000000 (0.000000) with: {'optimizer': 'Adadelta'}\n",
      "0.000000 (0.000000) with: {'optimizer': 'Adam'}\n",
      "0.004566 (0.006458) with: {'optimizer': 'Adamax'}\n",
      "0.009259 (0.013095) with: {'optimizer': 'Nadam'}\n"
     ]
    }
   ],
   "source": [
    "# summarize results\n",
    "print(\"Best: %f using %s\" % (grid_result.best_score_, grid_result.best_params_))\n",
    "means = grid_result.cv_results_['mean_test_score']\n",
    "stds = grid_result.cv_results_['std_test_score']\n",
    "params = grid_result.cv_results_['params']\n",
    "for mean, stdev, param in zip(means, stds, params):\n",
    "    print(\"%f (%f) with: %r\" % (mean, stdev, param))"
   ]
  },
  {
   "cell_type": "markdown",
   "metadata": {},
   "source": [
    "## 3. Tune Learning Rate and Momentum"
   ]
  },
  {
   "cell_type": "code",
   "execution_count": 7,
   "metadata": {},
   "outputs": [
    {
     "name": "stderr",
     "output_type": "stream",
     "text": [
      "/home/shanebowen/anaconda3/lib/python3.7/site-packages/joblib/externals/loky/process_executor.py:706: UserWarning: A worker stopped while some jobs were given to the executor. This can be caused by a too short worker timeout or by a memory leak.\n",
      "  \"timeout or by a memory leak.\", UserWarning\n"
     ]
    },
    {
     "name": "stdout",
     "output_type": "stream",
     "text": [
      "WARNING:tensorflow:From /home/shanebowen/anaconda3/lib/python3.7/site-packages/keras/backend/tensorflow_backend.py:74: The name tf.get_default_graph is deprecated. Please use tf.compat.v1.get_default_graph instead.\n",
      "\n",
      "WARNING:tensorflow:From /home/shanebowen/anaconda3/lib/python3.7/site-packages/keras/backend/tensorflow_backend.py:517: The name tf.placeholder is deprecated. Please use tf.compat.v1.placeholder instead.\n",
      "\n",
      "WARNING:tensorflow:From /home/shanebowen/anaconda3/lib/python3.7/site-packages/keras/backend/tensorflow_backend.py:4138: The name tf.random_uniform is deprecated. Please use tf.random.uniform instead.\n",
      "\n",
      "WARNING:tensorflow:From /home/shanebowen/anaconda3/lib/python3.7/site-packages/keras/optimizers.py:790: The name tf.train.Optimizer is deprecated. Please use tf.compat.v1.train.Optimizer instead.\n",
      "\n",
      "WARNING:tensorflow:From /home/shanebowen/anaconda3/lib/python3.7/site-packages/tensorflow_core/python/ops/math_grad.py:1424: where (from tensorflow.python.ops.array_ops) is deprecated and will be removed in a future version.\n",
      "Instructions for updating:\n",
      "Use tf.where in 2.0, which has the same broadcast rule as np.where\n",
      "WARNING:tensorflow:From /home/shanebowen/anaconda3/lib/python3.7/site-packages/keras/backend/tensorflow_backend.py:986: The name tf.assign_add is deprecated. Please use tf.compat.v1.assign_add instead.\n",
      "\n",
      "WARNING:tensorflow:From /home/shanebowen/anaconda3/lib/python3.7/site-packages/keras/backend/tensorflow_backend.py:973: The name tf.assign is deprecated. Please use tf.compat.v1.assign instead.\n",
      "\n",
      "WARNING:tensorflow:From /home/shanebowen/anaconda3/lib/python3.7/site-packages/keras/backend/tensorflow_backend.py:2741: The name tf.Session is deprecated. Please use tf.compat.v1.Session instead.\n",
      "\n",
      "WARNING:tensorflow:From /home/shanebowen/anaconda3/lib/python3.7/site-packages/keras/backend/tensorflow_backend.py:174: The name tf.get_default_session is deprecated. Please use tf.compat.v1.get_default_session instead.\n",
      "\n",
      "WARNING:tensorflow:From /home/shanebowen/anaconda3/lib/python3.7/site-packages/keras/backend/tensorflow_backend.py:181: The name tf.ConfigProto is deprecated. Please use tf.compat.v1.ConfigProto instead.\n",
      "\n",
      "WARNING:tensorflow:From /home/shanebowen/anaconda3/lib/python3.7/site-packages/keras/backend/tensorflow_backend.py:190: The name tf.global_variables is deprecated. Please use tf.compat.v1.global_variables instead.\n",
      "\n",
      "WARNING:tensorflow:From /home/shanebowen/anaconda3/lib/python3.7/site-packages/keras/backend/tensorflow_backend.py:199: The name tf.is_variable_initialized is deprecated. Please use tf.compat.v1.is_variable_initialized instead.\n",
      "\n",
      "WARNING:tensorflow:From /home/shanebowen/anaconda3/lib/python3.7/site-packages/keras/backend/tensorflow_backend.py:206: The name tf.variables_initializer is deprecated. Please use tf.compat.v1.variables_initializer instead.\n",
      "\n"
     ]
    }
   ],
   "source": [
    "# create model\n",
    "model = KerasClassifier(build_fn=create_model_3, epochs=100, batch_size=10, verbose=0)\n",
    "# define the grid search parameters\n",
    "learn_rate = [0.001, 0.01, 0.1, 0.2, 0.3]\n",
    "momentum = [0.0, 0.2, 0.4, 0.6, 0.8, 0.9]\n",
    "param_grid = dict(learn_rate=learn_rate, momentum=momentum)\n",
    "grid = GridSearchCV(estimator=model, param_grid=param_grid, n_jobs=-1, cv=3)\n",
    "grid_result = grid.fit(test_X, test_y)"
   ]
  },
  {
   "cell_type": "code",
   "execution_count": 8,
   "metadata": {},
   "outputs": [
    {
     "name": "stdout",
     "output_type": "stream",
     "text": [
      "Best: 0.036530 using {'learn_rate': 0.001, 'momentum': 0.4}\n",
      "0.000000 (0.000000) with: {'learn_rate': 0.001, 'momentum': 0.0}\n",
      "0.000000 (0.000000) with: {'learn_rate': 0.001, 'momentum': 0.2}\n",
      "0.036530 (0.051661) with: {'learn_rate': 0.001, 'momentum': 0.4}\n",
      "0.018455 (0.017340) with: {'learn_rate': 0.001, 'momentum': 0.6}\n",
      "0.000000 (0.000000) with: {'learn_rate': 0.001, 'momentum': 0.8}\n",
      "0.004566 (0.006458) with: {'learn_rate': 0.001, 'momentum': 0.9}\n",
      "0.009132 (0.012915) with: {'learn_rate': 0.01, 'momentum': 0.0}\n",
      "0.000000 (0.000000) with: {'learn_rate': 0.01, 'momentum': 0.2}\n",
      "0.000000 (0.000000) with: {'learn_rate': 0.01, 'momentum': 0.4}\n",
      "0.018265 (0.025830) with: {'learn_rate': 0.01, 'momentum': 0.6}\n",
      "0.000000 (0.000000) with: {'learn_rate': 0.01, 'momentum': 0.8}\n",
      "0.018519 (0.026189) with: {'learn_rate': 0.01, 'momentum': 0.9}\n",
      "0.018455 (0.017340) with: {'learn_rate': 0.1, 'momentum': 0.0}\n",
      "0.032154 (0.016984) with: {'learn_rate': 0.1, 'momentum': 0.2}\n",
      "0.013889 (0.011340) with: {'learn_rate': 0.1, 'momentum': 0.4}\n",
      "0.018455 (0.017340) with: {'learn_rate': 0.1, 'momentum': 0.6}\n",
      "0.004630 (0.006547) with: {'learn_rate': 0.1, 'momentum': 0.8}\n",
      "0.004630 (0.006547) with: {'learn_rate': 0.1, 'momentum': 0.9}\n",
      "0.004566 (0.006458) with: {'learn_rate': 0.2, 'momentum': 0.0}\n",
      "0.004630 (0.006547) with: {'learn_rate': 0.2, 'momentum': 0.2}\n",
      "0.000000 (0.000000) with: {'learn_rate': 0.2, 'momentum': 0.4}\n",
      "0.004630 (0.006547) with: {'learn_rate': 0.2, 'momentum': 0.6}\n",
      "0.009132 (0.012915) with: {'learn_rate': 0.2, 'momentum': 0.8}\n",
      "0.013762 (0.011185) with: {'learn_rate': 0.2, 'momentum': 0.9}\n",
      "0.018328 (0.017068) with: {'learn_rate': 0.3, 'momentum': 0.0}\n",
      "0.013699 (0.019373) with: {'learn_rate': 0.3, 'momentum': 0.2}\n",
      "0.009196 (0.006503) with: {'learn_rate': 0.3, 'momentum': 0.4}\n",
      "0.000000 (0.000000) with: {'learn_rate': 0.3, 'momentum': 0.6}\n",
      "0.000000 (0.000000) with: {'learn_rate': 0.3, 'momentum': 0.8}\n",
      "0.004566 (0.006458) with: {'learn_rate': 0.3, 'momentum': 0.9}\n"
     ]
    }
   ],
   "source": [
    "# summarize results\n",
    "print(\"Best: %f using %s\" % (grid_result.best_score_, grid_result.best_params_))\n",
    "means = grid_result.cv_results_['mean_test_score']\n",
    "stds = grid_result.cv_results_['std_test_score']\n",
    "params = grid_result.cv_results_['params']\n",
    "for mean, stdev, param in zip(means, stds, params):\n",
    "    print(\"%f (%f) with: %r\" % (mean, stdev, param))"
   ]
  },
  {
   "cell_type": "markdown",
   "metadata": {},
   "source": [
    "## 4. Tune Network Weight Initialization"
   ]
  },
  {
   "cell_type": "code",
   "execution_count": 14,
   "metadata": {},
   "outputs": [
    {
     "name": "stdout",
     "output_type": "stream",
     "text": [
      "WARNING:tensorflow:From /home/shanebowen/anaconda3/lib/python3.7/site-packages/keras/backend/tensorflow_backend.py:4115: The name tf.random_normal is deprecated. Please use tf.random.normal instead.\n",
      "\n",
      "WARNING:tensorflow:From /home/shanebowen/anaconda3/lib/python3.7/site-packages/keras/backend/tensorflow_backend.py:4185: The name tf.truncated_normal is deprecated. Please use tf.random.truncated_normal instead.\n",
      "\n"
     ]
    }
   ],
   "source": [
    "# create model\n",
    "model = KerasClassifier(build_fn=create_model_4, epochs=100, batch_size=10, verbose=0)\n",
    "# define the grid search parameters\n",
    "init_mode = ['uniform', 'lecun_uniform', 'normal', 'zero', 'glorot_normal', 'glorot_uniform', 'he_normal', 'he_uniform']\n",
    "param_grid = dict(init_mode=init_mode)\n",
    "grid = GridSearchCV(estimator=model, param_grid=param_grid, n_jobs=-1, cv=3)\n",
    "grid_result = grid.fit(test_X, test_y)"
   ]
  },
  {
   "cell_type": "code",
   "execution_count": 15,
   "metadata": {},
   "outputs": [
    {
     "name": "stdout",
     "output_type": "stream",
     "text": [
      "Best: 0.004566 using {'init_mode': 'lecun_uniform'}\n",
      "0.000000 (0.000000) with: {'init_mode': 'uniform'}\n",
      "0.004566 (0.006458) with: {'init_mode': 'lecun_uniform'}\n",
      "0.000000 (0.000000) with: {'init_mode': 'normal'}\n",
      "0.000000 (0.000000) with: {'init_mode': 'zero'}\n",
      "0.000000 (0.000000) with: {'init_mode': 'glorot_normal'}\n",
      "0.000000 (0.000000) with: {'init_mode': 'glorot_uniform'}\n",
      "0.000000 (0.000000) with: {'init_mode': 'he_normal'}\n",
      "0.004566 (0.006458) with: {'init_mode': 'he_uniform'}\n"
     ]
    }
   ],
   "source": [
    "# summarize results\n",
    "print(\"Best: %f using %s\" % (grid_result.best_score_, grid_result.best_params_))\n",
    "means = grid_result.cv_results_['mean_test_score']\n",
    "stds = grid_result.cv_results_['std_test_score']\n",
    "params = grid_result.cv_results_['params']\n",
    "for mean, stdev, param in zip(means, stds, params):\n",
    "    print(\"%f (%f) with: %r\" % (mean, stdev, param))"
   ]
  },
  {
   "cell_type": "markdown",
   "metadata": {},
   "source": [
    "## 5. Tune Neuron Activation Function"
   ]
  },
  {
   "cell_type": "code",
   "execution_count": 16,
   "metadata": {},
   "outputs": [],
   "source": [
    "# create model\n",
    "model = KerasClassifier(build_fn=create_model_5, epochs=100, batch_size=10, verbose=0)\n",
    "# define the grid search parameters\n",
    "activation = ['softmax', 'softplus', 'softsign', 'relu', 'tanh', 'sigmoid', 'hard_sigmoid', 'linear']\n",
    "param_grid = dict(activation=activation)\n",
    "grid = GridSearchCV(estimator=model, param_grid=param_grid, n_jobs=-1, cv=3)\n",
    "grid_result = grid.fit(test_X, test_y)"
   ]
  },
  {
   "cell_type": "code",
   "execution_count": 17,
   "metadata": {},
   "outputs": [
    {
     "name": "stdout",
     "output_type": "stream",
     "text": [
      "Best: 0.004566 using {'activation': 'softplus'}\n",
      "0.000000 (0.000000) with: {'activation': 'softmax'}\n",
      "0.004566 (0.006458) with: {'activation': 'softplus'}\n",
      "0.000000 (0.000000) with: {'activation': 'softsign'}\n",
      "0.000000 (0.000000) with: {'activation': 'relu'}\n",
      "0.000000 (0.000000) with: {'activation': 'tanh'}\n",
      "0.000000 (0.000000) with: {'activation': 'sigmoid'}\n",
      "0.004566 (0.006458) with: {'activation': 'hard_sigmoid'}\n",
      "0.000000 (0.000000) with: {'activation': 'linear'}\n"
     ]
    }
   ],
   "source": [
    "# summarize results\n",
    "print(\"Best: %f using %s\" % (grid_result.best_score_, grid_result.best_params_))\n",
    "means = grid_result.cv_results_['mean_test_score']\n",
    "stds = grid_result.cv_results_['std_test_score']\n",
    "params = grid_result.cv_results_['params']\n",
    "for mean, stdev, param in zip(means, stds, params):\n",
    "    print(\"%f (%f) with: %r\" % (mean, stdev, param))"
   ]
  },
  {
   "cell_type": "markdown",
   "metadata": {},
   "source": [
    "## 6. Tune Dropout Regularization"
   ]
  },
  {
   "cell_type": "code",
   "execution_count": 7,
   "metadata": {},
   "outputs": [
    {
     "name": "stderr",
     "output_type": "stream",
     "text": [
      "/home/shanebowen/anaconda3/lib/python3.7/site-packages/joblib/externals/loky/process_executor.py:706: UserWarning: A worker stopped while some jobs were given to the executor. This can be caused by a too short worker timeout or by a memory leak.\n",
      "  \"timeout or by a memory leak.\", UserWarning\n"
     ]
    },
    {
     "name": "stdout",
     "output_type": "stream",
     "text": [
      "WARNING:tensorflow:From /home/shanebowen/anaconda3/lib/python3.7/site-packages/keras/backend/tensorflow_backend.py:74: The name tf.get_default_graph is deprecated. Please use tf.compat.v1.get_default_graph instead.\n",
      "\n",
      "WARNING:tensorflow:From /home/shanebowen/anaconda3/lib/python3.7/site-packages/keras/backend/tensorflow_backend.py:517: The name tf.placeholder is deprecated. Please use tf.compat.v1.placeholder instead.\n",
      "\n",
      "WARNING:tensorflow:From /home/shanebowen/anaconda3/lib/python3.7/site-packages/keras/backend/tensorflow_backend.py:4138: The name tf.random_uniform is deprecated. Please use tf.random.uniform instead.\n",
      "\n",
      "WARNING:tensorflow:From /home/shanebowen/anaconda3/lib/python3.7/site-packages/keras/backend/tensorflow_backend.py:133: The name tf.placeholder_with_default is deprecated. Please use tf.compat.v1.placeholder_with_default instead.\n",
      "\n",
      "WARNING:tensorflow:From /home/shanebowen/anaconda3/lib/python3.7/site-packages/keras/backend/tensorflow_backend.py:3445: calling dropout (from tensorflow.python.ops.nn_ops) with keep_prob is deprecated and will be removed in a future version.\n",
      "Instructions for updating:\n",
      "Please use `rate` instead of `keep_prob`. Rate should be set to `rate = 1 - keep_prob`.\n",
      "WARNING:tensorflow:Large dropout rate: 0.9 (>0.5). In TensorFlow 2.x, dropout() uses dropout rate instead of keep_prob. Please ensure that this is intended.\n",
      "WARNING:tensorflow:From /home/shanebowen/anaconda3/lib/python3.7/site-packages/keras/optimizers.py:790: The name tf.train.Optimizer is deprecated. Please use tf.compat.v1.train.Optimizer instead.\n",
      "\n",
      "WARNING:tensorflow:From /home/shanebowen/anaconda3/lib/python3.7/site-packages/tensorflow_core/python/ops/math_grad.py:1424: where (from tensorflow.python.ops.array_ops) is deprecated and will be removed in a future version.\n",
      "Instructions for updating:\n",
      "Use tf.where in 2.0, which has the same broadcast rule as np.where\n",
      "WARNING:tensorflow:From /home/shanebowen/anaconda3/lib/python3.7/site-packages/keras/backend/tensorflow_backend.py:986: The name tf.assign_add is deprecated. Please use tf.compat.v1.assign_add instead.\n",
      "\n",
      "WARNING:tensorflow:From /home/shanebowen/anaconda3/lib/python3.7/site-packages/keras/backend/tensorflow_backend.py:973: The name tf.assign is deprecated. Please use tf.compat.v1.assign instead.\n",
      "\n",
      "WARNING:tensorflow:From /home/shanebowen/anaconda3/lib/python3.7/site-packages/keras/backend/tensorflow_backend.py:2741: The name tf.Session is deprecated. Please use tf.compat.v1.Session instead.\n",
      "\n",
      "WARNING:tensorflow:From /home/shanebowen/anaconda3/lib/python3.7/site-packages/keras/backend/tensorflow_backend.py:174: The name tf.get_default_session is deprecated. Please use tf.compat.v1.get_default_session instead.\n",
      "\n",
      "WARNING:tensorflow:From /home/shanebowen/anaconda3/lib/python3.7/site-packages/keras/backend/tensorflow_backend.py:181: The name tf.ConfigProto is deprecated. Please use tf.compat.v1.ConfigProto instead.\n",
      "\n",
      "WARNING:tensorflow:From /home/shanebowen/anaconda3/lib/python3.7/site-packages/keras/backend/tensorflow_backend.py:190: The name tf.global_variables is deprecated. Please use tf.compat.v1.global_variables instead.\n",
      "\n",
      "WARNING:tensorflow:From /home/shanebowen/anaconda3/lib/python3.7/site-packages/keras/backend/tensorflow_backend.py:199: The name tf.is_variable_initialized is deprecated. Please use tf.compat.v1.is_variable_initialized instead.\n",
      "\n",
      "WARNING:tensorflow:From /home/shanebowen/anaconda3/lib/python3.7/site-packages/keras/backend/tensorflow_backend.py:206: The name tf.variables_initializer is deprecated. Please use tf.compat.v1.variables_initializer instead.\n",
      "\n"
     ]
    }
   ],
   "source": [
    "# create model\n",
    "model = KerasClassifier(build_fn=create_model_6, epochs=100, batch_size=10, verbose=0)\n",
    "# define the grid search parameters\n",
    "weight_constraint = [1, 2, 3, 4, 5]\n",
    "dropout_rate = [0.0, 0.1, 0.2, 0.3, 0.4, 0.5, 0.6, 0.7, 0.8, 0.9]\n",
    "param_grid = dict(dropout_rate=dropout_rate, weight_constraint=weight_constraint)\n",
    "grid = GridSearchCV(estimator=model, param_grid=param_grid, n_jobs=-1, cv=3)\n",
    "grid_result = grid.fit(test_X, test_y)"
   ]
  },
  {
   "cell_type": "code",
   "execution_count": 8,
   "metadata": {},
   "outputs": [
    {
     "name": "stdout",
     "output_type": "stream",
     "text": [
      "Best: 0.036530 using {'dropout_rate': 0.9, 'weight_constraint': 4}\n",
      "0.000000 (0.000000) with: {'dropout_rate': 0.0, 'weight_constraint': 1}\n",
      "0.000000 (0.000000) with: {'dropout_rate': 0.0, 'weight_constraint': 2}\n",
      "0.000000 (0.000000) with: {'dropout_rate': 0.0, 'weight_constraint': 3}\n",
      "0.004566 (0.006458) with: {'dropout_rate': 0.0, 'weight_constraint': 4}\n",
      "0.000000 (0.000000) with: {'dropout_rate': 0.0, 'weight_constraint': 5}\n",
      "0.000000 (0.000000) with: {'dropout_rate': 0.1, 'weight_constraint': 1}\n",
      "0.000000 (0.000000) with: {'dropout_rate': 0.1, 'weight_constraint': 2}\n",
      "0.004566 (0.006458) with: {'dropout_rate': 0.1, 'weight_constraint': 3}\n",
      "0.000000 (0.000000) with: {'dropout_rate': 0.1, 'weight_constraint': 4}\n",
      "0.000000 (0.000000) with: {'dropout_rate': 0.1, 'weight_constraint': 5}\n",
      "0.000000 (0.000000) with: {'dropout_rate': 0.2, 'weight_constraint': 1}\n",
      "0.004566 (0.006458) with: {'dropout_rate': 0.2, 'weight_constraint': 2}\n",
      "0.000000 (0.000000) with: {'dropout_rate': 0.2, 'weight_constraint': 3}\n",
      "0.000000 (0.000000) with: {'dropout_rate': 0.2, 'weight_constraint': 4}\n",
      "0.004566 (0.006458) with: {'dropout_rate': 0.2, 'weight_constraint': 5}\n",
      "0.000000 (0.000000) with: {'dropout_rate': 0.3, 'weight_constraint': 1}\n",
      "0.000000 (0.000000) with: {'dropout_rate': 0.3, 'weight_constraint': 2}\n",
      "0.000000 (0.000000) with: {'dropout_rate': 0.3, 'weight_constraint': 3}\n",
      "0.000000 (0.000000) with: {'dropout_rate': 0.3, 'weight_constraint': 4}\n",
      "0.000000 (0.000000) with: {'dropout_rate': 0.3, 'weight_constraint': 5}\n",
      "0.000000 (0.000000) with: {'dropout_rate': 0.4, 'weight_constraint': 1}\n",
      "0.000000 (0.000000) with: {'dropout_rate': 0.4, 'weight_constraint': 2}\n",
      "0.000000 (0.000000) with: {'dropout_rate': 0.4, 'weight_constraint': 3}\n",
      "0.000000 (0.000000) with: {'dropout_rate': 0.4, 'weight_constraint': 4}\n",
      "0.000000 (0.000000) with: {'dropout_rate': 0.4, 'weight_constraint': 5}\n",
      "0.000000 (0.000000) with: {'dropout_rate': 0.5, 'weight_constraint': 1}\n",
      "0.004566 (0.006458) with: {'dropout_rate': 0.5, 'weight_constraint': 2}\n",
      "0.000000 (0.000000) with: {'dropout_rate': 0.5, 'weight_constraint': 3}\n",
      "0.004566 (0.006458) with: {'dropout_rate': 0.5, 'weight_constraint': 4}\n",
      "0.004566 (0.006458) with: {'dropout_rate': 0.5, 'weight_constraint': 5}\n",
      "0.000000 (0.000000) with: {'dropout_rate': 0.6, 'weight_constraint': 1}\n",
      "0.000000 (0.000000) with: {'dropout_rate': 0.6, 'weight_constraint': 2}\n",
      "0.000000 (0.000000) with: {'dropout_rate': 0.6, 'weight_constraint': 3}\n",
      "0.000000 (0.000000) with: {'dropout_rate': 0.6, 'weight_constraint': 4}\n",
      "0.000000 (0.000000) with: {'dropout_rate': 0.6, 'weight_constraint': 5}\n",
      "0.000000 (0.000000) with: {'dropout_rate': 0.7, 'weight_constraint': 1}\n",
      "0.000000 (0.000000) with: {'dropout_rate': 0.7, 'weight_constraint': 2}\n",
      "0.000000 (0.000000) with: {'dropout_rate': 0.7, 'weight_constraint': 3}\n",
      "0.000000 (0.000000) with: {'dropout_rate': 0.7, 'weight_constraint': 4}\n",
      "0.000000 (0.000000) with: {'dropout_rate': 0.7, 'weight_constraint': 5}\n",
      "0.000000 (0.000000) with: {'dropout_rate': 0.8, 'weight_constraint': 1}\n",
      "0.000000 (0.000000) with: {'dropout_rate': 0.8, 'weight_constraint': 2}\n",
      "0.000000 (0.000000) with: {'dropout_rate': 0.8, 'weight_constraint': 3}\n",
      "0.000000 (0.000000) with: {'dropout_rate': 0.8, 'weight_constraint': 4}\n",
      "0.000000 (0.000000) with: {'dropout_rate': 0.8, 'weight_constraint': 5}\n",
      "0.000000 (0.000000) with: {'dropout_rate': 0.9, 'weight_constraint': 1}\n",
      "0.000000 (0.000000) with: {'dropout_rate': 0.9, 'weight_constraint': 2}\n",
      "0.000000 (0.000000) with: {'dropout_rate': 0.9, 'weight_constraint': 3}\n",
      "0.036530 (0.051661) with: {'dropout_rate': 0.9, 'weight_constraint': 4}\n",
      "0.000000 (0.000000) with: {'dropout_rate': 0.9, 'weight_constraint': 5}\n"
     ]
    }
   ],
   "source": [
    "# summarize results\n",
    "print(\"Best: %f using %s\" % (grid_result.best_score_, grid_result.best_params_))\n",
    "means = grid_result.cv_results_['mean_test_score']\n",
    "stds = grid_result.cv_results_['std_test_score']\n",
    "params = grid_result.cv_results_['params']\n",
    "for mean, stdev, param in zip(means, stds, params):\n",
    "    print(\"%f (%f) with: %r\" % (mean, stdev, param))"
   ]
  },
  {
   "cell_type": "markdown",
   "metadata": {},
   "source": [
    "## 7. Tune Number of Neurons in the Hidden Layer"
   ]
  },
  {
   "cell_type": "code",
   "execution_count": 9,
   "metadata": {},
   "outputs": [],
   "source": [
    "# create model\n",
    "model = KerasClassifier(build_fn=create_model_7, epochs=100, batch_size=10, verbose=0)\n",
    "# define the grid search parameters\n",
    "neurons = [1, 5, 10, 15, 20, 25, 30]\n",
    "param_grid = dict(neurons=neurons)\n",
    "grid = GridSearchCV(estimator=model, param_grid=param_grid, n_jobs=-1, cv=3)\n",
    "grid_result = grid.fit(test_X, test_y)"
   ]
  },
  {
   "cell_type": "code",
   "execution_count": 10,
   "metadata": {},
   "outputs": [
    {
     "name": "stdout",
     "output_type": "stream",
     "text": [
      "Best: 0.004566 using {'neurons': 15}\n",
      "0.000000 (0.000000) with: {'neurons': 1}\n",
      "0.000000 (0.000000) with: {'neurons': 5}\n",
      "0.000000 (0.000000) with: {'neurons': 10}\n",
      "0.004566 (0.006458) with: {'neurons': 15}\n",
      "0.000000 (0.000000) with: {'neurons': 20}\n",
      "0.000000 (0.000000) with: {'neurons': 25}\n",
      "0.000000 (0.000000) with: {'neurons': 30}\n"
     ]
    }
   ],
   "source": [
    "# summarize results\n",
    "print(\"Best: %f using %s\" % (grid_result.best_score_, grid_result.best_params_))\n",
    "means = grid_result.cv_results_['mean_test_score']\n",
    "stds = grid_result.cv_results_['std_test_score']\n",
    "params = grid_result.cv_results_['params']\n",
    "for mean, stdev, param in zip(means, stds, params):\n",
    "    print(\"%f (%f) with: %r\" % (mean, stdev, param))"
   ]
  }
 ],
 "metadata": {
  "kernelspec": {
   "display_name": "Python 3",
   "language": "python",
   "name": "python3"
  },
  "language_info": {
   "codemirror_mode": {
    "name": "ipython",
    "version": 3
   },
   "file_extension": ".py",
   "mimetype": "text/x-python",
   "name": "python",
   "nbconvert_exporter": "python",
   "pygments_lexer": "ipython3",
   "version": "3.7.6"
  }
 },
 "nbformat": 4,
 "nbformat_minor": 4
}
