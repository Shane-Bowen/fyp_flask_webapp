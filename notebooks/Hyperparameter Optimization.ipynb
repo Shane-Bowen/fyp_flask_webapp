{
 "cells": [
  {
   "cell_type": "code",
   "execution_count": 1,
   "metadata": {},
   "outputs": [],
   "source": [
    "# import libraries\n",
    "import numpy\n",
    "import pandas as pd\n",
    "from sklearn.model_selection import GridSearchCV\n",
    "from tensorflow.keras.models import Sequential\n",
    "from tensorflow.keras.layers import Dense, Dropout, LSTM\n",
    "from tensorflow.keras.wrappers.scikit_learn import KerasRegressor\n",
    "from tensorflow.keras.optimizers import SGD, Adam\n",
    "from sklearn.preprocessing import LabelEncoder, MinMaxScaler"
   ]
  },
  {
   "cell_type": "code",
   "execution_count": 2,
   "metadata": {},
   "outputs": [],
   "source": [
    "# convert series to supervised learning & normalize input variables\n",
    "def series_to_supervised(data, n_in=1, n_out=1, dropnan=True):\n",
    "    n_vars = 1 if type(data) is list else data.shape[1]\n",
    "    df = pd.DataFrame(data)\n",
    "    cols, names = list(), list()\n",
    "    \n",
    "    # input sequence (t-n, ... t-1)\n",
    "    for i in range(n_in, 0, -1):\n",
    "        cols.append(df.shift(i))\n",
    "        names += [('var%d(t-%d)' % (j+1, i)) for j in range(n_vars)]\n",
    "    \n",
    "    # forecast sequence (t, t+1, ... t+n)\n",
    "    for i in range(0, n_out):\n",
    "        cols.append(df.shift(-i))\n",
    "        if i == 0:\n",
    "            names += [('var%d(t)' % (j+1)) for j in range(n_vars)]\n",
    "        else:\n",
    "            names += [('var%d(t+%d)' % (j+1, i)) for j in range(n_vars)]\n",
    "    \n",
    "    # put it all together\n",
    "    agg = pd.concat(cols, axis=1)\n",
    "    agg.columns = names\n",
    "    \n",
    "    # drop rows with NaN values\n",
    "    if dropnan:\n",
    "        agg.dropna(inplace=True)\n",
    "    return agg"
   ]
  },
  {
   "cell_type": "code",
   "execution_count": 29,
   "metadata": {},
   "outputs": [],
   "source": [
    "#1. Batch Size and Epochs Model\n",
    "def create_model_1():\n",
    "    \n",
    "    # create model\n",
    "    model = Sequential()\n",
    "    model.add(LSTM(32, input_shape=(X.shape[1], X.shape[2])))\n",
    "    model.add(Dropout(0.2))\n",
    "    model.add(Dense(n_predict, kernel_initializer='lecun_uniform', activation='relu'))\n",
    "    model.compile(loss='mse', optimizer='adam', metrics=[\"accuracy\"])\n",
    "    return model\n",
    "\n",
    "#2. Training Optimization Model\n",
    "def create_model_2(optimizer='adam'):\n",
    "    \n",
    "    # create model\n",
    "    model = Sequential()\n",
    "    model.add(LSTM(32, input_shape=(X.shape[1], X.shape[2])))\n",
    "    model.add(Dropout(0.2))\n",
    "    model.add(Dense(n_predict, kernel_initializer='lecun_uniform', activation='relu'))\n",
    "    model.compile(loss='mse', optimizer=optimizer, metrics=[\"accuracy\"])\n",
    "    \n",
    "    return model\n",
    "\n",
    "#3. Learning Rate and Momentum Model\n",
    "def create_model_3(learn_rate=0.01, momentum=0):\n",
    "    \n",
    "    # create model\n",
    "    model = Sequential()\n",
    "    model.add(LSTM(32, input_shape=(X.shape[1], X.shape[2])))\n",
    "    model.add(Dropout(0.2))\n",
    "    model.add(Dense(n_predict, kernel_initializer='lecun_uniform', activation='relu'))\n",
    "    optimizer = SGD(lr=learn_rate, momentum=momentum)\n",
    "    model.compile(loss='mse', optimizer=optimizer, metrics=[\"accuracy\"])\n",
    "    \n",
    "    return model\n",
    "\n",
    "#4. Network Weight Initialization Model\n",
    "def create_model_4(init_mode='uniform'):\n",
    "    \n",
    "    # create model\n",
    "    model = Sequential()\n",
    "    model.add(LSTM(32, input_shape=(X.shape[1], X.shape[2]), kernel_initializer=init_mode))\n",
    "    model.add(Dropout(0.2))\n",
    "    model.add(Dense(n_predict, kernel_initializer=init_mode, activation='relu'))\n",
    "    model.compile(loss='mse', optimizer='adam', metrics=[\"accuracy\"])\n",
    "    \n",
    "    return model\n",
    "\n",
    "#5. Neuron Activation Function Model\n",
    "def create_model_5(activation='relu'):\n",
    "    \n",
    "    # create model\n",
    "    model = Sequential()\n",
    "    model.add(LSTM(32, input_shape=(X.shape[1], X.shape[2])))\n",
    "    model.add(Dropout(0.2))\n",
    "    model.add(Dense(n_predict, kernel_initializer='lecun_uniform', activation=activation))\n",
    "    # Compile model\n",
    "    model.compile(loss='mse', optimizer='adam', metrics=[\"accuracy\"])\n",
    "    \n",
    "    return model\n",
    "\n",
    "#6. Dropout Regularization Model\n",
    "def create_model_6(dropout_rate=0.0, weight_constraint=0):\n",
    "    \n",
    "    # create model\n",
    "    model = Sequential()\n",
    "    model.add(LSTM(32, input_shape=(X.shape[1], X.shape[2]))) \n",
    "    model.add(Dropout(dropout_rate))\n",
    "    model.add(Dense(n_predict, kernel_initializer='lecun_uniform', activation='relu'))\n",
    "    # Compile model\n",
    "    model.compile(loss='mse', optimizer='adam', metrics=[\"accuracy\"])\n",
    "    \n",
    "    return model\n",
    "\n",
    "#7. Number of Neurons in the Hidden Layer\n",
    "def create_model_7(neurons=1):\n",
    "    \n",
    "    # create model\n",
    "    model = Sequential()\n",
    "    model.add(LSTM(neurons, input_shape=(X.shape[1], X.shape[2])))\n",
    "    model.add(Dropout(0.2))\n",
    "    model.add(Dense(n_predict, kernel_initializer='lecun_uniform', activation='relu'))\n",
    "    # Compile model\n",
    "    model.compile(loss='mse', optimizer='adam', metrics=[\"accuracy\"])\n",
    "                  \n",
    "    return model\n",
    "\n",
    "# Function to create model, required for KerasRegressor\n",
    "def create_model(neurons=1, dropout_rate=0.0, init_mode='uniform', activation='relu', optimizer='adam'):\n",
    "    \n",
    "    #create model\n",
    "    model = Sequential()\n",
    "    model.add(LSTM(neurons, input_shape=(X.shape[1], X.shape[2])))\n",
    "    model.add(Dropout(dropout_rate))\n",
    "    model.add(Dense(n_predict, kernel_initializer=init_mode, activation=activation))\n",
    "    #optimizer = Adam(lr=learn_rate, decay=decay)\n",
    "    model.compile(loss='mse', optimizer=optimizer, metrics=[\"accuracy\"])\n",
    "    \n",
    "    return model\n"
   ]
  },
  {
   "cell_type": "code",
   "execution_count": 4,
   "metadata": {},
   "outputs": [
    {
     "name": "stdout",
     "output_type": "stream",
     "text": [
      "(893, 224)\n"
     ]
    }
   ],
   "source": [
    "# load dataset\n",
    "df = pd.read_csv('../reports/company_report_sorted.csv', header=0)\n",
    "df_subset = df[df['company_id'] == 2]\n",
    "df_subset = df_subset[['volume_tests', 'date', 'month', 'year', 'is_weekend', 'avg_pesq_score', 'quality_too_poor', 'number_busy', 'temporarily_unable_test', 'outage_hrs', 'number_test_types', 'numbers_tested', 'followup_tests', 'min_commit', 'has_min_commit', 'is_testing']]\n",
    "values = df_subset.values\n",
    "\n",
    "# specify the number of days and features \n",
    "n_input = 7\n",
    "n_features = df_subset.shape[1]\n",
    "n_predict = 7\n",
    "\n",
    "# normalize features\n",
    "scaler = MinMaxScaler(feature_range=(0, 1))\n",
    "scaled = scaler.fit_transform(values)\n",
    "\n",
    "# frame as supervised learning\n",
    "reframed = series_to_supervised(scaled, n_input, n_predict)\n",
    "print(reframed.shape)"
   ]
  },
  {
   "cell_type": "code",
   "execution_count": 5,
   "metadata": {},
   "outputs": [
    {
     "name": "stdout",
     "output_type": "stream",
     "text": [
      "(893, 7, 16) (893, 7)\n"
     ]
    }
   ],
   "source": [
    "# split into train and test sets\n",
    "values = reframed.values\n",
    "\n",
    "# split into input and outputs\n",
    "n_obs = n_input * n_features\n",
    "n_predict_obs = n_predict * n_features\n",
    "\n",
    "X, y = values[:, :n_obs], values[:, -n_predict_obs::n_features]\n",
    "X = X.reshape((X.shape[0], n_input, n_features))\n",
    "print(X.shape, y.shape)"
   ]
  },
  {
   "cell_type": "markdown",
   "metadata": {},
   "source": [
    "## 1. Tune Batch Size and Number of Epochs"
   ]
  },
  {
   "cell_type": "code",
   "execution_count": 8,
   "metadata": {},
   "outputs": [
    {
     "name": "stdout",
     "output_type": "stream",
     "text": [
      "Best CV score = -0.005:\n",
      "Best parameters:  {'batch_size': 16, 'epochs': 50}\n"
     ]
    }
   ],
   "source": [
    "# create model\n",
    "model = KerasRegressor(build_fn=create_model_1, verbose=0)\n",
    "\n",
    "# summarize results\n",
    "param_grid = {\n",
    "    'batch_size' : [16, 32, 64, 128],\n",
    "    'epochs' : [50, 100]\n",
    "}\n",
    "\n",
    "# fit model\n",
    "grid = GridSearchCV(estimator=model, param_grid=param_grid, cv=5, refit=True, error_score='raise')\n",
    "grid_result = grid.fit(X, y)\n",
    "\n",
    "print(\"Best CV score = %0.3f:\" % grid.best_score_)\n",
    "print(\"Best parameters: \", grid.best_params_)"
   ]
  },
  {
   "cell_type": "code",
   "execution_count": 9,
   "metadata": {},
   "outputs": [
    {
     "name": "stdout",
     "output_type": "stream",
     "text": [
      "Best: -0.005289 using {'batch_size': 16, 'epochs': 50}\n",
      "-0.005289 (0.002528) with: {'batch_size': 16, 'epochs': 50}\n",
      "-0.005290 (0.002773) with: {'batch_size': 16, 'epochs': 100}\n",
      "-0.007895 (0.001529) with: {'batch_size': 32, 'epochs': 50}\n",
      "-0.005376 (0.001807) with: {'batch_size': 32, 'epochs': 100}\n",
      "-0.013905 (0.003921) with: {'batch_size': 64, 'epochs': 50}\n",
      "-0.006645 (0.003015) with: {'batch_size': 64, 'epochs': 100}\n",
      "-0.024244 (0.006473) with: {'batch_size': 128, 'epochs': 50}\n",
      "-0.011708 (0.003317) with: {'batch_size': 128, 'epochs': 100}\n"
     ]
    }
   ],
   "source": [
    "# summarize results\n",
    "print(\"Best: %f using %s\" % (grid_result.best_score_, grid_result.best_params_))\n",
    "\n",
    "means = grid_result.cv_results_['mean_test_score']\n",
    "stds = grid_result.cv_results_['std_test_score']\n",
    "params = grid_result.cv_results_['params']\n",
    "\n",
    "for mean, stdev, param in zip(means, stds, params):\n",
    "    print(\"%f (%f) with: %r\" % (mean, stdev, param))"
   ]
  },
  {
   "cell_type": "markdown",
   "metadata": {},
   "source": [
    "## 2. Tune Training Optimization Algorithm"
   ]
  },
  {
   "cell_type": "code",
   "execution_count": 10,
   "metadata": {},
   "outputs": [
    {
     "name": "stdout",
     "output_type": "stream",
     "text": [
      "Best CV score = -0.005:\n",
      "Best parameters:  {'optimizer': 'RMSprop'}\n"
     ]
    }
   ],
   "source": [
    "# create model\n",
    "model = KerasRegressor(build_fn=create_model_2, epochs=50, batch_size=32, verbose=0)\n",
    "\n",
    "# define the grid search parameters\n",
    "param_grid = {\n",
    "    'optimizer' : ['SGD', 'RMSprop', 'Adagrad', 'Adadelta', 'Adam', 'Adamax', 'Nadam']\n",
    "}\n",
    "\n",
    "grid = GridSearchCV(estimator=model, param_grid=param_grid, cv=5, refit=True, error_score='raise')\n",
    "grid_result = grid.fit(X, y)\n",
    "\n",
    "print(\"Best CV score = %0.3f:\" % grid.best_score_)\n",
    "print(\"Best parameters: \", grid.best_params_)"
   ]
  },
  {
   "cell_type": "code",
   "execution_count": 11,
   "metadata": {},
   "outputs": [
    {
     "name": "stdout",
     "output_type": "stream",
     "text": [
      "Best: -0.005421 using {'optimizer': 'RMSprop'}\n",
      "-0.064395 (0.028408) with: {'optimizer': 'SGD'}\n",
      "-0.005421 (0.001748) with: {'optimizer': 'RMSprop'}\n",
      "-0.067284 (0.028965) with: {'optimizer': 'Adagrad'}\n",
      "-0.323167 (0.093532) with: {'optimizer': 'Adadelta'}\n",
      "-0.007930 (0.003519) with: {'optimizer': 'Adam'}\n",
      "-0.021158 (0.005227) with: {'optimizer': 'Adamax'}\n",
      "-0.007207 (0.002394) with: {'optimizer': 'Nadam'}\n"
     ]
    }
   ],
   "source": [
    "# summarize results\n",
    "print(\"Best: %f using %s\" % (grid_result.best_score_, grid_result.best_params_))\n",
    "\n",
    "means = grid_result.cv_results_['mean_test_score']\n",
    "stds = grid_result.cv_results_['std_test_score']\n",
    "params = grid_result.cv_results_['params']\n",
    "\n",
    "for mean, stdev, param in zip(means, stds, params):\n",
    "    print(\"%f (%f) with: %r\" % (mean, stdev, param))"
   ]
  },
  {
   "cell_type": "markdown",
   "metadata": {},
   "source": [
    "## 3. Tune Learning Rate and Momentum"
   ]
  },
  {
   "cell_type": "code",
   "execution_count": 12,
   "metadata": {},
   "outputs": [
    {
     "name": "stdout",
     "output_type": "stream",
     "text": [
      "Best CV score = -0.007:\n",
      "Best parameters:  {'learn_rate': 0.3, 'momentum': 0.9}\n"
     ]
    }
   ],
   "source": [
    "# create model\n",
    "model = KerasRegressor(build_fn=create_model_3, epochs=50, batch_size=32, verbose=0)\n",
    "\n",
    "# define the grid search parameters\n",
    "param_grid = {\n",
    "    'learn_rate' : [0.001, 0.01, 0.1, 0.2, 0.3],\n",
    "    'momentum' : [0.0, 0.2, 0.4, 0.6, 0.8, 0.9]\n",
    "}\n",
    "\n",
    "grid = GridSearchCV(estimator=model, param_grid=param_grid, cv=5, refit=True, error_score='raise')\n",
    "grid_result = grid.fit(X, y)\n",
    "\n",
    "print(\"Best CV score = %0.3f:\" % grid.best_score_)\n",
    "print(\"Best parameters: \", grid.best_params_)"
   ]
  },
  {
   "cell_type": "code",
   "execution_count": 13,
   "metadata": {},
   "outputs": [
    {
     "name": "stdout",
     "output_type": "stream",
     "text": [
      "Best: -0.006702 using {'learn_rate': 0.3, 'momentum': 0.9}\n",
      "-0.179353 (0.070389) with: {'learn_rate': 0.001, 'momentum': 0.0}\n",
      "-0.159598 (0.041581) with: {'learn_rate': 0.001, 'momentum': 0.2}\n",
      "-0.183798 (0.091545) with: {'learn_rate': 0.001, 'momentum': 0.4}\n",
      "-0.082478 (0.050604) with: {'learn_rate': 0.001, 'momentum': 0.6}\n",
      "-0.070364 (0.019161) with: {'learn_rate': 0.001, 'momentum': 0.8}\n",
      "-0.051645 (0.010743) with: {'learn_rate': 0.001, 'momentum': 0.9}\n",
      "-0.079471 (0.034857) with: {'learn_rate': 0.01, 'momentum': 0.0}\n",
      "-0.059051 (0.019348) with: {'learn_rate': 0.01, 'momentum': 0.2}\n",
      "-0.061078 (0.027089) with: {'learn_rate': 0.01, 'momentum': 0.4}\n",
      "-0.058948 (0.016742) with: {'learn_rate': 0.01, 'momentum': 0.6}\n",
      "-0.043931 (0.007637) with: {'learn_rate': 0.01, 'momentum': 0.8}\n",
      "-0.045109 (0.017785) with: {'learn_rate': 0.01, 'momentum': 0.9}\n",
      "-0.035909 (0.006530) with: {'learn_rate': 0.1, 'momentum': 0.0}\n",
      "-0.042551 (0.017713) with: {'learn_rate': 0.1, 'momentum': 0.2}\n",
      "-0.030269 (0.008054) with: {'learn_rate': 0.1, 'momentum': 0.4}\n",
      "-0.025365 (0.008062) with: {'learn_rate': 0.1, 'momentum': 0.6}\n",
      "-0.017712 (0.003415) with: {'learn_rate': 0.1, 'momentum': 0.8}\n",
      "-0.014259 (0.003939) with: {'learn_rate': 0.1, 'momentum': 0.9}\n",
      "-0.026581 (0.006379) with: {'learn_rate': 0.2, 'momentum': 0.0}\n",
      "-0.022895 (0.006721) with: {'learn_rate': 0.2, 'momentum': 0.2}\n",
      "-0.020214 (0.004002) with: {'learn_rate': 0.2, 'momentum': 0.4}\n",
      "-0.018394 (0.003527) with: {'learn_rate': 0.2, 'momentum': 0.6}\n",
      "-0.015536 (0.003350) with: {'learn_rate': 0.2, 'momentum': 0.8}\n",
      "-0.006966 (0.002608) with: {'learn_rate': 0.2, 'momentum': 0.9}\n",
      "-0.020574 (0.005198) with: {'learn_rate': 0.3, 'momentum': 0.0}\n",
      "-0.021379 (0.006920) with: {'learn_rate': 0.3, 'momentum': 0.2}\n",
      "-0.017276 (0.003448) with: {'learn_rate': 0.3, 'momentum': 0.4}\n",
      "-0.015885 (0.003380) with: {'learn_rate': 0.3, 'momentum': 0.6}\n",
      "-0.010876 (0.003971) with: {'learn_rate': 0.3, 'momentum': 0.8}\n",
      "-0.006702 (0.003055) with: {'learn_rate': 0.3, 'momentum': 0.9}\n"
     ]
    }
   ],
   "source": [
    "# summarize results\n",
    "print(\"Best: %f using %s\" % (grid_result.best_score_, grid_result.best_params_))\n",
    "\n",
    "means = grid_result.cv_results_['mean_test_score']\n",
    "stds = grid_result.cv_results_['std_test_score']\n",
    "params = grid_result.cv_results_['params']\n",
    "\n",
    "for mean, stdev, param in zip(means, stds, params):\n",
    "    print(\"%f (%f) with: %r\" % (mean, stdev, param))"
   ]
  },
  {
   "cell_type": "markdown",
   "metadata": {},
   "source": [
    "## 4. Tune Network Weight Initialization"
   ]
  },
  {
   "cell_type": "code",
   "execution_count": 14,
   "metadata": {},
   "outputs": [
    {
     "name": "stdout",
     "output_type": "stream",
     "text": [
      "Best CV score = -0.007:\n",
      "Best parameters:  {'init_mode': 'glorot_uniform'}\n"
     ]
    }
   ],
   "source": [
    "# create model\n",
    "model = KerasRegressor(build_fn=create_model_4, epochs=50, batch_size=32, verbose=0)\n",
    "\n",
    "# define the grid search parameters\n",
    "param_grid = {\n",
    "    'init_mode' : ['uniform', 'lecun_uniform', 'normal', 'zero', 'glorot_normal', 'glorot_uniform', 'he_normal', 'he_uniform']\n",
    "}\n",
    "\n",
    "grid = GridSearchCV(estimator=model, param_grid=param_grid, cv=5, refit=True, error_score='raise')\n",
    "grid_result = grid.fit(X, y)\n",
    "\n",
    "print(\"Best CV score = %0.3f:\" % grid.best_score_)\n",
    "print(\"Best parameters: \", grid.best_params_)"
   ]
  },
  {
   "cell_type": "code",
   "execution_count": 15,
   "metadata": {},
   "outputs": [
    {
     "name": "stdout",
     "output_type": "stream",
     "text": [
      "Best: -0.007089 using {'init_mode': 'glorot_uniform'}\n",
      "-0.011995 (0.004141) with: {'init_mode': 'uniform'}\n",
      "-0.007624 (0.002975) with: {'init_mode': 'lecun_uniform'}\n",
      "-0.009192 (0.005067) with: {'init_mode': 'normal'}\n",
      "-0.413907 (0.094668) with: {'init_mode': 'zero'}\n",
      "-0.008183 (0.003043) with: {'init_mode': 'glorot_normal'}\n",
      "-0.007089 (0.002808) with: {'init_mode': 'glorot_uniform'}\n",
      "-0.010347 (0.004991) with: {'init_mode': 'he_normal'}\n",
      "-0.009528 (0.003482) with: {'init_mode': 'he_uniform'}\n"
     ]
    }
   ],
   "source": [
    "# summarize results\n",
    "print(\"Best: %f using %s\" % (grid_result.best_score_, grid_result.best_params_))\n",
    "\n",
    "means = grid_result.cv_results_['mean_test_score']\n",
    "stds = grid_result.cv_results_['std_test_score']\n",
    "params = grid_result.cv_results_['params']\n",
    "\n",
    "for mean, stdev, param in zip(means, stds, params):\n",
    "    print(\"%f (%f) with: %r\" % (mean, stdev, param))"
   ]
  },
  {
   "cell_type": "markdown",
   "metadata": {},
   "source": [
    "## 5. Tune Neuron Activation Function"
   ]
  },
  {
   "cell_type": "code",
   "execution_count": 16,
   "metadata": {},
   "outputs": [
    {
     "name": "stdout",
     "output_type": "stream",
     "text": [
      "Best CV score = -0.007:\n",
      "Best parameters:  {'activation': 'sigmoid'}\n"
     ]
    }
   ],
   "source": [
    "# create model\n",
    "model = KerasRegressor(build_fn=create_model_5, epochs=50, batch_size=32, verbose=0)\n",
    "\n",
    "# define the grid search parameters\n",
    "param_grid = {\n",
    "    'activation' : ['softmax', 'softplus', 'softsign', 'relu', 'tanh', 'sigmoid', 'hard_sigmoid', 'linear']\n",
    "}\n",
    "\n",
    "grid = GridSearchCV(estimator=model, param_grid=param_grid, cv=5, refit=True, error_score='raise')\n",
    "grid_result = grid.fit(X, y)\n",
    "\n",
    "print(\"Best CV score = %0.3f:\" % grid.best_score_)\n",
    "print(\"Best parameters: \", grid.best_params_)"
   ]
  },
  {
   "cell_type": "code",
   "execution_count": 17,
   "metadata": {},
   "outputs": [
    {
     "name": "stdout",
     "output_type": "stream",
     "text": [
      "Best: -0.006884 using {'activation': 'sigmoid'}\n",
      "-0.235834 (0.071574) with: {'activation': 'softmax'}\n",
      "-0.007569 (0.003190) with: {'activation': 'softplus'}\n",
      "-0.013645 (0.008166) with: {'activation': 'softsign'}\n",
      "-0.007277 (0.003322) with: {'activation': 'relu'}\n",
      "-0.009061 (0.005967) with: {'activation': 'tanh'}\n",
      "-0.006884 (0.002287) with: {'activation': 'sigmoid'}\n",
      "-0.007326 (0.003410) with: {'activation': 'hard_sigmoid'}\n",
      "-0.007775 (0.003193) with: {'activation': 'linear'}\n"
     ]
    }
   ],
   "source": [
    "# summarize results\n",
    "print(\"Best: %f using %s\" % (grid_result.best_score_, grid_result.best_params_))\n",
    "\n",
    "means = grid_result.cv_results_['mean_test_score']\n",
    "stds = grid_result.cv_results_['std_test_score']\n",
    "params = grid_result.cv_results_['params']\n",
    "\n",
    "for mean, stdev, param in zip(means, stds, params):\n",
    "    print(\"%f (%f) with: %r\" % (mean, stdev, param))"
   ]
  },
  {
   "cell_type": "markdown",
   "metadata": {},
   "source": [
    "## 6. Tune Dropout Regularization"
   ]
  },
  {
   "cell_type": "code",
   "execution_count": 30,
   "metadata": {},
   "outputs": [
    {
     "name": "stdout",
     "output_type": "stream",
     "text": [
      "Best CV score = -0.007:\n",
      "Best parameters:  {'dropout_rate': 0.1, 'weight_constraint': 0.0}\n"
     ]
    }
   ],
   "source": [
    "# create model\n",
    "model = KerasRegressor(build_fn=create_model_6, epochs=50, batch_size=32, verbose=0)\n",
    "\n",
    "# define the grid search parameters\n",
    "param_grid = {\n",
    "    'dropout_rate' : [0.1, 0.2, 0.3, 0.4, 0.5],\n",
    "    'weight_constraint' : [0.0, 0.1, 0.2, 0.3, 0.4, 0.5, 0.6, 0.7, 0.8, 0.9]\n",
    "}\n",
    "\n",
    "grid = GridSearchCV(estimator=model, param_grid=param_grid, cv=5, refit=True, error_score='raise')\n",
    "grid_result = grid.fit(X, y)\n",
    "\n",
    "print(\"Best CV score = %0.3f:\" % grid.best_score_)\n",
    "print(\"Best parameters: \", grid.best_params_)"
   ]
  },
  {
   "cell_type": "code",
   "execution_count": 31,
   "metadata": {},
   "outputs": [
    {
     "name": "stdout",
     "output_type": "stream",
     "text": [
      "Best: -0.006518 using {'dropout_rate': 0.1, 'weight_constraint': 0.0}\n",
      "-0.006518 (0.002585) with: {'dropout_rate': 0.1, 'weight_constraint': 0.0}\n",
      "-0.007271 (0.003187) with: {'dropout_rate': 0.1, 'weight_constraint': 0.1}\n",
      "-0.008618 (0.005455) with: {'dropout_rate': 0.1, 'weight_constraint': 0.2}\n",
      "-0.006571 (0.002628) with: {'dropout_rate': 0.1, 'weight_constraint': 0.3}\n",
      "-0.008239 (0.005078) with: {'dropout_rate': 0.1, 'weight_constraint': 0.4}\n",
      "-0.006691 (0.002892) with: {'dropout_rate': 0.1, 'weight_constraint': 0.5}\n",
      "-0.007385 (0.003213) with: {'dropout_rate': 0.1, 'weight_constraint': 0.6}\n",
      "-0.006912 (0.002722) with: {'dropout_rate': 0.1, 'weight_constraint': 0.7}\n",
      "-0.007417 (0.004209) with: {'dropout_rate': 0.1, 'weight_constraint': 0.8}\n",
      "-0.006914 (0.003405) with: {'dropout_rate': 0.1, 'weight_constraint': 0.9}\n",
      "-0.007540 (0.002157) with: {'dropout_rate': 0.2, 'weight_constraint': 0.0}\n",
      "-0.008126 (0.004650) with: {'dropout_rate': 0.2, 'weight_constraint': 0.1}\n",
      "-0.006594 (0.002532) with: {'dropout_rate': 0.2, 'weight_constraint': 0.2}\n",
      "-0.008106 (0.003342) with: {'dropout_rate': 0.2, 'weight_constraint': 0.3}\n",
      "-0.007532 (0.003637) with: {'dropout_rate': 0.2, 'weight_constraint': 0.4}\n",
      "-0.007583 (0.003559) with: {'dropout_rate': 0.2, 'weight_constraint': 0.5}\n",
      "-0.007457 (0.004188) with: {'dropout_rate': 0.2, 'weight_constraint': 0.6}\n",
      "-0.007107 (0.002574) with: {'dropout_rate': 0.2, 'weight_constraint': 0.7}\n",
      "-0.008340 (0.004809) with: {'dropout_rate': 0.2, 'weight_constraint': 0.8}\n",
      "-0.006565 (0.001925) with: {'dropout_rate': 0.2, 'weight_constraint': 0.9}\n",
      "-0.007416 (0.002049) with: {'dropout_rate': 0.3, 'weight_constraint': 0.0}\n",
      "-0.007884 (0.003449) with: {'dropout_rate': 0.3, 'weight_constraint': 0.1}\n",
      "-0.007562 (0.003042) with: {'dropout_rate': 0.3, 'weight_constraint': 0.2}\n",
      "-0.008648 (0.002963) with: {'dropout_rate': 0.3, 'weight_constraint': 0.3}\n",
      "-0.008478 (0.003613) with: {'dropout_rate': 0.3, 'weight_constraint': 0.4}\n",
      "-0.009518 (0.003973) with: {'dropout_rate': 0.3, 'weight_constraint': 0.5}\n",
      "-0.007676 (0.003239) with: {'dropout_rate': 0.3, 'weight_constraint': 0.6}\n",
      "-0.011578 (0.007356) with: {'dropout_rate': 0.3, 'weight_constraint': 0.7}\n",
      "-0.008562 (0.002687) with: {'dropout_rate': 0.3, 'weight_constraint': 0.8}\n",
      "-0.008984 (0.003028) with: {'dropout_rate': 0.3, 'weight_constraint': 0.9}\n",
      "-0.009059 (0.003848) with: {'dropout_rate': 0.4, 'weight_constraint': 0.0}\n",
      "-0.010231 (0.003106) with: {'dropout_rate': 0.4, 'weight_constraint': 0.1}\n",
      "-0.009871 (0.003796) with: {'dropout_rate': 0.4, 'weight_constraint': 0.2}\n",
      "-0.009851 (0.003119) with: {'dropout_rate': 0.4, 'weight_constraint': 0.3}\n",
      "-0.010888 (0.003575) with: {'dropout_rate': 0.4, 'weight_constraint': 0.4}\n",
      "-0.010099 (0.003331) with: {'dropout_rate': 0.4, 'weight_constraint': 0.5}\n",
      "-0.009927 (0.002390) with: {'dropout_rate': 0.4, 'weight_constraint': 0.6}\n",
      "-0.010612 (0.003184) with: {'dropout_rate': 0.4, 'weight_constraint': 0.7}\n",
      "-0.009763 (0.003292) with: {'dropout_rate': 0.4, 'weight_constraint': 0.8}\n",
      "-0.010539 (0.004285) with: {'dropout_rate': 0.4, 'weight_constraint': 0.9}\n",
      "-0.012665 (0.003900) with: {'dropout_rate': 0.5, 'weight_constraint': 0.0}\n",
      "-0.015098 (0.004671) with: {'dropout_rate': 0.5, 'weight_constraint': 0.1}\n",
      "-0.015592 (0.005983) with: {'dropout_rate': 0.5, 'weight_constraint': 0.2}\n",
      "-0.013765 (0.005157) with: {'dropout_rate': 0.5, 'weight_constraint': 0.3}\n",
      "-0.014089 (0.004839) with: {'dropout_rate': 0.5, 'weight_constraint': 0.4}\n",
      "-0.013643 (0.002288) with: {'dropout_rate': 0.5, 'weight_constraint': 0.5}\n",
      "-0.014483 (0.003139) with: {'dropout_rate': 0.5, 'weight_constraint': 0.6}\n",
      "-0.014503 (0.005664) with: {'dropout_rate': 0.5, 'weight_constraint': 0.7}\n",
      "-0.014045 (0.004872) with: {'dropout_rate': 0.5, 'weight_constraint': 0.8}\n",
      "-0.013638 (0.002950) with: {'dropout_rate': 0.5, 'weight_constraint': 0.9}\n"
     ]
    }
   ],
   "source": [
    "# summarize results\n",
    "print(\"Best: %f using %s\" % (grid_result.best_score_, grid_result.best_params_))\n",
    "\n",
    "means = grid_result.cv_results_['mean_test_score']\n",
    "stds = grid_result.cv_results_['std_test_score']\n",
    "params = grid_result.cv_results_['params']\n",
    "\n",
    "for mean, stdev, param in zip(means, stds, params):\n",
    "    print(\"%f (%f) with: %r\" % (mean, stdev, param))"
   ]
  },
  {
   "cell_type": "markdown",
   "metadata": {},
   "source": [
    "## 7. Tune Number of Neurons in the Hidden Layer"
   ]
  },
  {
   "cell_type": "code",
   "execution_count": 26,
   "metadata": {},
   "outputs": [
    {
     "name": "stdout",
     "output_type": "stream",
     "text": [
      "Best CV score = -0.005:\n",
      "Best parameters:  {'neurons': 128}\n"
     ]
    }
   ],
   "source": [
    "# create model\n",
    "model = KerasRegressor(build_fn=create_model_7, epochs=50, batch_size=32, verbose=0)\n",
    "\n",
    "# define the grid search parameters\n",
    "param_grid = {\n",
    "    'neurons' : [8, 16, 32, 64, 128]\n",
    "}\n",
    "\n",
    "grid = GridSearchCV(estimator=model, param_grid=param_grid, cv=5, refit=True, error_score='raise')\n",
    "grid_result = grid.fit(X, y)\n",
    "\n",
    "print(\"Best CV score = %0.3f:\" % grid.best_score_)\n",
    "print(\"Best parameters: \", grid.best_params_)"
   ]
  },
  {
   "cell_type": "code",
   "execution_count": 27,
   "metadata": {},
   "outputs": [
    {
     "name": "stdout",
     "output_type": "stream",
     "text": [
      "Best: -0.004762 using {'neurons': 128}\n",
      "-0.025754 (0.006419) with: {'neurons': 8}\n",
      "-0.014962 (0.003636) with: {'neurons': 16}\n",
      "-0.006721 (0.002561) with: {'neurons': 32}\n",
      "-0.005849 (0.003673) with: {'neurons': 64}\n",
      "-0.004762 (0.002897) with: {'neurons': 128}\n"
     ]
    }
   ],
   "source": [
    "# summarize results\n",
    "print(\"Best: %f using %s\" % (grid_result.best_score_, grid_result.best_params_))\n",
    "\n",
    "means = grid_result.cv_results_['mean_test_score']\n",
    "stds = grid_result.cv_results_['std_test_score']\n",
    "params = grid_result.cv_results_['params']\n",
    "\n",
    "for mean, stdev, param in zip(means, stds, params):\n",
    "    print(\"%f (%f) with: %r\" % (mean, stdev, param))"
   ]
  },
  {
   "cell_type": "code",
   "execution_count": null,
   "metadata": {},
   "outputs": [],
   "source": [
    "# # create model\n",
    "# model = KerasRegressor(build_fn=create_model, verbose=0)\n",
    "\n",
    "# # summarize results\n",
    "# param_grid = {\n",
    "#     'batch_size' : [40, 60, 80, 100],\n",
    "#     'epochs' : [50, 100],\n",
    "#     'neurons' : [8, 16, 32, 64, 128],\n",
    "#     'dropout_rate' : [0.1, 0.2, 0.3, 0.4, 0.5],\n",
    "#     'init_mode' : ['uniform', 'lecun_uniform', 'normal', 'zero', 'glorot_normal', 'glorot_uniform', 'he_normal', 'he_uniform'],\n",
    "#     'activation' : ['softmax', 'softplus', 'softsign', 'relu', 'tanh', 'sigmoid', 'hard_sigmoid', 'linear'],\n",
    "#     'optimizer' : ['SGD', 'RMSprop', 'Adagrad', 'Adadelta', 'Adam', 'Adamax', 'Nadam']\n",
    "# }\n",
    "\n",
    "# # fit model\n",
    "# grid = GridSearchCV(estimator=model, param_grid=param_grid, cv=3, refit=True, error_score='raise')\n",
    "# grid_result = grid.fit(X, y)\n",
    "\n",
    "# print(\"Best CV score = %0.3f:\" % grid.best_score_)\n",
    "# print(\"Best parameters: \", grid.best_params_)"
   ]
  },
  {
   "cell_type": "code",
   "execution_count": null,
   "metadata": {},
   "outputs": [],
   "source": [
    "# # summarize results\n",
    "# print(\"Best: %f using %s\" % (grid_result.best_score_, grid_result.best_params_))\n",
    "\n",
    "# means = grid_result.cv_results_['mean_test_score']\n",
    "# stds = grid_result.cv_results_['std_test_score']\n",
    "# params = grid_result.cv_results_['params']\n",
    "\n",
    "# for mean, stdev, param in zip(means, stds, params):\n",
    "#     print(\"%f (%f) with: %r\" % (mean, stdev, param))"
   ]
  }
 ],
 "metadata": {
  "kernelspec": {
   "display_name": "Python 3",
   "language": "python",
   "name": "python3"
  },
  "language_info": {
   "codemirror_mode": {
    "name": "ipython",
    "version": 3
   },
   "file_extension": ".py",
   "mimetype": "text/x-python",
   "name": "python",
   "nbconvert_exporter": "python",
   "pygments_lexer": "ipython3",
   "version": "3.7.6"
  }
 },
 "nbformat": 4,
 "nbformat_minor": 4
}
