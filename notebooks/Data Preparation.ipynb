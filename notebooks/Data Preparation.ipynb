{
 "cells": [
  {
   "cell_type": "markdown",
   "metadata": {},
   "source": [
    "## A. Importing Modules & Datasets"
   ]
  },
  {
   "cell_type": "code",
   "execution_count": 1,
   "metadata": {},
   "outputs": [],
   "source": [
    "import pandas as pd\n",
    "import numpy as np\n",
    "import matplotlib.pyplot as plt\n",
    "import seaborn as sns\n",
    "import random as rnd\n",
    "import math\n",
    "from sklearn import preprocessing\n",
    "from sklearn.model_selection import train_test_split\n",
    "from sklearn.datasets import load_digits\n",
    "from sklearn.model_selection import learning_curve\n",
    "from sklearn.linear_model import LinearRegression\n",
    "from sklearn.svm import SVR\n",
    "from sklearn.ensemble import RandomForestClassifier\n",
    "from sklearn.model_selection import ShuffleSplit\n",
    "import tensorflow as tf\n",
    "from sklearn.naive_bayes import GaussianNB\n",
    "from sklearn.svm import SVC\n",
    "\n",
    "df = pd.read_csv(\"../reports/company_report_2.csv\")"
   ]
  },
  {
   "cell_type": "code",
   "execution_count": 2,
   "metadata": {},
   "outputs": [
    {
     "data": {
      "text/html": [
       "<div>\n",
       "<style scoped>\n",
       "    .dataframe tbody tr th:only-of-type {\n",
       "        vertical-align: middle;\n",
       "    }\n",
       "\n",
       "    .dataframe tbody tr th {\n",
       "        vertical-align: top;\n",
       "    }\n",
       "\n",
       "    .dataframe thead th {\n",
       "        text-align: right;\n",
       "    }\n",
       "</style>\n",
       "<table border=\"1\" class=\"dataframe\">\n",
       "  <thead>\n",
       "    <tr style=\"text-align: right;\">\n",
       "      <th></th>\n",
       "      <th>volume_tests</th>\n",
       "      <th>company_id</th>\n",
       "      <th>company_type</th>\n",
       "      <th>time</th>\n",
       "      <th>date</th>\n",
       "      <th>month</th>\n",
       "      <th>year</th>\n",
       "      <th>day</th>\n",
       "      <th>is_weekend</th>\n",
       "      <th>season</th>\n",
       "      <th>avg_pesq_score</th>\n",
       "      <th>quality_too_poor</th>\n",
       "      <th>number_busy</th>\n",
       "      <th>temporarily_unable_test</th>\n",
       "      <th>outage_hrs</th>\n",
       "      <th>number_test_types</th>\n",
       "      <th>numbers_tested</th>\n",
       "      <th>followup_tests</th>\n",
       "      <th>min_commit</th>\n",
       "    </tr>\n",
       "  </thead>\n",
       "  <tbody>\n",
       "    <tr>\n",
       "      <th>0</th>\n",
       "      <td>48406</td>\n",
       "      <td>2</td>\n",
       "      <td>Enterprise</td>\n",
       "      <td>2016-12-06</td>\n",
       "      <td>6</td>\n",
       "      <td>12</td>\n",
       "      <td>2016</td>\n",
       "      <td>Tues</td>\n",
       "      <td>0</td>\n",
       "      <td>Winter</td>\n",
       "      <td>4.064030</td>\n",
       "      <td>7</td>\n",
       "      <td>1</td>\n",
       "      <td>0</td>\n",
       "      <td>0.10</td>\n",
       "      <td>2</td>\n",
       "      <td>1940</td>\n",
       "      <td>0</td>\n",
       "      <td>NaN</td>\n",
       "    </tr>\n",
       "    <tr>\n",
       "      <th>1</th>\n",
       "      <td>30598</td>\n",
       "      <td>2</td>\n",
       "      <td>Enterprise</td>\n",
       "      <td>2016-12-07</td>\n",
       "      <td>7</td>\n",
       "      <td>12</td>\n",
       "      <td>2016</td>\n",
       "      <td>Wed</td>\n",
       "      <td>0</td>\n",
       "      <td>Winter</td>\n",
       "      <td>3.707060</td>\n",
       "      <td>7</td>\n",
       "      <td>167</td>\n",
       "      <td>17</td>\n",
       "      <td>8.85</td>\n",
       "      <td>3</td>\n",
       "      <td>531</td>\n",
       "      <td>0</td>\n",
       "      <td>NaN</td>\n",
       "    </tr>\n",
       "    <tr>\n",
       "      <th>2</th>\n",
       "      <td>36327</td>\n",
       "      <td>2</td>\n",
       "      <td>Enterprise</td>\n",
       "      <td>2016-12-08</td>\n",
       "      <td>8</td>\n",
       "      <td>12</td>\n",
       "      <td>2016</td>\n",
       "      <td>Thurs</td>\n",
       "      <td>0</td>\n",
       "      <td>Winter</td>\n",
       "      <td>3.708403</td>\n",
       "      <td>1</td>\n",
       "      <td>94</td>\n",
       "      <td>1</td>\n",
       "      <td>5.52</td>\n",
       "      <td>3</td>\n",
       "      <td>1818</td>\n",
       "      <td>0</td>\n",
       "      <td>NaN</td>\n",
       "    </tr>\n",
       "    <tr>\n",
       "      <th>3</th>\n",
       "      <td>37692</td>\n",
       "      <td>2</td>\n",
       "      <td>Enterprise</td>\n",
       "      <td>2016-12-09</td>\n",
       "      <td>9</td>\n",
       "      <td>12</td>\n",
       "      <td>2016</td>\n",
       "      <td>Fri</td>\n",
       "      <td>0</td>\n",
       "      <td>Winter</td>\n",
       "      <td>3.808820</td>\n",
       "      <td>4</td>\n",
       "      <td>44</td>\n",
       "      <td>3</td>\n",
       "      <td>3.67</td>\n",
       "      <td>3</td>\n",
       "      <td>2092</td>\n",
       "      <td>0</td>\n",
       "      <td>NaN</td>\n",
       "    </tr>\n",
       "    <tr>\n",
       "      <th>4</th>\n",
       "      <td>22551</td>\n",
       "      <td>2</td>\n",
       "      <td>Enterprise</td>\n",
       "      <td>2016-12-10</td>\n",
       "      <td>10</td>\n",
       "      <td>12</td>\n",
       "      <td>2016</td>\n",
       "      <td>Sat</td>\n",
       "      <td>1</td>\n",
       "      <td>Winter</td>\n",
       "      <td>3.863629</td>\n",
       "      <td>2</td>\n",
       "      <td>14</td>\n",
       "      <td>0</td>\n",
       "      <td>0.50</td>\n",
       "      <td>3</td>\n",
       "      <td>299</td>\n",
       "      <td>0</td>\n",
       "      <td>NaN</td>\n",
       "    </tr>\n",
       "    <tr>\n",
       "      <th>5</th>\n",
       "      <td>21374</td>\n",
       "      <td>2</td>\n",
       "      <td>Enterprise</td>\n",
       "      <td>2016-12-11</td>\n",
       "      <td>11</td>\n",
       "      <td>12</td>\n",
       "      <td>2016</td>\n",
       "      <td>Sun</td>\n",
       "      <td>1</td>\n",
       "      <td>Winter</td>\n",
       "      <td>3.852993</td>\n",
       "      <td>0</td>\n",
       "      <td>10</td>\n",
       "      <td>0</td>\n",
       "      <td>0.10</td>\n",
       "      <td>3</td>\n",
       "      <td>231</td>\n",
       "      <td>0</td>\n",
       "      <td>NaN</td>\n",
       "    </tr>\n",
       "    <tr>\n",
       "      <th>6</th>\n",
       "      <td>37571</td>\n",
       "      <td>2</td>\n",
       "      <td>Enterprise</td>\n",
       "      <td>2016-12-12</td>\n",
       "      <td>12</td>\n",
       "      <td>12</td>\n",
       "      <td>2016</td>\n",
       "      <td>Mon</td>\n",
       "      <td>0</td>\n",
       "      <td>Winter</td>\n",
       "      <td>3.849477</td>\n",
       "      <td>7</td>\n",
       "      <td>251</td>\n",
       "      <td>1</td>\n",
       "      <td>419.67</td>\n",
       "      <td>3</td>\n",
       "      <td>2086</td>\n",
       "      <td>0</td>\n",
       "      <td>NaN</td>\n",
       "    </tr>\n",
       "    <tr>\n",
       "      <th>7</th>\n",
       "      <td>38378</td>\n",
       "      <td>2</td>\n",
       "      <td>Enterprise</td>\n",
       "      <td>2016-12-13</td>\n",
       "      <td>13</td>\n",
       "      <td>12</td>\n",
       "      <td>2016</td>\n",
       "      <td>Tues</td>\n",
       "      <td>0</td>\n",
       "      <td>Winter</td>\n",
       "      <td>3.855606</td>\n",
       "      <td>16</td>\n",
       "      <td>428</td>\n",
       "      <td>0</td>\n",
       "      <td>252.98</td>\n",
       "      <td>3</td>\n",
       "      <td>2089</td>\n",
       "      <td>0</td>\n",
       "      <td>NaN</td>\n",
       "    </tr>\n",
       "    <tr>\n",
       "      <th>8</th>\n",
       "      <td>38356</td>\n",
       "      <td>2</td>\n",
       "      <td>Enterprise</td>\n",
       "      <td>2016-12-14</td>\n",
       "      <td>14</td>\n",
       "      <td>12</td>\n",
       "      <td>2016</td>\n",
       "      <td>Wed</td>\n",
       "      <td>0</td>\n",
       "      <td>Winter</td>\n",
       "      <td>3.860039</td>\n",
       "      <td>9</td>\n",
       "      <td>304</td>\n",
       "      <td>0</td>\n",
       "      <td>10.58</td>\n",
       "      <td>3</td>\n",
       "      <td>2087</td>\n",
       "      <td>0</td>\n",
       "      <td>NaN</td>\n",
       "    </tr>\n",
       "    <tr>\n",
       "      <th>9</th>\n",
       "      <td>38274</td>\n",
       "      <td>2</td>\n",
       "      <td>Enterprise</td>\n",
       "      <td>2016-12-15</td>\n",
       "      <td>15</td>\n",
       "      <td>12</td>\n",
       "      <td>2016</td>\n",
       "      <td>Thurs</td>\n",
       "      <td>0</td>\n",
       "      <td>Winter</td>\n",
       "      <td>3.857561</td>\n",
       "      <td>6</td>\n",
       "      <td>333</td>\n",
       "      <td>290</td>\n",
       "      <td>35.37</td>\n",
       "      <td>3</td>\n",
       "      <td>2091</td>\n",
       "      <td>0</td>\n",
       "      <td>NaN</td>\n",
       "    </tr>\n",
       "  </tbody>\n",
       "</table>\n",
       "</div>"
      ],
      "text/plain": [
       "   volume_tests  company_id company_type        time  date  month  year  \\\n",
       "0         48406           2   Enterprise  2016-12-06     6     12  2016   \n",
       "1         30598           2   Enterprise  2016-12-07     7     12  2016   \n",
       "2         36327           2   Enterprise  2016-12-08     8     12  2016   \n",
       "3         37692           2   Enterprise  2016-12-09     9     12  2016   \n",
       "4         22551           2   Enterprise  2016-12-10    10     12  2016   \n",
       "5         21374           2   Enterprise  2016-12-11    11     12  2016   \n",
       "6         37571           2   Enterprise  2016-12-12    12     12  2016   \n",
       "7         38378           2   Enterprise  2016-12-13    13     12  2016   \n",
       "8         38356           2   Enterprise  2016-12-14    14     12  2016   \n",
       "9         38274           2   Enterprise  2016-12-15    15     12  2016   \n",
       "\n",
       "     day  is_weekend  season  avg_pesq_score  quality_too_poor  number_busy  \\\n",
       "0   Tues           0  Winter        4.064030                 7            1   \n",
       "1    Wed           0  Winter        3.707060                 7          167   \n",
       "2  Thurs           0  Winter        3.708403                 1           94   \n",
       "3    Fri           0  Winter        3.808820                 4           44   \n",
       "4    Sat           1  Winter        3.863629                 2           14   \n",
       "5    Sun           1  Winter        3.852993                 0           10   \n",
       "6    Mon           0  Winter        3.849477                 7          251   \n",
       "7   Tues           0  Winter        3.855606                16          428   \n",
       "8    Wed           0  Winter        3.860039                 9          304   \n",
       "9  Thurs           0  Winter        3.857561                 6          333   \n",
       "\n",
       "   temporarily_unable_test  outage_hrs  number_test_types  numbers_tested  \\\n",
       "0                        0        0.10                  2            1940   \n",
       "1                       17        8.85                  3             531   \n",
       "2                        1        5.52                  3            1818   \n",
       "3                        3        3.67                  3            2092   \n",
       "4                        0        0.50                  3             299   \n",
       "5                        0        0.10                  3             231   \n",
       "6                        1      419.67                  3            2086   \n",
       "7                        0      252.98                  3            2089   \n",
       "8                        0       10.58                  3            2087   \n",
       "9                      290       35.37                  3            2091   \n",
       "\n",
       "   followup_tests  min_commit  \n",
       "0               0         NaN  \n",
       "1               0         NaN  \n",
       "2               0         NaN  \n",
       "3               0         NaN  \n",
       "4               0         NaN  \n",
       "5               0         NaN  \n",
       "6               0         NaN  \n",
       "7               0         NaN  \n",
       "8               0         NaN  \n",
       "9               0         NaN  "
      ]
     },
     "execution_count": 2,
     "metadata": {},
     "output_type": "execute_result"
    }
   ],
   "source": [
    "df.head(10)"
   ]
  },
  {
   "cell_type": "code",
   "execution_count": 3,
   "metadata": {},
   "outputs": [
    {
     "data": {
      "text/html": [
       "<div>\n",
       "<style scoped>\n",
       "    .dataframe tbody tr th:only-of-type {\n",
       "        vertical-align: middle;\n",
       "    }\n",
       "\n",
       "    .dataframe tbody tr th {\n",
       "        vertical-align: top;\n",
       "    }\n",
       "\n",
       "    .dataframe thead th {\n",
       "        text-align: right;\n",
       "    }\n",
       "</style>\n",
       "<table border=\"1\" class=\"dataframe\">\n",
       "  <thead>\n",
       "    <tr style=\"text-align: right;\">\n",
       "      <th></th>\n",
       "      <th>volume_tests</th>\n",
       "      <th>company_id</th>\n",
       "      <th>company_type</th>\n",
       "      <th>time</th>\n",
       "      <th>date</th>\n",
       "      <th>month</th>\n",
       "      <th>year</th>\n",
       "      <th>day</th>\n",
       "      <th>is_weekend</th>\n",
       "      <th>season</th>\n",
       "      <th>avg_pesq_score</th>\n",
       "      <th>quality_too_poor</th>\n",
       "      <th>number_busy</th>\n",
       "      <th>temporarily_unable_test</th>\n",
       "      <th>outage_hrs</th>\n",
       "      <th>number_test_types</th>\n",
       "      <th>numbers_tested</th>\n",
       "      <th>followup_tests</th>\n",
       "      <th>min_commit</th>\n",
       "    </tr>\n",
       "  </thead>\n",
       "  <tbody>\n",
       "    <tr>\n",
       "      <th>1254</th>\n",
       "      <td>46163</td>\n",
       "      <td>2</td>\n",
       "      <td>Enterprise</td>\n",
       "      <td>2020-05-13</td>\n",
       "      <td>13</td>\n",
       "      <td>5</td>\n",
       "      <td>2020</td>\n",
       "      <td>Wed</td>\n",
       "      <td>0</td>\n",
       "      <td>Summer</td>\n",
       "      <td>3.724875</td>\n",
       "      <td>16</td>\n",
       "      <td>321</td>\n",
       "      <td>26</td>\n",
       "      <td>9913.24</td>\n",
       "      <td>6</td>\n",
       "      <td>4159</td>\n",
       "      <td>45</td>\n",
       "      <td>400000.0</td>\n",
       "    </tr>\n",
       "    <tr>\n",
       "      <th>1255</th>\n",
       "      <td>46277</td>\n",
       "      <td>2</td>\n",
       "      <td>Enterprise</td>\n",
       "      <td>2020-05-14</td>\n",
       "      <td>14</td>\n",
       "      <td>5</td>\n",
       "      <td>2020</td>\n",
       "      <td>Thurs</td>\n",
       "      <td>0</td>\n",
       "      <td>Summer</td>\n",
       "      <td>3.728167</td>\n",
       "      <td>13</td>\n",
       "      <td>261</td>\n",
       "      <td>0</td>\n",
       "      <td>9938.99</td>\n",
       "      <td>6</td>\n",
       "      <td>4166</td>\n",
       "      <td>90</td>\n",
       "      <td>400000.0</td>\n",
       "    </tr>\n",
       "    <tr>\n",
       "      <th>1256</th>\n",
       "      <td>44677</td>\n",
       "      <td>2</td>\n",
       "      <td>Enterprise</td>\n",
       "      <td>2020-05-15</td>\n",
       "      <td>15</td>\n",
       "      <td>5</td>\n",
       "      <td>2020</td>\n",
       "      <td>Fri</td>\n",
       "      <td>0</td>\n",
       "      <td>Summer</td>\n",
       "      <td>3.740292</td>\n",
       "      <td>9</td>\n",
       "      <td>98</td>\n",
       "      <td>2</td>\n",
       "      <td>9881.03</td>\n",
       "      <td>6</td>\n",
       "      <td>3341</td>\n",
       "      <td>61</td>\n",
       "      <td>400000.0</td>\n",
       "    </tr>\n",
       "    <tr>\n",
       "      <th>1257</th>\n",
       "      <td>26486</td>\n",
       "      <td>2</td>\n",
       "      <td>Enterprise</td>\n",
       "      <td>2020-05-16</td>\n",
       "      <td>16</td>\n",
       "      <td>5</td>\n",
       "      <td>2020</td>\n",
       "      <td>Sat</td>\n",
       "      <td>1</td>\n",
       "      <td>Summer</td>\n",
       "      <td>3.727708</td>\n",
       "      <td>0</td>\n",
       "      <td>6</td>\n",
       "      <td>0</td>\n",
       "      <td>9863.89</td>\n",
       "      <td>6</td>\n",
       "      <td>520</td>\n",
       "      <td>25</td>\n",
       "      <td>400000.0</td>\n",
       "    </tr>\n",
       "    <tr>\n",
       "      <th>1258</th>\n",
       "      <td>27234</td>\n",
       "      <td>2</td>\n",
       "      <td>Enterprise</td>\n",
       "      <td>2020-05-17</td>\n",
       "      <td>17</td>\n",
       "      <td>5</td>\n",
       "      <td>2020</td>\n",
       "      <td>Sun</td>\n",
       "      <td>1</td>\n",
       "      <td>Summer</td>\n",
       "      <td>3.733458</td>\n",
       "      <td>3</td>\n",
       "      <td>17</td>\n",
       "      <td>0</td>\n",
       "      <td>9863.89</td>\n",
       "      <td>6</td>\n",
       "      <td>1343</td>\n",
       "      <td>28</td>\n",
       "      <td>400000.0</td>\n",
       "    </tr>\n",
       "    <tr>\n",
       "      <th>1259</th>\n",
       "      <td>45474</td>\n",
       "      <td>2</td>\n",
       "      <td>Enterprise</td>\n",
       "      <td>2020-05-18</td>\n",
       "      <td>18</td>\n",
       "      <td>5</td>\n",
       "      <td>2020</td>\n",
       "      <td>Mon</td>\n",
       "      <td>0</td>\n",
       "      <td>Summer</td>\n",
       "      <td>3.720741</td>\n",
       "      <td>14</td>\n",
       "      <td>310</td>\n",
       "      <td>12</td>\n",
       "      <td>9863.89</td>\n",
       "      <td>6</td>\n",
       "      <td>4162</td>\n",
       "      <td>127</td>\n",
       "      <td>400000.0</td>\n",
       "    </tr>\n",
       "    <tr>\n",
       "      <th>1260</th>\n",
       "      <td>41215</td>\n",
       "      <td>2</td>\n",
       "      <td>Enterprise</td>\n",
       "      <td>2020-05-19</td>\n",
       "      <td>19</td>\n",
       "      <td>5</td>\n",
       "      <td>2020</td>\n",
       "      <td>Tues</td>\n",
       "      <td>0</td>\n",
       "      <td>Summer</td>\n",
       "      <td>3.730500</td>\n",
       "      <td>7</td>\n",
       "      <td>293</td>\n",
       "      <td>39</td>\n",
       "      <td>9891.90</td>\n",
       "      <td>6</td>\n",
       "      <td>4113</td>\n",
       "      <td>108</td>\n",
       "      <td>400000.0</td>\n",
       "    </tr>\n",
       "    <tr>\n",
       "      <th>1261</th>\n",
       "      <td>38874</td>\n",
       "      <td>2</td>\n",
       "      <td>Enterprise</td>\n",
       "      <td>2020-05-20</td>\n",
       "      <td>20</td>\n",
       "      <td>5</td>\n",
       "      <td>2020</td>\n",
       "      <td>Wed</td>\n",
       "      <td>0</td>\n",
       "      <td>Summer</td>\n",
       "      <td>3.721208</td>\n",
       "      <td>23</td>\n",
       "      <td>372</td>\n",
       "      <td>15</td>\n",
       "      <td>9921.77</td>\n",
       "      <td>6</td>\n",
       "      <td>4161</td>\n",
       "      <td>117</td>\n",
       "      <td>400000.0</td>\n",
       "    </tr>\n",
       "    <tr>\n",
       "      <th>1262</th>\n",
       "      <td>39457</td>\n",
       "      <td>2</td>\n",
       "      <td>Enterprise</td>\n",
       "      <td>2020-05-21</td>\n",
       "      <td>21</td>\n",
       "      <td>5</td>\n",
       "      <td>2020</td>\n",
       "      <td>Thurs</td>\n",
       "      <td>0</td>\n",
       "      <td>Summer</td>\n",
       "      <td>3.731083</td>\n",
       "      <td>16</td>\n",
       "      <td>544</td>\n",
       "      <td>1</td>\n",
       "      <td>9946.58</td>\n",
       "      <td>6</td>\n",
       "      <td>4159</td>\n",
       "      <td>71</td>\n",
       "      <td>400000.0</td>\n",
       "    </tr>\n",
       "    <tr>\n",
       "      <th>1263</th>\n",
       "      <td>38376</td>\n",
       "      <td>2</td>\n",
       "      <td>Enterprise</td>\n",
       "      <td>2020-05-22</td>\n",
       "      <td>22</td>\n",
       "      <td>5</td>\n",
       "      <td>2020</td>\n",
       "      <td>Fri</td>\n",
       "      <td>0</td>\n",
       "      <td>Summer</td>\n",
       "      <td>3.726583</td>\n",
       "      <td>14</td>\n",
       "      <td>51</td>\n",
       "      <td>0</td>\n",
       "      <td>9959.88</td>\n",
       "      <td>6</td>\n",
       "      <td>3339</td>\n",
       "      <td>56</td>\n",
       "      <td>400000.0</td>\n",
       "    </tr>\n",
       "  </tbody>\n",
       "</table>\n",
       "</div>"
      ],
      "text/plain": [
       "      volume_tests  company_id company_type        time  date  month  year  \\\n",
       "1254         46163           2   Enterprise  2020-05-13    13      5  2020   \n",
       "1255         46277           2   Enterprise  2020-05-14    14      5  2020   \n",
       "1256         44677           2   Enterprise  2020-05-15    15      5  2020   \n",
       "1257         26486           2   Enterprise  2020-05-16    16      5  2020   \n",
       "1258         27234           2   Enterprise  2020-05-17    17      5  2020   \n",
       "1259         45474           2   Enterprise  2020-05-18    18      5  2020   \n",
       "1260         41215           2   Enterprise  2020-05-19    19      5  2020   \n",
       "1261         38874           2   Enterprise  2020-05-20    20      5  2020   \n",
       "1262         39457           2   Enterprise  2020-05-21    21      5  2020   \n",
       "1263         38376           2   Enterprise  2020-05-22    22      5  2020   \n",
       "\n",
       "        day  is_weekend  season  avg_pesq_score  quality_too_poor  \\\n",
       "1254    Wed           0  Summer        3.724875                16   \n",
       "1255  Thurs           0  Summer        3.728167                13   \n",
       "1256    Fri           0  Summer        3.740292                 9   \n",
       "1257    Sat           1  Summer        3.727708                 0   \n",
       "1258    Sun           1  Summer        3.733458                 3   \n",
       "1259    Mon           0  Summer        3.720741                14   \n",
       "1260   Tues           0  Summer        3.730500                 7   \n",
       "1261    Wed           0  Summer        3.721208                23   \n",
       "1262  Thurs           0  Summer        3.731083                16   \n",
       "1263    Fri           0  Summer        3.726583                14   \n",
       "\n",
       "      number_busy  temporarily_unable_test  outage_hrs  number_test_types  \\\n",
       "1254          321                       26     9913.24                  6   \n",
       "1255          261                        0     9938.99                  6   \n",
       "1256           98                        2     9881.03                  6   \n",
       "1257            6                        0     9863.89                  6   \n",
       "1258           17                        0     9863.89                  6   \n",
       "1259          310                       12     9863.89                  6   \n",
       "1260          293                       39     9891.90                  6   \n",
       "1261          372                       15     9921.77                  6   \n",
       "1262          544                        1     9946.58                  6   \n",
       "1263           51                        0     9959.88                  6   \n",
       "\n",
       "      numbers_tested  followup_tests  min_commit  \n",
       "1254            4159              45    400000.0  \n",
       "1255            4166              90    400000.0  \n",
       "1256            3341              61    400000.0  \n",
       "1257             520              25    400000.0  \n",
       "1258            1343              28    400000.0  \n",
       "1259            4162             127    400000.0  \n",
       "1260            4113             108    400000.0  \n",
       "1261            4161             117    400000.0  \n",
       "1262            4159              71    400000.0  \n",
       "1263            3339              56    400000.0  "
      ]
     },
     "execution_count": 3,
     "metadata": {},
     "output_type": "execute_result"
    }
   ],
   "source": [
    "df.tail(10)"
   ]
  },
  {
   "cell_type": "code",
   "execution_count": 4,
   "metadata": {},
   "outputs": [
    {
     "data": {
      "text/html": [
       "<div>\n",
       "<style scoped>\n",
       "    .dataframe tbody tr th:only-of-type {\n",
       "        vertical-align: middle;\n",
       "    }\n",
       "\n",
       "    .dataframe tbody tr th {\n",
       "        vertical-align: top;\n",
       "    }\n",
       "\n",
       "    .dataframe thead th {\n",
       "        text-align: right;\n",
       "    }\n",
       "</style>\n",
       "<table border=\"1\" class=\"dataframe\">\n",
       "  <thead>\n",
       "    <tr style=\"text-align: right;\">\n",
       "      <th></th>\n",
       "      <th>volume_tests</th>\n",
       "      <th>company_id</th>\n",
       "      <th>date</th>\n",
       "      <th>month</th>\n",
       "      <th>year</th>\n",
       "      <th>is_weekend</th>\n",
       "      <th>avg_pesq_score</th>\n",
       "      <th>quality_too_poor</th>\n",
       "      <th>number_busy</th>\n",
       "      <th>temporarily_unable_test</th>\n",
       "      <th>outage_hrs</th>\n",
       "      <th>number_test_types</th>\n",
       "      <th>numbers_tested</th>\n",
       "      <th>followup_tests</th>\n",
       "      <th>min_commit</th>\n",
       "    </tr>\n",
       "  </thead>\n",
       "  <tbody>\n",
       "    <tr>\n",
       "      <th>count</th>\n",
       "      <td>1264.000000</td>\n",
       "      <td>1264.0</td>\n",
       "      <td>1264.000000</td>\n",
       "      <td>1264.000000</td>\n",
       "      <td>1264.000000</td>\n",
       "      <td>1264.000000</td>\n",
       "      <td>1264.000000</td>\n",
       "      <td>1264.00000</td>\n",
       "      <td>1264.00000</td>\n",
       "      <td>1264.000000</td>\n",
       "      <td>1264.000000</td>\n",
       "      <td>1264.000000</td>\n",
       "      <td>1264.000000</td>\n",
       "      <td>1264.000000</td>\n",
       "      <td>1238.0</td>\n",
       "    </tr>\n",
       "    <tr>\n",
       "      <th>mean</th>\n",
       "      <td>35615.386076</td>\n",
       "      <td>2.0</td>\n",
       "      <td>15.696203</td>\n",
       "      <td>6.226266</td>\n",
       "      <td>2018.185127</td>\n",
       "      <td>0.284810</td>\n",
       "      <td>3.796389</td>\n",
       "      <td>21.45807</td>\n",
       "      <td>332.24288</td>\n",
       "      <td>72.935918</td>\n",
       "      <td>7293.058671</td>\n",
       "      <td>3.108386</td>\n",
       "      <td>2222.155854</td>\n",
       "      <td>111.768987</td>\n",
       "      <td>400000.0</td>\n",
       "    </tr>\n",
       "    <tr>\n",
       "      <th>std</th>\n",
       "      <td>10939.245252</td>\n",
       "      <td>0.0</td>\n",
       "      <td>8.760170</td>\n",
       "      <td>3.542669</td>\n",
       "      <td>1.038712</td>\n",
       "      <td>0.451503</td>\n",
       "      <td>0.125320</td>\n",
       "      <td>42.76865</td>\n",
       "      <td>350.85980</td>\n",
       "      <td>191.697220</td>\n",
       "      <td>2840.945082</td>\n",
       "      <td>0.950122</td>\n",
       "      <td>1195.050272</td>\n",
       "      <td>150.396369</td>\n",
       "      <td>0.0</td>\n",
       "    </tr>\n",
       "    <tr>\n",
       "      <th>min</th>\n",
       "      <td>7687.000000</td>\n",
       "      <td>2.0</td>\n",
       "      <td>1.000000</td>\n",
       "      <td>1.000000</td>\n",
       "      <td>2016.000000</td>\n",
       "      <td>0.000000</td>\n",
       "      <td>3.582000</td>\n",
       "      <td>0.00000</td>\n",
       "      <td>0.00000</td>\n",
       "      <td>0.000000</td>\n",
       "      <td>0.100000</td>\n",
       "      <td>2.000000</td>\n",
       "      <td>215.000000</td>\n",
       "      <td>0.000000</td>\n",
       "      <td>400000.0</td>\n",
       "    </tr>\n",
       "    <tr>\n",
       "      <th>25%</th>\n",
       "      <td>25821.000000</td>\n",
       "      <td>2.0</td>\n",
       "      <td>8.000000</td>\n",
       "      <td>3.000000</td>\n",
       "      <td>2017.000000</td>\n",
       "      <td>0.000000</td>\n",
       "      <td>3.701636</td>\n",
       "      <td>3.00000</td>\n",
       "      <td>87.00000</td>\n",
       "      <td>0.000000</td>\n",
       "      <td>5897.930000</td>\n",
       "      <td>2.000000</td>\n",
       "      <td>1021.250000</td>\n",
       "      <td>20.000000</td>\n",
       "      <td>400000.0</td>\n",
       "    </tr>\n",
       "    <tr>\n",
       "      <th>50%</th>\n",
       "      <td>37239.500000</td>\n",
       "      <td>2.0</td>\n",
       "      <td>16.000000</td>\n",
       "      <td>6.000000</td>\n",
       "      <td>2018.000000</td>\n",
       "      <td>0.000000</td>\n",
       "      <td>3.779958</td>\n",
       "      <td>10.00000</td>\n",
       "      <td>226.50000</td>\n",
       "      <td>7.000000</td>\n",
       "      <td>8448.185000</td>\n",
       "      <td>3.000000</td>\n",
       "      <td>2428.000000</td>\n",
       "      <td>63.000000</td>\n",
       "      <td>400000.0</td>\n",
       "    </tr>\n",
       "    <tr>\n",
       "      <th>75%</th>\n",
       "      <td>44783.250000</td>\n",
       "      <td>2.0</td>\n",
       "      <td>23.000000</td>\n",
       "      <td>9.000000</td>\n",
       "      <td>2019.000000</td>\n",
       "      <td>1.000000</td>\n",
       "      <td>3.812667</td>\n",
       "      <td>26.00000</td>\n",
       "      <td>470.50000</td>\n",
       "      <td>56.000000</td>\n",
       "      <td>9291.262500</td>\n",
       "      <td>4.000000</td>\n",
       "      <td>3036.250000</td>\n",
       "      <td>150.000000</td>\n",
       "      <td>400000.0</td>\n",
       "    </tr>\n",
       "    <tr>\n",
       "      <th>max</th>\n",
       "      <td>57105.000000</td>\n",
       "      <td>2.0</td>\n",
       "      <td>31.000000</td>\n",
       "      <td>12.000000</td>\n",
       "      <td>2020.000000</td>\n",
       "      <td>1.000000</td>\n",
       "      <td>4.126346</td>\n",
       "      <td>943.00000</td>\n",
       "      <td>4492.00000</td>\n",
       "      <td>1838.000000</td>\n",
       "      <td>10515.150000</td>\n",
       "      <td>6.000000</td>\n",
       "      <td>4267.000000</td>\n",
       "      <td>2337.000000</td>\n",
       "      <td>400000.0</td>\n",
       "    </tr>\n",
       "  </tbody>\n",
       "</table>\n",
       "</div>"
      ],
      "text/plain": [
       "       volume_tests  company_id         date        month         year  \\\n",
       "count   1264.000000      1264.0  1264.000000  1264.000000  1264.000000   \n",
       "mean   35615.386076         2.0    15.696203     6.226266  2018.185127   \n",
       "std    10939.245252         0.0     8.760170     3.542669     1.038712   \n",
       "min     7687.000000         2.0     1.000000     1.000000  2016.000000   \n",
       "25%    25821.000000         2.0     8.000000     3.000000  2017.000000   \n",
       "50%    37239.500000         2.0    16.000000     6.000000  2018.000000   \n",
       "75%    44783.250000         2.0    23.000000     9.000000  2019.000000   \n",
       "max    57105.000000         2.0    31.000000    12.000000  2020.000000   \n",
       "\n",
       "        is_weekend  avg_pesq_score  quality_too_poor  number_busy  \\\n",
       "count  1264.000000     1264.000000        1264.00000   1264.00000   \n",
       "mean      0.284810        3.796389          21.45807    332.24288   \n",
       "std       0.451503        0.125320          42.76865    350.85980   \n",
       "min       0.000000        3.582000           0.00000      0.00000   \n",
       "25%       0.000000        3.701636           3.00000     87.00000   \n",
       "50%       0.000000        3.779958          10.00000    226.50000   \n",
       "75%       1.000000        3.812667          26.00000    470.50000   \n",
       "max       1.000000        4.126346         943.00000   4492.00000   \n",
       "\n",
       "       temporarily_unable_test    outage_hrs  number_test_types  \\\n",
       "count              1264.000000   1264.000000        1264.000000   \n",
       "mean                 72.935918   7293.058671           3.108386   \n",
       "std                 191.697220   2840.945082           0.950122   \n",
       "min                   0.000000      0.100000           2.000000   \n",
       "25%                   0.000000   5897.930000           2.000000   \n",
       "50%                   7.000000   8448.185000           3.000000   \n",
       "75%                  56.000000   9291.262500           4.000000   \n",
       "max                1838.000000  10515.150000           6.000000   \n",
       "\n",
       "       numbers_tested  followup_tests  min_commit  \n",
       "count     1264.000000     1264.000000      1238.0  \n",
       "mean      2222.155854      111.768987    400000.0  \n",
       "std       1195.050272      150.396369         0.0  \n",
       "min        215.000000        0.000000    400000.0  \n",
       "25%       1021.250000       20.000000    400000.0  \n",
       "50%       2428.000000       63.000000    400000.0  \n",
       "75%       3036.250000      150.000000    400000.0  \n",
       "max       4267.000000     2337.000000    400000.0  "
      ]
     },
     "execution_count": 4,
     "metadata": {},
     "output_type": "execute_result"
    }
   ],
   "source": [
    "df.describe()"
   ]
  },
  {
   "cell_type": "markdown",
   "metadata": {},
   "source": [
    "## B. Missing Values"
   ]
  },
  {
   "cell_type": "code",
   "execution_count": 5,
   "metadata": {},
   "outputs": [
    {
     "data": {
      "text/plain": [
       "volume_tests                0\n",
       "company_id                  0\n",
       "company_type                0\n",
       "time                        0\n",
       "date                        0\n",
       "month                       0\n",
       "year                        0\n",
       "day                         0\n",
       "is_weekend                  0\n",
       "season                      0\n",
       "avg_pesq_score              0\n",
       "quality_too_poor            0\n",
       "number_busy                 0\n",
       "temporarily_unable_test     0\n",
       "outage_hrs                  0\n",
       "number_test_types           0\n",
       "numbers_tested              0\n",
       "followup_tests              0\n",
       "min_commit                 26\n",
       "dtype: int64"
      ]
     },
     "execution_count": 5,
     "metadata": {},
     "output_type": "execute_result"
    }
   ],
   "source": [
    "# Find the number of nulls/NaNs in the dataset\n",
    "\n",
    "df.apply(lambda x: sum(x.isnull()), axis=0)"
   ]
  },
  {
   "cell_type": "markdown",
   "metadata": {},
   "source": [
    "#### This shows that there was no missing data"
   ]
  },
  {
   "cell_type": "markdown",
   "metadata": {},
   "source": [
    "### C. Extreme Values/Outliers"
   ]
  },
  {
   "cell_type": "code",
   "execution_count": 6,
   "metadata": {},
   "outputs": [
    {
     "data": {
      "text/html": [
       "<div>\n",
       "<style scoped>\n",
       "    .dataframe tbody tr th:only-of-type {\n",
       "        vertical-align: middle;\n",
       "    }\n",
       "\n",
       "    .dataframe tbody tr th {\n",
       "        vertical-align: top;\n",
       "    }\n",
       "\n",
       "    .dataframe thead th {\n",
       "        text-align: right;\n",
       "    }\n",
       "</style>\n",
       "<table border=\"1\" class=\"dataframe\">\n",
       "  <thead>\n",
       "    <tr style=\"text-align: right;\">\n",
       "      <th></th>\n",
       "      <th>volume_tests</th>\n",
       "      <th>company_id</th>\n",
       "      <th>date</th>\n",
       "      <th>month</th>\n",
       "      <th>year</th>\n",
       "      <th>is_weekend</th>\n",
       "      <th>avg_pesq_score</th>\n",
       "      <th>quality_too_poor</th>\n",
       "      <th>number_busy</th>\n",
       "      <th>temporarily_unable_test</th>\n",
       "      <th>outage_hrs</th>\n",
       "      <th>number_test_types</th>\n",
       "      <th>numbers_tested</th>\n",
       "      <th>followup_tests</th>\n",
       "      <th>min_commit</th>\n",
       "    </tr>\n",
       "  </thead>\n",
       "  <tbody>\n",
       "    <tr>\n",
       "      <th>count</th>\n",
       "      <td>1264.000000</td>\n",
       "      <td>1264.0</td>\n",
       "      <td>1264.000000</td>\n",
       "      <td>1264.000000</td>\n",
       "      <td>1264.000000</td>\n",
       "      <td>1264.000000</td>\n",
       "      <td>1264.000000</td>\n",
       "      <td>1264.00000</td>\n",
       "      <td>1264.00000</td>\n",
       "      <td>1264.000000</td>\n",
       "      <td>1264.000000</td>\n",
       "      <td>1264.000000</td>\n",
       "      <td>1264.000000</td>\n",
       "      <td>1264.000000</td>\n",
       "      <td>1238.0</td>\n",
       "    </tr>\n",
       "    <tr>\n",
       "      <th>mean</th>\n",
       "      <td>35615.386076</td>\n",
       "      <td>2.0</td>\n",
       "      <td>15.696203</td>\n",
       "      <td>6.226266</td>\n",
       "      <td>2018.185127</td>\n",
       "      <td>0.284810</td>\n",
       "      <td>3.796389</td>\n",
       "      <td>21.45807</td>\n",
       "      <td>332.24288</td>\n",
       "      <td>72.935918</td>\n",
       "      <td>7293.058671</td>\n",
       "      <td>3.108386</td>\n",
       "      <td>2222.155854</td>\n",
       "      <td>111.768987</td>\n",
       "      <td>400000.0</td>\n",
       "    </tr>\n",
       "    <tr>\n",
       "      <th>std</th>\n",
       "      <td>10939.245252</td>\n",
       "      <td>0.0</td>\n",
       "      <td>8.760170</td>\n",
       "      <td>3.542669</td>\n",
       "      <td>1.038712</td>\n",
       "      <td>0.451503</td>\n",
       "      <td>0.125320</td>\n",
       "      <td>42.76865</td>\n",
       "      <td>350.85980</td>\n",
       "      <td>191.697220</td>\n",
       "      <td>2840.945082</td>\n",
       "      <td>0.950122</td>\n",
       "      <td>1195.050272</td>\n",
       "      <td>150.396369</td>\n",
       "      <td>0.0</td>\n",
       "    </tr>\n",
       "    <tr>\n",
       "      <th>min</th>\n",
       "      <td>7687.000000</td>\n",
       "      <td>2.0</td>\n",
       "      <td>1.000000</td>\n",
       "      <td>1.000000</td>\n",
       "      <td>2016.000000</td>\n",
       "      <td>0.000000</td>\n",
       "      <td>3.582000</td>\n",
       "      <td>0.00000</td>\n",
       "      <td>0.00000</td>\n",
       "      <td>0.000000</td>\n",
       "      <td>0.100000</td>\n",
       "      <td>2.000000</td>\n",
       "      <td>215.000000</td>\n",
       "      <td>0.000000</td>\n",
       "      <td>400000.0</td>\n",
       "    </tr>\n",
       "    <tr>\n",
       "      <th>25%</th>\n",
       "      <td>25821.000000</td>\n",
       "      <td>2.0</td>\n",
       "      <td>8.000000</td>\n",
       "      <td>3.000000</td>\n",
       "      <td>2017.000000</td>\n",
       "      <td>0.000000</td>\n",
       "      <td>3.701636</td>\n",
       "      <td>3.00000</td>\n",
       "      <td>87.00000</td>\n",
       "      <td>0.000000</td>\n",
       "      <td>5897.930000</td>\n",
       "      <td>2.000000</td>\n",
       "      <td>1021.250000</td>\n",
       "      <td>20.000000</td>\n",
       "      <td>400000.0</td>\n",
       "    </tr>\n",
       "    <tr>\n",
       "      <th>50%</th>\n",
       "      <td>37239.500000</td>\n",
       "      <td>2.0</td>\n",
       "      <td>16.000000</td>\n",
       "      <td>6.000000</td>\n",
       "      <td>2018.000000</td>\n",
       "      <td>0.000000</td>\n",
       "      <td>3.779958</td>\n",
       "      <td>10.00000</td>\n",
       "      <td>226.50000</td>\n",
       "      <td>7.000000</td>\n",
       "      <td>8448.185000</td>\n",
       "      <td>3.000000</td>\n",
       "      <td>2428.000000</td>\n",
       "      <td>63.000000</td>\n",
       "      <td>400000.0</td>\n",
       "    </tr>\n",
       "    <tr>\n",
       "      <th>75%</th>\n",
       "      <td>44783.250000</td>\n",
       "      <td>2.0</td>\n",
       "      <td>23.000000</td>\n",
       "      <td>9.000000</td>\n",
       "      <td>2019.000000</td>\n",
       "      <td>1.000000</td>\n",
       "      <td>3.812667</td>\n",
       "      <td>26.00000</td>\n",
       "      <td>470.50000</td>\n",
       "      <td>56.000000</td>\n",
       "      <td>9291.262500</td>\n",
       "      <td>4.000000</td>\n",
       "      <td>3036.250000</td>\n",
       "      <td>150.000000</td>\n",
       "      <td>400000.0</td>\n",
       "    </tr>\n",
       "    <tr>\n",
       "      <th>max</th>\n",
       "      <td>57105.000000</td>\n",
       "      <td>2.0</td>\n",
       "      <td>31.000000</td>\n",
       "      <td>12.000000</td>\n",
       "      <td>2020.000000</td>\n",
       "      <td>1.000000</td>\n",
       "      <td>4.126346</td>\n",
       "      <td>943.00000</td>\n",
       "      <td>4492.00000</td>\n",
       "      <td>1838.000000</td>\n",
       "      <td>10515.150000</td>\n",
       "      <td>6.000000</td>\n",
       "      <td>4267.000000</td>\n",
       "      <td>2337.000000</td>\n",
       "      <td>400000.0</td>\n",
       "    </tr>\n",
       "  </tbody>\n",
       "</table>\n",
       "</div>"
      ],
      "text/plain": [
       "       volume_tests  company_id         date        month         year  \\\n",
       "count   1264.000000      1264.0  1264.000000  1264.000000  1264.000000   \n",
       "mean   35615.386076         2.0    15.696203     6.226266  2018.185127   \n",
       "std    10939.245252         0.0     8.760170     3.542669     1.038712   \n",
       "min     7687.000000         2.0     1.000000     1.000000  2016.000000   \n",
       "25%    25821.000000         2.0     8.000000     3.000000  2017.000000   \n",
       "50%    37239.500000         2.0    16.000000     6.000000  2018.000000   \n",
       "75%    44783.250000         2.0    23.000000     9.000000  2019.000000   \n",
       "max    57105.000000         2.0    31.000000    12.000000  2020.000000   \n",
       "\n",
       "        is_weekend  avg_pesq_score  quality_too_poor  number_busy  \\\n",
       "count  1264.000000     1264.000000        1264.00000   1264.00000   \n",
       "mean      0.284810        3.796389          21.45807    332.24288   \n",
       "std       0.451503        0.125320          42.76865    350.85980   \n",
       "min       0.000000        3.582000           0.00000      0.00000   \n",
       "25%       0.000000        3.701636           3.00000     87.00000   \n",
       "50%       0.000000        3.779958          10.00000    226.50000   \n",
       "75%       1.000000        3.812667          26.00000    470.50000   \n",
       "max       1.000000        4.126346         943.00000   4492.00000   \n",
       "\n",
       "       temporarily_unable_test    outage_hrs  number_test_types  \\\n",
       "count              1264.000000   1264.000000        1264.000000   \n",
       "mean                 72.935918   7293.058671           3.108386   \n",
       "std                 191.697220   2840.945082           0.950122   \n",
       "min                   0.000000      0.100000           2.000000   \n",
       "25%                   0.000000   5897.930000           2.000000   \n",
       "50%                   7.000000   8448.185000           3.000000   \n",
       "75%                  56.000000   9291.262500           4.000000   \n",
       "max                1838.000000  10515.150000           6.000000   \n",
       "\n",
       "       numbers_tested  followup_tests  min_commit  \n",
       "count     1264.000000     1264.000000      1238.0  \n",
       "mean      2222.155854      111.768987    400000.0  \n",
       "std       1195.050272      150.396369         0.0  \n",
       "min        215.000000        0.000000    400000.0  \n",
       "25%       1021.250000       20.000000    400000.0  \n",
       "50%       2428.000000       63.000000    400000.0  \n",
       "75%       3036.250000      150.000000    400000.0  \n",
       "max       4267.000000     2337.000000    400000.0  "
      ]
     },
     "execution_count": 6,
     "metadata": {},
     "output_type": "execute_result"
    }
   ],
   "source": [
    "df.describe()"
   ]
  },
  {
   "cell_type": "markdown",
   "metadata": {},
   "source": [
    "#### Lets plot histograms for each numerical atrribute"
   ]
  },
  {
   "cell_type": "code",
   "execution_count": 7,
   "metadata": {},
   "outputs": [
    {
     "data": {
      "text/plain": [
       "<matplotlib.axes._subplots.AxesSubplot at 0x7f525f6bddd0>"
      ]
     },
     "execution_count": 7,
     "metadata": {},
     "output_type": "execute_result"
    },
    {
     "data": {
      "image/png": "[encoded data removed]",
      "text/plain": [
       "<Figure size 1440x432 with 3 Axes>"
      ]
     },
     "metadata": {
      "needs_background": "light"
     },
     "output_type": "display_data"
    }
   ],
   "source": [
    "# Create figure with two subplots\n",
    "fig = plt.figure(figsize=(20,6))\n",
    "\n",
    "# Plot avg_pesq_score\n",
    "ax1 = fig.add_subplot(1, 3, 1)\n",
    "ax1.set_title(\"Histogram of Avg. Pesq Score\")\n",
    "sns.distplot(df['avg_pesq_score'], kde=False, axlabel=False, label='avg_pesq_score')\n",
    "\n",
    "# Plot number_busy\n",
    "ax1 = fig.add_subplot(1, 3, 2)\n",
    "ax1.set_title(\"Histogram of Number Busy\")\n",
    "sns.distplot(df['number_busy'], kde=False, axlabel=False, label='number_busy')\n",
    "\n",
    "# Plot temporarily_unable_test\n",
    "ax1 = fig.add_subplot(1, 3, 3)\n",
    "ax1.set_title(\"Histogram of Temporarily Unable Test\")\n",
    "sns.distplot(df['temporarily_unable_test'], kde=False,axlabel=False, label='temporarily_unable_test')"
   ]
  },
  {
   "cell_type": "code",
   "execution_count": 8,
   "metadata": {},
   "outputs": [
    {
     "data": {
      "text/plain": [
       "<matplotlib.axes._subplots.AxesSubplot at 0x7f525ec063d0>"
      ]
     },
     "execution_count": 8,
     "metadata": {},
     "output_type": "execute_result"
    },
    {
     "data": {
      "image/png": "[encoded data removed]",
      "text/plain": [
       "<Figure size 1440x432 with 3 Axes>"
      ]
     },
     "metadata": {
      "needs_background": "light"
     },
     "output_type": "display_data"
    }
   ],
   "source": [
    "# Create figure with two subplots\n",
    "fig = plt.figure(figsize=(20,6))\n",
    "\n",
    "# Plot outage_hrs\n",
    "ax1 = fig.add_subplot(1, 3, 1)\n",
    "ax1.set_title(\"Histogram of outage_hrs\")\n",
    "sns.distplot(df['outage_hrs'], kde=False,axlabel=False, label='outage_hrs')\n",
    "\n",
    "# Plot number_test_types\n",
    "ax1 = fig.add_subplot(1, 3, 2)\n",
    "ax1.set_title(\"Histogram of number_test_types\")\n",
    "sns.distplot(df['number_test_types'], kde=False,axlabel=False, label='number_test_types')\n",
    "\n",
    "# Plot numbers_tested\n",
    "ax2 = fig.add_subplot(1, 3, 3)\n",
    "ax2.set_title(\"Histogram of numbers_tested\")\n",
    "sns.distplot(df['numbers_tested'], kde=False,axlabel=False, label='numbers_tested')"
   ]
  },
  {
   "cell_type": "code",
   "execution_count": 9,
   "metadata": {},
   "outputs": [
    {
     "name": "stderr",
     "output_type": "stream",
     "text": [
      "/home/shanebowen/anaconda3/lib/python3.7/site-packages/numpy/lib/histograms.py:839: RuntimeWarning: invalid value encountered in greater_equal\n",
      "  keep = (tmp_a >= first_edge)\n",
      "/home/shanebowen/anaconda3/lib/python3.7/site-packages/numpy/lib/histograms.py:840: RuntimeWarning: invalid value encountered in less_equal\n",
      "  keep &= (tmp_a <= last_edge)\n"
     ]
    },
    {
     "data": {
      "text/plain": [
       "<matplotlib.axes._subplots.AxesSubplot at 0x7f525eaa3d50>"
      ]
     },
     "execution_count": 9,
     "metadata": {},
     "output_type": "execute_result"
    },
    {
     "data": {
      "image/png": "[encoded data removed]",
      "text/plain": [
       "<Figure size 1440x432 with 3 Axes>"
      ]
     },
     "metadata": {
      "needs_background": "light"
     },
     "output_type": "display_data"
    }
   ],
   "source": [
    "# Create figure with two subplots\n",
    "fig = plt.figure(figsize=(20,6))\n",
    "\n",
    "# Plot followup_tests\n",
    "ax1 = fig.add_subplot(1, 3, 1)\n",
    "ax1.set_title(\"Histogram of followup_tests\")\n",
    "sns.distplot(df['followup_tests'], kde=False,axlabel=False, label='followup_tests')\n",
    "\n",
    "# Plot min_commit\n",
    "ax1 = fig.add_subplot(1, 3, 2)\n",
    "ax1.set_title(\"Histogram of min_commit\")\n",
    "sns.distplot(df['min_commit'], kde=False,axlabel=False, label='min_commit')\n",
    "\n",
    "# Plot quality_too_poor\n",
    "ax2 = fig.add_subplot(1, 3, 3)\n",
    "ax2.set_title(\"Histogram of quality_too_poor\")\n",
    "sns.distplot(df['quality_too_poor'], kde=False,axlabel=False, label='quality_too_poor')"
   ]
  },
  {
   "cell_type": "markdown",
   "metadata": {},
   "source": [
    "#### From the plots above we can see the columns with extreme values or inbalanced distribution are number_busy, temporarily_unable_test, outage_hrs, numbers_tested, followup_tests, quality_too_poor"
   ]
  },
  {
   "cell_type": "markdown",
   "metadata": {},
   "source": [
    "### Number Busy"
   ]
  },
  {
   "cell_type": "code",
   "execution_count": 10,
   "metadata": {},
   "outputs": [
    {
     "data": {
      "text/plain": [
       "count    1264.00000\n",
       "mean      332.24288\n",
       "std       350.85980\n",
       "min         0.00000\n",
       "25%        87.00000\n",
       "50%       226.50000\n",
       "75%       470.50000\n",
       "max      4492.00000\n",
       "Name: number_busy, dtype: float64"
      ]
     },
     "execution_count": 10,
     "metadata": {},
     "output_type": "execute_result"
    }
   ],
   "source": [
    "df['number_busy'].describe()"
   ]
  },
  {
   "cell_type": "code",
   "execution_count": 11,
   "metadata": {},
   "outputs": [
    {
     "data": {
      "text/plain": [
       "<matplotlib.axes._subplots.AxesSubplot at 0x7f5260292310>"
      ]
     },
     "execution_count": 11,
     "metadata": {},
     "output_type": "execute_result"
    },
    {
     "data": {
      "image/png": "[encoded data removed]",
      "text/plain": [
       "<Figure size 1440x720 with 1 Axes>"
      ]
     },
     "metadata": {
      "needs_background": "light"
     },
     "output_type": "display_data"
    }
   ],
   "source": [
    "plt.figure(figsize=(20, 10))\n",
    "sns.boxplot(x=df['number_busy'])"
   ]
  },
  {
   "cell_type": "code",
   "execution_count": 12,
   "metadata": {},
   "outputs": [
    {
     "name": "stdout",
     "output_type": "stream",
     "text": [
      "number_busy    3\n",
      "dtype: int64\n"
     ]
    }
   ],
   "source": [
    "print((df[['number_busy']] > 2000).sum())"
   ]
  },
  {
   "cell_type": "code",
   "execution_count": 13,
   "metadata": {},
   "outputs": [],
   "source": [
    "# Get names of indexes for which column temporarily_unable_test has value 1000\n",
    "df_original = df\n",
    "index = df[ df['number_busy'] > 2000 ].index\n",
    "\n",
    "# Delete these row indexes from dataFrame\n",
    "df.drop(index , inplace=True)"
   ]
  },
  {
   "cell_type": "code",
   "execution_count": 14,
   "metadata": {},
   "outputs": [
    {
     "data": {
      "text/plain": [
       "<matplotlib.axes._subplots.AxesSubplot at 0x7f525e6c0310>"
      ]
     },
     "execution_count": 14,
     "metadata": {},
     "output_type": "execute_result"
    },
    {
     "data": {
      "image/png": "[encoded data removed]",
      "text/plain": [
       "<Figure size 1152x288 with 2 Axes>"
      ]
     },
     "metadata": {
      "needs_background": "light"
     },
     "output_type": "display_data"
    }
   ],
   "source": [
    "# plt.figure(figsize=(20, 10))\n",
    "# sns.distplot(df['number_busy'], kde=False, axlabel=False, label='number_busy')\n",
    "# plt.legend()\n",
    "# plt.show()\n",
    "\n",
    "# Create figure with two subplots\n",
    "fig = plt.figure(figsize=(16,4))\n",
    "\n",
    "# Plot before\n",
    "ax1 = fig.add_subplot(1, 2, 1)\n",
    "ax1.set_title(\"Histogram of before number_busy\")\n",
    "ax1.set_xlabel('number_busy')\n",
    "sns.distplot(df_original['number_busy'], kde=False, axlabel=False, label='number_busy')\n",
    "\n",
    "# Plot after\n",
    "ax2 = fig.add_subplot(1, 2, 2)\n",
    "ax2.set_title(\"Histogram of after number_busy\")\n",
    "ax2.set_xlabel('number_busy)')\n",
    "sns.distplot(df['number_busy'], kde=False, axlabel=False, label='number_busy')"
   ]
  },
  {
   "cell_type": "markdown",
   "metadata": {},
   "source": [
    "### Temporarily Unable Test"
   ]
  },
  {
   "cell_type": "code",
   "execution_count": 15,
   "metadata": {},
   "outputs": [
    {
     "data": {
      "text/plain": [
       "count    1261.000000\n",
       "mean       73.046788\n",
       "std       191.909094\n",
       "min         0.000000\n",
       "25%         0.000000\n",
       "50%         7.000000\n",
       "75%        56.000000\n",
       "max      1838.000000\n",
       "Name: temporarily_unable_test, dtype: float64"
      ]
     },
     "execution_count": 15,
     "metadata": {},
     "output_type": "execute_result"
    }
   ],
   "source": [
    "df['temporarily_unable_test'].describe()"
   ]
  },
  {
   "cell_type": "code",
   "execution_count": 16,
   "metadata": {},
   "outputs": [
    {
     "data": {
      "text/plain": [
       "<matplotlib.axes._subplots.AxesSubplot at 0x7f525e59a690>"
      ]
     },
     "execution_count": 16,
     "metadata": {},
     "output_type": "execute_result"
    },
    {
     "data": {
      "image/png": "[encoded data removed]",
      "text/plain": [
       "<Figure size 1440x720 with 1 Axes>"
      ]
     },
     "metadata": {
      "needs_background": "light"
     },
     "output_type": "display_data"
    }
   ],
   "source": [
    "plt.figure(figsize=(20, 10))\n",
    "sns.boxplot(x=df['temporarily_unable_test'])"
   ]
  },
  {
   "cell_type": "markdown",
   "metadata": {},
   "source": [
    "#### Above plot shows alot of extrame values outside the 75% quartile. In particular there are quite a few outliers that are greater than 1000. Lets see how many points this effects. "
   ]
  },
  {
   "cell_type": "code",
   "execution_count": 17,
   "metadata": {},
   "outputs": [
    {
     "name": "stdout",
     "output_type": "stream",
     "text": [
      "temporarily_unable_test    14\n",
      "dtype: int64\n"
     ]
    }
   ],
   "source": [
    "print((df[['temporarily_unable_test']] > 1000).sum())"
   ]
  },
  {
   "cell_type": "markdown",
   "metadata": {},
   "source": [
    "#### As we can see there 5 results over 1000. This is around ~0.68% of the dataset I can safely remove this as they will not have a big affect the model."
   ]
  },
  {
   "cell_type": "code",
   "execution_count": 18,
   "metadata": {},
   "outputs": [],
   "source": [
    "# Get names of indexes for which column temporarily_unable_test has value 1000\n",
    "index = df[ df['temporarily_unable_test'] > 1000 ].index\n",
    "\n",
    "# Delete these row indexes from dataFrame\n",
    "df.drop(index , inplace=True)"
   ]
  },
  {
   "cell_type": "code",
   "execution_count": 19,
   "metadata": {},
   "outputs": [
    {
     "data": {
      "image/png": "[encoded data removed]",
      "text/plain": [
       "<Figure size 1440x720 with 1 Axes>"
      ]
     },
     "metadata": {
      "needs_background": "light"
     },
     "output_type": "display_data"
    }
   ],
   "source": [
    "plt.figure(figsize=(20, 10))\n",
    "sns.distplot(df['temporarily_unable_test'], kde=False, axlabel=False, label='temporarily_unable_test')\n",
    "plt.legend()\n",
    "plt.show()"
   ]
  },
  {
   "cell_type": "markdown",
   "metadata": {},
   "source": [
    "### Follow-up_tests"
   ]
  },
  {
   "cell_type": "code",
   "execution_count": 20,
   "metadata": {},
   "outputs": [],
   "source": [
    "# Use a log transformation to decrease the impact of extreme values in column followup_tests\n",
    "df['followup_tests_log'] = np.log(df['followup_tests'] + 1)"
   ]
  },
  {
   "cell_type": "code",
   "execution_count": 21,
   "metadata": {
    "scrolled": true
   },
   "outputs": [
    {
     "data": {
      "text/plain": [
       "<matplotlib.axes._subplots.AxesSubplot at 0x7f525e42ecd0>"
      ]
     },
     "execution_count": 21,
     "metadata": {},
     "output_type": "execute_result"
    },
    {
     "data": {
      "image/png": "[encoded data removed]",
      "text/plain": [
       "<Figure size 1152x288 with 2 Axes>"
      ]
     },
     "metadata": {
      "needs_background": "light"
     },
     "output_type": "display_data"
    }
   ],
   "source": [
    "# Create figure with two subplots\n",
    "fig = plt.figure(figsize=(16,4))\n",
    "\n",
    "# Plot Balance\n",
    "ax1 = fig.add_subplot(1, 2, 1)\n",
    "ax1.set_title(\"Histogram of followup_tests\")\n",
    "ax1.set_xlabel('followup_tests')\n",
    "sns.distplot(df['followup_tests'], kde=False, axlabel=False, label='followup_tests')\n",
    "\n",
    "# Plot duration\n",
    "ax2 = fig.add_subplot(1, 2, 2)\n",
    "ax2.set_title(\"Histogram of ln(followup_tests)\")\n",
    "ax2.set_xlabel('ln(followup_tests)')\n",
    "sns.distplot(df['followup_tests_log'], kde=False, axlabel=False, label='ln(followup_tests)')"
   ]
  },
  {
   "cell_type": "markdown",
   "metadata": {},
   "source": [
    "#### Logs can also be used to reduce the impact of outliers in our model without losing information"
   ]
  },
  {
   "cell_type": "markdown",
   "metadata": {},
   "source": [
    "### Quality Too Poor"
   ]
  },
  {
   "cell_type": "code",
   "execution_count": 22,
   "metadata": {},
   "outputs": [
    {
     "data": {
      "text/plain": [
       "count    1247.000000\n",
       "mean       21.489174\n",
       "std        43.020037\n",
       "min         0.000000\n",
       "25%         3.000000\n",
       "50%        10.000000\n",
       "75%        26.000000\n",
       "max       943.000000\n",
       "Name: quality_too_poor, dtype: float64"
      ]
     },
     "execution_count": 22,
     "metadata": {},
     "output_type": "execute_result"
    }
   ],
   "source": [
    "df['quality_too_poor'].describe()"
   ]
  },
  {
   "cell_type": "code",
   "execution_count": 23,
   "metadata": {},
   "outputs": [
    {
     "data": {
      "text/plain": [
       "<matplotlib.axes._subplots.AxesSubplot at 0x7f525e80a9d0>"
      ]
     },
     "execution_count": 23,
     "metadata": {},
     "output_type": "execute_result"
    },
    {
     "data": {
      "image/png": "[encoded data removed]",
      "text/plain": [
       "<Figure size 1440x720 with 1 Axes>"
      ]
     },
     "metadata": {
      "needs_background": "light"
     },
     "output_type": "display_data"
    }
   ],
   "source": [
    "plt.figure(figsize=(20, 10))\n",
    "sns.boxplot(x=df['quality_too_poor'])"
   ]
  },
  {
   "cell_type": "code",
   "execution_count": 24,
   "metadata": {},
   "outputs": [
    {
     "name": "stdout",
     "output_type": "stream",
     "text": [
      "quality_too_poor    3\n",
      "dtype: int64\n"
     ]
    }
   ],
   "source": [
    "print((df[['quality_too_poor']] > 300).sum())"
   ]
  },
  {
   "cell_type": "code",
   "execution_count": 25,
   "metadata": {},
   "outputs": [],
   "source": [
    "# Get names of indexes for which column outage_hrs has value < 1000 \n",
    "index = df[ df['quality_too_poor'] > 300 ].index\n",
    "\n",
    "# Delete these row indexes from dataFrame\n",
    "df.drop(index , inplace=True)"
   ]
  },
  {
   "cell_type": "code",
   "execution_count": 26,
   "metadata": {},
   "outputs": [
    {
     "data": {
      "image/png": "[encoded data removed]",
      "text/plain": [
       "<Figure size 1440x720 with 1 Axes>"
      ]
     },
     "metadata": {
      "needs_background": "light"
     },
     "output_type": "display_data"
    }
   ],
   "source": [
    "plt.figure(figsize=(20, 10))\n",
    "sns.distplot(df['quality_too_poor'], kde=False, axlabel=False, label='quality_too_poor')\n",
    "plt.legend()\n",
    "plt.show()"
   ]
  },
  {
   "cell_type": "markdown",
   "metadata": {},
   "source": [
    "### Outage Hrs"
   ]
  },
  {
   "cell_type": "code",
   "execution_count": 27,
   "metadata": {},
   "outputs": [],
   "source": [
    "# Use a log transformation to decrease the impact of extreme values in column followup_tests\n",
    "df['outage_hrs_log'] = np.log(df['outage_hrs'])"
   ]
  },
  {
   "cell_type": "code",
   "execution_count": 28,
   "metadata": {},
   "outputs": [
    {
     "data": {
      "text/plain": [
       "<matplotlib.axes._subplots.AxesSubplot at 0x7f525beb3a10>"
      ]
     },
     "execution_count": 28,
     "metadata": {},
     "output_type": "execute_result"
    },
    {
     "data": {
      "image/png": "[encoded data removed]",
      "text/plain": [
       "<Figure size 1152x288 with 2 Axes>"
      ]
     },
     "metadata": {
      "needs_background": "light"
     },
     "output_type": "display_data"
    }
   ],
   "source": [
    "# Create figure with two subplots\n",
    "fig = plt.figure(figsize=(16,4))\n",
    "\n",
    "# Plot Balance\n",
    "ax1 = fig.add_subplot(1, 2, 1)\n",
    "ax1.set_title(\"Histogram of outage_hrs\")\n",
    "ax1.set_xlabel('outage_hrs')\n",
    "sns.distplot(df['outage_hrs'], kde=False, axlabel=False, label='outage_hrs')\n",
    "\n",
    "# Plot duration\n",
    "ax2 = fig.add_subplot(1, 2, 2)\n",
    "ax2.set_title(\"Histogram of ln(outage_hrs)\")\n",
    "ax2.set_xlabel('ln(outage_hrs)')\n",
    "sns.distplot(df['outage_hrs_log'], kde=False, axlabel=False, label='ln(outage_hrs)')"
   ]
  },
  {
   "cell_type": "markdown",
   "metadata": {},
   "source": [
    "### Numbers Tested"
   ]
  },
  {
   "cell_type": "code",
   "execution_count": 29,
   "metadata": {},
   "outputs": [],
   "source": [
    "# Use a log transformation to decrease the impact of extreme values in column followup_tests\n",
    "df['numbers_tested_log'] = np.log(df['numbers_tested'])"
   ]
  },
  {
   "cell_type": "code",
   "execution_count": 30,
   "metadata": {},
   "outputs": [
    {
     "data": {
      "text/plain": [
       "<matplotlib.axes._subplots.AxesSubplot at 0x7f525bce9d50>"
      ]
     },
     "execution_count": 30,
     "metadata": {},
     "output_type": "execute_result"
    },
    {
     "data": {
      "image/png": "[encoded data removed]",
      "text/plain": [
       "<Figure size 1152x288 with 2 Axes>"
      ]
     },
     "metadata": {
      "needs_background": "light"
     },
     "output_type": "display_data"
    }
   ],
   "source": [
    "# Create figure with two subplots\n",
    "fig = plt.figure(figsize=(16,4))\n",
    "\n",
    "# Plot Balance\n",
    "ax1 = fig.add_subplot(1, 2, 1)\n",
    "ax1.set_title(\"Histogram of numbers_tested\")\n",
    "ax1.set_xlabel('numbers_tested')\n",
    "sns.distplot(df['numbers_tested'], kde=False, axlabel=False, label='numbers_tested')\n",
    "\n",
    "# Plot duration\n",
    "ax2 = fig.add_subplot(1, 2, 2)\n",
    "ax2.set_title(\"Histogram of ln(numbers_tested)\")\n",
    "ax2.set_xlabel('ln(numbers_tested)')\n",
    "sns.distplot(df['numbers_tested_log'], kde=False, axlabel=False, label='ln(numbers_tested_log)')"
   ]
  },
  {
   "cell_type": "markdown",
   "metadata": {},
   "source": [
    "#### As we have created new feature for number_busy, followup_tests, outage_hrs we can drop these feature"
   ]
  },
  {
   "cell_type": "code",
   "execution_count": 31,
   "metadata": {},
   "outputs": [],
   "source": [
    "#df.drop(['followup_tests','outage_hrs', 'numbers_tested'], inplace=True, axis=1)"
   ]
  },
  {
   "cell_type": "markdown",
   "metadata": {},
   "source": [
    "## D. Linear Regression, Distribution, Hoeffding Equation"
   ]
  },
  {
   "cell_type": "code",
   "execution_count": 32,
   "metadata": {},
   "outputs": [
    {
     "name": "stdout",
     "output_type": "stream",
     "text": [
      "0.22094509853748878\n",
      "0.21434452256608316\n"
     ]
    }
   ],
   "source": [
    "# lets define our input features\n",
    "X = np.vstack((df['numbers_tested_log'], df['is_weekend'], df['outage_hrs_log'])).T\n",
    "\n",
    "# lets also define our output feature\n",
    "Y = np.hstack((df['volume_tests']))\n",
    "\n",
    "# Split data set into training and test data\n",
    "xTrain, xTest, yTrain, yTest = train_test_split(X, Y, test_size = 0.2, random_state = 0)\n",
    "\n",
    "#fit training data on linear regression model\n",
    "clf = LinearRegression().fit(xTrain, yTrain)\n",
    "\n",
    "#Calculate Ein and Eout\n",
    "Ein = 1 - clf.score(xTrain, yTrain)\n",
    "Eout = 1 - clf.score(xTest, yTest)\n",
    "print(Ein)\n",
    "print(Eout)"
   ]
  },
  {
   "cell_type": "code",
   "execution_count": 33,
   "metadata": {},
   "outputs": [],
   "source": [
    "def experiment(users, weights, N, df):\n",
    "    outcomes = []\n",
    "    for i in range(users):\n",
    "        # lets choose a sample from dataset\n",
    "        sample = df.sample(n=N)\n",
    "        # lets define our input features from the random sample\n",
    "        X = np.vstack((sample['numbers_tested_log'], sample['is_weekend'], sample['outage_hrs_log'])).T\n",
    "\n",
    "        # lets also define our output feature from our random sample\n",
    "        Y = np.vstack(((sample['volume_tests'])))\n",
    "\n",
    "        # calculate in-sample error\n",
    "        Ein = 1 - clf.score(X, Y)\n",
    "        \n",
    "        # add in sample error to outcome list\n",
    "        outcomes.append(Ein)\n",
    "    \n",
    "    v_1 = outcomes[0] \n",
    "    v_rand = outcomes[rnd.randint(0,users-1)]\n",
    "    v_min = min(outcomes)\n",
    "    \n",
    "    return v_1,v_rand,v_min"
   ]
  },
  {
   "cell_type": "code",
   "execution_count": 34,
   "metadata": {},
   "outputs": [],
   "source": [
    "users = len(X)\n",
    "N=10\n",
    "repeats = 100\n",
    "\n",
    "dist_1 = []\n",
    "dist_rand=[]\n",
    "dist_min=[]\n",
    "lists = [dist_1, dist_rand, dist_min]\n",
    "\n",
    "#d = np.column_stack((X,y))\n",
    "#df = pd.DataFrame(data=d, dtype=np.int8)\n",
    "\n",
    "for e in range(repeats):\n",
    "    for x, lst in zip(experiment(users, clf, N, df), lists):\n",
    "        lst.append(x)\n",
    "\n",
    "# plt.figure(figsize=(20, 10))\n",
    "# plt.hist(lists[0])\n",
    "# plt.title('Distribution first row')\n",
    "# plt.show()\n",
    "\n",
    "# plt.figure(figsize=(20, 10))\n",
    "# plt.hist(lists[1])\n",
    "# plt.title('Distribution random row')\n",
    "# plt.show()\n",
    "\n",
    "# plt.figure(figsize=(20, 10))\n",
    "# plt.hist(lists[2])\n",
    "# plt.title('Distribution of min row')\n",
    "# plt.show()"
   ]
  },
  {
   "cell_type": "code",
   "execution_count": 35,
   "metadata": {},
   "outputs": [
    {
     "data": {
      "image/png": "[encoded data removed]",
      "text/plain": [
       "<Figure size 1440x720 with 1 Axes>"
      ]
     },
     "metadata": {
      "needs_background": "light"
     },
     "output_type": "display_data"
    },
    {
     "data": {
      "image/png": "[encoded data removed]",
      "text/plain": [
       "<Figure size 1440x720 with 1 Axes>"
      ]
     },
     "metadata": {
      "needs_background": "light"
     },
     "output_type": "display_data"
    },
    {
     "data": {
      "image/png": "[encoded data removed]",
      "text/plain": [
       "<Figure size 1440x720 with 1 Axes>"
      ]
     },
     "metadata": {
      "needs_background": "light"
     },
     "output_type": "display_data"
    }
   ],
   "source": [
    "titles = [\"First\", \"Random\", \"Min\"]\n",
    "dvc = len(X[0])\n",
    "for d in range(0,3):\n",
    "    dist = lists[d]\n",
    "    prob_epsilon=[]\n",
    "    epsilons = np.arange(0, 1, 0.001)\n",
    "    for e in epsilons:\n",
    "        prob_epsilon.append(len([1 for i in dist if abs(i-Eout) > e])/len(dist))\n",
    "    \n",
    "    plt.figure(figsize=(20, 10))\n",
    "    plt.plot(epsilons, prob_epsilon)\n",
    "    plt.plot(epsilons, [2*math.exp(-2*e**2*N) for e in epsilons])\n",
    "    #plt.plot(epsilons, [4*((2*N)**dvc+1)*math.exp(-(1/8)*e**2*N) for e in epsilons]) \n",
    "    plt.yscale('log')\n",
    "    plt.title(titles[d])\n",
    "    plt.show"
   ]
  },
  {
   "cell_type": "markdown",
   "metadata": {},
   "source": [
    "### Hoeffding Equation - Is Learning Feasible?\n",
    "#### The Random & Min tend to obey Hoeffding bound, while First does not. If I tweak my input features could I get my results to be more consistent?"
   ]
  },
  {
   "cell_type": "markdown",
   "metadata": {},
   "source": [
    "## E. Plotting Learning Curves & Exploring Other Machine Learning Algorithms"
   ]
  },
  {
   "cell_type": "code",
   "execution_count": 36,
   "metadata": {},
   "outputs": [],
   "source": [
    "X = np.vstack((df['numbers_tested_log'], df['is_weekend'], df['outage_hrs_log'])).T\n",
    "Y = np.hstack(((df['volume_tests'])))"
   ]
  },
  {
   "cell_type": "code",
   "execution_count": 37,
   "metadata": {},
   "outputs": [],
   "source": [
    "def plot_learning_curve(estimator, title, X, y, axes=None, ylim=None, cv=None,\n",
    "                        n_jobs=None, train_sizes=np.linspace(.1, 1.0, 5)):\n",
    "    if axes is None:\n",
    "        _, axes = plt.subplots(1, 3, figsize=(20, 5))\n",
    "\n",
    "    axes[0].set_title(title)\n",
    "    if ylim is not None:\n",
    "        axes[0].set_ylim(*ylim)\n",
    "    axes[0].set_xlabel(\"Training examples\")\n",
    "    axes[0].set_ylabel(\"Score\")\n",
    "\n",
    "    train_sizes, train_scores, test_scores, fit_times, _ = \\\n",
    "        learning_curve(estimator, X, y, cv=cv, n_jobs=n_jobs,\n",
    "                       train_sizes=train_sizes,\n",
    "                       return_times=True)\n",
    "    train_scores_mean = np.mean(train_scores, axis=1)\n",
    "    train_scores_std = np.std(train_scores, axis=1)\n",
    "    test_scores_mean = np.mean(test_scores, axis=1)\n",
    "    test_scores_std = np.std(test_scores, axis=1)\n",
    "    fit_times_mean = np.mean(fit_times, axis=1)\n",
    "    fit_times_std = np.std(fit_times, axis=1)\n",
    "\n",
    "    # Plot learning curve\n",
    "    axes[0].grid()\n",
    "    axes[0].fill_between(train_sizes, train_scores_mean - train_scores_std,\n",
    "                         train_scores_mean + train_scores_std, alpha=0.1,\n",
    "                         color=\"r\")\n",
    "    axes[0].fill_between(train_sizes, test_scores_mean - test_scores_std,\n",
    "                         test_scores_mean + test_scores_std, alpha=0.1,\n",
    "                         color=\"g\")\n",
    "    axes[0].plot(train_sizes, train_scores_mean, 'o-', color=\"r\",\n",
    "                 label=\"Training score\")\n",
    "    axes[0].plot(train_sizes, test_scores_mean, 'o-', color=\"g\",\n",
    "                 label=\"Cross-validation score\")\n",
    "    axes[0].legend(loc=\"best\")\n",
    "\n",
    "    # Plot n_samples vs fit_times\n",
    "    axes[1].grid()\n",
    "    axes[1].plot(train_sizes, fit_times_mean, 'o-')\n",
    "    axes[1].fill_between(train_sizes, fit_times_mean - fit_times_std,\n",
    "                         fit_times_mean + fit_times_std, alpha=0.1)\n",
    "    axes[1].set_xlabel(\"Training examples\")\n",
    "    axes[1].set_ylabel(\"fit_times\")\n",
    "    axes[1].set_title(\"Scalability of the model\")\n",
    "\n",
    "    # Plot fit_time vs score\n",
    "    axes[2].grid()\n",
    "    axes[2].plot(fit_times_mean, test_scores_mean, 'o-')\n",
    "    axes[2].fill_between(fit_times_mean, test_scores_mean - test_scores_std,\n",
    "                         test_scores_mean + test_scores_std, alpha=0.1)\n",
    "    axes[2].set_xlabel(\"fit_times\")\n",
    "    axes[2].set_ylabel(\"Score\")\n",
    "    axes[2].set_title(\"Performance of the model\")\n",
    "\n",
    "    return plt"
   ]
  },
  {
   "cell_type": "code",
   "execution_count": 38,
   "metadata": {},
   "outputs": [
    {
     "data": {
      "image/png": "[encoded data removed]",
      "text/plain": [
       "<Figure size 720x1080 with 6 Axes>"
      ]
     },
     "metadata": {
      "needs_background": "light"
     },
     "output_type": "display_data"
    }
   ],
   "source": [
    "fig, axes = plt.subplots(3, 2, figsize=(10, 15))\n",
    "\n",
    "title = \"Linear Regression\"\n",
    "# Cross validation with 100 iterations to get smoother mean test and train\n",
    "# score curves, each time with 20% data randomly selected as a validation set.\n",
    "cv = ShuffleSplit(n_splits=100, test_size=0.2, random_state=0)\n",
    "\n",
    "estimator = LinearRegression()\n",
    "plot_learning_curve(estimator, title, X, Y, axes=axes[:, 0], ylim=(0.7, 1.01),\n",
    "                    cv=cv, n_jobs=4)\n",
    "\n",
    "title = \"Gaussian NB\"\n",
    "# Cross validation with 100 iterations to get smoother mean test and train\n",
    "# score curves, each time with 20% data randomly selected as a validation set.\n",
    "cv = ShuffleSplit(n_splits=100, test_size=0.2, random_state=0)\n",
    "\n",
    "estimator = GaussianNB()\n",
    "plot_learning_curve(estimator, title, X, Y, axes=axes[:, 1], ylim=(0.7, 1.01),\n",
    "                    cv=cv, n_jobs=4)\n",
    "\n",
    "plt.show()"
   ]
  },
  {
   "cell_type": "markdown",
   "metadata": {},
   "source": [
    "#### Linear Regression graphs looks pretty good and I can see low variance in between training and validation data. This means the model is performing well on the test data. I might try RNN so I can compare the two, but not sure how straightforward it will be to do this."
   ]
  }
 ],
 "metadata": {
  "kernelspec": {
   "display_name": "Python 3",
   "language": "python",
   "name": "python3"
  },
  "language_info": {
   "codemirror_mode": {
    "name": "ipython",
    "version": 3
   },
   "file_extension": ".py",
   "mimetype": "text/x-python",
   "name": "python",
   "nbconvert_exporter": "python",
   "pygments_lexer": "ipython3",
   "version": "3.7.6"
  }
 },
 "nbformat": 4,
 "nbformat_minor": 4
}
