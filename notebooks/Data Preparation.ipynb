{
 "cells": [
  {
   "cell_type": "markdown",
   "metadata": {},
   "source": [
    "## A. Importing Modules & Datasets"
   ]
  },
  {
   "cell_type": "code",
   "execution_count": 1,
   "metadata": {},
   "outputs": [],
   "source": [
    "import pandas as pd\n",
    "import numpy as np\n",
    "import matplotlib.pyplot as plt\n",
    "import seaborn as sns\n",
    "import random as rnd\n",
    "import math\n",
    "from sklearn import preprocessing\n",
    "from sklearn.model_selection import train_test_split\n",
    "from sklearn.datasets import load_digits\n",
    "from sklearn.model_selection import learning_curve\n",
    "from sklearn.linear_model import LinearRegression\n",
    "from sklearn.svm import SVR\n",
    "from sklearn.ensemble import RandomForestClassifier\n",
    "from sklearn.model_selection import ShuffleSplit\n",
    "import tensorflow as tf\n",
    "\n",
    "df = pd.read_csv(\"./reports/company_report_2.csv\")"
   ]
  },
  {
   "cell_type": "code",
   "execution_count": 2,
   "metadata": {},
   "outputs": [
    {
     "data": {
      "text/html": [
       "<div>\n",
       "<style scoped>\n",
       "    .dataframe tbody tr th:only-of-type {\n",
       "        vertical-align: middle;\n",
       "    }\n",
       "\n",
       "    .dataframe tbody tr th {\n",
       "        vertical-align: top;\n",
       "    }\n",
       "\n",
       "    .dataframe thead th {\n",
       "        text-align: right;\n",
       "    }\n",
       "</style>\n",
       "<table border=\"1\" class=\"dataframe\">\n",
       "  <thead>\n",
       "    <tr style=\"text-align: right;\">\n",
       "      <th></th>\n",
       "      <th>company_id</th>\n",
       "      <th>company_type</th>\n",
       "      <th>time</th>\n",
       "      <th>date</th>\n",
       "      <th>month</th>\n",
       "      <th>year</th>\n",
       "      <th>day</th>\n",
       "      <th>is_weekend</th>\n",
       "      <th>season</th>\n",
       "      <th>avg_pesq_score</th>\n",
       "      <th>...</th>\n",
       "      <th>temporarily_unable_test</th>\n",
       "      <th>outage_hrs</th>\n",
       "      <th>outage_mins</th>\n",
       "      <th>outage_secs</th>\n",
       "      <th>number_test_types</th>\n",
       "      <th>numbers_tested</th>\n",
       "      <th>followup_tests</th>\n",
       "      <th>min_commit</th>\n",
       "      <th>is_testing</th>\n",
       "      <th>volume_tests</th>\n",
       "    </tr>\n",
       "  </thead>\n",
       "  <tbody>\n",
       "    <tr>\n",
       "      <th>0</th>\n",
       "      <td>2</td>\n",
       "      <td>Enterprise</td>\n",
       "      <td>2018-01-01</td>\n",
       "      <td>1</td>\n",
       "      <td>1</td>\n",
       "      <td>2018</td>\n",
       "      <td>Mon</td>\n",
       "      <td>0</td>\n",
       "      <td>Winter</td>\n",
       "      <td>3.692000</td>\n",
       "      <td>...</td>\n",
       "      <td>0</td>\n",
       "      <td>7031.92</td>\n",
       "      <td>421915.12</td>\n",
       "      <td>25314907</td>\n",
       "      <td>2</td>\n",
       "      <td>2410</td>\n",
       "      <td>100</td>\n",
       "      <td>400000</td>\n",
       "      <td>Y</td>\n",
       "      <td>35365</td>\n",
       "    </tr>\n",
       "    <tr>\n",
       "      <th>1</th>\n",
       "      <td>2</td>\n",
       "      <td>Enterprise</td>\n",
       "      <td>2018-01-02</td>\n",
       "      <td>2</td>\n",
       "      <td>1</td>\n",
       "      <td>2018</td>\n",
       "      <td>Tues</td>\n",
       "      <td>0</td>\n",
       "      <td>Winter</td>\n",
       "      <td>3.691167</td>\n",
       "      <td>...</td>\n",
       "      <td>0</td>\n",
       "      <td>7047.44</td>\n",
       "      <td>422846.28</td>\n",
       "      <td>25370777</td>\n",
       "      <td>2</td>\n",
       "      <td>2444</td>\n",
       "      <td>434</td>\n",
       "      <td>400000</td>\n",
       "      <td>Y</td>\n",
       "      <td>36718</td>\n",
       "    </tr>\n",
       "    <tr>\n",
       "      <th>2</th>\n",
       "      <td>2</td>\n",
       "      <td>Enterprise</td>\n",
       "      <td>2018-01-03</td>\n",
       "      <td>3</td>\n",
       "      <td>1</td>\n",
       "      <td>2018</td>\n",
       "      <td>Wed</td>\n",
       "      <td>0</td>\n",
       "      <td>Winter</td>\n",
       "      <td>3.678875</td>\n",
       "      <td>...</td>\n",
       "      <td>0</td>\n",
       "      <td>7055.92</td>\n",
       "      <td>423355.10</td>\n",
       "      <td>25401306</td>\n",
       "      <td>2</td>\n",
       "      <td>2433</td>\n",
       "      <td>370</td>\n",
       "      <td>400000</td>\n",
       "      <td>Y</td>\n",
       "      <td>36880</td>\n",
       "    </tr>\n",
       "    <tr>\n",
       "      <th>3</th>\n",
       "      <td>2</td>\n",
       "      <td>Enterprise</td>\n",
       "      <td>2018-01-04</td>\n",
       "      <td>4</td>\n",
       "      <td>1</td>\n",
       "      <td>2018</td>\n",
       "      <td>Thurs</td>\n",
       "      <td>0</td>\n",
       "      <td>Winter</td>\n",
       "      <td>3.613167</td>\n",
       "      <td>...</td>\n",
       "      <td>0</td>\n",
       "      <td>7033.92</td>\n",
       "      <td>422035.35</td>\n",
       "      <td>25322121</td>\n",
       "      <td>2</td>\n",
       "      <td>2441</td>\n",
       "      <td>420</td>\n",
       "      <td>400000</td>\n",
       "      <td>Y</td>\n",
       "      <td>35809</td>\n",
       "    </tr>\n",
       "    <tr>\n",
       "      <th>4</th>\n",
       "      <td>2</td>\n",
       "      <td>Enterprise</td>\n",
       "      <td>2018-01-05</td>\n",
       "      <td>5</td>\n",
       "      <td>1</td>\n",
       "      <td>2018</td>\n",
       "      <td>Fri</td>\n",
       "      <td>0</td>\n",
       "      <td>Winter</td>\n",
       "      <td>3.600375</td>\n",
       "      <td>...</td>\n",
       "      <td>0</td>\n",
       "      <td>7019.11</td>\n",
       "      <td>421146.40</td>\n",
       "      <td>25268784</td>\n",
       "      <td>2</td>\n",
       "      <td>2336</td>\n",
       "      <td>420</td>\n",
       "      <td>400000</td>\n",
       "      <td>Y</td>\n",
       "      <td>34462</td>\n",
       "    </tr>\n",
       "    <tr>\n",
       "      <th>5</th>\n",
       "      <td>2</td>\n",
       "      <td>Enterprise</td>\n",
       "      <td>2018-01-06</td>\n",
       "      <td>6</td>\n",
       "      <td>1</td>\n",
       "      <td>2018</td>\n",
       "      <td>Sat</td>\n",
       "      <td>1</td>\n",
       "      <td>Winter</td>\n",
       "      <td>3.642437</td>\n",
       "      <td>...</td>\n",
       "      <td>0</td>\n",
       "      <td>7031.92</td>\n",
       "      <td>421915.12</td>\n",
       "      <td>25314907</td>\n",
       "      <td>2</td>\n",
       "      <td>313</td>\n",
       "      <td>50</td>\n",
       "      <td>400000</td>\n",
       "      <td>Y</td>\n",
       "      <td>13361</td>\n",
       "    </tr>\n",
       "    <tr>\n",
       "      <th>6</th>\n",
       "      <td>2</td>\n",
       "      <td>Enterprise</td>\n",
       "      <td>2018-01-07</td>\n",
       "      <td>7</td>\n",
       "      <td>1</td>\n",
       "      <td>2018</td>\n",
       "      <td>Sun</td>\n",
       "      <td>1</td>\n",
       "      <td>Winter</td>\n",
       "      <td>3.662000</td>\n",
       "      <td>...</td>\n",
       "      <td>3</td>\n",
       "      <td>7023.74</td>\n",
       "      <td>421424.52</td>\n",
       "      <td>25285471</td>\n",
       "      <td>2</td>\n",
       "      <td>282</td>\n",
       "      <td>60</td>\n",
       "      <td>400000</td>\n",
       "      <td>Y</td>\n",
       "      <td>12310</td>\n",
       "    </tr>\n",
       "    <tr>\n",
       "      <th>7</th>\n",
       "      <td>2</td>\n",
       "      <td>Enterprise</td>\n",
       "      <td>2018-01-08</td>\n",
       "      <td>8</td>\n",
       "      <td>1</td>\n",
       "      <td>2018</td>\n",
       "      <td>Mon</td>\n",
       "      <td>0</td>\n",
       "      <td>Winter</td>\n",
       "      <td>3.627458</td>\n",
       "      <td>...</td>\n",
       "      <td>56</td>\n",
       "      <td>6997.40</td>\n",
       "      <td>419843.98</td>\n",
       "      <td>25190639</td>\n",
       "      <td>2</td>\n",
       "      <td>2439</td>\n",
       "      <td>360</td>\n",
       "      <td>400000</td>\n",
       "      <td>Y</td>\n",
       "      <td>34483</td>\n",
       "    </tr>\n",
       "    <tr>\n",
       "      <th>8</th>\n",
       "      <td>2</td>\n",
       "      <td>Enterprise</td>\n",
       "      <td>2018-01-09</td>\n",
       "      <td>9</td>\n",
       "      <td>1</td>\n",
       "      <td>2018</td>\n",
       "      <td>Tues</td>\n",
       "      <td>0</td>\n",
       "      <td>Winter</td>\n",
       "      <td>3.596833</td>\n",
       "      <td>...</td>\n",
       "      <td>3</td>\n",
       "      <td>6985.12</td>\n",
       "      <td>419107.38</td>\n",
       "      <td>25146443</td>\n",
       "      <td>2</td>\n",
       "      <td>2434</td>\n",
       "      <td>340</td>\n",
       "      <td>400000</td>\n",
       "      <td>Y</td>\n",
       "      <td>35730</td>\n",
       "    </tr>\n",
       "    <tr>\n",
       "      <th>9</th>\n",
       "      <td>2</td>\n",
       "      <td>Enterprise</td>\n",
       "      <td>2018-01-10</td>\n",
       "      <td>10</td>\n",
       "      <td>1</td>\n",
       "      <td>2018</td>\n",
       "      <td>Wed</td>\n",
       "      <td>0</td>\n",
       "      <td>Winter</td>\n",
       "      <td>3.602971</td>\n",
       "      <td>...</td>\n",
       "      <td>0</td>\n",
       "      <td>6971.90</td>\n",
       "      <td>418313.75</td>\n",
       "      <td>25098825</td>\n",
       "      <td>2</td>\n",
       "      <td>2453</td>\n",
       "      <td>518</td>\n",
       "      <td>400000</td>\n",
       "      <td>Y</td>\n",
       "      <td>36843</td>\n",
       "    </tr>\n",
       "  </tbody>\n",
       "</table>\n",
       "<p>10 rows × 22 columns</p>\n",
       "</div>"
      ],
      "text/plain": [
       "   company_id company_type        time  date  month  year    day  is_weekend  \\\n",
       "0           2   Enterprise  2018-01-01     1      1  2018    Mon           0   \n",
       "1           2   Enterprise  2018-01-02     2      1  2018   Tues           0   \n",
       "2           2   Enterprise  2018-01-03     3      1  2018    Wed           0   \n",
       "3           2   Enterprise  2018-01-04     4      1  2018  Thurs           0   \n",
       "4           2   Enterprise  2018-01-05     5      1  2018    Fri           0   \n",
       "5           2   Enterprise  2018-01-06     6      1  2018    Sat           1   \n",
       "6           2   Enterprise  2018-01-07     7      1  2018    Sun           1   \n",
       "7           2   Enterprise  2018-01-08     8      1  2018    Mon           0   \n",
       "8           2   Enterprise  2018-01-09     9      1  2018   Tues           0   \n",
       "9           2   Enterprise  2018-01-10    10      1  2018    Wed           0   \n",
       "\n",
       "   season  avg_pesq_score  ...  temporarily_unable_test  outage_hrs  \\\n",
       "0  Winter        3.692000  ...                        0     7031.92   \n",
       "1  Winter        3.691167  ...                        0     7047.44   \n",
       "2  Winter        3.678875  ...                        0     7055.92   \n",
       "3  Winter        3.613167  ...                        0     7033.92   \n",
       "4  Winter        3.600375  ...                        0     7019.11   \n",
       "5  Winter        3.642437  ...                        0     7031.92   \n",
       "6  Winter        3.662000  ...                        3     7023.74   \n",
       "7  Winter        3.627458  ...                       56     6997.40   \n",
       "8  Winter        3.596833  ...                        3     6985.12   \n",
       "9  Winter        3.602971  ...                        0     6971.90   \n",
       "\n",
       "   outage_mins  outage_secs  number_test_types  numbers_tested  \\\n",
       "0    421915.12     25314907                  2            2410   \n",
       "1    422846.28     25370777                  2            2444   \n",
       "2    423355.10     25401306                  2            2433   \n",
       "3    422035.35     25322121                  2            2441   \n",
       "4    421146.40     25268784                  2            2336   \n",
       "5    421915.12     25314907                  2             313   \n",
       "6    421424.52     25285471                  2             282   \n",
       "7    419843.98     25190639                  2            2439   \n",
       "8    419107.38     25146443                  2            2434   \n",
       "9    418313.75     25098825                  2            2453   \n",
       "\n",
       "   followup_tests  min_commit  is_testing  volume_tests  \n",
       "0             100      400000           Y         35365  \n",
       "1             434      400000           Y         36718  \n",
       "2             370      400000           Y         36880  \n",
       "3             420      400000           Y         35809  \n",
       "4             420      400000           Y         34462  \n",
       "5              50      400000           Y         13361  \n",
       "6              60      400000           Y         12310  \n",
       "7             360      400000           Y         34483  \n",
       "8             340      400000           Y         35730  \n",
       "9             518      400000           Y         36843  \n",
       "\n",
       "[10 rows x 22 columns]"
      ]
     },
     "execution_count": 2,
     "metadata": {},
     "output_type": "execute_result"
    }
   ],
   "source": [
    "df.head(10)"
   ]
  },
  {
   "cell_type": "code",
   "execution_count": 3,
   "metadata": {},
   "outputs": [
    {
     "data": {
      "text/html": [
       "<div>\n",
       "<style scoped>\n",
       "    .dataframe tbody tr th:only-of-type {\n",
       "        vertical-align: middle;\n",
       "    }\n",
       "\n",
       "    .dataframe tbody tr th {\n",
       "        vertical-align: top;\n",
       "    }\n",
       "\n",
       "    .dataframe thead th {\n",
       "        text-align: right;\n",
       "    }\n",
       "</style>\n",
       "<table border=\"1\" class=\"dataframe\">\n",
       "  <thead>\n",
       "    <tr style=\"text-align: right;\">\n",
       "      <th></th>\n",
       "      <th>company_id</th>\n",
       "      <th>company_type</th>\n",
       "      <th>time</th>\n",
       "      <th>date</th>\n",
       "      <th>month</th>\n",
       "      <th>year</th>\n",
       "      <th>day</th>\n",
       "      <th>is_weekend</th>\n",
       "      <th>season</th>\n",
       "      <th>avg_pesq_score</th>\n",
       "      <th>...</th>\n",
       "      <th>temporarily_unable_test</th>\n",
       "      <th>outage_hrs</th>\n",
       "      <th>outage_mins</th>\n",
       "      <th>outage_secs</th>\n",
       "      <th>number_test_types</th>\n",
       "      <th>numbers_tested</th>\n",
       "      <th>followup_tests</th>\n",
       "      <th>min_commit</th>\n",
       "      <th>is_testing</th>\n",
       "      <th>volume_tests</th>\n",
       "    </tr>\n",
       "  </thead>\n",
       "  <tbody>\n",
       "    <tr>\n",
       "      <th>720</th>\n",
       "      <td>2</td>\n",
       "      <td>Enterprise</td>\n",
       "      <td>2019-12-22</td>\n",
       "      <td>22</td>\n",
       "      <td>12</td>\n",
       "      <td>2019</td>\n",
       "      <td>Sun</td>\n",
       "      <td>1</td>\n",
       "      <td>Winter</td>\n",
       "      <td>3.762625</td>\n",
       "      <td>...</td>\n",
       "      <td>0</td>\n",
       "      <td>10127.88</td>\n",
       "      <td>607672.97</td>\n",
       "      <td>36460378</td>\n",
       "      <td>4</td>\n",
       "      <td>1315</td>\n",
       "      <td>0</td>\n",
       "      <td>400000</td>\n",
       "      <td>Y</td>\n",
       "      <td>20759</td>\n",
       "    </tr>\n",
       "    <tr>\n",
       "      <th>721</th>\n",
       "      <td>2</td>\n",
       "      <td>Enterprise</td>\n",
       "      <td>2019-12-23</td>\n",
       "      <td>23</td>\n",
       "      <td>12</td>\n",
       "      <td>2019</td>\n",
       "      <td>Mon</td>\n",
       "      <td>0</td>\n",
       "      <td>Winter</td>\n",
       "      <td>3.751375</td>\n",
       "      <td>...</td>\n",
       "      <td>3</td>\n",
       "      <td>10168.36</td>\n",
       "      <td>610101.75</td>\n",
       "      <td>36606105</td>\n",
       "      <td>4</td>\n",
       "      <td>4158</td>\n",
       "      <td>68</td>\n",
       "      <td>400000</td>\n",
       "      <td>Y</td>\n",
       "      <td>35527</td>\n",
       "    </tr>\n",
       "    <tr>\n",
       "      <th>722</th>\n",
       "      <td>2</td>\n",
       "      <td>Enterprise</td>\n",
       "      <td>2019-12-24</td>\n",
       "      <td>24</td>\n",
       "      <td>12</td>\n",
       "      <td>2019</td>\n",
       "      <td>Tues</td>\n",
       "      <td>0</td>\n",
       "      <td>Winter</td>\n",
       "      <td>3.755500</td>\n",
       "      <td>...</td>\n",
       "      <td>0</td>\n",
       "      <td>10311.83</td>\n",
       "      <td>618710.03</td>\n",
       "      <td>37122602</td>\n",
       "      <td>4</td>\n",
       "      <td>4163</td>\n",
       "      <td>72</td>\n",
       "      <td>400000</td>\n",
       "      <td>Y</td>\n",
       "      <td>36090</td>\n",
       "    </tr>\n",
       "    <tr>\n",
       "      <th>723</th>\n",
       "      <td>2</td>\n",
       "      <td>Enterprise</td>\n",
       "      <td>2019-12-25</td>\n",
       "      <td>25</td>\n",
       "      <td>12</td>\n",
       "      <td>2019</td>\n",
       "      <td>Wed</td>\n",
       "      <td>0</td>\n",
       "      <td>Winter</td>\n",
       "      <td>3.760375</td>\n",
       "      <td>...</td>\n",
       "      <td>0</td>\n",
       "      <td>10225.36</td>\n",
       "      <td>613521.72</td>\n",
       "      <td>36811303</td>\n",
       "      <td>4</td>\n",
       "      <td>4153</td>\n",
       "      <td>9</td>\n",
       "      <td>400000</td>\n",
       "      <td>Y</td>\n",
       "      <td>36118</td>\n",
       "    </tr>\n",
       "    <tr>\n",
       "      <th>724</th>\n",
       "      <td>2</td>\n",
       "      <td>Enterprise</td>\n",
       "      <td>2019-12-26</td>\n",
       "      <td>26</td>\n",
       "      <td>12</td>\n",
       "      <td>2019</td>\n",
       "      <td>Thurs</td>\n",
       "      <td>0</td>\n",
       "      <td>Winter</td>\n",
       "      <td>3.761333</td>\n",
       "      <td>...</td>\n",
       "      <td>0</td>\n",
       "      <td>10304.21</td>\n",
       "      <td>618252.47</td>\n",
       "      <td>37095148</td>\n",
       "      <td>4</td>\n",
       "      <td>4157</td>\n",
       "      <td>54</td>\n",
       "      <td>400000</td>\n",
       "      <td>Y</td>\n",
       "      <td>36047</td>\n",
       "    </tr>\n",
       "    <tr>\n",
       "      <th>725</th>\n",
       "      <td>2</td>\n",
       "      <td>Enterprise</td>\n",
       "      <td>2019-12-27</td>\n",
       "      <td>27</td>\n",
       "      <td>12</td>\n",
       "      <td>2019</td>\n",
       "      <td>Fri</td>\n",
       "      <td>0</td>\n",
       "      <td>Winter</td>\n",
       "      <td>3.756708</td>\n",
       "      <td>...</td>\n",
       "      <td>2</td>\n",
       "      <td>10363.38</td>\n",
       "      <td>621802.63</td>\n",
       "      <td>37308158</td>\n",
       "      <td>4</td>\n",
       "      <td>3357</td>\n",
       "      <td>91</td>\n",
       "      <td>400000</td>\n",
       "      <td>Y</td>\n",
       "      <td>34585</td>\n",
       "    </tr>\n",
       "    <tr>\n",
       "      <th>726</th>\n",
       "      <td>2</td>\n",
       "      <td>Enterprise</td>\n",
       "      <td>2019-12-28</td>\n",
       "      <td>28</td>\n",
       "      <td>12</td>\n",
       "      <td>2019</td>\n",
       "      <td>Sat</td>\n",
       "      <td>1</td>\n",
       "      <td>Winter</td>\n",
       "      <td>3.756750</td>\n",
       "      <td>...</td>\n",
       "      <td>0</td>\n",
       "      <td>10367.88</td>\n",
       "      <td>622072.80</td>\n",
       "      <td>37324368</td>\n",
       "      <td>4</td>\n",
       "      <td>519</td>\n",
       "      <td>14</td>\n",
       "      <td>400000</td>\n",
       "      <td>Y</td>\n",
       "      <td>19898</td>\n",
       "    </tr>\n",
       "    <tr>\n",
       "      <th>727</th>\n",
       "      <td>2</td>\n",
       "      <td>Enterprise</td>\n",
       "      <td>2019-12-29</td>\n",
       "      <td>29</td>\n",
       "      <td>12</td>\n",
       "      <td>2019</td>\n",
       "      <td>Sun</td>\n",
       "      <td>1</td>\n",
       "      <td>Winter</td>\n",
       "      <td>3.774667</td>\n",
       "      <td>...</td>\n",
       "      <td>0</td>\n",
       "      <td>10358.47</td>\n",
       "      <td>621507.90</td>\n",
       "      <td>37290474</td>\n",
       "      <td>4</td>\n",
       "      <td>1318</td>\n",
       "      <td>41</td>\n",
       "      <td>400000</td>\n",
       "      <td>Y</td>\n",
       "      <td>20947</td>\n",
       "    </tr>\n",
       "    <tr>\n",
       "      <th>728</th>\n",
       "      <td>2</td>\n",
       "      <td>Enterprise</td>\n",
       "      <td>2019-12-30</td>\n",
       "      <td>30</td>\n",
       "      <td>12</td>\n",
       "      <td>2019</td>\n",
       "      <td>Mon</td>\n",
       "      <td>0</td>\n",
       "      <td>Winter</td>\n",
       "      <td>3.753833</td>\n",
       "      <td>...</td>\n",
       "      <td>33</td>\n",
       "      <td>10343.88</td>\n",
       "      <td>620632.82</td>\n",
       "      <td>37237969</td>\n",
       "      <td>4</td>\n",
       "      <td>4153</td>\n",
       "      <td>45</td>\n",
       "      <td>400000</td>\n",
       "      <td>Y</td>\n",
       "      <td>35616</td>\n",
       "    </tr>\n",
       "    <tr>\n",
       "      <th>729</th>\n",
       "      <td>2</td>\n",
       "      <td>Enterprise</td>\n",
       "      <td>2019-12-31</td>\n",
       "      <td>31</td>\n",
       "      <td>12</td>\n",
       "      <td>2019</td>\n",
       "      <td>Tues</td>\n",
       "      <td>0</td>\n",
       "      <td>Winter</td>\n",
       "      <td>3.749500</td>\n",
       "      <td>...</td>\n",
       "      <td>30</td>\n",
       "      <td>10627.66</td>\n",
       "      <td>637659.48</td>\n",
       "      <td>38259569</td>\n",
       "      <td>4</td>\n",
       "      <td>4157</td>\n",
       "      <td>37</td>\n",
       "      <td>400000</td>\n",
       "      <td>Y</td>\n",
       "      <td>36029</td>\n",
       "    </tr>\n",
       "  </tbody>\n",
       "</table>\n",
       "<p>10 rows × 22 columns</p>\n",
       "</div>"
      ],
      "text/plain": [
       "     company_id company_type        time  date  month  year    day  \\\n",
       "720           2   Enterprise  2019-12-22    22     12  2019    Sun   \n",
       "721           2   Enterprise  2019-12-23    23     12  2019    Mon   \n",
       "722           2   Enterprise  2019-12-24    24     12  2019   Tues   \n",
       "723           2   Enterprise  2019-12-25    25     12  2019    Wed   \n",
       "724           2   Enterprise  2019-12-26    26     12  2019  Thurs   \n",
       "725           2   Enterprise  2019-12-27    27     12  2019    Fri   \n",
       "726           2   Enterprise  2019-12-28    28     12  2019    Sat   \n",
       "727           2   Enterprise  2019-12-29    29     12  2019    Sun   \n",
       "728           2   Enterprise  2019-12-30    30     12  2019    Mon   \n",
       "729           2   Enterprise  2019-12-31    31     12  2019   Tues   \n",
       "\n",
       "     is_weekend  season  avg_pesq_score  ...  temporarily_unable_test  \\\n",
       "720           1  Winter        3.762625  ...                        0   \n",
       "721           0  Winter        3.751375  ...                        3   \n",
       "722           0  Winter        3.755500  ...                        0   \n",
       "723           0  Winter        3.760375  ...                        0   \n",
       "724           0  Winter        3.761333  ...                        0   \n",
       "725           0  Winter        3.756708  ...                        2   \n",
       "726           1  Winter        3.756750  ...                        0   \n",
       "727           1  Winter        3.774667  ...                        0   \n",
       "728           0  Winter        3.753833  ...                       33   \n",
       "729           0  Winter        3.749500  ...                       30   \n",
       "\n",
       "     outage_hrs  outage_mins  outage_secs  number_test_types  numbers_tested  \\\n",
       "720    10127.88    607672.97     36460378                  4            1315   \n",
       "721    10168.36    610101.75     36606105                  4            4158   \n",
       "722    10311.83    618710.03     37122602                  4            4163   \n",
       "723    10225.36    613521.72     36811303                  4            4153   \n",
       "724    10304.21    618252.47     37095148                  4            4157   \n",
       "725    10363.38    621802.63     37308158                  4            3357   \n",
       "726    10367.88    622072.80     37324368                  4             519   \n",
       "727    10358.47    621507.90     37290474                  4            1318   \n",
       "728    10343.88    620632.82     37237969                  4            4153   \n",
       "729    10627.66    637659.48     38259569                  4            4157   \n",
       "\n",
       "     followup_tests  min_commit  is_testing  volume_tests  \n",
       "720               0      400000           Y         20759  \n",
       "721              68      400000           Y         35527  \n",
       "722              72      400000           Y         36090  \n",
       "723               9      400000           Y         36118  \n",
       "724              54      400000           Y         36047  \n",
       "725              91      400000           Y         34585  \n",
       "726              14      400000           Y         19898  \n",
       "727              41      400000           Y         20947  \n",
       "728              45      400000           Y         35616  \n",
       "729              37      400000           Y         36029  \n",
       "\n",
       "[10 rows x 22 columns]"
      ]
     },
     "execution_count": 3,
     "metadata": {},
     "output_type": "execute_result"
    }
   ],
   "source": [
    "df.tail(10)"
   ]
  },
  {
   "cell_type": "code",
   "execution_count": 4,
   "metadata": {},
   "outputs": [
    {
     "data": {
      "text/html": [
       "<div>\n",
       "<style scoped>\n",
       "    .dataframe tbody tr th:only-of-type {\n",
       "        vertical-align: middle;\n",
       "    }\n",
       "\n",
       "    .dataframe tbody tr th {\n",
       "        vertical-align: top;\n",
       "    }\n",
       "\n",
       "    .dataframe thead th {\n",
       "        text-align: right;\n",
       "    }\n",
       "</style>\n",
       "<table border=\"1\" class=\"dataframe\">\n",
       "  <thead>\n",
       "    <tr style=\"text-align: right;\">\n",
       "      <th></th>\n",
       "      <th>company_id</th>\n",
       "      <th>date</th>\n",
       "      <th>month</th>\n",
       "      <th>year</th>\n",
       "      <th>is_weekend</th>\n",
       "      <th>avg_pesq_score</th>\n",
       "      <th>quality_too_poor</th>\n",
       "      <th>number_busy</th>\n",
       "      <th>temporarily_unable_test</th>\n",
       "      <th>outage_hrs</th>\n",
       "      <th>outage_mins</th>\n",
       "      <th>outage_secs</th>\n",
       "      <th>number_test_types</th>\n",
       "      <th>numbers_tested</th>\n",
       "      <th>followup_tests</th>\n",
       "      <th>min_commit</th>\n",
       "      <th>volume_tests</th>\n",
       "    </tr>\n",
       "  </thead>\n",
       "  <tbody>\n",
       "    <tr>\n",
       "      <th>count</th>\n",
       "      <td>730.0</td>\n",
       "      <td>730.000000</td>\n",
       "      <td>730.000000</td>\n",
       "      <td>730.000000</td>\n",
       "      <td>730.000000</td>\n",
       "      <td>730.000000</td>\n",
       "      <td>730.000000</td>\n",
       "      <td>730.000000</td>\n",
       "      <td>730.000000</td>\n",
       "      <td>730.000000</td>\n",
       "      <td>730.000000</td>\n",
       "      <td>7.300000e+02</td>\n",
       "      <td>730.000000</td>\n",
       "      <td>730.000000</td>\n",
       "      <td>730.000000</td>\n",
       "      <td>730.0</td>\n",
       "      <td>730.000000</td>\n",
       "    </tr>\n",
       "    <tr>\n",
       "      <th>mean</th>\n",
       "      <td>2.0</td>\n",
       "      <td>15.720548</td>\n",
       "      <td>6.526027</td>\n",
       "      <td>2018.500000</td>\n",
       "      <td>0.284932</td>\n",
       "      <td>3.749444</td>\n",
       "      <td>19.463014</td>\n",
       "      <td>369.597260</td>\n",
       "      <td>63.017808</td>\n",
       "      <td>8649.266205</td>\n",
       "      <td>518955.977041</td>\n",
       "      <td>3.113736e+07</td>\n",
       "      <td>3.249315</td>\n",
       "      <td>2336.567123</td>\n",
       "      <td>144.884932</td>\n",
       "      <td>400000.0</td>\n",
       "      <td>37778.194521</td>\n",
       "    </tr>\n",
       "    <tr>\n",
       "      <th>std</th>\n",
       "      <td>0.0</td>\n",
       "      <td>8.802278</td>\n",
       "      <td>3.450215</td>\n",
       "      <td>0.500343</td>\n",
       "      <td>0.451691</td>\n",
       "      <td>0.060763</td>\n",
       "      <td>33.025274</td>\n",
       "      <td>355.118878</td>\n",
       "      <td>158.018807</td>\n",
       "      <td>978.525725</td>\n",
       "      <td>58711.549471</td>\n",
       "      <td>3.522693e+06</td>\n",
       "      <td>0.532387</td>\n",
       "      <td>1139.618676</td>\n",
       "      <td>170.793076</td>\n",
       "      <td>0.0</td>\n",
       "      <td>11522.261007</td>\n",
       "    </tr>\n",
       "    <tr>\n",
       "      <th>min</th>\n",
       "      <td>2.0</td>\n",
       "      <td>1.000000</td>\n",
       "      <td>1.000000</td>\n",
       "      <td>2018.000000</td>\n",
       "      <td>0.000000</td>\n",
       "      <td>3.582000</td>\n",
       "      <td>0.000000</td>\n",
       "      <td>0.000000</td>\n",
       "      <td>0.000000</td>\n",
       "      <td>6714.230000</td>\n",
       "      <td>402853.820000</td>\n",
       "      <td>2.417123e+07</td>\n",
       "      <td>2.000000</td>\n",
       "      <td>274.000000</td>\n",
       "      <td>0.000000</td>\n",
       "      <td>400000.0</td>\n",
       "      <td>7679.000000</td>\n",
       "    </tr>\n",
       "    <tr>\n",
       "      <th>25%</th>\n",
       "      <td>2.0</td>\n",
       "      <td>8.000000</td>\n",
       "      <td>4.000000</td>\n",
       "      <td>2018.000000</td>\n",
       "      <td>0.000000</td>\n",
       "      <td>3.692386</td>\n",
       "      <td>4.000000</td>\n",
       "      <td>117.250000</td>\n",
       "      <td>0.000000</td>\n",
       "      <td>7845.232500</td>\n",
       "      <td>470713.765000</td>\n",
       "      <td>2.824283e+07</td>\n",
       "      <td>3.000000</td>\n",
       "      <td>1001.750000</td>\n",
       "      <td>45.000000</td>\n",
       "      <td>400000.0</td>\n",
       "      <td>25680.000000</td>\n",
       "    </tr>\n",
       "    <tr>\n",
       "      <th>50%</th>\n",
       "      <td>2.0</td>\n",
       "      <td>16.000000</td>\n",
       "      <td>7.000000</td>\n",
       "      <td>2018.500000</td>\n",
       "      <td>0.000000</td>\n",
       "      <td>3.777859</td>\n",
       "      <td>10.000000</td>\n",
       "      <td>271.000000</td>\n",
       "      <td>5.000000</td>\n",
       "      <td>9047.900000</td>\n",
       "      <td>542873.720000</td>\n",
       "      <td>3.257242e+07</td>\n",
       "      <td>3.000000</td>\n",
       "      <td>2710.500000</td>\n",
       "      <td>97.000000</td>\n",
       "      <td>400000.0</td>\n",
       "      <td>40282.000000</td>\n",
       "    </tr>\n",
       "    <tr>\n",
       "      <th>75%</th>\n",
       "      <td>2.0</td>\n",
       "      <td>23.000000</td>\n",
       "      <td>10.000000</td>\n",
       "      <td>2019.000000</td>\n",
       "      <td>1.000000</td>\n",
       "      <td>3.800701</td>\n",
       "      <td>26.000000</td>\n",
       "      <td>523.000000</td>\n",
       "      <td>54.000000</td>\n",
       "      <td>9294.042500</td>\n",
       "      <td>557642.570000</td>\n",
       "      <td>3.345855e+07</td>\n",
       "      <td>4.000000</td>\n",
       "      <td>3093.750000</td>\n",
       "      <td>200.000000</td>\n",
       "      <td>400000.0</td>\n",
       "      <td>46231.500000</td>\n",
       "    </tr>\n",
       "    <tr>\n",
       "      <th>max</th>\n",
       "      <td>2.0</td>\n",
       "      <td>31.000000</td>\n",
       "      <td>12.000000</td>\n",
       "      <td>2019.000000</td>\n",
       "      <td>1.000000</td>\n",
       "      <td>3.850378</td>\n",
       "      <td>627.000000</td>\n",
       "      <td>4456.000000</td>\n",
       "      <td>1258.000000</td>\n",
       "      <td>10627.660000</td>\n",
       "      <td>637659.480000</td>\n",
       "      <td>3.825957e+07</td>\n",
       "      <td>4.000000</td>\n",
       "      <td>4200.000000</td>\n",
       "      <td>2337.000000</td>\n",
       "      <td>400000.0</td>\n",
       "      <td>57033.000000</td>\n",
       "    </tr>\n",
       "  </tbody>\n",
       "</table>\n",
       "</div>"
      ],
      "text/plain": [
       "       company_id        date       month         year  is_weekend  \\\n",
       "count       730.0  730.000000  730.000000   730.000000  730.000000   \n",
       "mean          2.0   15.720548    6.526027  2018.500000    0.284932   \n",
       "std           0.0    8.802278    3.450215     0.500343    0.451691   \n",
       "min           2.0    1.000000    1.000000  2018.000000    0.000000   \n",
       "25%           2.0    8.000000    4.000000  2018.000000    0.000000   \n",
       "50%           2.0   16.000000    7.000000  2018.500000    0.000000   \n",
       "75%           2.0   23.000000   10.000000  2019.000000    1.000000   \n",
       "max           2.0   31.000000   12.000000  2019.000000    1.000000   \n",
       "\n",
       "       avg_pesq_score  quality_too_poor  number_busy  temporarily_unable_test  \\\n",
       "count      730.000000        730.000000   730.000000               730.000000   \n",
       "mean         3.749444         19.463014   369.597260                63.017808   \n",
       "std          0.060763         33.025274   355.118878               158.018807   \n",
       "min          3.582000          0.000000     0.000000                 0.000000   \n",
       "25%          3.692386          4.000000   117.250000                 0.000000   \n",
       "50%          3.777859         10.000000   271.000000                 5.000000   \n",
       "75%          3.800701         26.000000   523.000000                54.000000   \n",
       "max          3.850378        627.000000  4456.000000              1258.000000   \n",
       "\n",
       "         outage_hrs    outage_mins   outage_secs  number_test_types  \\\n",
       "count    730.000000     730.000000  7.300000e+02         730.000000   \n",
       "mean    8649.266205  518955.977041  3.113736e+07           3.249315   \n",
       "std      978.525725   58711.549471  3.522693e+06           0.532387   \n",
       "min     6714.230000  402853.820000  2.417123e+07           2.000000   \n",
       "25%     7845.232500  470713.765000  2.824283e+07           3.000000   \n",
       "50%     9047.900000  542873.720000  3.257242e+07           3.000000   \n",
       "75%     9294.042500  557642.570000  3.345855e+07           4.000000   \n",
       "max    10627.660000  637659.480000  3.825957e+07           4.000000   \n",
       "\n",
       "       numbers_tested  followup_tests  min_commit  volume_tests  \n",
       "count      730.000000      730.000000       730.0    730.000000  \n",
       "mean      2336.567123      144.884932    400000.0  37778.194521  \n",
       "std       1139.618676      170.793076         0.0  11522.261007  \n",
       "min        274.000000        0.000000    400000.0   7679.000000  \n",
       "25%       1001.750000       45.000000    400000.0  25680.000000  \n",
       "50%       2710.500000       97.000000    400000.0  40282.000000  \n",
       "75%       3093.750000      200.000000    400000.0  46231.500000  \n",
       "max       4200.000000     2337.000000    400000.0  57033.000000  "
      ]
     },
     "execution_count": 4,
     "metadata": {},
     "output_type": "execute_result"
    }
   ],
   "source": [
    "df.describe()"
   ]
  },
  {
   "cell_type": "markdown",
   "metadata": {},
   "source": [
    "## B. Missing Values"
   ]
  },
  {
   "cell_type": "code",
   "execution_count": 5,
   "metadata": {},
   "outputs": [
    {
     "data": {
      "text/plain": [
       "company_id                 0\n",
       "company_type               0\n",
       "time                       0\n",
       "date                       0\n",
       "month                      0\n",
       "year                       0\n",
       "day                        0\n",
       "is_weekend                 0\n",
       "season                     0\n",
       "avg_pesq_score             0\n",
       "quality_too_poor           0\n",
       "number_busy                0\n",
       "temporarily_unable_test    0\n",
       "outage_hrs                 0\n",
       "outage_mins                0\n",
       "outage_secs                0\n",
       "number_test_types          0\n",
       "numbers_tested             0\n",
       "followup_tests             0\n",
       "min_commit                 0\n",
       "is_testing                 0\n",
       "volume_tests               0\n",
       "dtype: int64"
      ]
     },
     "execution_count": 5,
     "metadata": {},
     "output_type": "execute_result"
    }
   ],
   "source": [
    "# Find the number of nulls/NaNs in the dataset\n",
    "\n",
    "df.apply(lambda x: sum(x.isnull()), axis=0)"
   ]
  },
  {
   "cell_type": "markdown",
   "metadata": {},
   "source": [
    "#### This shows that there was no missing data"
   ]
  },
  {
   "cell_type": "markdown",
   "metadata": {},
   "source": [
    "### C. Extreme Values/Outliers"
   ]
  },
  {
   "cell_type": "code",
   "execution_count": 6,
   "metadata": {},
   "outputs": [
    {
     "data": {
      "text/html": [
       "<div>\n",
       "<style scoped>\n",
       "    .dataframe tbody tr th:only-of-type {\n",
       "        vertical-align: middle;\n",
       "    }\n",
       "\n",
       "    .dataframe tbody tr th {\n",
       "        vertical-align: top;\n",
       "    }\n",
       "\n",
       "    .dataframe thead th {\n",
       "        text-align: right;\n",
       "    }\n",
       "</style>\n",
       "<table border=\"1\" class=\"dataframe\">\n",
       "  <thead>\n",
       "    <tr style=\"text-align: right;\">\n",
       "      <th></th>\n",
       "      <th>company_id</th>\n",
       "      <th>date</th>\n",
       "      <th>month</th>\n",
       "      <th>year</th>\n",
       "      <th>is_weekend</th>\n",
       "      <th>avg_pesq_score</th>\n",
       "      <th>quality_too_poor</th>\n",
       "      <th>number_busy</th>\n",
       "      <th>temporarily_unable_test</th>\n",
       "      <th>outage_hrs</th>\n",
       "      <th>outage_mins</th>\n",
       "      <th>outage_secs</th>\n",
       "      <th>number_test_types</th>\n",
       "      <th>numbers_tested</th>\n",
       "      <th>followup_tests</th>\n",
       "      <th>min_commit</th>\n",
       "      <th>volume_tests</th>\n",
       "    </tr>\n",
       "  </thead>\n",
       "  <tbody>\n",
       "    <tr>\n",
       "      <th>count</th>\n",
       "      <td>730.0</td>\n",
       "      <td>730.000000</td>\n",
       "      <td>730.000000</td>\n",
       "      <td>730.000000</td>\n",
       "      <td>730.000000</td>\n",
       "      <td>730.000000</td>\n",
       "      <td>730.000000</td>\n",
       "      <td>730.000000</td>\n",
       "      <td>730.000000</td>\n",
       "      <td>730.000000</td>\n",
       "      <td>730.000000</td>\n",
       "      <td>7.300000e+02</td>\n",
       "      <td>730.000000</td>\n",
       "      <td>730.000000</td>\n",
       "      <td>730.000000</td>\n",
       "      <td>730.0</td>\n",
       "      <td>730.000000</td>\n",
       "    </tr>\n",
       "    <tr>\n",
       "      <th>mean</th>\n",
       "      <td>2.0</td>\n",
       "      <td>15.720548</td>\n",
       "      <td>6.526027</td>\n",
       "      <td>2018.500000</td>\n",
       "      <td>0.284932</td>\n",
       "      <td>3.749444</td>\n",
       "      <td>19.463014</td>\n",
       "      <td>369.597260</td>\n",
       "      <td>63.017808</td>\n",
       "      <td>8649.266205</td>\n",
       "      <td>518955.977041</td>\n",
       "      <td>3.113736e+07</td>\n",
       "      <td>3.249315</td>\n",
       "      <td>2336.567123</td>\n",
       "      <td>144.884932</td>\n",
       "      <td>400000.0</td>\n",
       "      <td>37778.194521</td>\n",
       "    </tr>\n",
       "    <tr>\n",
       "      <th>std</th>\n",
       "      <td>0.0</td>\n",
       "      <td>8.802278</td>\n",
       "      <td>3.450215</td>\n",
       "      <td>0.500343</td>\n",
       "      <td>0.451691</td>\n",
       "      <td>0.060763</td>\n",
       "      <td>33.025274</td>\n",
       "      <td>355.118878</td>\n",
       "      <td>158.018807</td>\n",
       "      <td>978.525725</td>\n",
       "      <td>58711.549471</td>\n",
       "      <td>3.522693e+06</td>\n",
       "      <td>0.532387</td>\n",
       "      <td>1139.618676</td>\n",
       "      <td>170.793076</td>\n",
       "      <td>0.0</td>\n",
       "      <td>11522.261007</td>\n",
       "    </tr>\n",
       "    <tr>\n",
       "      <th>min</th>\n",
       "      <td>2.0</td>\n",
       "      <td>1.000000</td>\n",
       "      <td>1.000000</td>\n",
       "      <td>2018.000000</td>\n",
       "      <td>0.000000</td>\n",
       "      <td>3.582000</td>\n",
       "      <td>0.000000</td>\n",
       "      <td>0.000000</td>\n",
       "      <td>0.000000</td>\n",
       "      <td>6714.230000</td>\n",
       "      <td>402853.820000</td>\n",
       "      <td>2.417123e+07</td>\n",
       "      <td>2.000000</td>\n",
       "      <td>274.000000</td>\n",
       "      <td>0.000000</td>\n",
       "      <td>400000.0</td>\n",
       "      <td>7679.000000</td>\n",
       "    </tr>\n",
       "    <tr>\n",
       "      <th>25%</th>\n",
       "      <td>2.0</td>\n",
       "      <td>8.000000</td>\n",
       "      <td>4.000000</td>\n",
       "      <td>2018.000000</td>\n",
       "      <td>0.000000</td>\n",
       "      <td>3.692386</td>\n",
       "      <td>4.000000</td>\n",
       "      <td>117.250000</td>\n",
       "      <td>0.000000</td>\n",
       "      <td>7845.232500</td>\n",
       "      <td>470713.765000</td>\n",
       "      <td>2.824283e+07</td>\n",
       "      <td>3.000000</td>\n",
       "      <td>1001.750000</td>\n",
       "      <td>45.000000</td>\n",
       "      <td>400000.0</td>\n",
       "      <td>25680.000000</td>\n",
       "    </tr>\n",
       "    <tr>\n",
       "      <th>50%</th>\n",
       "      <td>2.0</td>\n",
       "      <td>16.000000</td>\n",
       "      <td>7.000000</td>\n",
       "      <td>2018.500000</td>\n",
       "      <td>0.000000</td>\n",
       "      <td>3.777859</td>\n",
       "      <td>10.000000</td>\n",
       "      <td>271.000000</td>\n",
       "      <td>5.000000</td>\n",
       "      <td>9047.900000</td>\n",
       "      <td>542873.720000</td>\n",
       "      <td>3.257242e+07</td>\n",
       "      <td>3.000000</td>\n",
       "      <td>2710.500000</td>\n",
       "      <td>97.000000</td>\n",
       "      <td>400000.0</td>\n",
       "      <td>40282.000000</td>\n",
       "    </tr>\n",
       "    <tr>\n",
       "      <th>75%</th>\n",
       "      <td>2.0</td>\n",
       "      <td>23.000000</td>\n",
       "      <td>10.000000</td>\n",
       "      <td>2019.000000</td>\n",
       "      <td>1.000000</td>\n",
       "      <td>3.800701</td>\n",
       "      <td>26.000000</td>\n",
       "      <td>523.000000</td>\n",
       "      <td>54.000000</td>\n",
       "      <td>9294.042500</td>\n",
       "      <td>557642.570000</td>\n",
       "      <td>3.345855e+07</td>\n",
       "      <td>4.000000</td>\n",
       "      <td>3093.750000</td>\n",
       "      <td>200.000000</td>\n",
       "      <td>400000.0</td>\n",
       "      <td>46231.500000</td>\n",
       "    </tr>\n",
       "    <tr>\n",
       "      <th>max</th>\n",
       "      <td>2.0</td>\n",
       "      <td>31.000000</td>\n",
       "      <td>12.000000</td>\n",
       "      <td>2019.000000</td>\n",
       "      <td>1.000000</td>\n",
       "      <td>3.850378</td>\n",
       "      <td>627.000000</td>\n",
       "      <td>4456.000000</td>\n",
       "      <td>1258.000000</td>\n",
       "      <td>10627.660000</td>\n",
       "      <td>637659.480000</td>\n",
       "      <td>3.825957e+07</td>\n",
       "      <td>4.000000</td>\n",
       "      <td>4200.000000</td>\n",
       "      <td>2337.000000</td>\n",
       "      <td>400000.0</td>\n",
       "      <td>57033.000000</td>\n",
       "    </tr>\n",
       "  </tbody>\n",
       "</table>\n",
       "</div>"
      ],
      "text/plain": [
       "       company_id        date       month         year  is_weekend  \\\n",
       "count       730.0  730.000000  730.000000   730.000000  730.000000   \n",
       "mean          2.0   15.720548    6.526027  2018.500000    0.284932   \n",
       "std           0.0    8.802278    3.450215     0.500343    0.451691   \n",
       "min           2.0    1.000000    1.000000  2018.000000    0.000000   \n",
       "25%           2.0    8.000000    4.000000  2018.000000    0.000000   \n",
       "50%           2.0   16.000000    7.000000  2018.500000    0.000000   \n",
       "75%           2.0   23.000000   10.000000  2019.000000    1.000000   \n",
       "max           2.0   31.000000   12.000000  2019.000000    1.000000   \n",
       "\n",
       "       avg_pesq_score  quality_too_poor  number_busy  temporarily_unable_test  \\\n",
       "count      730.000000        730.000000   730.000000               730.000000   \n",
       "mean         3.749444         19.463014   369.597260                63.017808   \n",
       "std          0.060763         33.025274   355.118878               158.018807   \n",
       "min          3.582000          0.000000     0.000000                 0.000000   \n",
       "25%          3.692386          4.000000   117.250000                 0.000000   \n",
       "50%          3.777859         10.000000   271.000000                 5.000000   \n",
       "75%          3.800701         26.000000   523.000000                54.000000   \n",
       "max          3.850378        627.000000  4456.000000              1258.000000   \n",
       "\n",
       "         outage_hrs    outage_mins   outage_secs  number_test_types  \\\n",
       "count    730.000000     730.000000  7.300000e+02         730.000000   \n",
       "mean    8649.266205  518955.977041  3.113736e+07           3.249315   \n",
       "std      978.525725   58711.549471  3.522693e+06           0.532387   \n",
       "min     6714.230000  402853.820000  2.417123e+07           2.000000   \n",
       "25%     7845.232500  470713.765000  2.824283e+07           3.000000   \n",
       "50%     9047.900000  542873.720000  3.257242e+07           3.000000   \n",
       "75%     9294.042500  557642.570000  3.345855e+07           4.000000   \n",
       "max    10627.660000  637659.480000  3.825957e+07           4.000000   \n",
       "\n",
       "       numbers_tested  followup_tests  min_commit  volume_tests  \n",
       "count      730.000000      730.000000       730.0    730.000000  \n",
       "mean      2336.567123      144.884932    400000.0  37778.194521  \n",
       "std       1139.618676      170.793076         0.0  11522.261007  \n",
       "min        274.000000        0.000000    400000.0   7679.000000  \n",
       "25%       1001.750000       45.000000    400000.0  25680.000000  \n",
       "50%       2710.500000       97.000000    400000.0  40282.000000  \n",
       "75%       3093.750000      200.000000    400000.0  46231.500000  \n",
       "max       4200.000000     2337.000000    400000.0  57033.000000  "
      ]
     },
     "execution_count": 6,
     "metadata": {},
     "output_type": "execute_result"
    }
   ],
   "source": [
    "df.describe()"
   ]
  },
  {
   "cell_type": "markdown",
   "metadata": {},
   "source": [
    "#### Lets plot histograms for each numerical atrribute"
   ]
  },
  {
   "cell_type": "code",
   "execution_count": 7,
   "metadata": {},
   "outputs": [
    {
     "data": {
      "text/plain": [
       "<matplotlib.axes._subplots.AxesSubplot at 0x7ff3ca899b10>"
      ]
     },
     "execution_count": 7,
     "metadata": {},
     "output_type": "execute_result"
    },
    {
     "data": {
      "image/png": "[encoded data removed]",
      "text/plain": [
       "<Figure size 1440x432 with 3 Axes>"
      ]
     },
     "metadata": {
      "needs_background": "light"
     },
     "output_type": "display_data"
    }
   ],
   "source": [
    "# Create figure with two subplots\n",
    "fig = plt.figure(figsize=(20,6))\n",
    "\n",
    "# Plot avg_pesq_score\n",
    "ax1 = fig.add_subplot(1, 3, 1)\n",
    "ax1.set_title(\"Histogram of Avg. Pesq Score\")\n",
    "sns.distplot(df['avg_pesq_score'], kde=False, axlabel=False, label='avg_pesq_score')\n",
    "\n",
    "# Plot number_busy\n",
    "ax1 = fig.add_subplot(1, 3, 2)\n",
    "ax1.set_title(\"Histogram of Number Busy\")\n",
    "sns.distplot(df['number_busy'], kde=False, axlabel=False, label='number_busy')\n",
    "\n",
    "# Plot temporarily_unable_test\n",
    "ax1 = fig.add_subplot(1, 3, 3)\n",
    "ax1.set_title(\"Histogram of Temporarily Unable Test\")\n",
    "sns.distplot(df['temporarily_unable_test'], kde=False,axlabel=False, label='temporarily_unable_test')"
   ]
  },
  {
   "cell_type": "code",
   "execution_count": 8,
   "metadata": {},
   "outputs": [
    {
     "data": {
      "text/plain": [
       "<matplotlib.axes._subplots.AxesSubplot at 0x7ff3ca5ad5d0>"
      ]
     },
     "execution_count": 8,
     "metadata": {},
     "output_type": "execute_result"
    },
    {
     "data": {
      "image/png": "[encoded data removed]",
      "text/plain": [
       "<Figure size 1440x432 with 3 Axes>"
      ]
     },
     "metadata": {
      "needs_background": "light"
     },
     "output_type": "display_data"
    }
   ],
   "source": [
    "# Create figure with two subplots\n",
    "fig = plt.figure(figsize=(20,6))\n",
    "\n",
    "# Plot outage_hrs\n",
    "ax1 = fig.add_subplot(1, 3, 1)\n",
    "ax1.set_title(\"Histogram of outage_hrs\")\n",
    "sns.distplot(df['outage_hrs'], kde=False,axlabel=False, label='outage_hrs')\n",
    "\n",
    "# Plot number_test_types\n",
    "ax1 = fig.add_subplot(1, 3, 2)\n",
    "ax1.set_title(\"Histogram of number_test_types\")\n",
    "sns.distplot(df['number_test_types'], kde=False,axlabel=False, label='number_test_types')\n",
    "\n",
    "# Plot numbers_tested\n",
    "ax2 = fig.add_subplot(1, 3, 3)\n",
    "ax2.set_title(\"Histogram of numbers_tested\")\n",
    "sns.distplot(df['numbers_tested'], kde=False,axlabel=False, label='numbers_tested')"
   ]
  },
  {
   "cell_type": "code",
   "execution_count": 9,
   "metadata": {},
   "outputs": [
    {
     "data": {
      "text/plain": [
       "<matplotlib.axes._subplots.AxesSubplot at 0x7ff3ca3abb10>"
      ]
     },
     "execution_count": 9,
     "metadata": {},
     "output_type": "execute_result"
    },
    {
     "data": {
      "image/png": "[encoded data removed]",
      "text/plain": [
       "<Figure size 1440x432 with 3 Axes>"
      ]
     },
     "metadata": {
      "needs_background": "light"
     },
     "output_type": "display_data"
    }
   ],
   "source": [
    "# Create figure with two subplots\n",
    "fig = plt.figure(figsize=(20,6))\n",
    "\n",
    "# Plot followup_tests\n",
    "ax1 = fig.add_subplot(1, 3, 1)\n",
    "ax1.set_title(\"Histogram of followup_tests\")\n",
    "sns.distplot(df['followup_tests'], kde=False,axlabel=False, label='followup_tests')\n",
    "\n",
    "# Plot min_commit\n",
    "ax1 = fig.add_subplot(1, 3, 2)\n",
    "ax1.set_title(\"Histogram of min_commit\")\n",
    "sns.distplot(df['min_commit'], kde=False,axlabel=False, label='min_commit')\n",
    "\n",
    "# Plot quality_too_poor\n",
    "ax2 = fig.add_subplot(1, 3, 3)\n",
    "ax2.set_title(\"Histogram of quality_too_poor\")\n",
    "sns.distplot(df['quality_too_poor'], kde=False,axlabel=False, label='quality_too_poor')"
   ]
  },
  {
   "cell_type": "markdown",
   "metadata": {},
   "source": [
    "#### From the plots above we can see the columns with extreme values or inbalanced distribution are number_busy, temporarily_unable_test, outage_hrs, numbers_tested, followup_tests, quality_too_poor"
   ]
  },
  {
   "cell_type": "markdown",
   "metadata": {},
   "source": [
    "### Number Busy"
   ]
  },
  {
   "cell_type": "code",
   "execution_count": 10,
   "metadata": {},
   "outputs": [
    {
     "data": {
      "text/plain": [
       "count     730.000000\n",
       "mean      369.597260\n",
       "std       355.118878\n",
       "min         0.000000\n",
       "25%       117.250000\n",
       "50%       271.000000\n",
       "75%       523.000000\n",
       "max      4456.000000\n",
       "Name: number_busy, dtype: float64"
      ]
     },
     "execution_count": 10,
     "metadata": {},
     "output_type": "execute_result"
    }
   ],
   "source": [
    "df['number_busy'].describe()"
   ]
  },
  {
   "cell_type": "code",
   "execution_count": 11,
   "metadata": {},
   "outputs": [
    {
     "data": {
      "text/plain": [
       "<matplotlib.axes._subplots.AxesSubplot at 0x7ff3ca1de510>"
      ]
     },
     "execution_count": 11,
     "metadata": {},
     "output_type": "execute_result"
    },
    {
     "data": {
      "image/png": "[encoded data removed]",
      "text/plain": [
       "<Figure size 1440x720 with 1 Axes>"
      ]
     },
     "metadata": {
      "needs_background": "light"
     },
     "output_type": "display_data"
    }
   ],
   "source": [
    "plt.figure(figsize=(20, 10))\n",
    "sns.boxplot(x=df['number_busy'])"
   ]
  },
  {
   "cell_type": "code",
   "execution_count": 12,
   "metadata": {},
   "outputs": [
    {
     "name": "stdout",
     "output_type": "stream",
     "text": [
      "number_busy    2\n",
      "dtype: int64\n"
     ]
    }
   ],
   "source": [
    "print((df[['number_busy']] > 2000).sum())"
   ]
  },
  {
   "cell_type": "code",
   "execution_count": 13,
   "metadata": {},
   "outputs": [],
   "source": [
    "# Get names of indexes for which column temporarily_unable_test has value 1000\n",
    "index = df[ df['number_busy'] > 2000 ].index\n",
    "\n",
    "# Delete these row indexes from dataFrame\n",
    "df.drop(index , inplace=True)"
   ]
  },
  {
   "cell_type": "code",
   "execution_count": 14,
   "metadata": {},
   "outputs": [
    {
     "data": {
      "image/png": "[encoded data removed]",
      "text/plain": [
       "<Figure size 1440x720 with 1 Axes>"
      ]
     },
     "metadata": {
      "needs_background": "light"
     },
     "output_type": "display_data"
    }
   ],
   "source": [
    "plt.figure(figsize=(20, 10))\n",
    "sns.distplot(df['number_busy'], kde=False, axlabel=False, label='number_busy')\n",
    "plt.legend()\n",
    "plt.show()"
   ]
  },
  {
   "cell_type": "markdown",
   "metadata": {},
   "source": [
    "### Temporarily Unable Test"
   ]
  },
  {
   "cell_type": "code",
   "execution_count": 15,
   "metadata": {},
   "outputs": [
    {
     "data": {
      "text/plain": [
       "count     728.000000\n",
       "mean       63.152473\n",
       "std       158.213366\n",
       "min         0.000000\n",
       "25%         0.000000\n",
       "50%         5.000000\n",
       "75%        54.000000\n",
       "max      1258.000000\n",
       "Name: temporarily_unable_test, dtype: float64"
      ]
     },
     "execution_count": 15,
     "metadata": {},
     "output_type": "execute_result"
    }
   ],
   "source": [
    "df['temporarily_unable_test'].describe()"
   ]
  },
  {
   "cell_type": "code",
   "execution_count": 16,
   "metadata": {},
   "outputs": [
    {
     "data": {
      "text/plain": [
       "<matplotlib.axes._subplots.AxesSubplot at 0x7ff3ca110050>"
      ]
     },
     "execution_count": 16,
     "metadata": {},
     "output_type": "execute_result"
    },
    {
     "data": {
      "image/png": "[encoded data removed]",
      "text/plain": [
       "<Figure size 1440x720 with 1 Axes>"
      ]
     },
     "metadata": {
      "needs_background": "light"
     },
     "output_type": "display_data"
    }
   ],
   "source": [
    "plt.figure(figsize=(20, 10))\n",
    "sns.boxplot(x=df['temporarily_unable_test'])"
   ]
  },
  {
   "cell_type": "markdown",
   "metadata": {},
   "source": [
    "#### Above plot shows alot of extrame values outside the 75% quartile. In particular there are quite a few outliers that are greater than 1000. Lets see how many points this effects. "
   ]
  },
  {
   "cell_type": "code",
   "execution_count": 17,
   "metadata": {},
   "outputs": [
    {
     "name": "stdout",
     "output_type": "stream",
     "text": [
      "temporarily_unable_test    5\n",
      "dtype: int64\n"
     ]
    }
   ],
   "source": [
    "print((df[['temporarily_unable_test']] > 1000).sum())"
   ]
  },
  {
   "cell_type": "markdown",
   "metadata": {},
   "source": [
    "#### As we can see there 5 results over 1000. This is around ~0.68% of the dataset I can safely remove this as they will not have a big affect the model."
   ]
  },
  {
   "cell_type": "code",
   "execution_count": 18,
   "metadata": {},
   "outputs": [],
   "source": [
    "# Get names of indexes for which column temporarily_unable_test has value 1000\n",
    "index = df[ df['temporarily_unable_test'] > 1000 ].index\n",
    "\n",
    "# Delete these row indexes from dataFrame\n",
    "df.drop(index , inplace=True)"
   ]
  },
  {
   "cell_type": "code",
   "execution_count": 19,
   "metadata": {},
   "outputs": [
    {
     "data": {
      "image/png": "[encoded data removed]",
      "text/plain": [
       "<Figure size 1440x720 with 1 Axes>"
      ]
     },
     "metadata": {
      "needs_background": "light"
     },
     "output_type": "display_data"
    }
   ],
   "source": [
    "plt.figure(figsize=(20, 10))\n",
    "sns.distplot(df['temporarily_unable_test'], kde=False, axlabel=False, label='temporarily_unable_test')\n",
    "plt.legend()\n",
    "plt.show()"
   ]
  },
  {
   "cell_type": "markdown",
   "metadata": {},
   "source": [
    "### Follow-up_tests"
   ]
  },
  {
   "cell_type": "code",
   "execution_count": 20,
   "metadata": {},
   "outputs": [],
   "source": [
    "# Use a log transformation to decrease the impact of extreme values in column followup_tests\n",
    "df['followup_tests_log'] = np.log(df['followup_tests'] + 1)"
   ]
  },
  {
   "cell_type": "code",
   "execution_count": 21,
   "metadata": {},
   "outputs": [
    {
     "data": {
      "text/plain": [
       "<matplotlib.axes._subplots.AxesSubplot at 0x7ff3c9ed91d0>"
      ]
     },
     "execution_count": 21,
     "metadata": {},
     "output_type": "execute_result"
    },
    {
     "data": {
      "image/png": "[encoded data removed]",
      "text/plain": [
       "<Figure size 1152x288 with 2 Axes>"
      ]
     },
     "metadata": {
      "needs_background": "light"
     },
     "output_type": "display_data"
    }
   ],
   "source": [
    "# Create figure with two subplots\n",
    "fig = plt.figure(figsize=(16,4))\n",
    "\n",
    "# Plot Balance\n",
    "ax1 = fig.add_subplot(1, 2, 1)\n",
    "ax1.set_title(\"Histogram of followup_tests\")\n",
    "ax1.set_xlabel('followup_tests')\n",
    "sns.distplot(df['followup_tests'], kde=False, axlabel=False, label='followup_tests')\n",
    "\n",
    "# Plot duration\n",
    "ax2 = fig.add_subplot(1, 2, 2)\n",
    "ax2.set_title(\"Histogram of ln(followup_tests)\")\n",
    "ax2.set_xlabel('ln(followup_tests)')\n",
    "sns.distplot(df['followup_tests_log'], kde=False, axlabel=False, label='ln(followup_tests)')"
   ]
  },
  {
   "cell_type": "markdown",
   "metadata": {},
   "source": [
    "#### Logs can also be used to reduce the impact of outliers in our model without losing information"
   ]
  },
  {
   "cell_type": "markdown",
   "metadata": {},
   "source": [
    "### Quality Too Poor"
   ]
  },
  {
   "cell_type": "code",
   "execution_count": 22,
   "metadata": {},
   "outputs": [
    {
     "data": {
      "text/plain": [
       "count    723.000000\n",
       "mean      19.466113\n",
       "std       33.157559\n",
       "min        0.000000\n",
       "25%        4.000000\n",
       "50%       10.000000\n",
       "75%       26.000000\n",
       "max      627.000000\n",
       "Name: quality_too_poor, dtype: float64"
      ]
     },
     "execution_count": 22,
     "metadata": {},
     "output_type": "execute_result"
    }
   ],
   "source": [
    "df['quality_too_poor'].describe()"
   ]
  },
  {
   "cell_type": "code",
   "execution_count": 23,
   "metadata": {},
   "outputs": [
    {
     "data": {
      "text/plain": [
       "<matplotlib.axes._subplots.AxesSubplot at 0x7ff3ca299e90>"
      ]
     },
     "execution_count": 23,
     "metadata": {},
     "output_type": "execute_result"
    },
    {
     "data": {
      "image/png": "[encoded data removed]",
      "text/plain": [
       "<Figure size 1440x720 with 1 Axes>"
      ]
     },
     "metadata": {
      "needs_background": "light"
     },
     "output_type": "display_data"
    }
   ],
   "source": [
    "plt.figure(figsize=(20, 10))\n",
    "sns.boxplot(x=df['quality_too_poor'])"
   ]
  },
  {
   "cell_type": "code",
   "execution_count": 24,
   "metadata": {},
   "outputs": [
    {
     "name": "stdout",
     "output_type": "stream",
     "text": [
      "quality_too_poor    2\n",
      "dtype: int64\n"
     ]
    }
   ],
   "source": [
    "print((df[['quality_too_poor']] > 300).sum())"
   ]
  },
  {
   "cell_type": "code",
   "execution_count": 25,
   "metadata": {},
   "outputs": [],
   "source": [
    "# Get names of indexes for which column outage_hrs has value < 1000 \n",
    "index = df[ df['quality_too_poor'] > 300 ].index\n",
    "\n",
    "# Delete these row indexes from dataFrame\n",
    "df.drop(index , inplace=True)"
   ]
  },
  {
   "cell_type": "code",
   "execution_count": 26,
   "metadata": {},
   "outputs": [
    {
     "data": {
      "image/png": "[encoded data removed]",
      "text/plain": [
       "<Figure size 1440x720 with 1 Axes>"
      ]
     },
     "metadata": {
      "needs_background": "light"
     },
     "output_type": "display_data"
    }
   ],
   "source": [
    "plt.figure(figsize=(20, 10))\n",
    "sns.distplot(df['quality_too_poor'], kde=False, axlabel=False, label='quality_too_poor')\n",
    "plt.legend()\n",
    "plt.show()"
   ]
  },
  {
   "cell_type": "markdown",
   "metadata": {},
   "source": [
    "### Outage Hrs"
   ]
  },
  {
   "cell_type": "code",
   "execution_count": 27,
   "metadata": {},
   "outputs": [],
   "source": [
    "# Use a log transformation to decrease the impact of extreme values in column followup_tests\n",
    "df['outage_hrs_log'] = np.log(df['outage_hrs'])"
   ]
  },
  {
   "cell_type": "code",
   "execution_count": 28,
   "metadata": {},
   "outputs": [
    {
     "data": {
      "text/plain": [
       "<matplotlib.axes._subplots.AxesSubplot at 0x7ff3ca132490>"
      ]
     },
     "execution_count": 28,
     "metadata": {},
     "output_type": "execute_result"
    },
    {
     "data": {
      "image/png": "[encoded data removed]",
      "text/plain": [
       "<Figure size 1152x288 with 2 Axes>"
      ]
     },
     "metadata": {
      "needs_background": "light"
     },
     "output_type": "display_data"
    }
   ],
   "source": [
    "# Create figure with two subplots\n",
    "fig = plt.figure(figsize=(16,4))\n",
    "\n",
    "# Plot Balance\n",
    "ax1 = fig.add_subplot(1, 2, 1)\n",
    "ax1.set_title(\"Histogram of outage_hrs\")\n",
    "ax1.set_xlabel('outage_hrs')\n",
    "sns.distplot(df['outage_hrs'], kde=False, axlabel=False, label='outage_hrs')\n",
    "\n",
    "# Plot duration\n",
    "ax2 = fig.add_subplot(1, 2, 2)\n",
    "ax2.set_title(\"Histogram of ln(outage_hrs)\")\n",
    "ax2.set_xlabel('ln(outage_hrs)')\n",
    "sns.distplot(df['outage_hrs_log'], kde=False, axlabel=False, label='ln(outage_hrs)')"
   ]
  },
  {
   "cell_type": "markdown",
   "metadata": {},
   "source": [
    "### Numbers Tested"
   ]
  },
  {
   "cell_type": "code",
   "execution_count": 29,
   "metadata": {},
   "outputs": [],
   "source": [
    "# Use a log transformation to decrease the impact of extreme values in column followup_tests\n",
    "df['numbers_tested_log'] = np.log(df['numbers_tested'])"
   ]
  },
  {
   "cell_type": "code",
   "execution_count": 30,
   "metadata": {},
   "outputs": [
    {
     "data": {
      "text/plain": [
       "<matplotlib.axes._subplots.AxesSubplot at 0x7ff3c79f0150>"
      ]
     },
     "execution_count": 30,
     "metadata": {},
     "output_type": "execute_result"
    },
    {
     "data": {
      "image/png": "[encoded data removed]",
      "text/plain": [
       "<Figure size 1152x288 with 2 Axes>"
      ]
     },
     "metadata": {
      "needs_background": "light"
     },
     "output_type": "display_data"
    }
   ],
   "source": [
    "# Create figure with two subplots\n",
    "fig = plt.figure(figsize=(16,4))\n",
    "\n",
    "# Plot Balance\n",
    "ax1 = fig.add_subplot(1, 2, 1)\n",
    "ax1.set_title(\"Histogram of numbers_tested\")\n",
    "ax1.set_xlabel('numbers_tested')\n",
    "sns.distplot(df['numbers_tested'], kde=False, axlabel=False, label='numbers_tested')\n",
    "\n",
    "# Plot duration\n",
    "ax2 = fig.add_subplot(1, 2, 2)\n",
    "ax2.set_title(\"Histogram of ln(numbers_tested)\")\n",
    "ax2.set_xlabel('ln(numbers_tested)')\n",
    "sns.distplot(df['numbers_tested_log'], kde=False, axlabel=False, label='ln(numbers_tested_log)')"
   ]
  },
  {
   "cell_type": "markdown",
   "metadata": {},
   "source": [
    "#### As we have created new feature for number_busy, followup_tests, outage_hrs we can drop these feature"
   ]
  },
  {
   "cell_type": "code",
   "execution_count": 31,
   "metadata": {},
   "outputs": [],
   "source": [
    "df.drop(['followup_tests','outage_hrs', 'numbers_tested'], inplace=True, axis=1)"
   ]
  },
  {
   "cell_type": "markdown",
   "metadata": {},
   "source": [
    "## D. Linear Regression, Distribution, Hoeffding Equation"
   ]
  },
  {
   "cell_type": "code",
   "execution_count": 32,
   "metadata": {},
   "outputs": [
    {
     "name": "stdout",
     "output_type": "stream",
     "text": [
      "0.11499551718262235\n",
      "0.07215658487796439\n"
     ]
    }
   ],
   "source": [
    "# lets define our input features\n",
    "X = np.vstack((df['numbers_tested_log'], df['is_weekend'], df['outage_hrs_log'])).T\n",
    "\n",
    "# lets also define our output feature\n",
    "Y = np.hstack((df['volume_tests']))\n",
    "\n",
    "# Split data set into training and test data\n",
    "xTrain, xTest, yTrain, yTest = train_test_split(X, Y, test_size = 0.2, random_state = 0)\n",
    "\n",
    "#fit training data on linear regression model\n",
    "clf = LinearRegression().fit(xTrain, yTrain)\n",
    "\n",
    "#Calculate Ein and Eout\n",
    "Ein = 1 - clf.score(xTrain, yTrain)\n",
    "Eout = 1 - clf.score(xTest, yTest)\n",
    "print(Ein)\n",
    "print(Eout)"
   ]
  },
  {
   "cell_type": "code",
   "execution_count": 33,
   "metadata": {},
   "outputs": [],
   "source": [
    "def experiment(users, weights, N, df):\n",
    "    outcomes = []\n",
    "    for i in range(users):\n",
    "        # lets choose a sample from dataset\n",
    "        sample = df.sample(n=N)\n",
    "        # lets define our input features from the random sample\n",
    "        X = np.vstack((sample['numbers_tested_log'], sample['is_weekend'], sample['outage_hrs_log'])).T\n",
    "\n",
    "        # lets also define our output feature from our random sample\n",
    "        Y = np.vstack(((sample['volume_tests'])))\n",
    "\n",
    "        # calculate in-sample error\n",
    "        Ein = 1 - clf.score(X, Y)\n",
    "        \n",
    "        # add in sample error to outcome list\n",
    "        outcomes.append(Ein)\n",
    "    \n",
    "    v_1 = outcomes[0] \n",
    "    v_rand = outcomes[rnd.randint(0,users-1)]\n",
    "    v_min = min(outcomes)\n",
    "    \n",
    "    return v_1,v_rand,v_min"
   ]
  },
  {
   "cell_type": "code",
   "execution_count": 34,
   "metadata": {},
   "outputs": [
    {
     "data": {
      "image/png": "[encoded data removed]",
      "text/plain": [
       "<Figure size 1440x720 with 1 Axes>"
      ]
     },
     "metadata": {
      "needs_background": "light"
     },
     "output_type": "display_data"
    },
    {
     "data": {
      "image/png": "[encoded data removed]",
      "text/plain": [
       "<Figure size 1440x720 with 1 Axes>"
      ]
     },
     "metadata": {
      "needs_background": "light"
     },
     "output_type": "display_data"
    },
    {
     "data": {
      "image/png": "[encoded data removed]",
      "text/plain": [
       "<Figure size 1440x720 with 1 Axes>"
      ]
     },
     "metadata": {
      "needs_background": "light"
     },
     "output_type": "display_data"
    }
   ],
   "source": [
    "users = len(X)\n",
    "N=10\n",
    "repeats = 100\n",
    "\n",
    "dist_1 = []\n",
    "dist_rand=[]\n",
    "dist_min=[]\n",
    "lists = [dist_1, dist_rand, dist_min]\n",
    "\n",
    "#d = np.column_stack((X,y))\n",
    "#df = pd.DataFrame(data=d, dtype=np.int8)\n",
    "\n",
    "for e in range(repeats):\n",
    "    for x, lst in zip(experiment(users, clf, N, df), lists):\n",
    "        lst.append(x)\n",
    "\n",
    "plt.figure(figsize=(20, 10))\n",
    "plt.hist(lists[0])\n",
    "plt.title('Distribution first row')\n",
    "plt.show()\n",
    "\n",
    "plt.figure(figsize=(20, 10))\n",
    "plt.hist(lists[1])\n",
    "plt.title('Distribution random row')\n",
    "plt.show()\n",
    "\n",
    "plt.figure(figsize=(20, 10))\n",
    "plt.hist(lists[2])\n",
    "plt.title('Distribution of min row')\n",
    "plt.show()"
   ]
  },
  {
   "cell_type": "code",
   "execution_count": 35,
   "metadata": {},
   "outputs": [
    {
     "data": {
      "image/png": "[encoded data removed]",
      "text/plain": [
       "<Figure size 1440x720 with 1 Axes>"
      ]
     },
     "metadata": {
      "needs_background": "light"
     },
     "output_type": "display_data"
    },
    {
     "data": {
      "image/png": "[encoded data removed]",
      "text/plain": [
       "<Figure size 1440x720 with 1 Axes>"
      ]
     },
     "metadata": {
      "needs_background": "light"
     },
     "output_type": "display_data"
    },
    {
     "data": {
      "image/png": "[encoded data removed]",
      "text/plain": [
       "<Figure size 1440x720 with 1 Axes>"
      ]
     },
     "metadata": {
      "needs_background": "light"
     },
     "output_type": "display_data"
    }
   ],
   "source": [
    "titles = [\"First\", \"Random\", \"Min\"]\n",
    "dvc = len(X[0])\n",
    "for d in range(0,3):\n",
    "    dist = lists[d]\n",
    "    prob_epsilon=[]\n",
    "    epsilons = np.arange(0, 1, 0.001)\n",
    "    for e in epsilons:\n",
    "        prob_epsilon.append(len([1 for i in dist if abs(i-Eout) > e])/len(dist))\n",
    "    \n",
    "    plt.figure(figsize=(20, 10))\n",
    "    plt.plot(epsilons, prob_epsilon)\n",
    "    plt.plot(epsilons, [2*math.exp(-2*e**2*N) for e in epsilons])\n",
    "    plt.plot(epsilons, [4*((2*N)**dvc+1)*math.exp(-(1/8)*e**2*N) for e in epsilons]) \n",
    "    plt.yscale('log')\n",
    "    plt.title(titles[d])\n",
    "    plt.show"
   ]
  },
  {
   "cell_type": "markdown",
   "metadata": {},
   "source": [
    "### Hoeffding Equation - Is Learning Feasible?\n",
    "#### The Random & Min tend to obey Hoeffding bound, while First does not. If I tweak my input features could I get my results to be more consistent?"
   ]
  },
  {
   "cell_type": "markdown",
   "metadata": {},
   "source": [
    "## E. Plotting Learning Curves & Exploring Other Machine Learning Algorithms"
   ]
  },
  {
   "cell_type": "code",
   "execution_count": 36,
   "metadata": {},
   "outputs": [],
   "source": [
    "X = np.vstack((df['numbers_tested_log'], df['is_weekend'], df['outage_hrs_log'])).T\n",
    "Y = np.hstack(((df['volume_tests'])))"
   ]
  },
  {
   "cell_type": "code",
   "execution_count": 37,
   "metadata": {},
   "outputs": [],
   "source": [
    "def plot_learning_curve(estimator, title, X, y, axes=None, ylim=None, cv=None,\n",
    "                        n_jobs=None, train_sizes=np.linspace(.1, 1.0, 5)):\n",
    "    if axes is None:\n",
    "        _, axes = plt.subplots(1, 3, figsize=(20, 5))\n",
    "\n",
    "    axes[0].set_title(title)\n",
    "    if ylim is not None:\n",
    "        axes[0].set_ylim(*ylim)\n",
    "    axes[0].set_xlabel(\"Training examples\")\n",
    "    axes[0].set_ylabel(\"Score\")\n",
    "\n",
    "    train_sizes, train_scores, test_scores = \\\n",
    "        learning_curve(estimator, X, y, cv=cv, n_jobs=n_jobs,\n",
    "                       train_sizes=train_sizes)\n",
    "        \n",
    "    train_scores_mean = np.mean(train_scores, axis=1)\n",
    "    train_scores_std = np.std(train_scores, axis=1)\n",
    "    test_scores_mean = np.mean(test_scores, axis=1)\n",
    "    test_scores_std = np.std(test_scores, axis=1)\n",
    "\n",
    "    # Plot learning curve\n",
    "    axes[0].grid()\n",
    "    axes[0].fill_between(train_sizes, train_scores_mean - train_scores_std,\n",
    "                         train_scores_mean + train_scores_std, alpha=0.1,\n",
    "                         color=\"r\")\n",
    "    axes[0].fill_between(train_sizes, test_scores_mean - test_scores_std,\n",
    "                         test_scores_mean + test_scores_std, alpha=0.1,\n",
    "                         color=\"g\")\n",
    "    axes[0].plot(train_sizes, train_scores_mean, 'o-', color=\"r\",\n",
    "                 label=\"Training score\")\n",
    "    axes[0].plot(train_sizes, test_scores_mean, 'o-', color=\"g\",\n",
    "                 label=\"Cross-validation score\")\n",
    "    axes[0].legend(loc=\"best\")\n",
    "\n",
    "    return plt"
   ]
  },
  {
   "cell_type": "code",
   "execution_count": 38,
   "metadata": {},
   "outputs": [
    {
     "data": {
      "text/plain": [
       "<module 'matplotlib.pyplot' from '/home/shanebowen/anaconda3/lib/python3.7/site-packages/matplotlib/pyplot.py'>"
      ]
     },
     "execution_count": 38,
     "metadata": {},
     "output_type": "execute_result"
    },
    {
     "data": {
      "image/png": "[encoded data removed]",
      "text/plain": [
       "<Figure size 1440x720 with 2 Axes>"
      ]
     },
     "metadata": {
      "needs_background": "light"
     },
     "output_type": "display_data"
    }
   ],
   "source": [
    "fig, axes = plt.subplots(1, 2, figsize=(20, 10), squeeze=False)\n",
    "\n",
    "title = \"Linear Regression\"\n",
    "cv = ShuffleSplit(n_splits=100, test_size=0.2, random_state=0)\n",
    "estimator = LinearRegression()\n",
    "plot_learning_curve(estimator, title, X, Y, axes=axes[:, 0], ylim=(0.6, 1.01), cv=cv, n_jobs=4)"
   ]
  },
  {
   "cell_type": "markdown",
   "metadata": {},
   "source": [
    "#### Linear Regression graphs looks pretty good and I can see low variance in between training and validation data. This means the model is performing well on the test data. I might try RNN so I can compare the two, but not sure how straightforward it will be to do this."
   ]
  }
 ],
 "metadata": {
  "kernelspec": {
   "display_name": "Python 3",
   "language": "python",
   "name": "python3"
  },
  "language_info": {
   "codemirror_mode": {
    "name": "ipython",
    "version": 3
   },
   "file_extension": ".py",
   "mimetype": "text/x-python",
   "name": "python",
   "nbconvert_exporter": "python",
   "pygments_lexer": "ipython3",
   "version": "3.7.6"
  }
 },
 "nbformat": 4,
 "nbformat_minor": 4
}
