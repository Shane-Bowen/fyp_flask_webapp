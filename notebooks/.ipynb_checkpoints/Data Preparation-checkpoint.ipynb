{
 "cells": [
  {
   "cell_type": "markdown",
   "metadata": {},
   "source": [
    "## A. Importing Modules & Datasets"
   ]
  },
  {
   "cell_type": "code",
   "execution_count": 45,
   "metadata": {},
   "outputs": [],
   "source": [
    "import pandas as pd\n",
    "import numpy as np\n",
    "import matplotlib.pyplot as plt\n",
    "import seaborn as sns\n",
    "import random as rnd\n",
    "import math\n",
    "from sklearn import preprocessing\n",
    "from sklearn.model_selection import train_test_split\n",
    "from sklearn.datasets import load_digits\n",
    "from sklearn.model_selection import learning_curve\n",
    "from sklearn.linear_model import LinearRegression\n",
    "from sklearn.svm import SVR\n",
    "from sklearn.ensemble import RandomForestClassifier\n",
    "from sklearn.model_selection import ShuffleSplit\n",
    "import tensorflow as tf\n",
    "from sklearn.naive_bayes import GaussianNB\n",
    "from sklearn.svm import SVC\n",
    "\n",
    "df = pd.read_csv(\"../reports/company_report_2.csv\")"
   ]
  },
  {
   "cell_type": "code",
   "execution_count": 2,
   "metadata": {},
   "outputs": [
    {
     "data": {
      "text/html": [
       "<div>\n",
       "<style scoped>\n",
       "    .dataframe tbody tr th:only-of-type {\n",
       "        vertical-align: middle;\n",
       "    }\n",
       "\n",
       "    .dataframe tbody tr th {\n",
       "        vertical-align: top;\n",
       "    }\n",
       "\n",
       "    .dataframe thead th {\n",
       "        text-align: right;\n",
       "    }\n",
       "</style>\n",
       "<table border=\"1\" class=\"dataframe\">\n",
       "  <thead>\n",
       "    <tr style=\"text-align: right;\">\n",
       "      <th></th>\n",
       "      <th>volume_tests</th>\n",
       "      <th>company_id</th>\n",
       "      <th>company_type</th>\n",
       "      <th>time</th>\n",
       "      <th>date</th>\n",
       "      <th>month</th>\n",
       "      <th>year</th>\n",
       "      <th>day</th>\n",
       "      <th>is_weekend</th>\n",
       "      <th>season</th>\n",
       "      <th>avg_pesq_score</th>\n",
       "      <th>quality_too_poor</th>\n",
       "      <th>number_busy</th>\n",
       "      <th>temporarily_unable_test</th>\n",
       "      <th>outage_hrs</th>\n",
       "      <th>number_test_types</th>\n",
       "      <th>numbers_tested</th>\n",
       "      <th>followup_tests</th>\n",
       "      <th>min_commit</th>\n",
       "    </tr>\n",
       "  </thead>\n",
       "  <tbody>\n",
       "    <tr>\n",
       "      <th>0</th>\n",
       "      <td>21963</td>\n",
       "      <td>2</td>\n",
       "      <td>Enterprise</td>\n",
       "      <td>2017-01-01</td>\n",
       "      <td>1</td>\n",
       "      <td>1</td>\n",
       "      <td>2017</td>\n",
       "      <td>Sun</td>\n",
       "      <td>1</td>\n",
       "      <td>Winter</td>\n",
       "      <td>3.881135</td>\n",
       "      <td>0</td>\n",
       "      <td>12</td>\n",
       "      <td>0</td>\n",
       "      <td>0.90</td>\n",
       "      <td>3</td>\n",
       "      <td>234</td>\n",
       "      <td>0</td>\n",
       "      <td>400000.0</td>\n",
       "    </tr>\n",
       "    <tr>\n",
       "      <th>1</th>\n",
       "      <td>38224</td>\n",
       "      <td>2</td>\n",
       "      <td>Enterprise</td>\n",
       "      <td>2017-01-02</td>\n",
       "      <td>2</td>\n",
       "      <td>1</td>\n",
       "      <td>2017</td>\n",
       "      <td>Mon</td>\n",
       "      <td>0</td>\n",
       "      <td>Winter</td>\n",
       "      <td>3.871357</td>\n",
       "      <td>5</td>\n",
       "      <td>13</td>\n",
       "      <td>55</td>\n",
       "      <td>0.70</td>\n",
       "      <td>3</td>\n",
       "      <td>2071</td>\n",
       "      <td>0</td>\n",
       "      <td>400000.0</td>\n",
       "    </tr>\n",
       "    <tr>\n",
       "      <th>2</th>\n",
       "      <td>39066</td>\n",
       "      <td>2</td>\n",
       "      <td>Enterprise</td>\n",
       "      <td>2017-01-03</td>\n",
       "      <td>3</td>\n",
       "      <td>1</td>\n",
       "      <td>2017</td>\n",
       "      <td>Tues</td>\n",
       "      <td>0</td>\n",
       "      <td>Winter</td>\n",
       "      <td>3.853797</td>\n",
       "      <td>22</td>\n",
       "      <td>43</td>\n",
       "      <td>58</td>\n",
       "      <td>12.81</td>\n",
       "      <td>3</td>\n",
       "      <td>2090</td>\n",
       "      <td>10</td>\n",
       "      <td>400000.0</td>\n",
       "    </tr>\n",
       "    <tr>\n",
       "      <th>3</th>\n",
       "      <td>39399</td>\n",
       "      <td>2</td>\n",
       "      <td>Enterprise</td>\n",
       "      <td>2017-01-04</td>\n",
       "      <td>4</td>\n",
       "      <td>1</td>\n",
       "      <td>2017</td>\n",
       "      <td>Wed</td>\n",
       "      <td>0</td>\n",
       "      <td>Winter</td>\n",
       "      <td>3.852843</td>\n",
       "      <td>7</td>\n",
       "      <td>56</td>\n",
       "      <td>65</td>\n",
       "      <td>28.08</td>\n",
       "      <td>3</td>\n",
       "      <td>2104</td>\n",
       "      <td>40</td>\n",
       "      <td>400000.0</td>\n",
       "    </tr>\n",
       "    <tr>\n",
       "      <th>4</th>\n",
       "      <td>38744</td>\n",
       "      <td>2</td>\n",
       "      <td>Enterprise</td>\n",
       "      <td>2017-01-05</td>\n",
       "      <td>5</td>\n",
       "      <td>1</td>\n",
       "      <td>2017</td>\n",
       "      <td>Thurs</td>\n",
       "      <td>0</td>\n",
       "      <td>Winter</td>\n",
       "      <td>3.854277</td>\n",
       "      <td>23</td>\n",
       "      <td>50</td>\n",
       "      <td>73</td>\n",
       "      <td>45.30</td>\n",
       "      <td>3</td>\n",
       "      <td>2070</td>\n",
       "      <td>0</td>\n",
       "      <td>400000.0</td>\n",
       "    </tr>\n",
       "    <tr>\n",
       "      <th>5</th>\n",
       "      <td>38838</td>\n",
       "      <td>2</td>\n",
       "      <td>Enterprise</td>\n",
       "      <td>2017-01-06</td>\n",
       "      <td>6</td>\n",
       "      <td>1</td>\n",
       "      <td>2017</td>\n",
       "      <td>Fri</td>\n",
       "      <td>0</td>\n",
       "      <td>Winter</td>\n",
       "      <td>3.863703</td>\n",
       "      <td>7</td>\n",
       "      <td>62</td>\n",
       "      <td>53</td>\n",
       "      <td>46.65</td>\n",
       "      <td>3</td>\n",
       "      <td>2042</td>\n",
       "      <td>20</td>\n",
       "      <td>400000.0</td>\n",
       "    </tr>\n",
       "    <tr>\n",
       "      <th>6</th>\n",
       "      <td>23587</td>\n",
       "      <td>2</td>\n",
       "      <td>Enterprise</td>\n",
       "      <td>2017-01-07</td>\n",
       "      <td>7</td>\n",
       "      <td>1</td>\n",
       "      <td>2017</td>\n",
       "      <td>Sat</td>\n",
       "      <td>1</td>\n",
       "      <td>Winter</td>\n",
       "      <td>3.874164</td>\n",
       "      <td>0</td>\n",
       "      <td>0</td>\n",
       "      <td>1</td>\n",
       "      <td>48.00</td>\n",
       "      <td>3</td>\n",
       "      <td>303</td>\n",
       "      <td>0</td>\n",
       "      <td>400000.0</td>\n",
       "    </tr>\n",
       "    <tr>\n",
       "      <th>7</th>\n",
       "      <td>22439</td>\n",
       "      <td>2</td>\n",
       "      <td>Enterprise</td>\n",
       "      <td>2017-01-08</td>\n",
       "      <td>8</td>\n",
       "      <td>1</td>\n",
       "      <td>2017</td>\n",
       "      <td>Sun</td>\n",
       "      <td>1</td>\n",
       "      <td>Winter</td>\n",
       "      <td>3.853845</td>\n",
       "      <td>0</td>\n",
       "      <td>6</td>\n",
       "      <td>3</td>\n",
       "      <td>48.40</td>\n",
       "      <td>3</td>\n",
       "      <td>236</td>\n",
       "      <td>0</td>\n",
       "      <td>400000.0</td>\n",
       "    </tr>\n",
       "    <tr>\n",
       "      <th>8</th>\n",
       "      <td>38793</td>\n",
       "      <td>2</td>\n",
       "      <td>Enterprise</td>\n",
       "      <td>2017-01-09</td>\n",
       "      <td>9</td>\n",
       "      <td>1</td>\n",
       "      <td>2017</td>\n",
       "      <td>Mon</td>\n",
       "      <td>0</td>\n",
       "      <td>Winter</td>\n",
       "      <td>3.852083</td>\n",
       "      <td>6</td>\n",
       "      <td>11</td>\n",
       "      <td>21</td>\n",
       "      <td>48.25</td>\n",
       "      <td>3</td>\n",
       "      <td>2092</td>\n",
       "      <td>0</td>\n",
       "      <td>400000.0</td>\n",
       "    </tr>\n",
       "    <tr>\n",
       "      <th>9</th>\n",
       "      <td>39744</td>\n",
       "      <td>2</td>\n",
       "      <td>Enterprise</td>\n",
       "      <td>2017-01-10</td>\n",
       "      <td>10</td>\n",
       "      <td>1</td>\n",
       "      <td>2017</td>\n",
       "      <td>Tues</td>\n",
       "      <td>0</td>\n",
       "      <td>Winter</td>\n",
       "      <td>3.860050</td>\n",
       "      <td>6</td>\n",
       "      <td>2879</td>\n",
       "      <td>51</td>\n",
       "      <td>2959.17</td>\n",
       "      <td>3</td>\n",
       "      <td>2056</td>\n",
       "      <td>30</td>\n",
       "      <td>400000.0</td>\n",
       "    </tr>\n",
       "  </tbody>\n",
       "</table>\n",
       "</div>"
      ],
      "text/plain": [
       "   volume_tests  company_id company_type        time  date  month  year  \\\n",
       "0         21963           2   Enterprise  2017-01-01     1      1  2017   \n",
       "1         38224           2   Enterprise  2017-01-02     2      1  2017   \n",
       "2         39066           2   Enterprise  2017-01-03     3      1  2017   \n",
       "3         39399           2   Enterprise  2017-01-04     4      1  2017   \n",
       "4         38744           2   Enterprise  2017-01-05     5      1  2017   \n",
       "5         38838           2   Enterprise  2017-01-06     6      1  2017   \n",
       "6         23587           2   Enterprise  2017-01-07     7      1  2017   \n",
       "7         22439           2   Enterprise  2017-01-08     8      1  2017   \n",
       "8         38793           2   Enterprise  2017-01-09     9      1  2017   \n",
       "9         39744           2   Enterprise  2017-01-10    10      1  2017   \n",
       "\n",
       "     day  is_weekend  season  avg_pesq_score  quality_too_poor  number_busy  \\\n",
       "0    Sun           1  Winter        3.881135                 0           12   \n",
       "1    Mon           0  Winter        3.871357                 5           13   \n",
       "2   Tues           0  Winter        3.853797                22           43   \n",
       "3    Wed           0  Winter        3.852843                 7           56   \n",
       "4  Thurs           0  Winter        3.854277                23           50   \n",
       "5    Fri           0  Winter        3.863703                 7           62   \n",
       "6    Sat           1  Winter        3.874164                 0            0   \n",
       "7    Sun           1  Winter        3.853845                 0            6   \n",
       "8    Mon           0  Winter        3.852083                 6           11   \n",
       "9   Tues           0  Winter        3.860050                 6         2879   \n",
       "\n",
       "   temporarily_unable_test  outage_hrs  number_test_types  numbers_tested  \\\n",
       "0                        0        0.90                  3             234   \n",
       "1                       55        0.70                  3            2071   \n",
       "2                       58       12.81                  3            2090   \n",
       "3                       65       28.08                  3            2104   \n",
       "4                       73       45.30                  3            2070   \n",
       "5                       53       46.65                  3            2042   \n",
       "6                        1       48.00                  3             303   \n",
       "7                        3       48.40                  3             236   \n",
       "8                       21       48.25                  3            2092   \n",
       "9                       51     2959.17                  3            2056   \n",
       "\n",
       "   followup_tests  min_commit  \n",
       "0               0    400000.0  \n",
       "1               0    400000.0  \n",
       "2              10    400000.0  \n",
       "3              40    400000.0  \n",
       "4               0    400000.0  \n",
       "5              20    400000.0  \n",
       "6               0    400000.0  \n",
       "7               0    400000.0  \n",
       "8               0    400000.0  \n",
       "9              30    400000.0  "
      ]
     },
     "execution_count": 2,
     "metadata": {},
     "output_type": "execute_result"
    }
   ],
   "source": [
    "df.head(10)"
   ]
  },
  {
   "cell_type": "code",
   "execution_count": 3,
   "metadata": {},
   "outputs": [
    {
     "data": {
      "text/html": [
       "<div>\n",
       "<style scoped>\n",
       "    .dataframe tbody tr th:only-of-type {\n",
       "        vertical-align: middle;\n",
       "    }\n",
       "\n",
       "    .dataframe tbody tr th {\n",
       "        vertical-align: top;\n",
       "    }\n",
       "\n",
       "    .dataframe thead th {\n",
       "        text-align: right;\n",
       "    }\n",
       "</style>\n",
       "<table border=\"1\" class=\"dataframe\">\n",
       "  <thead>\n",
       "    <tr style=\"text-align: right;\">\n",
       "      <th></th>\n",
       "      <th>volume_tests</th>\n",
       "      <th>company_id</th>\n",
       "      <th>company_type</th>\n",
       "      <th>time</th>\n",
       "      <th>date</th>\n",
       "      <th>month</th>\n",
       "      <th>year</th>\n",
       "      <th>day</th>\n",
       "      <th>is_weekend</th>\n",
       "      <th>season</th>\n",
       "      <th>avg_pesq_score</th>\n",
       "      <th>quality_too_poor</th>\n",
       "      <th>number_busy</th>\n",
       "      <th>temporarily_unable_test</th>\n",
       "      <th>outage_hrs</th>\n",
       "      <th>number_test_types</th>\n",
       "      <th>numbers_tested</th>\n",
       "      <th>followup_tests</th>\n",
       "      <th>min_commit</th>\n",
       "    </tr>\n",
       "  </thead>\n",
       "  <tbody>\n",
       "    <tr>\n",
       "      <th>1199</th>\n",
       "      <td>48464</td>\n",
       "      <td>2</td>\n",
       "      <td>Enterprise</td>\n",
       "      <td>2020-04-14</td>\n",
       "      <td>14</td>\n",
       "      <td>4</td>\n",
       "      <td>2020</td>\n",
       "      <td>Tues</td>\n",
       "      <td>0</td>\n",
       "      <td>Spring</td>\n",
       "      <td>3.727208</td>\n",
       "      <td>9</td>\n",
       "      <td>390</td>\n",
       "      <td>0</td>\n",
       "      <td>1176.99</td>\n",
       "      <td>6</td>\n",
       "      <td>4185</td>\n",
       "      <td>121</td>\n",
       "      <td>400000.0</td>\n",
       "    </tr>\n",
       "    <tr>\n",
       "      <th>1200</th>\n",
       "      <td>49549</td>\n",
       "      <td>2</td>\n",
       "      <td>Enterprise</td>\n",
       "      <td>2020-04-15</td>\n",
       "      <td>15</td>\n",
       "      <td>4</td>\n",
       "      <td>2020</td>\n",
       "      <td>Wed</td>\n",
       "      <td>0</td>\n",
       "      <td>Spring</td>\n",
       "      <td>3.723900</td>\n",
       "      <td>20</td>\n",
       "      <td>781</td>\n",
       "      <td>0</td>\n",
       "      <td>1671.86</td>\n",
       "      <td>6</td>\n",
       "      <td>4190</td>\n",
       "      <td>144</td>\n",
       "      <td>400000.0</td>\n",
       "    </tr>\n",
       "    <tr>\n",
       "      <th>1201</th>\n",
       "      <td>49066</td>\n",
       "      <td>2</td>\n",
       "      <td>Enterprise</td>\n",
       "      <td>2020-04-16</td>\n",
       "      <td>16</td>\n",
       "      <td>4</td>\n",
       "      <td>2020</td>\n",
       "      <td>Thurs</td>\n",
       "      <td>0</td>\n",
       "      <td>Spring</td>\n",
       "      <td>3.727542</td>\n",
       "      <td>14</td>\n",
       "      <td>260</td>\n",
       "      <td>26</td>\n",
       "      <td>1548.69</td>\n",
       "      <td>6</td>\n",
       "      <td>4198</td>\n",
       "      <td>173</td>\n",
       "      <td>400000.0</td>\n",
       "    </tr>\n",
       "    <tr>\n",
       "      <th>1202</th>\n",
       "      <td>47371</td>\n",
       "      <td>2</td>\n",
       "      <td>Enterprise</td>\n",
       "      <td>2020-04-17</td>\n",
       "      <td>17</td>\n",
       "      <td>4</td>\n",
       "      <td>2020</td>\n",
       "      <td>Fri</td>\n",
       "      <td>0</td>\n",
       "      <td>Spring</td>\n",
       "      <td>3.730000</td>\n",
       "      <td>16</td>\n",
       "      <td>275</td>\n",
       "      <td>38</td>\n",
       "      <td>1667.15</td>\n",
       "      <td>6</td>\n",
       "      <td>3364</td>\n",
       "      <td>131</td>\n",
       "      <td>400000.0</td>\n",
       "    </tr>\n",
       "    <tr>\n",
       "      <th>1203</th>\n",
       "      <td>29706</td>\n",
       "      <td>2</td>\n",
       "      <td>Enterprise</td>\n",
       "      <td>2020-04-18</td>\n",
       "      <td>18</td>\n",
       "      <td>4</td>\n",
       "      <td>2020</td>\n",
       "      <td>Sat</td>\n",
       "      <td>1</td>\n",
       "      <td>Spring</td>\n",
       "      <td>3.732542</td>\n",
       "      <td>5</td>\n",
       "      <td>101</td>\n",
       "      <td>0</td>\n",
       "      <td>1713.66</td>\n",
       "      <td>6</td>\n",
       "      <td>526</td>\n",
       "      <td>36</td>\n",
       "      <td>400000.0</td>\n",
       "    </tr>\n",
       "    <tr>\n",
       "      <th>1204</th>\n",
       "      <td>27635</td>\n",
       "      <td>2</td>\n",
       "      <td>Enterprise</td>\n",
       "      <td>2020-04-19</td>\n",
       "      <td>19</td>\n",
       "      <td>4</td>\n",
       "      <td>2020</td>\n",
       "      <td>Sun</td>\n",
       "      <td>1</td>\n",
       "      <td>Spring</td>\n",
       "      <td>3.742250</td>\n",
       "      <td>7</td>\n",
       "      <td>81</td>\n",
       "      <td>0</td>\n",
       "      <td>2041.52</td>\n",
       "      <td>6</td>\n",
       "      <td>1350</td>\n",
       "      <td>38</td>\n",
       "      <td>400000.0</td>\n",
       "    </tr>\n",
       "    <tr>\n",
       "      <th>1205</th>\n",
       "      <td>42871</td>\n",
       "      <td>2</td>\n",
       "      <td>Enterprise</td>\n",
       "      <td>2020-04-20</td>\n",
       "      <td>20</td>\n",
       "      <td>4</td>\n",
       "      <td>2020</td>\n",
       "      <td>Mon</td>\n",
       "      <td>0</td>\n",
       "      <td>Spring</td>\n",
       "      <td>3.728250</td>\n",
       "      <td>28</td>\n",
       "      <td>321</td>\n",
       "      <td>0</td>\n",
       "      <td>2130.91</td>\n",
       "      <td>6</td>\n",
       "      <td>4192</td>\n",
       "      <td>199</td>\n",
       "      <td>400000.0</td>\n",
       "    </tr>\n",
       "    <tr>\n",
       "      <th>1206</th>\n",
       "      <td>43677</td>\n",
       "      <td>2</td>\n",
       "      <td>Enterprise</td>\n",
       "      <td>2020-04-21</td>\n",
       "      <td>21</td>\n",
       "      <td>4</td>\n",
       "      <td>2020</td>\n",
       "      <td>Tues</td>\n",
       "      <td>0</td>\n",
       "      <td>Spring</td>\n",
       "      <td>3.731583</td>\n",
       "      <td>50</td>\n",
       "      <td>459</td>\n",
       "      <td>0</td>\n",
       "      <td>2273.58</td>\n",
       "      <td>6</td>\n",
       "      <td>4191</td>\n",
       "      <td>122</td>\n",
       "      <td>400000.0</td>\n",
       "    </tr>\n",
       "    <tr>\n",
       "      <th>1207</th>\n",
       "      <td>43808</td>\n",
       "      <td>2</td>\n",
       "      <td>Enterprise</td>\n",
       "      <td>2020-04-22</td>\n",
       "      <td>22</td>\n",
       "      <td>4</td>\n",
       "      <td>2020</td>\n",
       "      <td>Wed</td>\n",
       "      <td>0</td>\n",
       "      <td>Spring</td>\n",
       "      <td>3.728667</td>\n",
       "      <td>22</td>\n",
       "      <td>1246</td>\n",
       "      <td>0</td>\n",
       "      <td>2467.16</td>\n",
       "      <td>6</td>\n",
       "      <td>4197</td>\n",
       "      <td>171</td>\n",
       "      <td>400000.0</td>\n",
       "    </tr>\n",
       "    <tr>\n",
       "      <th>1208</th>\n",
       "      <td>44703</td>\n",
       "      <td>2</td>\n",
       "      <td>Enterprise</td>\n",
       "      <td>2020-04-23</td>\n",
       "      <td>23</td>\n",
       "      <td>4</td>\n",
       "      <td>2020</td>\n",
       "      <td>Thurs</td>\n",
       "      <td>0</td>\n",
       "      <td>Spring</td>\n",
       "      <td>3.717125</td>\n",
       "      <td>21</td>\n",
       "      <td>653</td>\n",
       "      <td>0</td>\n",
       "      <td>2316.74</td>\n",
       "      <td>6</td>\n",
       "      <td>4202</td>\n",
       "      <td>135</td>\n",
       "      <td>400000.0</td>\n",
       "    </tr>\n",
       "  </tbody>\n",
       "</table>\n",
       "</div>"
      ],
      "text/plain": [
       "      volume_tests  company_id company_type        time  date  month  year  \\\n",
       "1199         48464           2   Enterprise  2020-04-14    14      4  2020   \n",
       "1200         49549           2   Enterprise  2020-04-15    15      4  2020   \n",
       "1201         49066           2   Enterprise  2020-04-16    16      4  2020   \n",
       "1202         47371           2   Enterprise  2020-04-17    17      4  2020   \n",
       "1203         29706           2   Enterprise  2020-04-18    18      4  2020   \n",
       "1204         27635           2   Enterprise  2020-04-19    19      4  2020   \n",
       "1205         42871           2   Enterprise  2020-04-20    20      4  2020   \n",
       "1206         43677           2   Enterprise  2020-04-21    21      4  2020   \n",
       "1207         43808           2   Enterprise  2020-04-22    22      4  2020   \n",
       "1208         44703           2   Enterprise  2020-04-23    23      4  2020   \n",
       "\n",
       "        day  is_weekend  season  avg_pesq_score  quality_too_poor  \\\n",
       "1199   Tues           0  Spring        3.727208                 9   \n",
       "1200    Wed           0  Spring        3.723900                20   \n",
       "1201  Thurs           0  Spring        3.727542                14   \n",
       "1202    Fri           0  Spring        3.730000                16   \n",
       "1203    Sat           1  Spring        3.732542                 5   \n",
       "1204    Sun           1  Spring        3.742250                 7   \n",
       "1205    Mon           0  Spring        3.728250                28   \n",
       "1206   Tues           0  Spring        3.731583                50   \n",
       "1207    Wed           0  Spring        3.728667                22   \n",
       "1208  Thurs           0  Spring        3.717125                21   \n",
       "\n",
       "      number_busy  temporarily_unable_test  outage_hrs  number_test_types  \\\n",
       "1199          390                        0     1176.99                  6   \n",
       "1200          781                        0     1671.86                  6   \n",
       "1201          260                       26     1548.69                  6   \n",
       "1202          275                       38     1667.15                  6   \n",
       "1203          101                        0     1713.66                  6   \n",
       "1204           81                        0     2041.52                  6   \n",
       "1205          321                        0     2130.91                  6   \n",
       "1206          459                        0     2273.58                  6   \n",
       "1207         1246                        0     2467.16                  6   \n",
       "1208          653                        0     2316.74                  6   \n",
       "\n",
       "      numbers_tested  followup_tests  min_commit  \n",
       "1199            4185             121    400000.0  \n",
       "1200            4190             144    400000.0  \n",
       "1201            4198             173    400000.0  \n",
       "1202            3364             131    400000.0  \n",
       "1203             526              36    400000.0  \n",
       "1204            1350              38    400000.0  \n",
       "1205            4192             199    400000.0  \n",
       "1206            4191             122    400000.0  \n",
       "1207            4197             171    400000.0  \n",
       "1208            4202             135    400000.0  "
      ]
     },
     "execution_count": 3,
     "metadata": {},
     "output_type": "execute_result"
    }
   ],
   "source": [
    "df.tail(10)"
   ]
  },
  {
   "cell_type": "code",
   "execution_count": 4,
   "metadata": {},
   "outputs": [
    {
     "data": {
      "text/html": [
       "<div>\n",
       "<style scoped>\n",
       "    .dataframe tbody tr th:only-of-type {\n",
       "        vertical-align: middle;\n",
       "    }\n",
       "\n",
       "    .dataframe tbody tr th {\n",
       "        vertical-align: top;\n",
       "    }\n",
       "\n",
       "    .dataframe thead th {\n",
       "        text-align: right;\n",
       "    }\n",
       "</style>\n",
       "<table border=\"1\" class=\"dataframe\">\n",
       "  <thead>\n",
       "    <tr style=\"text-align: right;\">\n",
       "      <th></th>\n",
       "      <th>volume_tests</th>\n",
       "      <th>company_id</th>\n",
       "      <th>date</th>\n",
       "      <th>month</th>\n",
       "      <th>year</th>\n",
       "      <th>is_weekend</th>\n",
       "      <th>avg_pesq_score</th>\n",
       "      <th>quality_too_poor</th>\n",
       "      <th>number_busy</th>\n",
       "      <th>temporarily_unable_test</th>\n",
       "      <th>outage_hrs</th>\n",
       "      <th>number_test_types</th>\n",
       "      <th>numbers_tested</th>\n",
       "      <th>followup_tests</th>\n",
       "      <th>min_commit</th>\n",
       "    </tr>\n",
       "  </thead>\n",
       "  <tbody>\n",
       "    <tr>\n",
       "      <th>count</th>\n",
       "      <td>1209.000000</td>\n",
       "      <td>1209.0</td>\n",
       "      <td>1209.000000</td>\n",
       "      <td>1209.000000</td>\n",
       "      <td>1209.000000</td>\n",
       "      <td>1209.000000</td>\n",
       "      <td>1209.000000</td>\n",
       "      <td>1209.000000</td>\n",
       "      <td>1209.000000</td>\n",
       "      <td>1209.000000</td>\n",
       "      <td>1209.000000</td>\n",
       "      <td>1209.000000</td>\n",
       "      <td>1209.000000</td>\n",
       "      <td>1209.000000</td>\n",
       "      <td>1209.0</td>\n",
       "    </tr>\n",
       "    <tr>\n",
       "      <th>mean</th>\n",
       "      <td>35514.281224</td>\n",
       "      <td>2.0</td>\n",
       "      <td>15.646816</td>\n",
       "      <td>6.137304</td>\n",
       "      <td>2018.188586</td>\n",
       "      <td>0.285360</td>\n",
       "      <td>3.796914</td>\n",
       "      <td>21.200993</td>\n",
       "      <td>322.167907</td>\n",
       "      <td>74.941274</td>\n",
       "      <td>6540.463805</td>\n",
       "      <td>3.042184</td>\n",
       "      <td>2215.531017</td>\n",
       "      <td>115.009926</td>\n",
       "      <td>400000.0</td>\n",
       "    </tr>\n",
       "    <tr>\n",
       "      <th>std</th>\n",
       "      <td>11013.525639</td>\n",
       "      <td>0.0</td>\n",
       "      <td>8.776954</td>\n",
       "      <td>3.512891</td>\n",
       "      <td>0.972725</td>\n",
       "      <td>0.451773</td>\n",
       "      <td>0.127135</td>\n",
       "      <td>42.870436</td>\n",
       "      <td>345.310889</td>\n",
       "      <td>195.218011</td>\n",
       "      <td>3131.695025</td>\n",
       "      <td>0.858753</td>\n",
       "      <td>1183.469271</td>\n",
       "      <td>152.620759</td>\n",
       "      <td>0.0</td>\n",
       "    </tr>\n",
       "    <tr>\n",
       "      <th>min</th>\n",
       "      <td>7679.000000</td>\n",
       "      <td>2.0</td>\n",
       "      <td>1.000000</td>\n",
       "      <td>1.000000</td>\n",
       "      <td>2017.000000</td>\n",
       "      <td>0.000000</td>\n",
       "      <td>3.582000</td>\n",
       "      <td>0.000000</td>\n",
       "      <td>0.000000</td>\n",
       "      <td>0.000000</td>\n",
       "      <td>0.700000</td>\n",
       "      <td>2.000000</td>\n",
       "      <td>215.000000</td>\n",
       "      <td>0.000000</td>\n",
       "      <td>400000.0</td>\n",
       "    </tr>\n",
       "    <tr>\n",
       "      <th>25%</th>\n",
       "      <td>25668.000000</td>\n",
       "      <td>2.0</td>\n",
       "      <td>8.000000</td>\n",
       "      <td>3.000000</td>\n",
       "      <td>2017.000000</td>\n",
       "      <td>0.000000</td>\n",
       "      <td>3.700625</td>\n",
       "      <td>3.000000</td>\n",
       "      <td>85.000000</td>\n",
       "      <td>0.000000</td>\n",
       "      <td>4463.950000</td>\n",
       "      <td>2.000000</td>\n",
       "      <td>799.000000</td>\n",
       "      <td>23.000000</td>\n",
       "      <td>400000.0</td>\n",
       "    </tr>\n",
       "    <tr>\n",
       "      <th>50%</th>\n",
       "      <td>37049.000000</td>\n",
       "      <td>2.0</td>\n",
       "      <td>16.000000</td>\n",
       "      <td>6.000000</td>\n",
       "      <td>2018.000000</td>\n",
       "      <td>0.000000</td>\n",
       "      <td>3.780208</td>\n",
       "      <td>10.000000</td>\n",
       "      <td>216.000000</td>\n",
       "      <td>7.000000</td>\n",
       "      <td>7473.620000</td>\n",
       "      <td>3.000000</td>\n",
       "      <td>2430.000000</td>\n",
       "      <td>66.000000</td>\n",
       "      <td>400000.0</td>\n",
       "    </tr>\n",
       "    <tr>\n",
       "      <th>75%</th>\n",
       "      <td>44829.000000</td>\n",
       "      <td>2.0</td>\n",
       "      <td>23.000000</td>\n",
       "      <td>9.000000</td>\n",
       "      <td>2019.000000</td>\n",
       "      <td>1.000000</td>\n",
       "      <td>3.811583</td>\n",
       "      <td>27.000000</td>\n",
       "      <td>454.000000</td>\n",
       "      <td>57.000000</td>\n",
       "      <td>9189.470000</td>\n",
       "      <td>4.000000</td>\n",
       "      <td>3024.000000</td>\n",
       "      <td>153.000000</td>\n",
       "      <td>400000.0</td>\n",
       "    </tr>\n",
       "    <tr>\n",
       "      <th>max</th>\n",
       "      <td>57033.000000</td>\n",
       "      <td>2.0</td>\n",
       "      <td>31.000000</td>\n",
       "      <td>12.000000</td>\n",
       "      <td>2020.000000</td>\n",
       "      <td>1.000000</td>\n",
       "      <td>4.126346</td>\n",
       "      <td>943.000000</td>\n",
       "      <td>4456.000000</td>\n",
       "      <td>1838.000000</td>\n",
       "      <td>10627.660000</td>\n",
       "      <td>6.000000</td>\n",
       "      <td>4267.000000</td>\n",
       "      <td>2337.000000</td>\n",
       "      <td>400000.0</td>\n",
       "    </tr>\n",
       "  </tbody>\n",
       "</table>\n",
       "</div>"
      ],
      "text/plain": [
       "       volume_tests  company_id         date        month         year  \\\n",
       "count   1209.000000      1209.0  1209.000000  1209.000000  1209.000000   \n",
       "mean   35514.281224         2.0    15.646816     6.137304  2018.188586   \n",
       "std    11013.525639         0.0     8.776954     3.512891     0.972725   \n",
       "min     7679.000000         2.0     1.000000     1.000000  2017.000000   \n",
       "25%    25668.000000         2.0     8.000000     3.000000  2017.000000   \n",
       "50%    37049.000000         2.0    16.000000     6.000000  2018.000000   \n",
       "75%    44829.000000         2.0    23.000000     9.000000  2019.000000   \n",
       "max    57033.000000         2.0    31.000000    12.000000  2020.000000   \n",
       "\n",
       "        is_weekend  avg_pesq_score  quality_too_poor  number_busy  \\\n",
       "count  1209.000000     1209.000000       1209.000000  1209.000000   \n",
       "mean      0.285360        3.796914         21.200993   322.167907   \n",
       "std       0.451773        0.127135         42.870436   345.310889   \n",
       "min       0.000000        3.582000          0.000000     0.000000   \n",
       "25%       0.000000        3.700625          3.000000    85.000000   \n",
       "50%       0.000000        3.780208         10.000000   216.000000   \n",
       "75%       1.000000        3.811583         27.000000   454.000000   \n",
       "max       1.000000        4.126346        943.000000  4456.000000   \n",
       "\n",
       "       temporarily_unable_test    outage_hrs  number_test_types  \\\n",
       "count              1209.000000   1209.000000        1209.000000   \n",
       "mean                 74.941274   6540.463805           3.042184   \n",
       "std                 195.218011   3131.695025           0.858753   \n",
       "min                   0.000000      0.700000           2.000000   \n",
       "25%                   0.000000   4463.950000           2.000000   \n",
       "50%                   7.000000   7473.620000           3.000000   \n",
       "75%                  57.000000   9189.470000           4.000000   \n",
       "max                1838.000000  10627.660000           6.000000   \n",
       "\n",
       "       numbers_tested  followup_tests  min_commit  \n",
       "count     1209.000000     1209.000000      1209.0  \n",
       "mean      2215.531017      115.009926    400000.0  \n",
       "std       1183.469271      152.620759         0.0  \n",
       "min        215.000000        0.000000    400000.0  \n",
       "25%        799.000000       23.000000    400000.0  \n",
       "50%       2430.000000       66.000000    400000.0  \n",
       "75%       3024.000000      153.000000    400000.0  \n",
       "max       4267.000000     2337.000000    400000.0  "
      ]
     },
     "execution_count": 4,
     "metadata": {},
     "output_type": "execute_result"
    }
   ],
   "source": [
    "df.describe()"
   ]
  },
  {
   "cell_type": "markdown",
   "metadata": {},
   "source": [
    "## B. Missing Values"
   ]
  },
  {
   "cell_type": "code",
   "execution_count": 5,
   "metadata": {},
   "outputs": [
    {
     "data": {
      "text/plain": [
       "volume_tests               0\n",
       "company_id                 0\n",
       "company_type               0\n",
       "time                       0\n",
       "date                       0\n",
       "month                      0\n",
       "year                       0\n",
       "day                        0\n",
       "is_weekend                 0\n",
       "season                     0\n",
       "avg_pesq_score             0\n",
       "quality_too_poor           0\n",
       "number_busy                0\n",
       "temporarily_unable_test    0\n",
       "outage_hrs                 0\n",
       "number_test_types          0\n",
       "numbers_tested             0\n",
       "followup_tests             0\n",
       "min_commit                 0\n",
       "dtype: int64"
      ]
     },
     "execution_count": 5,
     "metadata": {},
     "output_type": "execute_result"
    }
   ],
   "source": [
    "# Find the number of nulls/NaNs in the dataset\n",
    "\n",
    "df.apply(lambda x: sum(x.isnull()), axis=0)"
   ]
  },
  {
   "cell_type": "markdown",
   "metadata": {},
   "source": [
    "#### This shows that there was no missing data"
   ]
  },
  {
   "cell_type": "markdown",
   "metadata": {},
   "source": [
    "### C. Extreme Values/Outliers"
   ]
  },
  {
   "cell_type": "code",
   "execution_count": 6,
   "metadata": {},
   "outputs": [
    {
     "data": {
      "text/html": [
       "<div>\n",
       "<style scoped>\n",
       "    .dataframe tbody tr th:only-of-type {\n",
       "        vertical-align: middle;\n",
       "    }\n",
       "\n",
       "    .dataframe tbody tr th {\n",
       "        vertical-align: top;\n",
       "    }\n",
       "\n",
       "    .dataframe thead th {\n",
       "        text-align: right;\n",
       "    }\n",
       "</style>\n",
       "<table border=\"1\" class=\"dataframe\">\n",
       "  <thead>\n",
       "    <tr style=\"text-align: right;\">\n",
       "      <th></th>\n",
       "      <th>volume_tests</th>\n",
       "      <th>company_id</th>\n",
       "      <th>date</th>\n",
       "      <th>month</th>\n",
       "      <th>year</th>\n",
       "      <th>is_weekend</th>\n",
       "      <th>avg_pesq_score</th>\n",
       "      <th>quality_too_poor</th>\n",
       "      <th>number_busy</th>\n",
       "      <th>temporarily_unable_test</th>\n",
       "      <th>outage_hrs</th>\n",
       "      <th>number_test_types</th>\n",
       "      <th>numbers_tested</th>\n",
       "      <th>followup_tests</th>\n",
       "      <th>min_commit</th>\n",
       "    </tr>\n",
       "  </thead>\n",
       "  <tbody>\n",
       "    <tr>\n",
       "      <th>count</th>\n",
       "      <td>1209.000000</td>\n",
       "      <td>1209.0</td>\n",
       "      <td>1209.000000</td>\n",
       "      <td>1209.000000</td>\n",
       "      <td>1209.000000</td>\n",
       "      <td>1209.000000</td>\n",
       "      <td>1209.000000</td>\n",
       "      <td>1209.000000</td>\n",
       "      <td>1209.000000</td>\n",
       "      <td>1209.000000</td>\n",
       "      <td>1209.000000</td>\n",
       "      <td>1209.000000</td>\n",
       "      <td>1209.000000</td>\n",
       "      <td>1209.000000</td>\n",
       "      <td>1209.0</td>\n",
       "    </tr>\n",
       "    <tr>\n",
       "      <th>mean</th>\n",
       "      <td>35514.281224</td>\n",
       "      <td>2.0</td>\n",
       "      <td>15.646816</td>\n",
       "      <td>6.137304</td>\n",
       "      <td>2018.188586</td>\n",
       "      <td>0.285360</td>\n",
       "      <td>3.796914</td>\n",
       "      <td>21.200993</td>\n",
       "      <td>322.167907</td>\n",
       "      <td>74.941274</td>\n",
       "      <td>6540.463805</td>\n",
       "      <td>3.042184</td>\n",
       "      <td>2215.531017</td>\n",
       "      <td>115.009926</td>\n",
       "      <td>400000.0</td>\n",
       "    </tr>\n",
       "    <tr>\n",
       "      <th>std</th>\n",
       "      <td>11013.525639</td>\n",
       "      <td>0.0</td>\n",
       "      <td>8.776954</td>\n",
       "      <td>3.512891</td>\n",
       "      <td>0.972725</td>\n",
       "      <td>0.451773</td>\n",
       "      <td>0.127135</td>\n",
       "      <td>42.870436</td>\n",
       "      <td>345.310889</td>\n",
       "      <td>195.218011</td>\n",
       "      <td>3131.695025</td>\n",
       "      <td>0.858753</td>\n",
       "      <td>1183.469271</td>\n",
       "      <td>152.620759</td>\n",
       "      <td>0.0</td>\n",
       "    </tr>\n",
       "    <tr>\n",
       "      <th>min</th>\n",
       "      <td>7679.000000</td>\n",
       "      <td>2.0</td>\n",
       "      <td>1.000000</td>\n",
       "      <td>1.000000</td>\n",
       "      <td>2017.000000</td>\n",
       "      <td>0.000000</td>\n",
       "      <td>3.582000</td>\n",
       "      <td>0.000000</td>\n",
       "      <td>0.000000</td>\n",
       "      <td>0.000000</td>\n",
       "      <td>0.700000</td>\n",
       "      <td>2.000000</td>\n",
       "      <td>215.000000</td>\n",
       "      <td>0.000000</td>\n",
       "      <td>400000.0</td>\n",
       "    </tr>\n",
       "    <tr>\n",
       "      <th>25%</th>\n",
       "      <td>25668.000000</td>\n",
       "      <td>2.0</td>\n",
       "      <td>8.000000</td>\n",
       "      <td>3.000000</td>\n",
       "      <td>2017.000000</td>\n",
       "      <td>0.000000</td>\n",
       "      <td>3.700625</td>\n",
       "      <td>3.000000</td>\n",
       "      <td>85.000000</td>\n",
       "      <td>0.000000</td>\n",
       "      <td>4463.950000</td>\n",
       "      <td>2.000000</td>\n",
       "      <td>799.000000</td>\n",
       "      <td>23.000000</td>\n",
       "      <td>400000.0</td>\n",
       "    </tr>\n",
       "    <tr>\n",
       "      <th>50%</th>\n",
       "      <td>37049.000000</td>\n",
       "      <td>2.0</td>\n",
       "      <td>16.000000</td>\n",
       "      <td>6.000000</td>\n",
       "      <td>2018.000000</td>\n",
       "      <td>0.000000</td>\n",
       "      <td>3.780208</td>\n",
       "      <td>10.000000</td>\n",
       "      <td>216.000000</td>\n",
       "      <td>7.000000</td>\n",
       "      <td>7473.620000</td>\n",
       "      <td>3.000000</td>\n",
       "      <td>2430.000000</td>\n",
       "      <td>66.000000</td>\n",
       "      <td>400000.0</td>\n",
       "    </tr>\n",
       "    <tr>\n",
       "      <th>75%</th>\n",
       "      <td>44829.000000</td>\n",
       "      <td>2.0</td>\n",
       "      <td>23.000000</td>\n",
       "      <td>9.000000</td>\n",
       "      <td>2019.000000</td>\n",
       "      <td>1.000000</td>\n",
       "      <td>3.811583</td>\n",
       "      <td>27.000000</td>\n",
       "      <td>454.000000</td>\n",
       "      <td>57.000000</td>\n",
       "      <td>9189.470000</td>\n",
       "      <td>4.000000</td>\n",
       "      <td>3024.000000</td>\n",
       "      <td>153.000000</td>\n",
       "      <td>400000.0</td>\n",
       "    </tr>\n",
       "    <tr>\n",
       "      <th>max</th>\n",
       "      <td>57033.000000</td>\n",
       "      <td>2.0</td>\n",
       "      <td>31.000000</td>\n",
       "      <td>12.000000</td>\n",
       "      <td>2020.000000</td>\n",
       "      <td>1.000000</td>\n",
       "      <td>4.126346</td>\n",
       "      <td>943.000000</td>\n",
       "      <td>4456.000000</td>\n",
       "      <td>1838.000000</td>\n",
       "      <td>10627.660000</td>\n",
       "      <td>6.000000</td>\n",
       "      <td>4267.000000</td>\n",
       "      <td>2337.000000</td>\n",
       "      <td>400000.0</td>\n",
       "    </tr>\n",
       "  </tbody>\n",
       "</table>\n",
       "</div>"
      ],
      "text/plain": [
       "       volume_tests  company_id         date        month         year  \\\n",
       "count   1209.000000      1209.0  1209.000000  1209.000000  1209.000000   \n",
       "mean   35514.281224         2.0    15.646816     6.137304  2018.188586   \n",
       "std    11013.525639         0.0     8.776954     3.512891     0.972725   \n",
       "min     7679.000000         2.0     1.000000     1.000000  2017.000000   \n",
       "25%    25668.000000         2.0     8.000000     3.000000  2017.000000   \n",
       "50%    37049.000000         2.0    16.000000     6.000000  2018.000000   \n",
       "75%    44829.000000         2.0    23.000000     9.000000  2019.000000   \n",
       "max    57033.000000         2.0    31.000000    12.000000  2020.000000   \n",
       "\n",
       "        is_weekend  avg_pesq_score  quality_too_poor  number_busy  \\\n",
       "count  1209.000000     1209.000000       1209.000000  1209.000000   \n",
       "mean      0.285360        3.796914         21.200993   322.167907   \n",
       "std       0.451773        0.127135         42.870436   345.310889   \n",
       "min       0.000000        3.582000          0.000000     0.000000   \n",
       "25%       0.000000        3.700625          3.000000    85.000000   \n",
       "50%       0.000000        3.780208         10.000000   216.000000   \n",
       "75%       1.000000        3.811583         27.000000   454.000000   \n",
       "max       1.000000        4.126346        943.000000  4456.000000   \n",
       "\n",
       "       temporarily_unable_test    outage_hrs  number_test_types  \\\n",
       "count              1209.000000   1209.000000        1209.000000   \n",
       "mean                 74.941274   6540.463805           3.042184   \n",
       "std                 195.218011   3131.695025           0.858753   \n",
       "min                   0.000000      0.700000           2.000000   \n",
       "25%                   0.000000   4463.950000           2.000000   \n",
       "50%                   7.000000   7473.620000           3.000000   \n",
       "75%                  57.000000   9189.470000           4.000000   \n",
       "max                1838.000000  10627.660000           6.000000   \n",
       "\n",
       "       numbers_tested  followup_tests  min_commit  \n",
       "count     1209.000000     1209.000000      1209.0  \n",
       "mean      2215.531017      115.009926    400000.0  \n",
       "std       1183.469271      152.620759         0.0  \n",
       "min        215.000000        0.000000    400000.0  \n",
       "25%        799.000000       23.000000    400000.0  \n",
       "50%       2430.000000       66.000000    400000.0  \n",
       "75%       3024.000000      153.000000    400000.0  \n",
       "max       4267.000000     2337.000000    400000.0  "
      ]
     },
     "execution_count": 6,
     "metadata": {},
     "output_type": "execute_result"
    }
   ],
   "source": [
    "df.describe()"
   ]
  },
  {
   "cell_type": "markdown",
   "metadata": {},
   "source": [
    "#### Lets plot histograms for each numerical atrribute"
   ]
  },
  {
   "cell_type": "code",
   "execution_count": 7,
   "metadata": {},
   "outputs": [
    {
     "data": {
      "text/plain": [
       "<matplotlib.axes._subplots.AxesSubplot at 0x7fc079ea7750>"
      ]
     },
     "execution_count": 7,
     "metadata": {},
     "output_type": "execute_result"
    },
    {
     "data": {
      "image/png": "[encoded data removed]",
      "text/plain": [
       "<Figure size 1440x432 with 3 Axes>"
      ]
     },
     "metadata": {
      "needs_background": "light"
     },
     "output_type": "display_data"
    }
   ],
   "source": [
    "# Create figure with two subplots\n",
    "fig = plt.figure(figsize=(20,6))\n",
    "\n",
    "# Plot avg_pesq_score\n",
    "ax1 = fig.add_subplot(1, 3, 1)\n",
    "ax1.set_title(\"Histogram of Avg. Pesq Score\")\n",
    "sns.distplot(df['avg_pesq_score'], kde=False, axlabel=False, label='avg_pesq_score')\n",
    "\n",
    "# Plot number_busy\n",
    "ax1 = fig.add_subplot(1, 3, 2)\n",
    "ax1.set_title(\"Histogram of Number Busy\")\n",
    "sns.distplot(df['number_busy'], kde=False, axlabel=False, label='number_busy')\n",
    "\n",
    "# Plot temporarily_unable_test\n",
    "ax1 = fig.add_subplot(1, 3, 3)\n",
    "ax1.set_title(\"Histogram of Temporarily Unable Test\")\n",
    "sns.distplot(df['temporarily_unable_test'], kde=False,axlabel=False, label='temporarily_unable_test')"
   ]
  },
  {
   "cell_type": "code",
   "execution_count": 8,
   "metadata": {},
   "outputs": [
    {
     "data": {
      "text/plain": [
       "<matplotlib.axes._subplots.AxesSubplot at 0x7fc079bd71d0>"
      ]
     },
     "execution_count": 8,
     "metadata": {},
     "output_type": "execute_result"
    },
    {
     "data": {
      "image/png": "[encoded data removed]",
      "text/plain": [
       "<Figure size 1440x432 with 3 Axes>"
      ]
     },
     "metadata": {
      "needs_background": "light"
     },
     "output_type": "display_data"
    }
   ],
   "source": [
    "# Create figure with two subplots\n",
    "fig = plt.figure(figsize=(20,6))\n",
    "\n",
    "# Plot outage_hrs\n",
    "ax1 = fig.add_subplot(1, 3, 1)\n",
    "ax1.set_title(\"Histogram of outage_hrs\")\n",
    "sns.distplot(df['outage_hrs'], kde=False,axlabel=False, label='outage_hrs')\n",
    "\n",
    "# Plot number_test_types\n",
    "ax1 = fig.add_subplot(1, 3, 2)\n",
    "ax1.set_title(\"Histogram of number_test_types\")\n",
    "sns.distplot(df['number_test_types'], kde=False,axlabel=False, label='number_test_types')\n",
    "\n",
    "# Plot numbers_tested\n",
    "ax2 = fig.add_subplot(1, 3, 3)\n",
    "ax2.set_title(\"Histogram of numbers_tested\")\n",
    "sns.distplot(df['numbers_tested'], kde=False,axlabel=False, label='numbers_tested')"
   ]
  },
  {
   "cell_type": "code",
   "execution_count": 9,
   "metadata": {},
   "outputs": [
    {
     "data": {
      "text/plain": [
       "<matplotlib.axes._subplots.AxesSubplot at 0x7fc0799d81d0>"
      ]
     },
     "execution_count": 9,
     "metadata": {},
     "output_type": "execute_result"
    },
    {
     "data": {
      "image/png": "[encoded data removed]",
      "text/plain": [
       "<Figure size 1440x432 with 3 Axes>"
      ]
     },
     "metadata": {
      "needs_background": "light"
     },
     "output_type": "display_data"
    }
   ],
   "source": [
    "# Create figure with two subplots\n",
    "fig = plt.figure(figsize=(20,6))\n",
    "\n",
    "# Plot followup_tests\n",
    "ax1 = fig.add_subplot(1, 3, 1)\n",
    "ax1.set_title(\"Histogram of followup_tests\")\n",
    "sns.distplot(df['followup_tests'], kde=False,axlabel=False, label='followup_tests')\n",
    "\n",
    "# Plot min_commit\n",
    "ax1 = fig.add_subplot(1, 3, 2)\n",
    "ax1.set_title(\"Histogram of min_commit\")\n",
    "sns.distplot(df['min_commit'], kde=False,axlabel=False, label='min_commit')\n",
    "\n",
    "# Plot quality_too_poor\n",
    "ax2 = fig.add_subplot(1, 3, 3)\n",
    "ax2.set_title(\"Histogram of quality_too_poor\")\n",
    "sns.distplot(df['quality_too_poor'], kde=False,axlabel=False, label='quality_too_poor')"
   ]
  },
  {
   "cell_type": "markdown",
   "metadata": {},
   "source": [
    "#### From the plots above we can see the columns with extreme values or inbalanced distribution are number_busy, temporarily_unable_test, outage_hrs, numbers_tested, followup_tests, quality_too_poor"
   ]
  },
  {
   "cell_type": "markdown",
   "metadata": {},
   "source": [
    "### Number Busy"
   ]
  },
  {
   "cell_type": "code",
   "execution_count": 10,
   "metadata": {},
   "outputs": [
    {
     "data": {
      "text/plain": [
       "count    1209.000000\n",
       "mean      322.167907\n",
       "std       345.310889\n",
       "min         0.000000\n",
       "25%        85.000000\n",
       "50%       216.000000\n",
       "75%       454.000000\n",
       "max      4456.000000\n",
       "Name: number_busy, dtype: float64"
      ]
     },
     "execution_count": 10,
     "metadata": {},
     "output_type": "execute_result"
    }
   ],
   "source": [
    "df['number_busy'].describe()"
   ]
  },
  {
   "cell_type": "code",
   "execution_count": 11,
   "metadata": {},
   "outputs": [
    {
     "data": {
      "text/plain": [
       "<matplotlib.axes._subplots.AxesSubplot at 0x7fc0798290d0>"
      ]
     },
     "execution_count": 11,
     "metadata": {},
     "output_type": "execute_result"
    },
    {
     "data": {
      "image/png": "[encoded data removed]",
      "text/plain": [
       "<Figure size 1440x720 with 1 Axes>"
      ]
     },
     "metadata": {
      "needs_background": "light"
     },
     "output_type": "display_data"
    }
   ],
   "source": [
    "plt.figure(figsize=(20, 10))\n",
    "sns.boxplot(x=df['number_busy'])"
   ]
  },
  {
   "cell_type": "code",
   "execution_count": 12,
   "metadata": {},
   "outputs": [
    {
     "name": "stdout",
     "output_type": "stream",
     "text": [
      "number_busy    3\n",
      "dtype: int64\n"
     ]
    }
   ],
   "source": [
    "print((df[['number_busy']] > 2000).sum())"
   ]
  },
  {
   "cell_type": "code",
   "execution_count": 13,
   "metadata": {},
   "outputs": [],
   "source": [
    "# Get names of indexes for which column temporarily_unable_test has value 1000\n",
    "df_original = df\n",
    "index = df[ df['number_busy'] > 2000 ].index\n",
    "\n",
    "# Delete these row indexes from dataFrame\n",
    "df.drop(index , inplace=True)"
   ]
  },
  {
   "cell_type": "code",
   "execution_count": 14,
   "metadata": {},
   "outputs": [
    {
     "data": {
      "text/plain": [
       "<matplotlib.axes._subplots.AxesSubplot at 0x7fc079394550>"
      ]
     },
     "execution_count": 14,
     "metadata": {},
     "output_type": "execute_result"
    },
    {
     "data": {
      "image/png": "[encoded data removed]",
      "text/plain": [
       "<Figure size 1152x288 with 2 Axes>"
      ]
     },
     "metadata": {
      "needs_background": "light"
     },
     "output_type": "display_data"
    }
   ],
   "source": [
    "# plt.figure(figsize=(20, 10))\n",
    "# sns.distplot(df['number_busy'], kde=False, axlabel=False, label='number_busy')\n",
    "# plt.legend()\n",
    "# plt.show()\n",
    "\n",
    "# Create figure with two subplots\n",
    "fig = plt.figure(figsize=(16,4))\n",
    "\n",
    "# Plot before\n",
    "ax1 = fig.add_subplot(1, 2, 1)\n",
    "ax1.set_title(\"Histogram of before number_busy\")\n",
    "ax1.set_xlabel('number_busy')\n",
    "sns.distplot(df_original['number_busy'], kde=False, axlabel=False, label='number_busy')\n",
    "\n",
    "# Plot after\n",
    "ax2 = fig.add_subplot(1, 2, 2)\n",
    "ax2.set_title(\"Histogram of after number_busy\")\n",
    "ax2.set_xlabel('number_busy)')\n",
    "sns.distplot(df['number_busy'], kde=False, axlabel=False, label='number_busy')"
   ]
  },
  {
   "cell_type": "markdown",
   "metadata": {},
   "source": [
    "### Temporarily Unable Test"
   ]
  },
  {
   "cell_type": "code",
   "execution_count": 15,
   "metadata": {},
   "outputs": [
    {
     "data": {
      "text/plain": [
       "count    1206.000000\n",
       "mean       75.062189\n",
       "std       195.443015\n",
       "min         0.000000\n",
       "25%         0.000000\n",
       "50%         7.000000\n",
       "75%        57.000000\n",
       "max      1838.000000\n",
       "Name: temporarily_unable_test, dtype: float64"
      ]
     },
     "execution_count": 15,
     "metadata": {},
     "output_type": "execute_result"
    }
   ],
   "source": [
    "df['temporarily_unable_test'].describe()"
   ]
  },
  {
   "cell_type": "code",
   "execution_count": 16,
   "metadata": {},
   "outputs": [
    {
     "data": {
      "text/plain": [
       "<matplotlib.axes._subplots.AxesSubplot at 0x7fc07960fdd0>"
      ]
     },
     "execution_count": 16,
     "metadata": {},
     "output_type": "execute_result"
    },
    {
     "data": {
      "image/png": "[encoded data removed]",
      "text/plain": [
       "<Figure size 1440x720 with 1 Axes>"
      ]
     },
     "metadata": {
      "needs_background": "light"
     },
     "output_type": "display_data"
    }
   ],
   "source": [
    "plt.figure(figsize=(20, 10))\n",
    "sns.boxplot(x=df['temporarily_unable_test'])"
   ]
  },
  {
   "cell_type": "markdown",
   "metadata": {},
   "source": [
    "#### Above plot shows alot of extrame values outside the 75% quartile. In particular there are quite a few outliers that are greater than 1000. Lets see how many points this effects. "
   ]
  },
  {
   "cell_type": "code",
   "execution_count": 17,
   "metadata": {},
   "outputs": [
    {
     "name": "stdout",
     "output_type": "stream",
     "text": [
      "temporarily_unable_test    14\n",
      "dtype: int64\n"
     ]
    }
   ],
   "source": [
    "print((df[['temporarily_unable_test']] > 1000).sum())"
   ]
  },
  {
   "cell_type": "markdown",
   "metadata": {},
   "source": [
    "#### As we can see there 5 results over 1000. This is around ~0.68% of the dataset I can safely remove this as they will not have a big affect the model."
   ]
  },
  {
   "cell_type": "code",
   "execution_count": 18,
   "metadata": {},
   "outputs": [],
   "source": [
    "# Get names of indexes for which column temporarily_unable_test has value 1000\n",
    "index = df[ df['temporarily_unable_test'] > 1000 ].index\n",
    "\n",
    "# Delete these row indexes from dataFrame\n",
    "df.drop(index , inplace=True)"
   ]
  },
  {
   "cell_type": "code",
   "execution_count": 19,
   "metadata": {},
   "outputs": [
    {
     "data": {
      "image/png": "[encoded data removed]",
      "text/plain": [
       "<Figure size 1440x720 with 1 Axes>"
      ]
     },
     "metadata": {
      "needs_background": "light"
     },
     "output_type": "display_data"
    }
   ],
   "source": [
    "plt.figure(figsize=(20, 10))\n",
    "sns.distplot(df['temporarily_unable_test'], kde=False, axlabel=False, label='temporarily_unable_test')\n",
    "plt.legend()\n",
    "plt.show()"
   ]
  },
  {
   "cell_type": "markdown",
   "metadata": {},
   "source": [
    "### Follow-up_tests"
   ]
  },
  {
   "cell_type": "code",
   "execution_count": 20,
   "metadata": {},
   "outputs": [],
   "source": [
    "# Use a log transformation to decrease the impact of extreme values in column followup_tests\n",
    "df['followup_tests_log'] = np.log(df['followup_tests'] + 1)"
   ]
  },
  {
   "cell_type": "code",
   "execution_count": 21,
   "metadata": {
    "scrolled": true
   },
   "outputs": [
    {
     "data": {
      "text/plain": [
       "<matplotlib.axes._subplots.AxesSubplot at 0x7fc0794427d0>"
      ]
     },
     "execution_count": 21,
     "metadata": {},
     "output_type": "execute_result"
    },
    {
     "data": {
      "image/png": "[encoded data removed]",
      "text/plain": [
       "<Figure size 1152x288 with 2 Axes>"
      ]
     },
     "metadata": {
      "needs_background": "light"
     },
     "output_type": "display_data"
    }
   ],
   "source": [
    "# Create figure with two subplots\n",
    "fig = plt.figure(figsize=(16,4))\n",
    "\n",
    "# Plot Balance\n",
    "ax1 = fig.add_subplot(1, 2, 1)\n",
    "ax1.set_title(\"Histogram of followup_tests\")\n",
    "ax1.set_xlabel('followup_tests')\n",
    "sns.distplot(df['followup_tests'], kde=False, axlabel=False, label='followup_tests')\n",
    "\n",
    "# Plot duration\n",
    "ax2 = fig.add_subplot(1, 2, 2)\n",
    "ax2.set_title(\"Histogram of ln(followup_tests)\")\n",
    "ax2.set_xlabel('ln(followup_tests)')\n",
    "sns.distplot(df['followup_tests_log'], kde=False, axlabel=False, label='ln(followup_tests)')"
   ]
  },
  {
   "cell_type": "markdown",
   "metadata": {},
   "source": [
    "#### Logs can also be used to reduce the impact of outliers in our model without losing information"
   ]
  },
  {
   "cell_type": "markdown",
   "metadata": {},
   "source": [
    "### Quality Too Poor"
   ]
  },
  {
   "cell_type": "code",
   "execution_count": 22,
   "metadata": {},
   "outputs": [
    {
     "data": {
      "text/plain": [
       "count    1192.000000\n",
       "mean       21.229866\n",
       "std        43.134404\n",
       "min         0.000000\n",
       "25%         3.000000\n",
       "50%        10.000000\n",
       "75%        26.250000\n",
       "max       943.000000\n",
       "Name: quality_too_poor, dtype: float64"
      ]
     },
     "execution_count": 22,
     "metadata": {},
     "output_type": "execute_result"
    }
   ],
   "source": [
    "df['quality_too_poor'].describe()"
   ]
  },
  {
   "cell_type": "code",
   "execution_count": 23,
   "metadata": {},
   "outputs": [
    {
     "data": {
      "text/plain": [
       "<matplotlib.axes._subplots.AxesSubplot at 0x7fc0795eab50>"
      ]
     },
     "execution_count": 23,
     "metadata": {},
     "output_type": "execute_result"
    },
    {
     "data": {
      "image/png": "[encoded data removed]",
      "text/plain": [
       "<Figure size 1440x720 with 1 Axes>"
      ]
     },
     "metadata": {
      "needs_background": "light"
     },
     "output_type": "display_data"
    }
   ],
   "source": [
    "plt.figure(figsize=(20, 10))\n",
    "sns.boxplot(x=df['quality_too_poor'])"
   ]
  },
  {
   "cell_type": "code",
   "execution_count": 24,
   "metadata": {},
   "outputs": [
    {
     "name": "stdout",
     "output_type": "stream",
     "text": [
      "quality_too_poor    3\n",
      "dtype: int64\n"
     ]
    }
   ],
   "source": [
    "print((df[['quality_too_poor']] > 300).sum())"
   ]
  },
  {
   "cell_type": "code",
   "execution_count": 25,
   "metadata": {},
   "outputs": [],
   "source": [
    "# Get names of indexes for which column outage_hrs has value < 1000 \n",
    "index = df[ df['quality_too_poor'] > 300 ].index\n",
    "\n",
    "# Delete these row indexes from dataFrame\n",
    "df.drop(index , inplace=True)"
   ]
  },
  {
   "cell_type": "code",
   "execution_count": 26,
   "metadata": {},
   "outputs": [
    {
     "data": {
      "image/png": "[encoded data removed]",
      "text/plain": [
       "<Figure size 1440x720 with 1 Axes>"
      ]
     },
     "metadata": {
      "needs_background": "light"
     },
     "output_type": "display_data"
    }
   ],
   "source": [
    "plt.figure(figsize=(20, 10))\n",
    "sns.distplot(df['quality_too_poor'], kde=False, axlabel=False, label='quality_too_poor')\n",
    "plt.legend()\n",
    "plt.show()"
   ]
  },
  {
   "cell_type": "markdown",
   "metadata": {},
   "source": [
    "### Outage Hrs"
   ]
  },
  {
   "cell_type": "code",
   "execution_count": 27,
   "metadata": {},
   "outputs": [],
   "source": [
    "# Use a log transformation to decrease the impact of extreme values in column followup_tests\n",
    "df['outage_hrs_log'] = np.log(df['outage_hrs'])"
   ]
  },
  {
   "cell_type": "code",
   "execution_count": 28,
   "metadata": {},
   "outputs": [
    {
     "data": {
      "text/plain": [
       "<matplotlib.axes._subplots.AxesSubplot at 0x7fc076eb3d90>"
      ]
     },
     "execution_count": 28,
     "metadata": {},
     "output_type": "execute_result"
    },
    {
     "data": {
      "image/png": "[encoded data removed]",
      "text/plain": [
       "<Figure size 1152x288 with 2 Axes>"
      ]
     },
     "metadata": {
      "needs_background": "light"
     },
     "output_type": "display_data"
    }
   ],
   "source": [
    "# Create figure with two subplots\n",
    "fig = plt.figure(figsize=(16,4))\n",
    "\n",
    "# Plot Balance\n",
    "ax1 = fig.add_subplot(1, 2, 1)\n",
    "ax1.set_title(\"Histogram of outage_hrs\")\n",
    "ax1.set_xlabel('outage_hrs')\n",
    "sns.distplot(df['outage_hrs'], kde=False, axlabel=False, label='outage_hrs')\n",
    "\n",
    "# Plot duration\n",
    "ax2 = fig.add_subplot(1, 2, 2)\n",
    "ax2.set_title(\"Histogram of ln(outage_hrs)\")\n",
    "ax2.set_xlabel('ln(outage_hrs)')\n",
    "sns.distplot(df['outage_hrs_log'], kde=False, axlabel=False, label='ln(outage_hrs)')"
   ]
  },
  {
   "cell_type": "markdown",
   "metadata": {},
   "source": [
    "### Numbers Tested"
   ]
  },
  {
   "cell_type": "code",
   "execution_count": 29,
   "metadata": {},
   "outputs": [],
   "source": [
    "# Use a log transformation to decrease the impact of extreme values in column followup_tests\n",
    "df['numbers_tested_log'] = np.log(df['numbers_tested'])"
   ]
  },
  {
   "cell_type": "code",
   "execution_count": 30,
   "metadata": {},
   "outputs": [
    {
     "data": {
      "text/plain": [
       "<matplotlib.axes._subplots.AxesSubplot at 0x7fc076e25950>"
      ]
     },
     "execution_count": 30,
     "metadata": {},
     "output_type": "execute_result"
    },
    {
     "data": {
      "image/png": "[encoded data removed]",
      "text/plain": [
       "<Figure size 1152x288 with 2 Axes>"
      ]
     },
     "metadata": {
      "needs_background": "light"
     },
     "output_type": "display_data"
    }
   ],
   "source": [
    "# Create figure with two subplots\n",
    "fig = plt.figure(figsize=(16,4))\n",
    "\n",
    "# Plot Balance\n",
    "ax1 = fig.add_subplot(1, 2, 1)\n",
    "ax1.set_title(\"Histogram of numbers_tested\")\n",
    "ax1.set_xlabel('numbers_tested')\n",
    "sns.distplot(df['numbers_tested'], kde=False, axlabel=False, label='numbers_tested')\n",
    "\n",
    "# Plot duration\n",
    "ax2 = fig.add_subplot(1, 2, 2)\n",
    "ax2.set_title(\"Histogram of ln(numbers_tested)\")\n",
    "ax2.set_xlabel('ln(numbers_tested)')\n",
    "sns.distplot(df['numbers_tested_log'], kde=False, axlabel=False, label='ln(numbers_tested_log)')"
   ]
  },
  {
   "cell_type": "markdown",
   "metadata": {},
   "source": [
    "#### As we have created new feature for number_busy, followup_tests, outage_hrs we can drop these feature"
   ]
  },
  {
   "cell_type": "code",
   "execution_count": 31,
   "metadata": {},
   "outputs": [],
   "source": [
    "df.drop(['followup_tests','outage_hrs', 'numbers_tested'], inplace=True, axis=1)"
   ]
  },
  {
   "cell_type": "markdown",
   "metadata": {},
   "source": [
    "## D. Linear Regression, Distribution, Hoeffding Equation"
   ]
  },
  {
   "cell_type": "code",
   "execution_count": 32,
   "metadata": {},
   "outputs": [],
   "source": [
    "# # lets define our input features\n",
    "# X = np.vstack((df['numbers_tested_log'], df['is_weekend'], df['outage_hrs_log'])).T\n",
    "\n",
    "# # lets also define our output feature\n",
    "# Y = np.hstack((df['volume_tests']))\n",
    "\n",
    "# # Split data set into training and test data\n",
    "# xTrain, xTest, yTrain, yTest = train_test_split(X, Y, test_size = 0.2, random_state = 0)\n",
    "\n",
    "# #fit training data on linear regression model\n",
    "# clf = LinearRegression().fit(xTrain, yTrain)\n",
    "\n",
    "# #Calculate Ein and Eout\n",
    "# Ein = 1 - clf.score(xTrain, yTrain)\n",
    "# Eout = 1 - clf.score(xTest, yTest)\n",
    "# print(Ein)\n",
    "# print(Eout)"
   ]
  },
  {
   "cell_type": "code",
   "execution_count": 33,
   "metadata": {},
   "outputs": [],
   "source": [
    "# def experiment(users, weights, N, df):\n",
    "#     outcomes = []\n",
    "#     for i in range(users):\n",
    "#         # lets choose a sample from dataset\n",
    "#         sample = df.sample(n=N)\n",
    "#         # lets define our input features from the random sample\n",
    "#         X = np.vstack((sample['numbers_tested_log'], sample['is_weekend'], sample['outage_hrs_log'])).T\n",
    "\n",
    "#         # lets also define our output feature from our random sample\n",
    "#         Y = np.vstack(((sample['volume_tests'])))\n",
    "\n",
    "#         # calculate in-sample error\n",
    "#         Ein = 1 - clf.score(X, Y)\n",
    "        \n",
    "#         # add in sample error to outcome list\n",
    "#         outcomes.append(Ein)\n",
    "    \n",
    "#     v_1 = outcomes[0] \n",
    "#     v_rand = outcomes[rnd.randint(0,users-1)]\n",
    "#     v_min = min(outcomes)\n",
    "    \n",
    "#     return v_1,v_rand,v_min"
   ]
  },
  {
   "cell_type": "code",
   "execution_count": 34,
   "metadata": {},
   "outputs": [],
   "source": [
    "# users = len(X)\n",
    "# N=10\n",
    "# repeats = 100\n",
    "\n",
    "# dist_1 = []\n",
    "# dist_rand=[]\n",
    "# dist_min=[]\n",
    "# lists = [dist_1, dist_rand, dist_min]\n",
    "\n",
    "# #d = np.column_stack((X,y))\n",
    "# #df = pd.DataFrame(data=d, dtype=np.int8)\n",
    "\n",
    "# for e in range(repeats):\n",
    "#     for x, lst in zip(experiment(users, clf, N, df), lists):\n",
    "#         lst.append(x)\n",
    "\n",
    "# plt.figure(figsize=(20, 10))\n",
    "# plt.hist(lists[0])\n",
    "# plt.title('Distribution first row')\n",
    "# plt.show()\n",
    "\n",
    "# plt.figure(figsize=(20, 10))\n",
    "# plt.hist(lists[1])\n",
    "# plt.title('Distribution random row')\n",
    "# plt.show()\n",
    "\n",
    "# plt.figure(figsize=(20, 10))\n",
    "# plt.hist(lists[2])\n",
    "# plt.title('Distribution of min row')\n",
    "# plt.show()"
   ]
  },
  {
   "cell_type": "code",
   "execution_count": 35,
   "metadata": {},
   "outputs": [],
   "source": [
    "# titles = [\"First\", \"Random\", \"Min\"]\n",
    "# dvc = len(X[0])\n",
    "# for d in range(0,3):\n",
    "#     dist = lists[d]\n",
    "#     prob_epsilon=[]\n",
    "#     epsilons = np.arange(0, 1, 0.001)\n",
    "#     for e in epsilons:\n",
    "#         prob_epsilon.append(len([1 for i in dist if abs(i-Eout) > e])/len(dist))\n",
    "    \n",
    "#     plt.figure(figsize=(20, 10))\n",
    "#     plt.plot(epsilons, prob_epsilon)\n",
    "#     plt.plot(epsilons, [2*math.exp(-2*e**2*N) for e in epsilons])\n",
    "#     plt.plot(epsilons, [4*((2*N)**dvc+1)*math.exp(-(1/8)*e**2*N) for e in epsilons]) \n",
    "#     plt.yscale('log')\n",
    "#     plt.title(titles[d])\n",
    "#     plt.show"
   ]
  },
  {
   "cell_type": "markdown",
   "metadata": {},
   "source": [
    "### Hoeffding Equation - Is Learning Feasible?\n",
    "#### The Random & Min tend to obey Hoeffding bound, while First does not. If I tweak my input features could I get my results to be more consistent?"
   ]
  },
  {
   "cell_type": "markdown",
   "metadata": {},
   "source": [
    "## E. Plotting Learning Curves & Exploring Other Machine Learning Algorithms"
   ]
  },
  {
   "cell_type": "code",
   "execution_count": 50,
   "metadata": {},
   "outputs": [
    {
     "ename": "KeyError",
     "evalue": "'numbers_tested_log'",
     "output_type": "error",
     "traceback": [
      "\u001b[0;31m---------------------------------------------------------------------------\u001b[0m",
      "\u001b[0;31mKeyError\u001b[0m                                  Traceback (most recent call last)",
      "\u001b[0;32m~/anaconda3/lib/python3.7/site-packages/pandas/core/indexes/base.py\u001b[0m in \u001b[0;36mget_loc\u001b[0;34m(self, key, method, tolerance)\u001b[0m\n\u001b[1;32m   2896\u001b[0m             \u001b[0;32mtry\u001b[0m\u001b[0;34m:\u001b[0m\u001b[0;34m\u001b[0m\u001b[0;34m\u001b[0m\u001b[0m\n\u001b[0;32m-> 2897\u001b[0;31m                 \u001b[0;32mreturn\u001b[0m \u001b[0mself\u001b[0m\u001b[0;34m.\u001b[0m\u001b[0m_engine\u001b[0m\u001b[0;34m.\u001b[0m\u001b[0mget_loc\u001b[0m\u001b[0;34m(\u001b[0m\u001b[0mkey\u001b[0m\u001b[0;34m)\u001b[0m\u001b[0;34m\u001b[0m\u001b[0;34m\u001b[0m\u001b[0m\n\u001b[0m\u001b[1;32m   2898\u001b[0m             \u001b[0;32mexcept\u001b[0m \u001b[0mKeyError\u001b[0m\u001b[0;34m:\u001b[0m\u001b[0;34m\u001b[0m\u001b[0;34m\u001b[0m\u001b[0m\n",
      "\u001b[0;32mpandas/_libs/index.pyx\u001b[0m in \u001b[0;36mpandas._libs.index.IndexEngine.get_loc\u001b[0;34m()\u001b[0m\n",
      "\u001b[0;32mpandas/_libs/index.pyx\u001b[0m in \u001b[0;36mpandas._libs.index.IndexEngine.get_loc\u001b[0;34m()\u001b[0m\n",
      "\u001b[0;32mpandas/_libs/hashtable_class_helper.pxi\u001b[0m in \u001b[0;36mpandas._libs.hashtable.PyObjectHashTable.get_item\u001b[0;34m()\u001b[0m\n",
      "\u001b[0;32mpandas/_libs/hashtable_class_helper.pxi\u001b[0m in \u001b[0;36mpandas._libs.hashtable.PyObjectHashTable.get_item\u001b[0;34m()\u001b[0m\n",
      "\u001b[0;31mKeyError\u001b[0m: 'numbers_tested_log'",
      "\nDuring handling of the above exception, another exception occurred:\n",
      "\u001b[0;31mKeyError\u001b[0m                                  Traceback (most recent call last)",
      "\u001b[0;32m<ipython-input-50-c1bef31b9ae6>\u001b[0m in \u001b[0;36m<module>\u001b[0;34m\u001b[0m\n\u001b[0;32m----> 1\u001b[0;31m \u001b[0mX\u001b[0m \u001b[0;34m=\u001b[0m \u001b[0mnp\u001b[0m\u001b[0;34m.\u001b[0m\u001b[0mvstack\u001b[0m\u001b[0;34m(\u001b[0m\u001b[0;34m(\u001b[0m\u001b[0mdf\u001b[0m\u001b[0;34m[\u001b[0m\u001b[0;34m'numbers_tested_log'\u001b[0m\u001b[0;34m]\u001b[0m\u001b[0;34m,\u001b[0m \u001b[0mdf\u001b[0m\u001b[0;34m[\u001b[0m\u001b[0;34m'is_weekend'\u001b[0m\u001b[0;34m]\u001b[0m\u001b[0;34m)\u001b[0m\u001b[0;34m)\u001b[0m\u001b[0;34m.\u001b[0m\u001b[0mT\u001b[0m\u001b[0;34m\u001b[0m\u001b[0;34m\u001b[0m\u001b[0m\n\u001b[0m\u001b[1;32m      2\u001b[0m \u001b[0mY\u001b[0m \u001b[0;34m=\u001b[0m \u001b[0mnp\u001b[0m\u001b[0;34m.\u001b[0m\u001b[0mhstack\u001b[0m\u001b[0;34m(\u001b[0m\u001b[0;34m(\u001b[0m\u001b[0;34m(\u001b[0m\u001b[0mdf\u001b[0m\u001b[0;34m[\u001b[0m\u001b[0;34m'volume_tests'\u001b[0m\u001b[0;34m]\u001b[0m\u001b[0;34m)\u001b[0m\u001b[0;34m)\u001b[0m\u001b[0;34m)\u001b[0m\u001b[0;34m\u001b[0m\u001b[0;34m\u001b[0m\u001b[0m\n",
      "\u001b[0;32m~/anaconda3/lib/python3.7/site-packages/pandas/core/frame.py\u001b[0m in \u001b[0;36m__getitem__\u001b[0;34m(self, key)\u001b[0m\n\u001b[1;32m   2993\u001b[0m             \u001b[0;32mif\u001b[0m \u001b[0mself\u001b[0m\u001b[0;34m.\u001b[0m\u001b[0mcolumns\u001b[0m\u001b[0;34m.\u001b[0m\u001b[0mnlevels\u001b[0m \u001b[0;34m>\u001b[0m \u001b[0;36m1\u001b[0m\u001b[0;34m:\u001b[0m\u001b[0;34m\u001b[0m\u001b[0;34m\u001b[0m\u001b[0m\n\u001b[1;32m   2994\u001b[0m                 \u001b[0;32mreturn\u001b[0m \u001b[0mself\u001b[0m\u001b[0;34m.\u001b[0m\u001b[0m_getitem_multilevel\u001b[0m\u001b[0;34m(\u001b[0m\u001b[0mkey\u001b[0m\u001b[0;34m)\u001b[0m\u001b[0;34m\u001b[0m\u001b[0;34m\u001b[0m\u001b[0m\n\u001b[0;32m-> 2995\u001b[0;31m             \u001b[0mindexer\u001b[0m \u001b[0;34m=\u001b[0m \u001b[0mself\u001b[0m\u001b[0;34m.\u001b[0m\u001b[0mcolumns\u001b[0m\u001b[0;34m.\u001b[0m\u001b[0mget_loc\u001b[0m\u001b[0;34m(\u001b[0m\u001b[0mkey\u001b[0m\u001b[0;34m)\u001b[0m\u001b[0;34m\u001b[0m\u001b[0;34m\u001b[0m\u001b[0m\n\u001b[0m\u001b[1;32m   2996\u001b[0m             \u001b[0;32mif\u001b[0m \u001b[0mis_integer\u001b[0m\u001b[0;34m(\u001b[0m\u001b[0mindexer\u001b[0m\u001b[0;34m)\u001b[0m\u001b[0;34m:\u001b[0m\u001b[0;34m\u001b[0m\u001b[0;34m\u001b[0m\u001b[0m\n\u001b[1;32m   2997\u001b[0m                 \u001b[0mindexer\u001b[0m \u001b[0;34m=\u001b[0m \u001b[0;34m[\u001b[0m\u001b[0mindexer\u001b[0m\u001b[0;34m]\u001b[0m\u001b[0;34m\u001b[0m\u001b[0;34m\u001b[0m\u001b[0m\n",
      "\u001b[0;32m~/anaconda3/lib/python3.7/site-packages/pandas/core/indexes/base.py\u001b[0m in \u001b[0;36mget_loc\u001b[0;34m(self, key, method, tolerance)\u001b[0m\n\u001b[1;32m   2897\u001b[0m                 \u001b[0;32mreturn\u001b[0m \u001b[0mself\u001b[0m\u001b[0;34m.\u001b[0m\u001b[0m_engine\u001b[0m\u001b[0;34m.\u001b[0m\u001b[0mget_loc\u001b[0m\u001b[0;34m(\u001b[0m\u001b[0mkey\u001b[0m\u001b[0;34m)\u001b[0m\u001b[0;34m\u001b[0m\u001b[0;34m\u001b[0m\u001b[0m\n\u001b[1;32m   2898\u001b[0m             \u001b[0;32mexcept\u001b[0m \u001b[0mKeyError\u001b[0m\u001b[0;34m:\u001b[0m\u001b[0;34m\u001b[0m\u001b[0;34m\u001b[0m\u001b[0m\n\u001b[0;32m-> 2899\u001b[0;31m                 \u001b[0;32mreturn\u001b[0m \u001b[0mself\u001b[0m\u001b[0;34m.\u001b[0m\u001b[0m_engine\u001b[0m\u001b[0;34m.\u001b[0m\u001b[0mget_loc\u001b[0m\u001b[0;34m(\u001b[0m\u001b[0mself\u001b[0m\u001b[0;34m.\u001b[0m\u001b[0m_maybe_cast_indexer\u001b[0m\u001b[0;34m(\u001b[0m\u001b[0mkey\u001b[0m\u001b[0;34m)\u001b[0m\u001b[0;34m)\u001b[0m\u001b[0;34m\u001b[0m\u001b[0;34m\u001b[0m\u001b[0m\n\u001b[0m\u001b[1;32m   2900\u001b[0m         \u001b[0mindexer\u001b[0m \u001b[0;34m=\u001b[0m \u001b[0mself\u001b[0m\u001b[0;34m.\u001b[0m\u001b[0mget_indexer\u001b[0m\u001b[0;34m(\u001b[0m\u001b[0;34m[\u001b[0m\u001b[0mkey\u001b[0m\u001b[0;34m]\u001b[0m\u001b[0;34m,\u001b[0m \u001b[0mmethod\u001b[0m\u001b[0;34m=\u001b[0m\u001b[0mmethod\u001b[0m\u001b[0;34m,\u001b[0m \u001b[0mtolerance\u001b[0m\u001b[0;34m=\u001b[0m\u001b[0mtolerance\u001b[0m\u001b[0;34m)\u001b[0m\u001b[0;34m\u001b[0m\u001b[0;34m\u001b[0m\u001b[0m\n\u001b[1;32m   2901\u001b[0m         \u001b[0;32mif\u001b[0m \u001b[0mindexer\u001b[0m\u001b[0;34m.\u001b[0m\u001b[0mndim\u001b[0m \u001b[0;34m>\u001b[0m \u001b[0;36m1\u001b[0m \u001b[0;32mor\u001b[0m \u001b[0mindexer\u001b[0m\u001b[0;34m.\u001b[0m\u001b[0msize\u001b[0m \u001b[0;34m>\u001b[0m \u001b[0;36m1\u001b[0m\u001b[0;34m:\u001b[0m\u001b[0;34m\u001b[0m\u001b[0;34m\u001b[0m\u001b[0m\n",
      "\u001b[0;32mpandas/_libs/index.pyx\u001b[0m in \u001b[0;36mpandas._libs.index.IndexEngine.get_loc\u001b[0;34m()\u001b[0m\n",
      "\u001b[0;32mpandas/_libs/index.pyx\u001b[0m in \u001b[0;36mpandas._libs.index.IndexEngine.get_loc\u001b[0;34m()\u001b[0m\n",
      "\u001b[0;32mpandas/_libs/hashtable_class_helper.pxi\u001b[0m in \u001b[0;36mpandas._libs.hashtable.PyObjectHashTable.get_item\u001b[0;34m()\u001b[0m\n",
      "\u001b[0;32mpandas/_libs/hashtable_class_helper.pxi\u001b[0m in \u001b[0;36mpandas._libs.hashtable.PyObjectHashTable.get_item\u001b[0;34m()\u001b[0m\n",
      "\u001b[0;31mKeyError\u001b[0m: 'numbers_tested_log'"
     ]
    }
   ],
   "source": [
    "X = np.vstack((df['numbers_tested_log'], df['is_weekend'], df['outage_hrs_log'])).T\n",
    "Y = np.hstack(((df['volume_tests'])))"
   ]
  },
  {
   "cell_type": "code",
   "execution_count": 37,
   "metadata": {},
   "outputs": [],
   "source": [
    "def plot_learning_curve(estimator, title, X, y, axes=None, ylim=None, cv=None,\n",
    "                        n_jobs=None, train_sizes=np.linspace(.1, 1.0, 5)):\n",
    "    if axes is None:\n",
    "        _, axes = plt.subplots(1, 3, figsize=(20, 5))\n",
    "\n",
    "    axes[0].set_title(title)\n",
    "    if ylim is not None:\n",
    "        axes[0].set_ylim(*ylim)\n",
    "    axes[0].set_xlabel(\"Training examples\")\n",
    "    axes[0].set_ylabel(\"Score\")\n",
    "\n",
    "    train_sizes, train_scores, test_scores, fit_times, _ = \\\n",
    "        learning_curve(estimator, X, y, cv=cv, n_jobs=n_jobs,\n",
    "                       train_sizes=train_sizes,\n",
    "                       return_times=True)\n",
    "    train_scores_mean = np.mean(train_scores, axis=1)\n",
    "    train_scores_std = np.std(train_scores, axis=1)\n",
    "    test_scores_mean = np.mean(test_scores, axis=1)\n",
    "    test_scores_std = np.std(test_scores, axis=1)\n",
    "    fit_times_mean = np.mean(fit_times, axis=1)\n",
    "    fit_times_std = np.std(fit_times, axis=1)\n",
    "\n",
    "    # Plot learning curve\n",
    "    axes[0].grid()\n",
    "    axes[0].fill_between(train_sizes, train_scores_mean - train_scores_std,\n",
    "                         train_scores_mean + train_scores_std, alpha=0.1,\n",
    "                         color=\"r\")\n",
    "    axes[0].fill_between(train_sizes, test_scores_mean - test_scores_std,\n",
    "                         test_scores_mean + test_scores_std, alpha=0.1,\n",
    "                         color=\"g\")\n",
    "    axes[0].plot(train_sizes, train_scores_mean, 'o-', color=\"r\",\n",
    "                 label=\"Training score\")\n",
    "    axes[0].plot(train_sizes, test_scores_mean, 'o-', color=\"g\",\n",
    "                 label=\"Cross-validation score\")\n",
    "    axes[0].legend(loc=\"best\")\n",
    "\n",
    "    # Plot n_samples vs fit_times\n",
    "    axes[1].grid()\n",
    "    axes[1].plot(train_sizes, fit_times_mean, 'o-')\n",
    "    axes[1].fill_between(train_sizes, fit_times_mean - fit_times_std,\n",
    "                         fit_times_mean + fit_times_std, alpha=0.1)\n",
    "    axes[1].set_xlabel(\"Training examples\")\n",
    "    axes[1].set_ylabel(\"fit_times\")\n",
    "    axes[1].set_title(\"Scalability of the model\")\n",
    "\n",
    "    # Plot fit_time vs score\n",
    "    axes[2].grid()\n",
    "    axes[2].plot(fit_times_mean, test_scores_mean, 'o-')\n",
    "    axes[2].fill_between(fit_times_mean, test_scores_mean - test_scores_std,\n",
    "                         test_scores_mean + test_scores_std, alpha=0.1)\n",
    "    axes[2].set_xlabel(\"fit_times\")\n",
    "    axes[2].set_ylabel(\"Score\")\n",
    "    axes[2].set_title(\"Performance of the model\")\n",
    "\n",
    "    return plt"
   ]
  },
  {
   "cell_type": "code",
   "execution_count": 49,
   "metadata": {},
   "outputs": [
    {
     "data": {
      "image/png": "[encoded data removed]",
      "text/plain": [
       "<Figure size 720x1080 with 6 Axes>"
      ]
     },
     "metadata": {
      "needs_background": "light"
     },
     "output_type": "display_data"
    }
   ],
   "source": [
    "fig, axes = plt.subplots(3, 2, figsize=(10, 15))\n",
    "\n",
    "title = \"Linear Regression\"\n",
    "# Cross validation with 100 iterations to get smoother mean test and train\n",
    "# score curves, each time with 20% data randomly selected as a validation set.\n",
    "cv = ShuffleSplit(n_splits=100, test_size=0.2, random_state=0)\n",
    "\n",
    "estimator = LinearRegression()\n",
    "plot_learning_curve(estimator, title, X, Y, axes=axes[:, 0], ylim=(0.7, 1.01),\n",
    "                    cv=cv, n_jobs=4)\n",
    "\n",
    "title = \"Gaussian NB\"\n",
    "# Cross validation with 100 iterations to get smoother mean test and train\n",
    "# score curves, each time with 20% data randomly selected as a validation set.\n",
    "cv = ShuffleSplit(n_splits=100, test_size=0.2, random_state=0)\n",
    "\n",
    "estimator = GaussianNB()\n",
    "plot_learning_curve(estimator, title, X, Y, axes=axes[:, 1], ylim=(0.7, 1.01),\n",
    "                    cv=cv, n_jobs=4)\n",
    "\n",
    "plt.show()"
   ]
  },
  {
   "cell_type": "markdown",
   "metadata": {},
   "source": [
    "#### Linear Regression graphs looks pretty good and I can see low variance in between training and validation data. This means the model is performing well on the test data. I might try RNN so I can compare the two, but not sure how straightforward it will be to do this."
   ]
  }
 ],
 "metadata": {
  "kernelspec": {
   "display_name": "Python 3",
   "language": "python",
   "name": "python3"
  },
  "language_info": {
   "codemirror_mode": {
    "name": "ipython",
    "version": 3
   },
   "file_extension": ".py",
   "mimetype": "text/x-python",
   "name": "python",
   "nbconvert_exporter": "python",
   "pygments_lexer": "ipython3",
   "version": "3.7.6"
  }
 },
 "nbformat": 4,
 "nbformat_minor": 4
}
