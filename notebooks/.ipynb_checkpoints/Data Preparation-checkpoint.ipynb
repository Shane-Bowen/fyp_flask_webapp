{
 "cells": [
  {
   "cell_type": "markdown",
   "metadata": {},
   "source": [
    "## A. Importing Modules & Datasets"
   ]
  },
  {
   "cell_type": "code",
   "execution_count": 1,
   "metadata": {},
   "outputs": [],
   "source": [
    "import pandas as pd\n",
    "import numpy as np\n",
    "import matplotlib.pyplot as plt\n",
    "import seaborn as sns\n",
    "import random as rnd\n",
    "import math\n",
    "from sklearn import preprocessing\n",
    "from sklearn.model_selection import train_test_split\n",
    "from sklearn.datasets import load_digits\n",
    "from sklearn.model_selection import learning_curve\n",
    "from sklearn.linear_model import LinearRegression\n",
    "from sklearn.svm import SVR\n",
    "from sklearn.ensemble import RandomForestClassifier\n",
    "from sklearn.model_selection import ShuffleSplit\n",
    "import tensorflow as tf\n",
    "from sklearn.naive_bayes import GaussianNB\n",
    "from sklearn.svm import SVC\n",
    "\n",
    "df = pd.read_csv(\"../reports/company_report_2.csv\")"
   ]
  },
  {
   "cell_type": "code",
   "execution_count": 2,
   "metadata": {},
   "outputs": [
    {
     "data": {
      "text/html": [
       "<div>\n",
       "<style scoped>\n",
       "    .dataframe tbody tr th:only-of-type {\n",
       "        vertical-align: middle;\n",
       "    }\n",
       "\n",
       "    .dataframe tbody tr th {\n",
       "        vertical-align: top;\n",
       "    }\n",
       "\n",
       "    .dataframe thead th {\n",
       "        text-align: right;\n",
       "    }\n",
       "</style>\n",
       "<table border=\"1\" class=\"dataframe\">\n",
       "  <thead>\n",
       "    <tr style=\"text-align: right;\">\n",
       "      <th></th>\n",
       "      <th>volume_tests</th>\n",
       "      <th>company_id</th>\n",
       "      <th>company_type</th>\n",
       "      <th>time</th>\n",
       "      <th>date</th>\n",
       "      <th>month</th>\n",
       "      <th>year</th>\n",
       "      <th>day</th>\n",
       "      <th>is_weekend</th>\n",
       "      <th>season</th>\n",
       "      <th>avg_pesq_score</th>\n",
       "      <th>quality_too_poor</th>\n",
       "      <th>number_busy</th>\n",
       "      <th>temporarily_unable_test</th>\n",
       "      <th>outage_hrs</th>\n",
       "      <th>number_test_types</th>\n",
       "      <th>numbers_tested</th>\n",
       "      <th>followup_tests</th>\n",
       "      <th>min_commit</th>\n",
       "    </tr>\n",
       "  </thead>\n",
       "  <tbody>\n",
       "    <tr>\n",
       "      <th>0</th>\n",
       "      <td>48406</td>\n",
       "      <td>2</td>\n",
       "      <td>Enterprise</td>\n",
       "      <td>2016-12-06</td>\n",
       "      <td>6</td>\n",
       "      <td>12</td>\n",
       "      <td>2016</td>\n",
       "      <td>Tues</td>\n",
       "      <td>0</td>\n",
       "      <td>Winter</td>\n",
       "      <td>4.064030</td>\n",
       "      <td>7</td>\n",
       "      <td>1</td>\n",
       "      <td>0</td>\n",
       "      <td>0.10</td>\n",
       "      <td>2</td>\n",
       "      <td>1940</td>\n",
       "      <td>0</td>\n",
       "      <td>NaN</td>\n",
       "    </tr>\n",
       "    <tr>\n",
       "      <th>1</th>\n",
       "      <td>30598</td>\n",
       "      <td>2</td>\n",
       "      <td>Enterprise</td>\n",
       "      <td>2016-12-07</td>\n",
       "      <td>7</td>\n",
       "      <td>12</td>\n",
       "      <td>2016</td>\n",
       "      <td>Wed</td>\n",
       "      <td>0</td>\n",
       "      <td>Winter</td>\n",
       "      <td>3.707060</td>\n",
       "      <td>7</td>\n",
       "      <td>167</td>\n",
       "      <td>17</td>\n",
       "      <td>8.85</td>\n",
       "      <td>3</td>\n",
       "      <td>531</td>\n",
       "      <td>0</td>\n",
       "      <td>NaN</td>\n",
       "    </tr>\n",
       "    <tr>\n",
       "      <th>2</th>\n",
       "      <td>36327</td>\n",
       "      <td>2</td>\n",
       "      <td>Enterprise</td>\n",
       "      <td>2016-12-08</td>\n",
       "      <td>8</td>\n",
       "      <td>12</td>\n",
       "      <td>2016</td>\n",
       "      <td>Thurs</td>\n",
       "      <td>0</td>\n",
       "      <td>Winter</td>\n",
       "      <td>3.708403</td>\n",
       "      <td>1</td>\n",
       "      <td>94</td>\n",
       "      <td>1</td>\n",
       "      <td>5.52</td>\n",
       "      <td>3</td>\n",
       "      <td>1818</td>\n",
       "      <td>0</td>\n",
       "      <td>NaN</td>\n",
       "    </tr>\n",
       "    <tr>\n",
       "      <th>3</th>\n",
       "      <td>37692</td>\n",
       "      <td>2</td>\n",
       "      <td>Enterprise</td>\n",
       "      <td>2016-12-09</td>\n",
       "      <td>9</td>\n",
       "      <td>12</td>\n",
       "      <td>2016</td>\n",
       "      <td>Fri</td>\n",
       "      <td>0</td>\n",
       "      <td>Winter</td>\n",
       "      <td>3.808820</td>\n",
       "      <td>4</td>\n",
       "      <td>44</td>\n",
       "      <td>3</td>\n",
       "      <td>3.67</td>\n",
       "      <td>3</td>\n",
       "      <td>2092</td>\n",
       "      <td>0</td>\n",
       "      <td>NaN</td>\n",
       "    </tr>\n",
       "    <tr>\n",
       "      <th>4</th>\n",
       "      <td>22551</td>\n",
       "      <td>2</td>\n",
       "      <td>Enterprise</td>\n",
       "      <td>2016-12-10</td>\n",
       "      <td>10</td>\n",
       "      <td>12</td>\n",
       "      <td>2016</td>\n",
       "      <td>Sat</td>\n",
       "      <td>1</td>\n",
       "      <td>Winter</td>\n",
       "      <td>3.863629</td>\n",
       "      <td>2</td>\n",
       "      <td>14</td>\n",
       "      <td>0</td>\n",
       "      <td>0.50</td>\n",
       "      <td>3</td>\n",
       "      <td>299</td>\n",
       "      <td>0</td>\n",
       "      <td>NaN</td>\n",
       "    </tr>\n",
       "    <tr>\n",
       "      <th>5</th>\n",
       "      <td>21374</td>\n",
       "      <td>2</td>\n",
       "      <td>Enterprise</td>\n",
       "      <td>2016-12-11</td>\n",
       "      <td>11</td>\n",
       "      <td>12</td>\n",
       "      <td>2016</td>\n",
       "      <td>Sun</td>\n",
       "      <td>1</td>\n",
       "      <td>Winter</td>\n",
       "      <td>3.852993</td>\n",
       "      <td>0</td>\n",
       "      <td>10</td>\n",
       "      <td>0</td>\n",
       "      <td>0.10</td>\n",
       "      <td>3</td>\n",
       "      <td>231</td>\n",
       "      <td>0</td>\n",
       "      <td>NaN</td>\n",
       "    </tr>\n",
       "    <tr>\n",
       "      <th>6</th>\n",
       "      <td>37571</td>\n",
       "      <td>2</td>\n",
       "      <td>Enterprise</td>\n",
       "      <td>2016-12-12</td>\n",
       "      <td>12</td>\n",
       "      <td>12</td>\n",
       "      <td>2016</td>\n",
       "      <td>Mon</td>\n",
       "      <td>0</td>\n",
       "      <td>Winter</td>\n",
       "      <td>3.849477</td>\n",
       "      <td>7</td>\n",
       "      <td>251</td>\n",
       "      <td>1</td>\n",
       "      <td>419.67</td>\n",
       "      <td>3</td>\n",
       "      <td>2086</td>\n",
       "      <td>0</td>\n",
       "      <td>NaN</td>\n",
       "    </tr>\n",
       "    <tr>\n",
       "      <th>7</th>\n",
       "      <td>38378</td>\n",
       "      <td>2</td>\n",
       "      <td>Enterprise</td>\n",
       "      <td>2016-12-13</td>\n",
       "      <td>13</td>\n",
       "      <td>12</td>\n",
       "      <td>2016</td>\n",
       "      <td>Tues</td>\n",
       "      <td>0</td>\n",
       "      <td>Winter</td>\n",
       "      <td>3.855606</td>\n",
       "      <td>16</td>\n",
       "      <td>428</td>\n",
       "      <td>0</td>\n",
       "      <td>252.98</td>\n",
       "      <td>3</td>\n",
       "      <td>2089</td>\n",
       "      <td>0</td>\n",
       "      <td>NaN</td>\n",
       "    </tr>\n",
       "    <tr>\n",
       "      <th>8</th>\n",
       "      <td>38356</td>\n",
       "      <td>2</td>\n",
       "      <td>Enterprise</td>\n",
       "      <td>2016-12-14</td>\n",
       "      <td>14</td>\n",
       "      <td>12</td>\n",
       "      <td>2016</td>\n",
       "      <td>Wed</td>\n",
       "      <td>0</td>\n",
       "      <td>Winter</td>\n",
       "      <td>3.860039</td>\n",
       "      <td>9</td>\n",
       "      <td>304</td>\n",
       "      <td>0</td>\n",
       "      <td>10.58</td>\n",
       "      <td>3</td>\n",
       "      <td>2087</td>\n",
       "      <td>0</td>\n",
       "      <td>NaN</td>\n",
       "    </tr>\n",
       "    <tr>\n",
       "      <th>9</th>\n",
       "      <td>38274</td>\n",
       "      <td>2</td>\n",
       "      <td>Enterprise</td>\n",
       "      <td>2016-12-15</td>\n",
       "      <td>15</td>\n",
       "      <td>12</td>\n",
       "      <td>2016</td>\n",
       "      <td>Thurs</td>\n",
       "      <td>0</td>\n",
       "      <td>Winter</td>\n",
       "      <td>3.857561</td>\n",
       "      <td>6</td>\n",
       "      <td>333</td>\n",
       "      <td>290</td>\n",
       "      <td>35.37</td>\n",
       "      <td>3</td>\n",
       "      <td>2091</td>\n",
       "      <td>0</td>\n",
       "      <td>NaN</td>\n",
       "    </tr>\n",
       "  </tbody>\n",
       "</table>\n",
       "</div>"
      ],
      "text/plain": [
       "   volume_tests  company_id company_type        time  date  month  year  \\\n",
       "0         48406           2   Enterprise  2016-12-06     6     12  2016   \n",
       "1         30598           2   Enterprise  2016-12-07     7     12  2016   \n",
       "2         36327           2   Enterprise  2016-12-08     8     12  2016   \n",
       "3         37692           2   Enterprise  2016-12-09     9     12  2016   \n",
       "4         22551           2   Enterprise  2016-12-10    10     12  2016   \n",
       "5         21374           2   Enterprise  2016-12-11    11     12  2016   \n",
       "6         37571           2   Enterprise  2016-12-12    12     12  2016   \n",
       "7         38378           2   Enterprise  2016-12-13    13     12  2016   \n",
       "8         38356           2   Enterprise  2016-12-14    14     12  2016   \n",
       "9         38274           2   Enterprise  2016-12-15    15     12  2016   \n",
       "\n",
       "     day  is_weekend  season  avg_pesq_score  quality_too_poor  number_busy  \\\n",
       "0   Tues           0  Winter        4.064030                 7            1   \n",
       "1    Wed           0  Winter        3.707060                 7          167   \n",
       "2  Thurs           0  Winter        3.708403                 1           94   \n",
       "3    Fri           0  Winter        3.808820                 4           44   \n",
       "4    Sat           1  Winter        3.863629                 2           14   \n",
       "5    Sun           1  Winter        3.852993                 0           10   \n",
       "6    Mon           0  Winter        3.849477                 7          251   \n",
       "7   Tues           0  Winter        3.855606                16          428   \n",
       "8    Wed           0  Winter        3.860039                 9          304   \n",
       "9  Thurs           0  Winter        3.857561                 6          333   \n",
       "\n",
       "   temporarily_unable_test  outage_hrs  number_test_types  numbers_tested  \\\n",
       "0                        0        0.10                  2            1940   \n",
       "1                       17        8.85                  3             531   \n",
       "2                        1        5.52                  3            1818   \n",
       "3                        3        3.67                  3            2092   \n",
       "4                        0        0.50                  3             299   \n",
       "5                        0        0.10                  3             231   \n",
       "6                        1      419.67                  3            2086   \n",
       "7                        0      252.98                  3            2089   \n",
       "8                        0       10.58                  3            2087   \n",
       "9                      290       35.37                  3            2091   \n",
       "\n",
       "   followup_tests  min_commit  \n",
       "0               0         NaN  \n",
       "1               0         NaN  \n",
       "2               0         NaN  \n",
       "3               0         NaN  \n",
       "4               0         NaN  \n",
       "5               0         NaN  \n",
       "6               0         NaN  \n",
       "7               0         NaN  \n",
       "8               0         NaN  \n",
       "9               0         NaN  "
      ]
     },
     "execution_count": 2,
     "metadata": {},
     "output_type": "execute_result"
    }
   ],
   "source": [
    "df.head(10)"
   ]
  },
  {
   "cell_type": "code",
   "execution_count": 3,
   "metadata": {},
   "outputs": [
    {
     "data": {
      "text/html": [
       "<div>\n",
       "<style scoped>\n",
       "    .dataframe tbody tr th:only-of-type {\n",
       "        vertical-align: middle;\n",
       "    }\n",
       "\n",
       "    .dataframe tbody tr th {\n",
       "        vertical-align: top;\n",
       "    }\n",
       "\n",
       "    .dataframe thead th {\n",
       "        text-align: right;\n",
       "    }\n",
       "</style>\n",
       "<table border=\"1\" class=\"dataframe\">\n",
       "  <thead>\n",
       "    <tr style=\"text-align: right;\">\n",
       "      <th></th>\n",
       "      <th>volume_tests</th>\n",
       "      <th>company_id</th>\n",
       "      <th>company_type</th>\n",
       "      <th>time</th>\n",
       "      <th>date</th>\n",
       "      <th>month</th>\n",
       "      <th>year</th>\n",
       "      <th>day</th>\n",
       "      <th>is_weekend</th>\n",
       "      <th>season</th>\n",
       "      <th>avg_pesq_score</th>\n",
       "      <th>quality_too_poor</th>\n",
       "      <th>number_busy</th>\n",
       "      <th>temporarily_unable_test</th>\n",
       "      <th>outage_hrs</th>\n",
       "      <th>number_test_types</th>\n",
       "      <th>numbers_tested</th>\n",
       "      <th>followup_tests</th>\n",
       "      <th>min_commit</th>\n",
       "    </tr>\n",
       "  </thead>\n",
       "  <tbody>\n",
       "    <tr>\n",
       "      <th>1236</th>\n",
       "      <td>26110</td>\n",
       "      <td>2</td>\n",
       "      <td>Enterprise</td>\n",
       "      <td>2020-04-25</td>\n",
       "      <td>25</td>\n",
       "      <td>4</td>\n",
       "      <td>2020</td>\n",
       "      <td>Sat</td>\n",
       "      <td>1</td>\n",
       "      <td>Spring</td>\n",
       "      <td>3.720167</td>\n",
       "      <td>6</td>\n",
       "      <td>49</td>\n",
       "      <td>0</td>\n",
       "      <td>1541.65</td>\n",
       "      <td>6</td>\n",
       "      <td>523</td>\n",
       "      <td>14</td>\n",
       "      <td>400000.0</td>\n",
       "    </tr>\n",
       "    <tr>\n",
       "      <th>1237</th>\n",
       "      <td>27165</td>\n",
       "      <td>2</td>\n",
       "      <td>Enterprise</td>\n",
       "      <td>2020-04-26</td>\n",
       "      <td>26</td>\n",
       "      <td>4</td>\n",
       "      <td>2020</td>\n",
       "      <td>Sun</td>\n",
       "      <td>1</td>\n",
       "      <td>Spring</td>\n",
       "      <td>3.728958</td>\n",
       "      <td>10</td>\n",
       "      <td>27</td>\n",
       "      <td>0</td>\n",
       "      <td>1511.98</td>\n",
       "      <td>6</td>\n",
       "      <td>1352</td>\n",
       "      <td>5</td>\n",
       "      <td>400000.0</td>\n",
       "    </tr>\n",
       "    <tr>\n",
       "      <th>1238</th>\n",
       "      <td>45278</td>\n",
       "      <td>2</td>\n",
       "      <td>Enterprise</td>\n",
       "      <td>2020-04-27</td>\n",
       "      <td>27</td>\n",
       "      <td>4</td>\n",
       "      <td>2020</td>\n",
       "      <td>Mon</td>\n",
       "      <td>0</td>\n",
       "      <td>Spring</td>\n",
       "      <td>3.718792</td>\n",
       "      <td>17</td>\n",
       "      <td>555</td>\n",
       "      <td>17</td>\n",
       "      <td>1121.54</td>\n",
       "      <td>6</td>\n",
       "      <td>4193</td>\n",
       "      <td>112</td>\n",
       "      <td>400000.0</td>\n",
       "    </tr>\n",
       "    <tr>\n",
       "      <th>1239</th>\n",
       "      <td>45545</td>\n",
       "      <td>2</td>\n",
       "      <td>Enterprise</td>\n",
       "      <td>2020-04-28</td>\n",
       "      <td>28</td>\n",
       "      <td>4</td>\n",
       "      <td>2020</td>\n",
       "      <td>Tues</td>\n",
       "      <td>0</td>\n",
       "      <td>Spring</td>\n",
       "      <td>3.723208</td>\n",
       "      <td>12</td>\n",
       "      <td>206</td>\n",
       "      <td>0</td>\n",
       "      <td>1127.32</td>\n",
       "      <td>6</td>\n",
       "      <td>4188</td>\n",
       "      <td>117</td>\n",
       "      <td>400000.0</td>\n",
       "    </tr>\n",
       "    <tr>\n",
       "      <th>1240</th>\n",
       "      <td>45663</td>\n",
       "      <td>2</td>\n",
       "      <td>Enterprise</td>\n",
       "      <td>2020-04-29</td>\n",
       "      <td>29</td>\n",
       "      <td>4</td>\n",
       "      <td>2020</td>\n",
       "      <td>Wed</td>\n",
       "      <td>0</td>\n",
       "      <td>Spring</td>\n",
       "      <td>3.729875</td>\n",
       "      <td>14</td>\n",
       "      <td>229</td>\n",
       "      <td>1</td>\n",
       "      <td>1141.05</td>\n",
       "      <td>6</td>\n",
       "      <td>4192</td>\n",
       "      <td>146</td>\n",
       "      <td>400000.0</td>\n",
       "    </tr>\n",
       "    <tr>\n",
       "      <th>1241</th>\n",
       "      <td>46272</td>\n",
       "      <td>2</td>\n",
       "      <td>Enterprise</td>\n",
       "      <td>2020-04-30</td>\n",
       "      <td>30</td>\n",
       "      <td>4</td>\n",
       "      <td>2020</td>\n",
       "      <td>Thurs</td>\n",
       "      <td>0</td>\n",
       "      <td>Spring</td>\n",
       "      <td>3.726167</td>\n",
       "      <td>17</td>\n",
       "      <td>522</td>\n",
       "      <td>0</td>\n",
       "      <td>1146.16</td>\n",
       "      <td>6</td>\n",
       "      <td>4193</td>\n",
       "      <td>200</td>\n",
       "      <td>400000.0</td>\n",
       "    </tr>\n",
       "    <tr>\n",
       "      <th>1242</th>\n",
       "      <td>43050</td>\n",
       "      <td>2</td>\n",
       "      <td>Enterprise</td>\n",
       "      <td>2020-05-01</td>\n",
       "      <td>1</td>\n",
       "      <td>5</td>\n",
       "      <td>2020</td>\n",
       "      <td>Fri</td>\n",
       "      <td>0</td>\n",
       "      <td>Summer</td>\n",
       "      <td>3.724458</td>\n",
       "      <td>7</td>\n",
       "      <td>41</td>\n",
       "      <td>0</td>\n",
       "      <td>1190.62</td>\n",
       "      <td>6</td>\n",
       "      <td>3355</td>\n",
       "      <td>9</td>\n",
       "      <td>400000.0</td>\n",
       "    </tr>\n",
       "    <tr>\n",
       "      <th>1243</th>\n",
       "      <td>25312</td>\n",
       "      <td>2</td>\n",
       "      <td>Enterprise</td>\n",
       "      <td>2020-05-02</td>\n",
       "      <td>2</td>\n",
       "      <td>5</td>\n",
       "      <td>2020</td>\n",
       "      <td>Sat</td>\n",
       "      <td>1</td>\n",
       "      <td>Summer</td>\n",
       "      <td>3.734167</td>\n",
       "      <td>4</td>\n",
       "      <td>315</td>\n",
       "      <td>0</td>\n",
       "      <td>1177.72</td>\n",
       "      <td>6</td>\n",
       "      <td>516</td>\n",
       "      <td>32</td>\n",
       "      <td>400000.0</td>\n",
       "    </tr>\n",
       "    <tr>\n",
       "      <th>1244</th>\n",
       "      <td>26038</td>\n",
       "      <td>2</td>\n",
       "      <td>Enterprise</td>\n",
       "      <td>2020-05-03</td>\n",
       "      <td>3</td>\n",
       "      <td>5</td>\n",
       "      <td>2020</td>\n",
       "      <td>Sun</td>\n",
       "      <td>1</td>\n",
       "      <td>Summer</td>\n",
       "      <td>3.743333</td>\n",
       "      <td>1</td>\n",
       "      <td>7</td>\n",
       "      <td>0</td>\n",
       "      <td>1175.99</td>\n",
       "      <td>6</td>\n",
       "      <td>1344</td>\n",
       "      <td>5</td>\n",
       "      <td>400000.0</td>\n",
       "    </tr>\n",
       "    <tr>\n",
       "      <th>1245</th>\n",
       "      <td>43915</td>\n",
       "      <td>2</td>\n",
       "      <td>Enterprise</td>\n",
       "      <td>2020-05-04</td>\n",
       "      <td>4</td>\n",
       "      <td>5</td>\n",
       "      <td>2020</td>\n",
       "      <td>Mon</td>\n",
       "      <td>0</td>\n",
       "      <td>Summer</td>\n",
       "      <td>3.718917</td>\n",
       "      <td>14</td>\n",
       "      <td>207</td>\n",
       "      <td>0</td>\n",
       "      <td>1030.45</td>\n",
       "      <td>6</td>\n",
       "      <td>4173</td>\n",
       "      <td>68</td>\n",
       "      <td>400000.0</td>\n",
       "    </tr>\n",
       "  </tbody>\n",
       "</table>\n",
       "</div>"
      ],
      "text/plain": [
       "      volume_tests  company_id company_type        time  date  month  year  \\\n",
       "1236         26110           2   Enterprise  2020-04-25    25      4  2020   \n",
       "1237         27165           2   Enterprise  2020-04-26    26      4  2020   \n",
       "1238         45278           2   Enterprise  2020-04-27    27      4  2020   \n",
       "1239         45545           2   Enterprise  2020-04-28    28      4  2020   \n",
       "1240         45663           2   Enterprise  2020-04-29    29      4  2020   \n",
       "1241         46272           2   Enterprise  2020-04-30    30      4  2020   \n",
       "1242         43050           2   Enterprise  2020-05-01     1      5  2020   \n",
       "1243         25312           2   Enterprise  2020-05-02     2      5  2020   \n",
       "1244         26038           2   Enterprise  2020-05-03     3      5  2020   \n",
       "1245         43915           2   Enterprise  2020-05-04     4      5  2020   \n",
       "\n",
       "        day  is_weekend  season  avg_pesq_score  quality_too_poor  \\\n",
       "1236    Sat           1  Spring        3.720167                 6   \n",
       "1237    Sun           1  Spring        3.728958                10   \n",
       "1238    Mon           0  Spring        3.718792                17   \n",
       "1239   Tues           0  Spring        3.723208                12   \n",
       "1240    Wed           0  Spring        3.729875                14   \n",
       "1241  Thurs           0  Spring        3.726167                17   \n",
       "1242    Fri           0  Summer        3.724458                 7   \n",
       "1243    Sat           1  Summer        3.734167                 4   \n",
       "1244    Sun           1  Summer        3.743333                 1   \n",
       "1245    Mon           0  Summer        3.718917                14   \n",
       "\n",
       "      number_busy  temporarily_unable_test  outage_hrs  number_test_types  \\\n",
       "1236           49                        0     1541.65                  6   \n",
       "1237           27                        0     1511.98                  6   \n",
       "1238          555                       17     1121.54                  6   \n",
       "1239          206                        0     1127.32                  6   \n",
       "1240          229                        1     1141.05                  6   \n",
       "1241          522                        0     1146.16                  6   \n",
       "1242           41                        0     1190.62                  6   \n",
       "1243          315                        0     1177.72                  6   \n",
       "1244            7                        0     1175.99                  6   \n",
       "1245          207                        0     1030.45                  6   \n",
       "\n",
       "      numbers_tested  followup_tests  min_commit  \n",
       "1236             523              14    400000.0  \n",
       "1237            1352               5    400000.0  \n",
       "1238            4193             112    400000.0  \n",
       "1239            4188             117    400000.0  \n",
       "1240            4192             146    400000.0  \n",
       "1241            4193             200    400000.0  \n",
       "1242            3355               9    400000.0  \n",
       "1243             516              32    400000.0  \n",
       "1244            1344               5    400000.0  \n",
       "1245            4173              68    400000.0  "
      ]
     },
     "execution_count": 3,
     "metadata": {},
     "output_type": "execute_result"
    }
   ],
   "source": [
    "df.tail(10)"
   ]
  },
  {
   "cell_type": "code",
   "execution_count": 4,
   "metadata": {},
   "outputs": [
    {
     "data": {
      "text/html": [
       "<div>\n",
       "<style scoped>\n",
       "    .dataframe tbody tr th:only-of-type {\n",
       "        vertical-align: middle;\n",
       "    }\n",
       "\n",
       "    .dataframe tbody tr th {\n",
       "        vertical-align: top;\n",
       "    }\n",
       "\n",
       "    .dataframe thead th {\n",
       "        text-align: right;\n",
       "    }\n",
       "</style>\n",
       "<table border=\"1\" class=\"dataframe\">\n",
       "  <thead>\n",
       "    <tr style=\"text-align: right;\">\n",
       "      <th></th>\n",
       "      <th>volume_tests</th>\n",
       "      <th>company_id</th>\n",
       "      <th>date</th>\n",
       "      <th>month</th>\n",
       "      <th>year</th>\n",
       "      <th>is_weekend</th>\n",
       "      <th>avg_pesq_score</th>\n",
       "      <th>quality_too_poor</th>\n",
       "      <th>number_busy</th>\n",
       "      <th>temporarily_unable_test</th>\n",
       "      <th>outage_hrs</th>\n",
       "      <th>number_test_types</th>\n",
       "      <th>numbers_tested</th>\n",
       "      <th>followup_tests</th>\n",
       "      <th>min_commit</th>\n",
       "    </tr>\n",
       "  </thead>\n",
       "  <tbody>\n",
       "    <tr>\n",
       "      <th>count</th>\n",
       "      <td>1246.000000</td>\n",
       "      <td>1246.0</td>\n",
       "      <td>1246.000000</td>\n",
       "      <td>1246.000000</td>\n",
       "      <td>1246.000000</td>\n",
       "      <td>1246.000000</td>\n",
       "      <td>1246.000000</td>\n",
       "      <td>1246.000000</td>\n",
       "      <td>1246.000000</td>\n",
       "      <td>1246.000000</td>\n",
       "      <td>1246.000000</td>\n",
       "      <td>1246.000000</td>\n",
       "      <td>1246.000000</td>\n",
       "      <td>1246.000000</td>\n",
       "      <td>1220.0</td>\n",
       "    </tr>\n",
       "    <tr>\n",
       "      <th>mean</th>\n",
       "      <td>35502.137239</td>\n",
       "      <td>2.0</td>\n",
       "      <td>15.727929</td>\n",
       "      <td>6.243981</td>\n",
       "      <td>2018.158909</td>\n",
       "      <td>0.285714</td>\n",
       "      <td>3.797370</td>\n",
       "      <td>21.573034</td>\n",
       "      <td>318.330658</td>\n",
       "      <td>73.738363</td>\n",
       "      <td>6358.694278</td>\n",
       "      <td>3.066613</td>\n",
       "      <td>2206.484751</td>\n",
       "      <td>112.373194</td>\n",
       "      <td>400000.0</td>\n",
       "    </tr>\n",
       "    <tr>\n",
       "      <th>std</th>\n",
       "      <td>10942.624727</td>\n",
       "      <td>0.0</td>\n",
       "      <td>8.797169</td>\n",
       "      <td>3.565095</td>\n",
       "      <td>1.022846</td>\n",
       "      <td>0.451935</td>\n",
       "      <td>0.125950</td>\n",
       "      <td>43.053762</td>\n",
       "      <td>342.501009</td>\n",
       "      <td>192.693457</td>\n",
       "      <td>3256.629219</td>\n",
       "      <td>0.890589</td>\n",
       "      <td>1185.945038</td>\n",
       "      <td>151.349102</td>\n",
       "      <td>0.0</td>\n",
       "    </tr>\n",
       "    <tr>\n",
       "      <th>min</th>\n",
       "      <td>7679.000000</td>\n",
       "      <td>2.0</td>\n",
       "      <td>1.000000</td>\n",
       "      <td>1.000000</td>\n",
       "      <td>2016.000000</td>\n",
       "      <td>0.000000</td>\n",
       "      <td>3.582000</td>\n",
       "      <td>0.000000</td>\n",
       "      <td>0.000000</td>\n",
       "      <td>0.000000</td>\n",
       "      <td>0.100000</td>\n",
       "      <td>2.000000</td>\n",
       "      <td>215.000000</td>\n",
       "      <td>0.000000</td>\n",
       "      <td>400000.0</td>\n",
       "    </tr>\n",
       "    <tr>\n",
       "      <th>25%</th>\n",
       "      <td>25676.000000</td>\n",
       "      <td>2.0</td>\n",
       "      <td>8.000000</td>\n",
       "      <td>3.000000</td>\n",
       "      <td>2017.000000</td>\n",
       "      <td>0.000000</td>\n",
       "      <td>3.701146</td>\n",
       "      <td>3.000000</td>\n",
       "      <td>83.000000</td>\n",
       "      <td>0.000000</td>\n",
       "      <td>4086.665000</td>\n",
       "      <td>2.000000</td>\n",
       "      <td>790.000000</td>\n",
       "      <td>20.000000</td>\n",
       "      <td>400000.0</td>\n",
       "    </tr>\n",
       "    <tr>\n",
       "      <th>50%</th>\n",
       "      <td>37065.500000</td>\n",
       "      <td>2.0</td>\n",
       "      <td>16.000000</td>\n",
       "      <td>6.000000</td>\n",
       "      <td>2018.000000</td>\n",
       "      <td>0.000000</td>\n",
       "      <td>3.780457</td>\n",
       "      <td>10.000000</td>\n",
       "      <td>214.500000</td>\n",
       "      <td>7.000000</td>\n",
       "      <td>7439.910000</td>\n",
       "      <td>3.000000</td>\n",
       "      <td>2425.500000</td>\n",
       "      <td>63.000000</td>\n",
       "      <td>400000.0</td>\n",
       "    </tr>\n",
       "    <tr>\n",
       "      <th>75%</th>\n",
       "      <td>44709.000000</td>\n",
       "      <td>2.0</td>\n",
       "      <td>23.000000</td>\n",
       "      <td>9.000000</td>\n",
       "      <td>2019.000000</td>\n",
       "      <td>1.000000</td>\n",
       "      <td>3.813310</td>\n",
       "      <td>26.750000</td>\n",
       "      <td>449.000000</td>\n",
       "      <td>57.000000</td>\n",
       "      <td>9148.302500</td>\n",
       "      <td>4.000000</td>\n",
       "      <td>3023.000000</td>\n",
       "      <td>150.000000</td>\n",
       "      <td>400000.0</td>\n",
       "    </tr>\n",
       "    <tr>\n",
       "      <th>max</th>\n",
       "      <td>57033.000000</td>\n",
       "      <td>2.0</td>\n",
       "      <td>31.000000</td>\n",
       "      <td>12.000000</td>\n",
       "      <td>2020.000000</td>\n",
       "      <td>1.000000</td>\n",
       "      <td>4.126346</td>\n",
       "      <td>943.000000</td>\n",
       "      <td>4456.000000</td>\n",
       "      <td>1838.000000</td>\n",
       "      <td>10627.660000</td>\n",
       "      <td>6.000000</td>\n",
       "      <td>4267.000000</td>\n",
       "      <td>2337.000000</td>\n",
       "      <td>400000.0</td>\n",
       "    </tr>\n",
       "  </tbody>\n",
       "</table>\n",
       "</div>"
      ],
      "text/plain": [
       "       volume_tests  company_id         date        month         year  \\\n",
       "count   1246.000000      1246.0  1246.000000  1246.000000  1246.000000   \n",
       "mean   35502.137239         2.0    15.727929     6.243981  2018.158909   \n",
       "std    10942.624727         0.0     8.797169     3.565095     1.022846   \n",
       "min     7679.000000         2.0     1.000000     1.000000  2016.000000   \n",
       "25%    25676.000000         2.0     8.000000     3.000000  2017.000000   \n",
       "50%    37065.500000         2.0    16.000000     6.000000  2018.000000   \n",
       "75%    44709.000000         2.0    23.000000     9.000000  2019.000000   \n",
       "max    57033.000000         2.0    31.000000    12.000000  2020.000000   \n",
       "\n",
       "        is_weekend  avg_pesq_score  quality_too_poor  number_busy  \\\n",
       "count  1246.000000     1246.000000       1246.000000  1246.000000   \n",
       "mean      0.285714        3.797370         21.573034   318.330658   \n",
       "std       0.451935        0.125950         43.053762   342.501009   \n",
       "min       0.000000        3.582000          0.000000     0.000000   \n",
       "25%       0.000000        3.701146          3.000000    83.000000   \n",
       "50%       0.000000        3.780457         10.000000   214.500000   \n",
       "75%       1.000000        3.813310         26.750000   449.000000   \n",
       "max       1.000000        4.126346        943.000000  4456.000000   \n",
       "\n",
       "       temporarily_unable_test    outage_hrs  number_test_types  \\\n",
       "count              1246.000000   1246.000000        1246.000000   \n",
       "mean                 73.738363   6358.694278           3.066613   \n",
       "std                 192.693457   3256.629219           0.890589   \n",
       "min                   0.000000      0.100000           2.000000   \n",
       "25%                   0.000000   4086.665000           2.000000   \n",
       "50%                   7.000000   7439.910000           3.000000   \n",
       "75%                  57.000000   9148.302500           4.000000   \n",
       "max                1838.000000  10627.660000           6.000000   \n",
       "\n",
       "       numbers_tested  followup_tests  min_commit  \n",
       "count     1246.000000     1246.000000      1220.0  \n",
       "mean      2206.484751      112.373194    400000.0  \n",
       "std       1185.945038      151.349102         0.0  \n",
       "min        215.000000        0.000000    400000.0  \n",
       "25%        790.000000       20.000000    400000.0  \n",
       "50%       2425.500000       63.000000    400000.0  \n",
       "75%       3023.000000      150.000000    400000.0  \n",
       "max       4267.000000     2337.000000    400000.0  "
      ]
     },
     "execution_count": 4,
     "metadata": {},
     "output_type": "execute_result"
    }
   ],
   "source": [
    "df.describe()"
   ]
  },
  {
   "cell_type": "markdown",
   "metadata": {},
   "source": [
    "## B. Missing Values"
   ]
  },
  {
   "cell_type": "code",
   "execution_count": 5,
   "metadata": {},
   "outputs": [
    {
     "data": {
      "text/plain": [
       "volume_tests                0\n",
       "company_id                  0\n",
       "company_type                0\n",
       "time                        0\n",
       "date                        0\n",
       "month                       0\n",
       "year                        0\n",
       "day                         0\n",
       "is_weekend                  0\n",
       "season                      0\n",
       "avg_pesq_score              0\n",
       "quality_too_poor            0\n",
       "number_busy                 0\n",
       "temporarily_unable_test     0\n",
       "outage_hrs                  0\n",
       "number_test_types           0\n",
       "numbers_tested              0\n",
       "followup_tests              0\n",
       "min_commit                 26\n",
       "dtype: int64"
      ]
     },
     "execution_count": 5,
     "metadata": {},
     "output_type": "execute_result"
    }
   ],
   "source": [
    "# Find the number of nulls/NaNs in the dataset\n",
    "\n",
    "df.apply(lambda x: sum(x.isnull()), axis=0)"
   ]
  },
  {
   "cell_type": "markdown",
   "metadata": {},
   "source": [
    "#### This shows that there was no missing data"
   ]
  },
  {
   "cell_type": "markdown",
   "metadata": {},
   "source": [
    "### C. Extreme Values/Outliers"
   ]
  },
  {
   "cell_type": "code",
   "execution_count": 6,
   "metadata": {},
   "outputs": [
    {
     "data": {
      "text/html": [
       "<div>\n",
       "<style scoped>\n",
       "    .dataframe tbody tr th:only-of-type {\n",
       "        vertical-align: middle;\n",
       "    }\n",
       "\n",
       "    .dataframe tbody tr th {\n",
       "        vertical-align: top;\n",
       "    }\n",
       "\n",
       "    .dataframe thead th {\n",
       "        text-align: right;\n",
       "    }\n",
       "</style>\n",
       "<table border=\"1\" class=\"dataframe\">\n",
       "  <thead>\n",
       "    <tr style=\"text-align: right;\">\n",
       "      <th></th>\n",
       "      <th>volume_tests</th>\n",
       "      <th>company_id</th>\n",
       "      <th>date</th>\n",
       "      <th>month</th>\n",
       "      <th>year</th>\n",
       "      <th>is_weekend</th>\n",
       "      <th>avg_pesq_score</th>\n",
       "      <th>quality_too_poor</th>\n",
       "      <th>number_busy</th>\n",
       "      <th>temporarily_unable_test</th>\n",
       "      <th>outage_hrs</th>\n",
       "      <th>number_test_types</th>\n",
       "      <th>numbers_tested</th>\n",
       "      <th>followup_tests</th>\n",
       "      <th>min_commit</th>\n",
       "    </tr>\n",
       "  </thead>\n",
       "  <tbody>\n",
       "    <tr>\n",
       "      <th>count</th>\n",
       "      <td>1246.000000</td>\n",
       "      <td>1246.0</td>\n",
       "      <td>1246.000000</td>\n",
       "      <td>1246.000000</td>\n",
       "      <td>1246.000000</td>\n",
       "      <td>1246.000000</td>\n",
       "      <td>1246.000000</td>\n",
       "      <td>1246.000000</td>\n",
       "      <td>1246.000000</td>\n",
       "      <td>1246.000000</td>\n",
       "      <td>1246.000000</td>\n",
       "      <td>1246.000000</td>\n",
       "      <td>1246.000000</td>\n",
       "      <td>1246.000000</td>\n",
       "      <td>1220.0</td>\n",
       "    </tr>\n",
       "    <tr>\n",
       "      <th>mean</th>\n",
       "      <td>35502.137239</td>\n",
       "      <td>2.0</td>\n",
       "      <td>15.727929</td>\n",
       "      <td>6.243981</td>\n",
       "      <td>2018.158909</td>\n",
       "      <td>0.285714</td>\n",
       "      <td>3.797370</td>\n",
       "      <td>21.573034</td>\n",
       "      <td>318.330658</td>\n",
       "      <td>73.738363</td>\n",
       "      <td>6358.694278</td>\n",
       "      <td>3.066613</td>\n",
       "      <td>2206.484751</td>\n",
       "      <td>112.373194</td>\n",
       "      <td>400000.0</td>\n",
       "    </tr>\n",
       "    <tr>\n",
       "      <th>std</th>\n",
       "      <td>10942.624727</td>\n",
       "      <td>0.0</td>\n",
       "      <td>8.797169</td>\n",
       "      <td>3.565095</td>\n",
       "      <td>1.022846</td>\n",
       "      <td>0.451935</td>\n",
       "      <td>0.125950</td>\n",
       "      <td>43.053762</td>\n",
       "      <td>342.501009</td>\n",
       "      <td>192.693457</td>\n",
       "      <td>3256.629219</td>\n",
       "      <td>0.890589</td>\n",
       "      <td>1185.945038</td>\n",
       "      <td>151.349102</td>\n",
       "      <td>0.0</td>\n",
       "    </tr>\n",
       "    <tr>\n",
       "      <th>min</th>\n",
       "      <td>7679.000000</td>\n",
       "      <td>2.0</td>\n",
       "      <td>1.000000</td>\n",
       "      <td>1.000000</td>\n",
       "      <td>2016.000000</td>\n",
       "      <td>0.000000</td>\n",
       "      <td>3.582000</td>\n",
       "      <td>0.000000</td>\n",
       "      <td>0.000000</td>\n",
       "      <td>0.000000</td>\n",
       "      <td>0.100000</td>\n",
       "      <td>2.000000</td>\n",
       "      <td>215.000000</td>\n",
       "      <td>0.000000</td>\n",
       "      <td>400000.0</td>\n",
       "    </tr>\n",
       "    <tr>\n",
       "      <th>25%</th>\n",
       "      <td>25676.000000</td>\n",
       "      <td>2.0</td>\n",
       "      <td>8.000000</td>\n",
       "      <td>3.000000</td>\n",
       "      <td>2017.000000</td>\n",
       "      <td>0.000000</td>\n",
       "      <td>3.701146</td>\n",
       "      <td>3.000000</td>\n",
       "      <td>83.000000</td>\n",
       "      <td>0.000000</td>\n",
       "      <td>4086.665000</td>\n",
       "      <td>2.000000</td>\n",
       "      <td>790.000000</td>\n",
       "      <td>20.000000</td>\n",
       "      <td>400000.0</td>\n",
       "    </tr>\n",
       "    <tr>\n",
       "      <th>50%</th>\n",
       "      <td>37065.500000</td>\n",
       "      <td>2.0</td>\n",
       "      <td>16.000000</td>\n",
       "      <td>6.000000</td>\n",
       "      <td>2018.000000</td>\n",
       "      <td>0.000000</td>\n",
       "      <td>3.780457</td>\n",
       "      <td>10.000000</td>\n",
       "      <td>214.500000</td>\n",
       "      <td>7.000000</td>\n",
       "      <td>7439.910000</td>\n",
       "      <td>3.000000</td>\n",
       "      <td>2425.500000</td>\n",
       "      <td>63.000000</td>\n",
       "      <td>400000.0</td>\n",
       "    </tr>\n",
       "    <tr>\n",
       "      <th>75%</th>\n",
       "      <td>44709.000000</td>\n",
       "      <td>2.0</td>\n",
       "      <td>23.000000</td>\n",
       "      <td>9.000000</td>\n",
       "      <td>2019.000000</td>\n",
       "      <td>1.000000</td>\n",
       "      <td>3.813310</td>\n",
       "      <td>26.750000</td>\n",
       "      <td>449.000000</td>\n",
       "      <td>57.000000</td>\n",
       "      <td>9148.302500</td>\n",
       "      <td>4.000000</td>\n",
       "      <td>3023.000000</td>\n",
       "      <td>150.000000</td>\n",
       "      <td>400000.0</td>\n",
       "    </tr>\n",
       "    <tr>\n",
       "      <th>max</th>\n",
       "      <td>57033.000000</td>\n",
       "      <td>2.0</td>\n",
       "      <td>31.000000</td>\n",
       "      <td>12.000000</td>\n",
       "      <td>2020.000000</td>\n",
       "      <td>1.000000</td>\n",
       "      <td>4.126346</td>\n",
       "      <td>943.000000</td>\n",
       "      <td>4456.000000</td>\n",
       "      <td>1838.000000</td>\n",
       "      <td>10627.660000</td>\n",
       "      <td>6.000000</td>\n",
       "      <td>4267.000000</td>\n",
       "      <td>2337.000000</td>\n",
       "      <td>400000.0</td>\n",
       "    </tr>\n",
       "  </tbody>\n",
       "</table>\n",
       "</div>"
      ],
      "text/plain": [
       "       volume_tests  company_id         date        month         year  \\\n",
       "count   1246.000000      1246.0  1246.000000  1246.000000  1246.000000   \n",
       "mean   35502.137239         2.0    15.727929     6.243981  2018.158909   \n",
       "std    10942.624727         0.0     8.797169     3.565095     1.022846   \n",
       "min     7679.000000         2.0     1.000000     1.000000  2016.000000   \n",
       "25%    25676.000000         2.0     8.000000     3.000000  2017.000000   \n",
       "50%    37065.500000         2.0    16.000000     6.000000  2018.000000   \n",
       "75%    44709.000000         2.0    23.000000     9.000000  2019.000000   \n",
       "max    57033.000000         2.0    31.000000    12.000000  2020.000000   \n",
       "\n",
       "        is_weekend  avg_pesq_score  quality_too_poor  number_busy  \\\n",
       "count  1246.000000     1246.000000       1246.000000  1246.000000   \n",
       "mean      0.285714        3.797370         21.573034   318.330658   \n",
       "std       0.451935        0.125950         43.053762   342.501009   \n",
       "min       0.000000        3.582000          0.000000     0.000000   \n",
       "25%       0.000000        3.701146          3.000000    83.000000   \n",
       "50%       0.000000        3.780457         10.000000   214.500000   \n",
       "75%       1.000000        3.813310         26.750000   449.000000   \n",
       "max       1.000000        4.126346        943.000000  4456.000000   \n",
       "\n",
       "       temporarily_unable_test    outage_hrs  number_test_types  \\\n",
       "count              1246.000000   1246.000000        1246.000000   \n",
       "mean                 73.738363   6358.694278           3.066613   \n",
       "std                 192.693457   3256.629219           0.890589   \n",
       "min                   0.000000      0.100000           2.000000   \n",
       "25%                   0.000000   4086.665000           2.000000   \n",
       "50%                   7.000000   7439.910000           3.000000   \n",
       "75%                  57.000000   9148.302500           4.000000   \n",
       "max                1838.000000  10627.660000           6.000000   \n",
       "\n",
       "       numbers_tested  followup_tests  min_commit  \n",
       "count     1246.000000     1246.000000      1220.0  \n",
       "mean      2206.484751      112.373194    400000.0  \n",
       "std       1185.945038      151.349102         0.0  \n",
       "min        215.000000        0.000000    400000.0  \n",
       "25%        790.000000       20.000000    400000.0  \n",
       "50%       2425.500000       63.000000    400000.0  \n",
       "75%       3023.000000      150.000000    400000.0  \n",
       "max       4267.000000     2337.000000    400000.0  "
      ]
     },
     "execution_count": 6,
     "metadata": {},
     "output_type": "execute_result"
    }
   ],
   "source": [
    "df.describe()"
   ]
  },
  {
   "cell_type": "markdown",
   "metadata": {},
   "source": [
    "#### Lets plot histograms for each numerical atrribute"
   ]
  },
  {
   "cell_type": "code",
   "execution_count": 7,
   "metadata": {},
   "outputs": [
    {
     "data": {
      "text/plain": [
       "<matplotlib.axes._subplots.AxesSubplot at 0x7f225673a210>"
      ]
     },
     "execution_count": 7,
     "metadata": {},
     "output_type": "execute_result"
    },
    {
     "data": {
      "image/png": "[encoded data removed]",
      "text/plain": [
       "<Figure size 1440x432 with 3 Axes>"
      ]
     },
     "metadata": {
      "needs_background": "light"
     },
     "output_type": "display_data"
    }
   ],
   "source": [
    "# Create figure with two subplots\n",
    "fig = plt.figure(figsize=(20,6))\n",
    "\n",
    "# Plot avg_pesq_score\n",
    "ax1 = fig.add_subplot(1, 3, 1)\n",
    "ax1.set_title(\"Histogram of Avg. Pesq Score\")\n",
    "sns.distplot(df['avg_pesq_score'], kde=False, axlabel=False, label='avg_pesq_score')\n",
    "\n",
    "# Plot number_busy\n",
    "ax1 = fig.add_subplot(1, 3, 2)\n",
    "ax1.set_title(\"Histogram of Number Busy\")\n",
    "sns.distplot(df['number_busy'], kde=False, axlabel=False, label='number_busy')\n",
    "\n",
    "# Plot temporarily_unable_test\n",
    "ax1 = fig.add_subplot(1, 3, 3)\n",
    "ax1.set_title(\"Histogram of Temporarily Unable Test\")\n",
    "sns.distplot(df['temporarily_unable_test'], kde=False,axlabel=False, label='temporarily_unable_test')"
   ]
  },
  {
   "cell_type": "code",
   "execution_count": 8,
   "metadata": {},
   "outputs": [
    {
     "data": {
      "text/plain": [
       "<matplotlib.axes._subplots.AxesSubplot at 0x7f225645e950>"
      ]
     },
     "execution_count": 8,
     "metadata": {},
     "output_type": "execute_result"
    },
    {
     "data": {
      "image/png": "[encoded data removed]",
      "text/plain": [
       "<Figure size 1440x432 with 3 Axes>"
      ]
     },
     "metadata": {
      "needs_background": "light"
     },
     "output_type": "display_data"
    }
   ],
   "source": [
    "# Create figure with two subplots\n",
    "fig = plt.figure(figsize=(20,6))\n",
    "\n",
    "# Plot outage_hrs\n",
    "ax1 = fig.add_subplot(1, 3, 1)\n",
    "ax1.set_title(\"Histogram of outage_hrs\")\n",
    "sns.distplot(df['outage_hrs'], kde=False,axlabel=False, label='outage_hrs')\n",
    "\n",
    "# Plot number_test_types\n",
    "ax1 = fig.add_subplot(1, 3, 2)\n",
    "ax1.set_title(\"Histogram of number_test_types\")\n",
    "sns.distplot(df['number_test_types'], kde=False,axlabel=False, label='number_test_types')\n",
    "\n",
    "# Plot numbers_tested\n",
    "ax2 = fig.add_subplot(1, 3, 3)\n",
    "ax2.set_title(\"Histogram of numbers_tested\")\n",
    "sns.distplot(df['numbers_tested'], kde=False,axlabel=False, label='numbers_tested')"
   ]
  },
  {
   "cell_type": "code",
   "execution_count": 9,
   "metadata": {},
   "outputs": [
    {
     "name": "stderr",
     "output_type": "stream",
     "text": [
      "/home/shanebowen/anaconda3/lib/python3.7/site-packages/numpy/lib/histograms.py:839: RuntimeWarning: invalid value encountered in greater_equal\n",
      "  keep = (tmp_a >= first_edge)\n",
      "/home/shanebowen/anaconda3/lib/python3.7/site-packages/numpy/lib/histograms.py:840: RuntimeWarning: invalid value encountered in less_equal\n",
      "  keep &= (tmp_a <= last_edge)\n"
     ]
    },
    {
     "data": {
      "text/plain": [
       "<matplotlib.axes._subplots.AxesSubplot at 0x7f225625e950>"
      ]
     },
     "execution_count": 9,
     "metadata": {},
     "output_type": "execute_result"
    },
    {
     "data": {
      "image/png": "[encoded data removed]",
      "text/plain": [
       "<Figure size 1440x432 with 3 Axes>"
      ]
     },
     "metadata": {
      "needs_background": "light"
     },
     "output_type": "display_data"
    }
   ],
   "source": [
    "# Create figure with two subplots\n",
    "fig = plt.figure(figsize=(20,6))\n",
    "\n",
    "# Plot followup_tests\n",
    "ax1 = fig.add_subplot(1, 3, 1)\n",
    "ax1.set_title(\"Histogram of followup_tests\")\n",
    "sns.distplot(df['followup_tests'], kde=False,axlabel=False, label='followup_tests')\n",
    "\n",
    "# Plot min_commit\n",
    "ax1 = fig.add_subplot(1, 3, 2)\n",
    "ax1.set_title(\"Histogram of min_commit\")\n",
    "sns.distplot(df['min_commit'], kde=False,axlabel=False, label='min_commit')\n",
    "\n",
    "# Plot quality_too_poor\n",
    "ax2 = fig.add_subplot(1, 3, 3)\n",
    "ax2.set_title(\"Histogram of quality_too_poor\")\n",
    "sns.distplot(df['quality_too_poor'], kde=False,axlabel=False, label='quality_too_poor')"
   ]
  },
  {
   "cell_type": "markdown",
   "metadata": {},
   "source": [
    "#### From the plots above we can see the columns with extreme values or inbalanced distribution are number_busy, temporarily_unable_test, outage_hrs, numbers_tested, followup_tests, quality_too_poor"
   ]
  },
  {
   "cell_type": "markdown",
   "metadata": {},
   "source": [
    "### Number Busy"
   ]
  },
  {
   "cell_type": "code",
   "execution_count": 10,
   "metadata": {},
   "outputs": [
    {
     "data": {
      "text/plain": [
       "count    1246.000000\n",
       "mean      318.330658\n",
       "std       342.501009\n",
       "min         0.000000\n",
       "25%        83.000000\n",
       "50%       214.500000\n",
       "75%       449.000000\n",
       "max      4456.000000\n",
       "Name: number_busy, dtype: float64"
      ]
     },
     "execution_count": 10,
     "metadata": {},
     "output_type": "execute_result"
    }
   ],
   "source": [
    "df['number_busy'].describe()"
   ]
  },
  {
   "cell_type": "code",
   "execution_count": 11,
   "metadata": {},
   "outputs": [
    {
     "data": {
      "text/plain": [
       "<matplotlib.axes._subplots.AxesSubplot at 0x7f2256345bd0>"
      ]
     },
     "execution_count": 11,
     "metadata": {},
     "output_type": "execute_result"
    },
    {
     "data": {
      "image/png": "[encoded data removed]",
      "text/plain": [
       "<Figure size 1440x720 with 1 Axes>"
      ]
     },
     "metadata": {
      "needs_background": "light"
     },
     "output_type": "display_data"
    }
   ],
   "source": [
    "plt.figure(figsize=(20, 10))\n",
    "sns.boxplot(x=df['number_busy'])"
   ]
  },
  {
   "cell_type": "code",
   "execution_count": 12,
   "metadata": {},
   "outputs": [
    {
     "name": "stdout",
     "output_type": "stream",
     "text": [
      "number_busy    3\n",
      "dtype: int64\n"
     ]
    }
   ],
   "source": [
    "print((df[['number_busy']] > 2000).sum())"
   ]
  },
  {
   "cell_type": "code",
   "execution_count": 13,
   "metadata": {},
   "outputs": [],
   "source": [
    "# Get names of indexes for which column temporarily_unable_test has value 1000\n",
    "df_original = df\n",
    "index = df[ df['number_busy'] > 2000 ].index\n",
    "\n",
    "# Delete these row indexes from dataFrame\n",
    "df.drop(index , inplace=True)"
   ]
  },
  {
   "cell_type": "code",
   "execution_count": 14,
   "metadata": {},
   "outputs": [
    {
     "data": {
      "text/plain": [
       "<matplotlib.axes._subplots.AxesSubplot at 0x7f2255f5ef50>"
      ]
     },
     "execution_count": 14,
     "metadata": {},
     "output_type": "execute_result"
    },
    {
     "data": {
      "image/png": "[encoded data removed]",
      "text/plain": [
       "<Figure size 1152x288 with 2 Axes>"
      ]
     },
     "metadata": {
      "needs_background": "light"
     },
     "output_type": "display_data"
    }
   ],
   "source": [
    "# plt.figure(figsize=(20, 10))\n",
    "# sns.distplot(df['number_busy'], kde=False, axlabel=False, label='number_busy')\n",
    "# plt.legend()\n",
    "# plt.show()\n",
    "\n",
    "# Create figure with two subplots\n",
    "fig = plt.figure(figsize=(16,4))\n",
    "\n",
    "# Plot before\n",
    "ax1 = fig.add_subplot(1, 2, 1)\n",
    "ax1.set_title(\"Histogram of before number_busy\")\n",
    "ax1.set_xlabel('number_busy')\n",
    "sns.distplot(df_original['number_busy'], kde=False, axlabel=False, label='number_busy')\n",
    "\n",
    "# Plot after\n",
    "ax2 = fig.add_subplot(1, 2, 2)\n",
    "ax2.set_title(\"Histogram of after number_busy\")\n",
    "ax2.set_xlabel('number_busy)')\n",
    "sns.distplot(df['number_busy'], kde=False, axlabel=False, label='number_busy')"
   ]
  },
  {
   "cell_type": "markdown",
   "metadata": {},
   "source": [
    "### Temporarily Unable Test"
   ]
  },
  {
   "cell_type": "code",
   "execution_count": 15,
   "metadata": {},
   "outputs": [
    {
     "data": {
      "text/plain": [
       "count    1243.000000\n",
       "mean       73.852776\n",
       "std       192.909213\n",
       "min         0.000000\n",
       "25%         0.000000\n",
       "50%         7.000000\n",
       "75%        57.000000\n",
       "max      1838.000000\n",
       "Name: temporarily_unable_test, dtype: float64"
      ]
     },
     "execution_count": 15,
     "metadata": {},
     "output_type": "execute_result"
    }
   ],
   "source": [
    "df['temporarily_unable_test'].describe()"
   ]
  },
  {
   "cell_type": "code",
   "execution_count": 16,
   "metadata": {},
   "outputs": [
    {
     "data": {
      "text/plain": [
       "<matplotlib.axes._subplots.AxesSubplot at 0x7f2255f25850>"
      ]
     },
     "execution_count": 16,
     "metadata": {},
     "output_type": "execute_result"
    },
    {
     "data": {
      "image/png": "[encoded data removed]",
      "text/plain": [
       "<Figure size 1440x720 with 1 Axes>"
      ]
     },
     "metadata": {
      "needs_background": "light"
     },
     "output_type": "display_data"
    }
   ],
   "source": [
    "plt.figure(figsize=(20, 10))\n",
    "sns.boxplot(x=df['temporarily_unable_test'])"
   ]
  },
  {
   "cell_type": "markdown",
   "metadata": {},
   "source": [
    "#### Above plot shows alot of extrame values outside the 75% quartile. In particular there are quite a few outliers that are greater than 1000. Lets see how many points this effects. "
   ]
  },
  {
   "cell_type": "code",
   "execution_count": 17,
   "metadata": {},
   "outputs": [
    {
     "name": "stdout",
     "output_type": "stream",
     "text": [
      "temporarily_unable_test    14\n",
      "dtype: int64\n"
     ]
    }
   ],
   "source": [
    "print((df[['temporarily_unable_test']] > 1000).sum())"
   ]
  },
  {
   "cell_type": "markdown",
   "metadata": {},
   "source": [
    "#### As we can see there 5 results over 1000. This is around ~0.68% of the dataset I can safely remove this as they will not have a big affect the model."
   ]
  },
  {
   "cell_type": "code",
   "execution_count": 18,
   "metadata": {},
   "outputs": [],
   "source": [
    "# Get names of indexes for which column temporarily_unable_test has value 1000\n",
    "index = df[ df['temporarily_unable_test'] > 1000 ].index\n",
    "\n",
    "# Delete these row indexes from dataFrame\n",
    "df.drop(index , inplace=True)"
   ]
  },
  {
   "cell_type": "code",
   "execution_count": 19,
   "metadata": {},
   "outputs": [
    {
     "data": {
      "image/png": "[encoded data removed]",
      "text/plain": [
       "<Figure size 1440x720 with 1 Axes>"
      ]
     },
     "metadata": {
      "needs_background": "light"
     },
     "output_type": "display_data"
    }
   ],
   "source": [
    "plt.figure(figsize=(20, 10))\n",
    "sns.distplot(df['temporarily_unable_test'], kde=False, axlabel=False, label='temporarily_unable_test')\n",
    "plt.legend()\n",
    "plt.show()"
   ]
  },
  {
   "cell_type": "markdown",
   "metadata": {},
   "source": [
    "### Follow-up_tests"
   ]
  },
  {
   "cell_type": "code",
   "execution_count": 20,
   "metadata": {},
   "outputs": [],
   "source": [
    "# Use a log transformation to decrease the impact of extreme values in column followup_tests\n",
    "df['followup_tests_log'] = np.log(df['followup_tests'] + 1)"
   ]
  },
  {
   "cell_type": "code",
   "execution_count": 21,
   "metadata": {
    "scrolled": true
   },
   "outputs": [
    {
     "data": {
      "text/plain": [
       "<matplotlib.axes._subplots.AxesSubplot at 0x7f2255cba410>"
      ]
     },
     "execution_count": 21,
     "metadata": {},
     "output_type": "execute_result"
    },
    {
     "data": {
      "image/png": "[encoded data removed]",
      "text/plain": [
       "<Figure size 1152x288 with 2 Axes>"
      ]
     },
     "metadata": {
      "needs_background": "light"
     },
     "output_type": "display_data"
    }
   ],
   "source": [
    "# Create figure with two subplots\n",
    "fig = plt.figure(figsize=(16,4))\n",
    "\n",
    "# Plot Balance\n",
    "ax1 = fig.add_subplot(1, 2, 1)\n",
    "ax1.set_title(\"Histogram of followup_tests\")\n",
    "ax1.set_xlabel('followup_tests')\n",
    "sns.distplot(df['followup_tests'], kde=False, axlabel=False, label='followup_tests')\n",
    "\n",
    "# Plot duration\n",
    "ax2 = fig.add_subplot(1, 2, 2)\n",
    "ax2.set_title(\"Histogram of ln(followup_tests)\")\n",
    "ax2.set_xlabel('ln(followup_tests)')\n",
    "sns.distplot(df['followup_tests_log'], kde=False, axlabel=False, label='ln(followup_tests)')"
   ]
  },
  {
   "cell_type": "markdown",
   "metadata": {},
   "source": [
    "#### Logs can also be used to reduce the impact of outliers in our model without losing information"
   ]
  },
  {
   "cell_type": "markdown",
   "metadata": {},
   "source": [
    "### Quality Too Poor"
   ]
  },
  {
   "cell_type": "code",
   "execution_count": 22,
   "metadata": {},
   "outputs": [
    {
     "data": {
      "text/plain": [
       "count    1229.000000\n",
       "mean       21.606184\n",
       "std        43.310967\n",
       "min         0.000000\n",
       "25%         3.000000\n",
       "50%        10.000000\n",
       "75%        26.000000\n",
       "max       943.000000\n",
       "Name: quality_too_poor, dtype: float64"
      ]
     },
     "execution_count": 22,
     "metadata": {},
     "output_type": "execute_result"
    }
   ],
   "source": [
    "df['quality_too_poor'].describe()"
   ]
  },
  {
   "cell_type": "code",
   "execution_count": 23,
   "metadata": {},
   "outputs": [
    {
     "data": {
      "text/plain": [
       "<matplotlib.axes._subplots.AxesSubplot at 0x7f2255fa05d0>"
      ]
     },
     "execution_count": 23,
     "metadata": {},
     "output_type": "execute_result"
    },
    {
     "data": {
      "image/png": "[encoded data removed]",
      "text/plain": [
       "<Figure size 1440x720 with 1 Axes>"
      ]
     },
     "metadata": {
      "needs_background": "light"
     },
     "output_type": "display_data"
    }
   ],
   "source": [
    "plt.figure(figsize=(20, 10))\n",
    "sns.boxplot(x=df['quality_too_poor'])"
   ]
  },
  {
   "cell_type": "code",
   "execution_count": 24,
   "metadata": {},
   "outputs": [
    {
     "name": "stdout",
     "output_type": "stream",
     "text": [
      "quality_too_poor    3\n",
      "dtype: int64\n"
     ]
    }
   ],
   "source": [
    "print((df[['quality_too_poor']] > 300).sum())"
   ]
  },
  {
   "cell_type": "code",
   "execution_count": 25,
   "metadata": {},
   "outputs": [],
   "source": [
    "# Get names of indexes for which column outage_hrs has value < 1000 \n",
    "index = df[ df['quality_too_poor'] > 300 ].index\n",
    "\n",
    "# Delete these row indexes from dataFrame\n",
    "df.drop(index , inplace=True)"
   ]
  },
  {
   "cell_type": "code",
   "execution_count": 26,
   "metadata": {},
   "outputs": [
    {
     "data": {
      "image/png": "[encoded data removed]",
      "text/plain": [
       "<Figure size 1440x720 with 1 Axes>"
      ]
     },
     "metadata": {
      "needs_background": "light"
     },
     "output_type": "display_data"
    }
   ],
   "source": [
    "plt.figure(figsize=(20, 10))\n",
    "sns.distplot(df['quality_too_poor'], kde=False, axlabel=False, label='quality_too_poor')\n",
    "plt.legend()\n",
    "plt.show()"
   ]
  },
  {
   "cell_type": "markdown",
   "metadata": {},
   "source": [
    "### Outage Hrs"
   ]
  },
  {
   "cell_type": "code",
   "execution_count": 27,
   "metadata": {},
   "outputs": [],
   "source": [
    "# Use a log transformation to decrease the impact of extreme values in column followup_tests\n",
    "df['outage_hrs_log'] = np.log(df['outage_hrs'])"
   ]
  },
  {
   "cell_type": "code",
   "execution_count": 28,
   "metadata": {},
   "outputs": [
    {
     "data": {
      "text/plain": [
       "<matplotlib.axes._subplots.AxesSubplot at 0x7f22536ecb10>"
      ]
     },
     "execution_count": 28,
     "metadata": {},
     "output_type": "execute_result"
    },
    {
     "data": {
      "image/png": "[encoded data removed]",
      "text/plain": [
       "<Figure size 1152x288 with 2 Axes>"
      ]
     },
     "metadata": {
      "needs_background": "light"
     },
     "output_type": "display_data"
    }
   ],
   "source": [
    "# Create figure with two subplots\n",
    "fig = plt.figure(figsize=(16,4))\n",
    "\n",
    "# Plot Balance\n",
    "ax1 = fig.add_subplot(1, 2, 1)\n",
    "ax1.set_title(\"Histogram of outage_hrs\")\n",
    "ax1.set_xlabel('outage_hrs')\n",
    "sns.distplot(df['outage_hrs'], kde=False, axlabel=False, label='outage_hrs')\n",
    "\n",
    "# Plot duration\n",
    "ax2 = fig.add_subplot(1, 2, 2)\n",
    "ax2.set_title(\"Histogram of ln(outage_hrs)\")\n",
    "ax2.set_xlabel('ln(outage_hrs)')\n",
    "sns.distplot(df['outage_hrs_log'], kde=False, axlabel=False, label='ln(outage_hrs)')"
   ]
  },
  {
   "cell_type": "markdown",
   "metadata": {},
   "source": [
    "### Numbers Tested"
   ]
  },
  {
   "cell_type": "code",
   "execution_count": 29,
   "metadata": {},
   "outputs": [],
   "source": [
    "# Use a log transformation to decrease the impact of extreme values in column followup_tests\n",
    "df['numbers_tested_log'] = np.log(df['numbers_tested'])"
   ]
  },
  {
   "cell_type": "code",
   "execution_count": 30,
   "metadata": {},
   "outputs": [
    {
     "data": {
      "text/plain": [
       "<matplotlib.axes._subplots.AxesSubplot at 0x7f225356da10>"
      ]
     },
     "execution_count": 30,
     "metadata": {},
     "output_type": "execute_result"
    },
    {
     "data": {
      "image/png": "[encoded data removed]",
      "text/plain": [
       "<Figure size 1152x288 with 2 Axes>"
      ]
     },
     "metadata": {
      "needs_background": "light"
     },
     "output_type": "display_data"
    }
   ],
   "source": [
    "# Create figure with two subplots\n",
    "fig = plt.figure(figsize=(16,4))\n",
    "\n",
    "# Plot Balance\n",
    "ax1 = fig.add_subplot(1, 2, 1)\n",
    "ax1.set_title(\"Histogram of numbers_tested\")\n",
    "ax1.set_xlabel('numbers_tested')\n",
    "sns.distplot(df['numbers_tested'], kde=False, axlabel=False, label='numbers_tested')\n",
    "\n",
    "# Plot duration\n",
    "ax2 = fig.add_subplot(1, 2, 2)\n",
    "ax2.set_title(\"Histogram of ln(numbers_tested)\")\n",
    "ax2.set_xlabel('ln(numbers_tested)')\n",
    "sns.distplot(df['numbers_tested_log'], kde=False, axlabel=False, label='ln(numbers_tested_log)')"
   ]
  },
  {
   "cell_type": "markdown",
   "metadata": {},
   "source": [
    "#### As we have created new feature for number_busy, followup_tests, outage_hrs we can drop these feature"
   ]
  },
  {
   "cell_type": "code",
   "execution_count": 31,
   "metadata": {},
   "outputs": [],
   "source": [
    "#df.drop(['followup_tests','outage_hrs', 'numbers_tested'], inplace=True, axis=1)"
   ]
  },
  {
   "cell_type": "markdown",
   "metadata": {},
   "source": [
    "## D. Linear Regression, Distribution, Hoeffding Equation"
   ]
  },
  {
   "cell_type": "code",
   "execution_count": 39,
   "metadata": {},
   "outputs": [
    {
     "name": "stdout",
     "output_type": "stream",
     "text": [
      "0.19084955516857116\n",
      "0.2583260389988006\n"
     ]
    }
   ],
   "source": [
    "# lets define our input features\n",
    "X = np.vstack((df['numbers_tested_log'], df['is_weekend'], df['outage_hrs_log'])).T\n",
    "\n",
    "# lets also define our output feature\n",
    "Y = np.hstack((df['volume_tests']))\n",
    "\n",
    "# Split data set into training and test data\n",
    "xTrain, xTest, yTrain, yTest = train_test_split(X, Y, test_size = 0.3, random_state = 0)\n",
    "\n",
    "#fit training data on linear regression model\n",
    "clf = LinearRegression().fit(xTrain, yTrain)\n",
    "\n",
    "#Calculate Ein and Eout\n",
    "Ein = 1 - clf.score(xTrain, yTrain)\n",
    "Eout = 1 - clf.score(xTest, yTest)\n",
    "print(Ein)\n",
    "print(Eout)"
   ]
  },
  {
   "cell_type": "code",
   "execution_count": 43,
   "metadata": {},
   "outputs": [],
   "source": [
    "def experiment(users, weights, N, df):\n",
    "    outcomes = []\n",
    "    for i in range(users):\n",
    "        # lets choose a sample from dataset\n",
    "        sample = df.sample(n=N)\n",
    "        # lets define our input features from the random sample\n",
    "        X = np.vstack((sample['numbers_tested_log'], sample['is_weekend'], sample['outage_hrs_log'])).T\n",
    "\n",
    "        # lets also define our output feature from our random sample\n",
    "        Y = np.vstack(((sample['volume_tests'])))\n",
    "\n",
    "        # calculate in-sample error\n",
    "        Ein = 1 - clf.score(X, Y)\n",
    "        \n",
    "        # add in sample error to outcome list\n",
    "        outcomes.append(Ein)\n",
    "    \n",
    "    v_1 = outcomes[0] \n",
    "    v_rand = outcomes[rnd.randint(0,users-1)]\n",
    "    v_min = min(outcomes)\n",
    "    \n",
    "    return v_1,v_rand,v_min"
   ]
  },
  {
   "cell_type": "code",
   "execution_count": 44,
   "metadata": {},
   "outputs": [],
   "source": [
    "users = len(X)\n",
    "N=10\n",
    "repeats = 100\n",
    "\n",
    "dist_1 = []\n",
    "dist_rand=[]\n",
    "dist_min=[]\n",
    "lists = [dist_1, dist_rand, dist_min]\n",
    "\n",
    "#d = np.column_stack((X,y))\n",
    "#df = pd.DataFrame(data=d, dtype=np.int8)\n",
    "\n",
    "for e in range(repeats):\n",
    "    for x, lst in zip(experiment(users, clf, N, df), lists):\n",
    "        lst.append(x)\n",
    "\n",
    "# plt.figure(figsize=(20, 10))\n",
    "# plt.hist(lists[0])\n",
    "# plt.title('Distribution first row')\n",
    "# plt.show()\n",
    "\n",
    "# plt.figure(figsize=(20, 10))\n",
    "# plt.hist(lists[1])\n",
    "# plt.title('Distribution random row')\n",
    "# plt.show()\n",
    "\n",
    "# plt.figure(figsize=(20, 10))\n",
    "# plt.hist(lists[2])\n",
    "# plt.title('Distribution of min row')\n",
    "# plt.show()"
   ]
  },
  {
   "cell_type": "code",
   "execution_count": 46,
   "metadata": {},
   "outputs": [
    {
     "data": {
      "image/png": "[encoded data removed]",
      "text/plain": [
       "<Figure size 1440x720 with 1 Axes>"
      ]
     },
     "metadata": {
      "needs_background": "light"
     },
     "output_type": "display_data"
    },
    {
     "data": {
      "image/png": "[encoded data removed]",
      "text/plain": [
       "<Figure size 1440x720 with 1 Axes>"
      ]
     },
     "metadata": {
      "needs_background": "light"
     },
     "output_type": "display_data"
    },
    {
     "data": {
      "image/png": "[encoded data removed]",
      "text/plain": [
       "<Figure size 1440x720 with 1 Axes>"
      ]
     },
     "metadata": {
      "needs_background": "light"
     },
     "output_type": "display_data"
    }
   ],
   "source": [
    "titles = [\"First\", \"Random\", \"Min\"]\n",
    "dvc = len(X[0])\n",
    "for d in range(0,3):\n",
    "    dist = lists[d]\n",
    "    prob_epsilon=[]\n",
    "    epsilons = np.arange(0, 1, 0.001)\n",
    "    for e in epsilons:\n",
    "        prob_epsilon.append(len([1 for i in dist if abs(i-Eout) > e])/len(dist))\n",
    "    \n",
    "    plt.figure(figsize=(20, 10))\n",
    "    plt.plot(epsilons, prob_epsilon)\n",
    "    plt.plot(epsilons, [2*math.exp(-2*e**2*N) for e in epsilons])\n",
    "    #plt.plot(epsilons, [4*((2*N)**dvc+1)*math.exp(-(1/8)*e**2*N) for e in epsilons]) \n",
    "    plt.yscale('log')\n",
    "    plt.title(titles[d])\n",
    "    plt.show"
   ]
  },
  {
   "cell_type": "markdown",
   "metadata": {},
   "source": [
    "### Hoeffding Equation - Is Learning Feasible?\n",
    "#### The Random & Min tend to obey Hoeffding bound, while First does not. If I tweak my input features could I get my results to be more consistent?"
   ]
  },
  {
   "cell_type": "markdown",
   "metadata": {},
   "source": [
    "## E. Plotting Learning Curves & Exploring Other Machine Learning Algorithms"
   ]
  },
  {
   "cell_type": "code",
   "execution_count": null,
   "metadata": {},
   "outputs": [],
   "source": [
    "X = np.vstack((df['numbers_tested_log'], df['is_weekend'], df['outage_hrs_log'])).T\n",
    "Y = np.hstack(((df['volume_tests'])))"
   ]
  },
  {
   "cell_type": "code",
   "execution_count": null,
   "metadata": {},
   "outputs": [],
   "source": [
    "def plot_learning_curve(estimator, title, X, y, axes=None, ylim=None, cv=None,\n",
    "                        n_jobs=None, train_sizes=np.linspace(.1, 1.0, 5)):\n",
    "    if axes is None:\n",
    "        _, axes = plt.subplots(1, 3, figsize=(20, 5))\n",
    "\n",
    "    axes[0].set_title(title)\n",
    "    if ylim is not None:\n",
    "        axes[0].set_ylim(*ylim)\n",
    "    axes[0].set_xlabel(\"Training examples\")\n",
    "    axes[0].set_ylabel(\"Score\")\n",
    "\n",
    "    train_sizes, train_scores, test_scores, fit_times, _ = \\\n",
    "        learning_curve(estimator, X, y, cv=cv, n_jobs=n_jobs,\n",
    "                       train_sizes=train_sizes,\n",
    "                       return_times=True)\n",
    "    train_scores_mean = np.mean(train_scores, axis=1)\n",
    "    train_scores_std = np.std(train_scores, axis=1)\n",
    "    test_scores_mean = np.mean(test_scores, axis=1)\n",
    "    test_scores_std = np.std(test_scores, axis=1)\n",
    "    fit_times_mean = np.mean(fit_times, axis=1)\n",
    "    fit_times_std = np.std(fit_times, axis=1)\n",
    "\n",
    "    # Plot learning curve\n",
    "    axes[0].grid()\n",
    "    axes[0].fill_between(train_sizes, train_scores_mean - train_scores_std,\n",
    "                         train_scores_mean + train_scores_std, alpha=0.1,\n",
    "                         color=\"r\")\n",
    "    axes[0].fill_between(train_sizes, test_scores_mean - test_scores_std,\n",
    "                         test_scores_mean + test_scores_std, alpha=0.1,\n",
    "                         color=\"g\")\n",
    "    axes[0].plot(train_sizes, train_scores_mean, 'o-', color=\"r\",\n",
    "                 label=\"Training score\")\n",
    "    axes[0].plot(train_sizes, test_scores_mean, 'o-', color=\"g\",\n",
    "                 label=\"Cross-validation score\")\n",
    "    axes[0].legend(loc=\"best\")\n",
    "\n",
    "    # Plot n_samples vs fit_times\n",
    "    axes[1].grid()\n",
    "    axes[1].plot(train_sizes, fit_times_mean, 'o-')\n",
    "    axes[1].fill_between(train_sizes, fit_times_mean - fit_times_std,\n",
    "                         fit_times_mean + fit_times_std, alpha=0.1)\n",
    "    axes[1].set_xlabel(\"Training examples\")\n",
    "    axes[1].set_ylabel(\"fit_times\")\n",
    "    axes[1].set_title(\"Scalability of the model\")\n",
    "\n",
    "    # Plot fit_time vs score\n",
    "    axes[2].grid()\n",
    "    axes[2].plot(fit_times_mean, test_scores_mean, 'o-')\n",
    "    axes[2].fill_between(fit_times_mean, test_scores_mean - test_scores_std,\n",
    "                         test_scores_mean + test_scores_std, alpha=0.1)\n",
    "    axes[2].set_xlabel(\"fit_times\")\n",
    "    axes[2].set_ylabel(\"Score\")\n",
    "    axes[2].set_title(\"Performance of the model\")\n",
    "\n",
    "    return plt"
   ]
  },
  {
   "cell_type": "code",
   "execution_count": null,
   "metadata": {},
   "outputs": [],
   "source": [
    "fig, axes = plt.subplots(3, 2, figsize=(10, 15))\n",
    "\n",
    "title = \"Linear Regression\"\n",
    "# Cross validation with 100 iterations to get smoother mean test and train\n",
    "# score curves, each time with 20% data randomly selected as a validation set.\n",
    "cv = ShuffleSplit(n_splits=100, test_size=0.2, random_state=0)\n",
    "\n",
    "estimator = LinearRegression()\n",
    "plot_learning_curve(estimator, title, X, Y, axes=axes[:, 0], ylim=(0.7, 1.01),\n",
    "                    cv=cv, n_jobs=4)\n",
    "\n",
    "title = \"Gaussian NB\"\n",
    "# Cross validation with 100 iterations to get smoother mean test and train\n",
    "# score curves, each time with 20% data randomly selected as a validation set.\n",
    "cv = ShuffleSplit(n_splits=100, test_size=0.2, random_state=0)\n",
    "\n",
    "estimator = GaussianNB()\n",
    "plot_learning_curve(estimator, title, X, Y, axes=axes[:, 1], ylim=(0.7, 1.01),\n",
    "                    cv=cv, n_jobs=4)\n",
    "\n",
    "plt.show()"
   ]
  },
  {
   "cell_type": "markdown",
   "metadata": {},
   "source": [
    "#### Linear Regression graphs looks pretty good and I can see low variance in between training and validation data. This means the model is performing well on the test data. I might try RNN so I can compare the two, but not sure how straightforward it will be to do this."
   ]
  }
 ],
 "metadata": {
  "kernelspec": {
   "display_name": "Python 3",
   "language": "python",
   "name": "python3"
  },
  "language_info": {
   "codemirror_mode": {
    "name": "ipython",
    "version": 3
   },
   "file_extension": ".py",
   "mimetype": "text/x-python",
   "name": "python",
   "nbconvert_exporter": "python",
   "pygments_lexer": "ipython3",
   "version": "3.7.6"
  }
 },
 "nbformat": 4,
 "nbformat_minor": 4
}
