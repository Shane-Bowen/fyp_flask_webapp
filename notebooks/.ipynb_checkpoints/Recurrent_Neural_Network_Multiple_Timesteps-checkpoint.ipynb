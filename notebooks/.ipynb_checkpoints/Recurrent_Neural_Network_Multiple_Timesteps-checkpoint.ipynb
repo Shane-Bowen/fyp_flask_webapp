{
 "cells": [
  {
   "cell_type": "code",
   "execution_count": 1,
   "metadata": {},
   "outputs": [],
   "source": [
    "#https://machinelearningmastery.com/multivariate-time-series-forecasting-lstms-keras/\n",
    "import numpy as np\n",
    "from numpy import concatenate\n",
    "from math import sqrt\n",
    "from matplotlib import pyplot\n",
    "from pandas import read_csv\n",
    "from pandas import DataFrame\n",
    "from pandas import concat\n",
    "from sklearn.preprocessing import MinMaxScaler\n",
    "from sklearn.preprocessing import LabelEncoder\n",
    "from sklearn.metrics import mean_squared_error\n",
    "from tensorflow.keras.models import Sequential\n",
    "from tensorflow.keras.optimizers import Adam\n",
    "from tensorflow.keras.layers import Dense, Dropout, LSTM"
   ]
  },
  {
   "cell_type": "code",
   "execution_count": 2,
   "metadata": {},
   "outputs": [],
   "source": [
    "# convert series to supervised learning & normalize input variables\n",
    "def series_to_supervised(data, n_in=1, n_out=1, dropnan=True):\n",
    "    n_vars = 1 if type(data) is list else data.shape[1]\n",
    "    df = DataFrame(data)\n",
    "    cols, names = list(), list()\n",
    "    \n",
    "    # input sequence (t-n, ... t-1)\n",
    "    for i in range(n_in, 0, -1):\n",
    "        cols.append(df.shift(i))\n",
    "        names += [('var%d(t-%d)' % (j+1, i)) for j in range(n_vars)]\n",
    "    \n",
    "    # forecast sequence (t, t+1, ... t+n)\n",
    "    for i in range(0, n_out):\n",
    "        cols.append(df.shift(-i))\n",
    "        if i == 0:\n",
    "            names += [('var%d(t)' % (j+1)) for j in range(n_vars)]\n",
    "        else:\n",
    "            names += [('var%d(t+%d)' % (j+1, i)) for j in range(n_vars)]\n",
    "    \n",
    "    # put it all together\n",
    "    agg = concat(cols, axis=1)\n",
    "    agg.columns = names\n",
    "    \n",
    "    # drop rows with NaN values\n",
    "    if dropnan:\n",
    "        agg.dropna(inplace=True)\n",
    "    return agg\n"
   ]
  },
  {
   "cell_type": "code",
   "execution_count": 3,
   "metadata": {},
   "outputs": [],
   "source": [
    "def data_preparation(df):\n",
    "    # Get names of indexes for which column temporarily_unable_test has value 1000\n",
    "    index = df[ df['number_busy'] > 2000 ].index\n",
    "    # Delete these row indexes from dataFrame\n",
    "    df.drop(index , inplace=True)\n",
    "    \n",
    "    # Get names of indexes for which column temporarily_unable_test has value 1000\n",
    "    index = df[ df['temporarily_unable_test'] > 1000 ].index\n",
    "    # Delete these row indexes from dataFrame\n",
    "    df.drop(index , inplace=True)\n",
    "    \n",
    "    # Use a log transformation to decrease the impact of extreme values in column followup_tests\n",
    "    df['followup_tests'] = np.log(df['followup_tests'] + 1)\n",
    "    \n",
    "    # Get names of indexes for which column outage_hrs has value < 1000 \n",
    "    index = df[ df['quality_too_poor'] > 300 ].index\n",
    "    # Delete these row indexes from dataFrame\n",
    "    df.drop(index , inplace=True)\n",
    "    \n",
    "    # Use a log transformation to decrease the impact of extreme values in column followup_tests\n",
    "    df['outage_hrs'] = np.log(df['outage_hrs'])\n",
    "    \n",
    "    # Use a log transformation to decrease the impact of extreme values in column followup_tests\n",
    "    df['numbers_tested'] = np.log(df['numbers_tested'])\n",
    "    \n",
    "    #df.drop(['followup_tests','outage_hrs', 'numbers_tested'], inplace=True, axis=1)\n",
    "    \n",
    "    return df"
   ]
  },
  {
   "cell_type": "code",
   "execution_count": 4,
   "metadata": {},
   "outputs": [
    {
     "ename": "TypeError",
     "evalue": "parser_f() got an unexpected keyword argument 'index_cols'",
     "output_type": "error",
     "traceback": [
      "\u001b[0;31m---------------------------------------------------------------------------\u001b[0m",
      "\u001b[0;31mTypeError\u001b[0m                                 Traceback (most recent call last)",
      "\u001b[0;32m<ipython-input-4-51b2b29ccac0>\u001b[0m in \u001b[0;36m<module>\u001b[0;34m\u001b[0m\n\u001b[1;32m      1\u001b[0m \u001b[0;31m# load dataset\u001b[0m\u001b[0;34m\u001b[0m\u001b[0;34m\u001b[0m\u001b[0;34m\u001b[0m\u001b[0m\n\u001b[0;32m----> 2\u001b[0;31m \u001b[0mdf\u001b[0m \u001b[0;34m=\u001b[0m \u001b[0mread_csv\u001b[0m\u001b[0;34m(\u001b[0m\u001b[0;34m'../reports/company_report_sorted.csv'\u001b[0m\u001b[0;34m,\u001b[0m \u001b[0mheader\u001b[0m\u001b[0;34m=\u001b[0m\u001b[0;36m0\u001b[0m\u001b[0;34m,\u001b[0m \u001b[0mindex_cols\u001b[0m\u001b[0;34m=\u001b[0m\u001b[0;34m\"time\"\u001b[0m\u001b[0;34m)\u001b[0m\u001b[0;34m\u001b[0m\u001b[0;34m\u001b[0m\u001b[0m\n\u001b[0m\u001b[1;32m      3\u001b[0m \u001b[0;31m#df = data_preparation(df)\u001b[0m\u001b[0;34m\u001b[0m\u001b[0;34m\u001b[0m\u001b[0;34m\u001b[0m\u001b[0m\n\u001b[1;32m      4\u001b[0m \u001b[0mdf\u001b[0m \u001b[0;34m=\u001b[0m \u001b[0mdf\u001b[0m\u001b[0;34m[\u001b[0m\u001b[0;34m[\u001b[0m\u001b[0;34m'volume_tests'\u001b[0m\u001b[0;34m,\u001b[0m \u001b[0;34m'company_id'\u001b[0m\u001b[0;34m,\u001b[0m \u001b[0;34m'company_type'\u001b[0m\u001b[0;34m,\u001b[0m \u001b[0;34m'is_weekend'\u001b[0m\u001b[0;34m,\u001b[0m \u001b[0;34m'quality_too_poor'\u001b[0m\u001b[0;34m,\u001b[0m \u001b[0;34m'number_busy'\u001b[0m\u001b[0;34m,\u001b[0m \u001b[0;34m'temporarily_unable_test'\u001b[0m\u001b[0;34m,\u001b[0m \u001b[0;34m'outage_hrs'\u001b[0m\u001b[0;34m,\u001b[0m \u001b[0;34m'number_test_types'\u001b[0m\u001b[0;34m,\u001b[0m \u001b[0;34m'numbers_tested'\u001b[0m\u001b[0;34m]\u001b[0m\u001b[0;34m]\u001b[0m\u001b[0;34m\u001b[0m\u001b[0;34m\u001b[0m\u001b[0m\n\u001b[1;32m      5\u001b[0m \u001b[0mvalues\u001b[0m \u001b[0;34m=\u001b[0m \u001b[0mdf\u001b[0m\u001b[0;34m.\u001b[0m\u001b[0mvalues\u001b[0m\u001b[0;34m\u001b[0m\u001b[0;34m\u001b[0m\u001b[0m\n",
      "\u001b[0;31mTypeError\u001b[0m: parser_f() got an unexpected keyword argument 'index_cols'"
     ]
    }
   ],
   "source": [
    "# load dataset\n",
    "df = read_csv('../reports/company_report_sorted.csv', header=0, index_col=\"time\")\n",
    "#df = data_preparation(df)\n",
    "df = df[['volume_tests', 'company_id', 'company_type', 'is_weekend', 'quality_too_poor', 'number_busy', 'temporarily_unable_test', 'outage_hrs', 'number_test_types', 'numbers_tested']]\n",
    "values = df.values\n",
    "\n",
    "# specify the number of days and features \n",
    "n_days = 7\n",
    "n_features = df.shape[1]\n",
    "\n",
    "# integer encode direction\n",
    "encoder = LabelEncoder()\n",
    "values[:,2] = encoder.fit_transform(values[:,2])\n",
    "\n",
    "# ensure all data is float\n",
    "values = values.astype('float32')\n",
    "\n",
    "# normalize features\n",
    "scaler = MinMaxScaler(feature_range=(0, 1))\n",
    "scaled = scaler.fit_transform(values)\n",
    "\n",
    "# frame as supervised learning\n",
    "reframed = series_to_supervised(scaled, n_days, 1)\n",
    "print(reframed.shape)"
   ]
  },
  {
   "cell_type": "code",
   "execution_count": null,
   "metadata": {},
   "outputs": [],
   "source": [
    "# split into train and test sets\n",
    "values = reframed.values\n",
    "\n",
    "train_size = int(len(values) * 0.80)\n",
    "test_size = len(values) - train_size\n",
    "train, test = values[:train_size,:], values[train_size:,:]\n",
    "\n",
    "# split into input and outputs\n",
    "n_obs = n_days * n_features\n",
    "train_X, train_y = train[:, :n_obs], train[:, -n_features]\n",
    "test_X, test_y = test[:, :n_obs], test[:, -n_features]\n",
    "print(train_X.shape, len(train_X), train_y.shape)\n",
    "\n",
    "# reshape input to be 3D [samples, timesteps, features]\n",
    "train_X = train_X.reshape((train_X.shape[0], n_days, n_features))\n",
    "test_X = test_X.reshape((test_X.shape[0], n_days, n_features))\n",
    "print(train_X.shape, train_y.shape, test_X.shape, test_y.shape)"
   ]
  },
  {
   "cell_type": "code",
   "execution_count": null,
   "metadata": {},
   "outputs": [],
   "source": [
    "# design LSTM Model\n",
    "model = Sequential()\n",
    "\n",
    "model.add(LSTM(128, input_shape=(train_X.shape[1], train_X.shape[2])))\n",
    "model.add(Dropout(0.1))\n",
    "model.add(Dense(1, kernel_initializer='lecun_uniform', activation='hard_sigmoid'))\n",
    "optimizer = Adam(lr=0.001)\n",
    "model.compile(loss='mae', optimizer=optimizer, metrics=['accuracy'])\n",
    "\n",
    "# fit Model\n",
    "history = model.fit(train_X, train_y, epochs=100, batch_size=100, validation_data=(test_X, test_y), verbose=2, shuffle=False)\n",
    "\n",
    "# plot loss history\n",
    "pyplot.plot(history.history['loss'], label='train')\n",
    "pyplot.plot(history.history['val_loss'], label='test')\n",
    "pyplot.legend()\n",
    "pyplot.show()"
   ]
  },
  {
   "cell_type": "code",
   "execution_count": null,
   "metadata": {},
   "outputs": [],
   "source": [
    "# make a prediction\n",
    "yhat = model.predict(test_X)\n",
    "test_X = test_X.reshape((test_X.shape[0], n_days*n_features))\n",
    "\n",
    "# invert scaling for forecast\n",
    "inv_yhat = concatenate((yhat, test_X[:, -(n_features-1):]), axis=1)\n",
    "inv_yhat = scaler.inverse_transform(inv_yhat)\n",
    "inv_yhat = inv_yhat[:,0]\n",
    "\n",
    "# invert scaling for actual\n",
    "test_y = test_y.reshape((len(test_y), 1))\n",
    "inv_y = concatenate((test_y, test_X[:, -(n_features-1):]), axis=1)\n",
    "inv_y = scaler.inverse_transform(inv_y)\n",
    "inv_y = inv_y[:,0]\n",
    "\n",
    "# calculate RMSE\n",
    "rmse = sqrt(mean_squared_error(inv_y, inv_yhat))\n",
    "print('Test RMSE: %.3f' % rmse)"
   ]
  },
  {
   "cell_type": "code",
   "execution_count": null,
   "metadata": {},
   "outputs": [],
   "source": [
    "# Score model\n",
    "test_X = test_X.reshape((test_X.shape[0], n_days, n_features))\n",
    "score = model.evaluate(test_X, test_y, verbose=0)\n",
    "print('Test loss:%.2f%%' % (score[0] * 100))\n",
    "print('Test accuracy:%.2f%%' % (score[1] * 100))"
   ]
  },
  {
   "cell_type": "code",
   "execution_count": null,
   "metadata": {
    "scrolled": true
   },
   "outputs": [],
   "source": [
    "# print predicted vs expected\n",
    "num_days = 30\n",
    "accuracy_scores = []\n",
    "for i in range(len(inv_y[:num_days])):\n",
    "    if inv_y[i] > inv_yhat[i]:\n",
    "        score = inv_yhat[i] / inv_y[i] * 100\n",
    "        accuracy_scores.append(score)\n",
    "    else:\n",
    "        score = inv_y[i] / inv_yhat[i] * 100\n",
    "        accuracy_scores.append(score)\n",
    "    print('Day=%d, Expected=%.2f, Predicted=%.2f, Accuracy=%.2f%%' % (i+1, inv_y[i], inv_yhat[i], score ))\n",
    "print(\"%.2f%% (+/- %.2f%%)\" % (np.mean(accuracy_scores), np.std(accuracy_scores)))"
   ]
  },
  {
   "cell_type": "code",
   "execution_count": null,
   "metadata": {},
   "outputs": [],
   "source": [
    "# plot actual vs prediction\n",
    "num_days = 30\n",
    "pyplot.plot(list(inv_y[:num_days]), label='train')\n",
    "pyplot.plot(inv_yhat[:num_days], label='test')\n",
    "pyplot.legend()\n",
    "pyplot.show()"
   ]
  }
 ],
 "metadata": {
  "kernelspec": {
   "display_name": "Python 3",
   "language": "python",
   "name": "python3"
  },
  "language_info": {
   "codemirror_mode": {
    "name": "ipython",
    "version": 3
   },
   "file_extension": ".py",
   "mimetype": "text/x-python",
   "name": "python",
   "nbconvert_exporter": "python",
   "pygments_lexer": "ipython3",
   "version": "3.7.6"
  }
 },
 "nbformat": 4,
 "nbformat_minor": 4
}
